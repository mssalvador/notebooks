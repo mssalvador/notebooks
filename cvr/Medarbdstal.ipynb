{
 "cells": [
  {
   "cell_type": "code",
   "execution_count": 1,
   "metadata": {
    "collapsed": false
   },
   "outputs": [],
   "source": [
    "#Always Pyspark first!\n",
    "ErhvervsPath = \"/home/svanhmic/workspace/Python/Erhvervs\"\n",
    "\n",
    "from pyspark.sql import functions as F, Window, WindowSpec\n",
    "from pyspark.sql import Row\n",
    "from pyspark.sql.types import StringType,ArrayType,IntegerType,DoubleType,StructField,StructType\n",
    "sc.addPyFile(ErhvervsPath+\"/src/RegnSkabData/ImportRegnskabData.py\")\n",
    "sc.addPyFile(ErhvervsPath+'/src/RegnSkabData/RegnskabsClass.py')\n",
    "sc.addPyFile(ErhvervsPath+'/src/cvr/GetNextJsonLayer.py')\n",
    "\n",
    "import sys\n",
    "import re\n",
    "import os\n",
    "import ImportRegnskabData\n",
    "import GetNextJsonLayer\n",
    "import itertools\n",
    "import functools\n",
    "\n"
   ]
  },
  {
   "cell_type": "code",
   "execution_count": 2,
   "metadata": {
    "collapsed": true
   },
   "outputs": [],
   "source": [
    "cvrPath = \"/home/svanhmic/workspace/Python/Erhvervs/data/cdata/parquet\"\n",
    "cvrfiles = os.listdir(cvrPath)"
   ]
  },
  {
   "cell_type": "code",
   "execution_count": 3,
   "metadata": {
    "collapsed": false
   },
   "outputs": [],
   "source": [
    "#import crv data\n",
    "cvrDf = (sqlContext\n",
    "         .read\n",
    "         .parquet(cvrPath+\"/\"+cvrfiles[0])\n",
    "        )\n",
    "#cvrDf.show(1)\n",
    "#print(cvrDf.select(\"cvrNummer\").distinct().count())\n",
    "\n",
    "#Extract all Aps and A/S companies\n",
    "virkformCols = (\"cvrNummer\",\"virksomhedsform\")\n",
    "\n",
    "virkformDf = GetNextJsonLayer.createNextLayerTable(cvrDf.select(*virkformCols),[virkformCols[0]],virkformCols[1])\n",
    "virkformDf = GetNextJsonLayer.expandSubCols(virkformDf,mainColumn=\"periode\")\n",
    "virkformDf = (virkformDf\n",
    "              .drop(\"sidstOpdateret\")\n",
    "              .withColumn(col=F.col(\"periode_gyldigFra\").cast(\"date\"),colName=\"periode_gyldigFra\")\n",
    "              .withColumn(col=F.col(\"periode_gyldigTil\").cast(\"date\"),colName=\"periode_gyldigTil\")\n",
    "             )\n",
    "\n",
    "#virkformDf.show(1)\n",
    "checkCols = [\"kortBeskrivelse\",\"langBeskrivelse\",\"virksomhedsformkode\"]\n",
    "\n",
    "#Consistencycheck is kortBeskrivelse and virksomhedsformkode always mapped the same way\n",
    "#check1 = virkformDf.select(checkCols+[\"cvrNummer\"]).distinct().groupby(*checkCols).count()\n",
    "#check1.orderBy(\"kortBeskrivelse\",\"count\").show(check1.count(),truncate=False)\n",
    "\n",
    "#Second test does any companies go from Aps or A/S to other or vice versa?\n",
    "joinCols = [\"cvrNummer\",\"langBeskrivelse\",\"rank\"]\n",
    "cvrCols = [\"cvrNummer\"]\n",
    "gyldigCol = [\"periode_gyldigFra\"]\n",
    "\n",
    "statusChangeWindow = (Window\n",
    "                      .partitionBy(F.col(*cvrCols))\n",
    "                      .orderBy(F.col(\"periode_gyldigFra\").desc()))\n",
    "\n",
    "#virkformDf.select(checkCols).distinct().show(50,truncate=False)\n",
    "\n",
    "\n",
    "\n",
    "#Extract APS and AS here and latest status...\n",
    "aggregationCols = [F.max(i) for i in gyldigCol]\n",
    "groupsCol = [i for i in virkformDf.columns if i not in gyldigCol]\n",
    "\n",
    "companyByAsApsDf = (virkformDf\n",
    "                    .where((F.col(\"virksomhedsformkode\") == 60) | (F.col(\"virksomhedsformkode\") == 80))\n",
    "                    .withColumn(col=F.rank().over(statusChangeWindow),colName=\"rank\")\n",
    "                    .filter(F.col(\"rank\") == 1)\n",
    "                   )\n"
   ]
  },
  {
   "cell_type": "code",
   "execution_count": 5,
   "metadata": {
    "collapsed": true
   },
   "outputs": [],
   "source": [
    "#Get the medarbejdstal\n",
    "fastCols = [\"cvrNummer\",\"aar\"]\n",
    "regCols = [\"intervalKodeAntalAarsvaerk\",\"intervalKodeAntalInklusivEjere\"]\n",
    "reg2Cols = [\"intervalKodeAntalAarsvaerk\",\"intervalKodeAntalAnsatte\"]\n",
    "\n",
    "fCols = [F.split(F.regexp_replace(F.col(i),pattern=r'ANTAL_',replacement=\"\"),\"_\").alias(i) for i in regCols]\n",
    "mkCols = [F.split(F.regexp_replace(F.col(i),pattern=r'ANTAL_',replacement=\"\"),\"_\").alias(i) for i in reg2Cols]\n",
    "#kvartCols = [F.split(F.regexp_replace(F.col(i),pattern=r'ANTAL_',replacement=\"\"),\"_\").alias(i) for i in cols]\n",
    "\n",
    "def getLower(x):\n",
    "    \n",
    "    try:\n",
    "        return int(x[0])\n",
    "    except:\n",
    "        return None\n",
    "\n",
    "def getUpper(x):\n",
    "    \n",
    "    try:\n",
    "        return int(x[0])\n",
    "    except:\n",
    "        return None\n",
    "\n",
    "getLowerBound = F.udf(lambda x: getLower(x),IntegerType())\n",
    "getUpperBound = F.udf(lambda x: getUpper(x),IntegerType())\n",
    "\n",
    "aarsDf = (GetNextJsonLayer\n",
    "          .createNextLayerTable(cvrDf,[\"cvrNummer\"],\"aarsbeskaeftigelse\")\n",
    "          .select(fastCols+fCols)\n",
    "          .select(fastCols+[getLowerBound(i).alias(\"lower_\"+i) for i in regCols]) \n",
    "         )\n",
    "\n",
    "maanedsDf = (GetNextJsonLayer\n",
    "             .createNextLayerTable(cvrDf,[\"cvrNummer\"],\"maanedsbeskaeftigelse\")\n",
    "             .select([\"cvrNummer\",\"aar\",\"maaned\"]+mkCols)\n",
    "             .select([\"cvrNummer\",\"aar\",\"maaned\"]+[getLowerBound(i).alias(\"lower_\"+i) for i in reg2Cols])\n",
    "            )\n",
    "           \n",
    "kvartDf = (GetNextJsonLayer\n",
    "           .createNextLayerTable(cvrDf,[\"cvrNummer\"],\"kvartalsbeskaeftigelse\")\n",
    "           .select([\"cvrNummer\",\"aar\",\"kvartal\"]+mkCols)\n",
    "           .select([\"cvrNummer\",\"aar\",\"kvartal\"]+[getLowerBound(i).alias(\"lower_\"+i) for i in reg2Cols])\n",
    "          )\n",
    "\n",
    "#maanedsDf.show()\n",
    "#cvrDf.unpersist()\n",
    "#maanedsDf.show()\n",
    "#kvartDf.show()\n",
    "#print(aarsDf.count())\n",
    "#print(aarsDf.na.drop(how=\"all\",subset=[\"lower_\"+i for i in cols]).count())"
   ]
  },
  {
   "cell_type": "code",
   "execution_count": 6,
   "metadata": {
    "collapsed": false
   },
   "outputs": [],
   "source": [
    "# OK how many are represented in both or all three groups? \n",
    "distinctMaanedDf = (maanedsDf\n",
    "                    .join(companyByAsApsDf,on=(maanedsDf[\"cvrNummer\"]==companyByAsApsDf[\"cvrNummer\"]),how=\"right\")\n",
    "                    .drop(companyByAsApsDf[\"cvrNummer\"])\n",
    "                    .distinct()\n",
    "                    \n",
    "                   )\n",
    "#distinctMaanedDf.show()\n",
    "\n",
    "distinctKvartalDf = (kvartDf      \n",
    "                     .join(companyByAsApsDf,on=(kvartDf[\"cvrNummer\"]==companyByAsApsDf[\"cvrNummer\"]),how=\"right\")\n",
    "                     .drop(companyByAsApsDf[\"cvrNummer\"])\n",
    "                     .distinct()\n",
    "                    )\n",
    "\n",
    "distinctAarDf = (aarsDf\n",
    "                 .join(companyByAsApsDf,on=(aarsDf[\"cvrNummer\"]==companyByAsApsDf[\"cvrNummer\"]),how=\"right\")\n",
    "                 .drop(companyByAsApsDf[\"cvrNummer\"])\n",
    "                 .distinct()\n",
    "                )\n",
    "\n"
   ]
  },
  {
   "cell_type": "code",
   "execution_count": 7,
   "metadata": {
    "collapsed": true
   },
   "outputs": [],
   "source": [
    "distinctMaanedDf.write.parquet(mode=\"overwrite\",path=cvrPath+\"/MaanedsVaerker.parquet\")\n",
    "distinctKvartalDf.write.parquet(mode=\"overwrite\",path=cvrPath+\"/KvartalsVaerker.parquet\")\n",
    "distinctAarDf.write.parquet(mode=\"overwrite\",path=cvrPath+\"/AarsVaerker.parquet\")\n",
    "\n",
    "#print(\"månedsbeskæftigelse: \"+str(distinctMaanedDf.count()))\n",
    "#print(\"kvartalsbeskæftigelse: \"+str(distinctKvartalDf.count()))\n",
    "#print(\"årsbeskæftigelse: \"+str(distinctAarDf.count()))\n",
    "\n",
    "\n",
    "\n",
    "#print(\"Årsbeskæftigelse til kvartalsbeskæftigelse: \"+str(distinctAarDf.select(F.col(\"cvrNummer\")).distinct()\n",
    "# .join(distinctKvartalDf.select(F.col(\"cvrNummer\")).distinct(),(distinctKvartalDf[\"cvrNummer\"]==distinctAarDf[\"cvrNummer\"]),how=\"inner\")\n",
    "# .drop(distinctAarDf[\"cvrNummer\"]).distinct().count()\n",
    "#))\n",
    "#print(\"Årsbeskæftigelse til månedsbeskæftigelse: \"+str(distinctAarDf.select(F.col(\"cvrNummer\")).distinct()\n",
    "# .join(distinctMaanedDf.select(F.col(\"cvrNummer\")).distinct(),(distinctMaanedDf[\"cvrNummer\"]==distinctAarDf[\"cvrNummer\"]),how=\"inner\")\n",
    "# .drop(distinctAarDf[\"cvrNummer\"]).distinct().count()\n",
    "#))\n",
    "#print(\"Kvartalsbeskæftigelse til månedsbeskæftigelse: \"+str(distinctKvartalDf.select(F.col(\"cvrNummer\")).distinct()\n",
    "# .join(distinctMaanedDf.select(F.col(\"cvrNummer\")).distinct(),(distinctMaanedDf[\"cvrNummer\"]==distinctKvartalDf[\"cvrNummer\"]),how=\"inner\")\n",
    "# .drop(distinctAarDf[\"cvrNummer\"]).distinct().count()\n",
    "#))\n",
    "\n",
    "AllThreeCount = (distinctAarDf\n",
    "                 .select(F.col(\"cvrNummer\")).distinct()\n",
    "                 .join(distinctKvartalDf.select(F.col(\"cvrNummer\")).distinct(),(distinctAarDf[\"cvrNummer\"]==distinctKvartalDf[\"cvrNummer\"]),how=\"inner\")\n",
    "                 .drop(distinctKvartalDf[\"cvrNummer\"])\n",
    "                 .join(distinctMaanedDf.select(F.col(\"cvrNummer\")).distinct(),(distinctAarDf[\"cvrNummer\"]==distinctMaanedDf[\"cvrNummer\"]),how=\"inner\")\n",
    "                 .drop(distinctMaanedDf[\"cvrNummer\"])\n",
    "                 .distinct()\n",
    "                )\n",
    "#print(\"Aarsbeskæftigelse til kvartalsbeskæftigelse til månedsbeskæftigelse: \"+str(AllThreeCount.count()))"
   ]
  },
  {
   "cell_type": "code",
   "execution_count": 7,
   "metadata": {
    "collapsed": false,
    "scrolled": false
   },
   "outputs": [],
   "source": [
    "\n"
   ]
  },
  {
   "cell_type": "code",
   "execution_count": null,
   "metadata": {
    "collapsed": false
   },
   "outputs": [],
   "source": []
  },
  {
   "cell_type": "code",
   "execution_count": null,
   "metadata": {
    "collapsed": true
   },
   "outputs": [],
   "source": []
  }
 ],
 "metadata": {
  "kernelspec": {
   "display_name": "Python 3",
   "language": "python",
   "name": "python3"
  },
  "language_info": {
   "codemirror_mode": {
    "name": "ipython",
    "version": 3
   },
   "file_extension": ".py",
   "mimetype": "text/x-python",
   "name": "python",
   "nbconvert_exporter": "python",
   "pygments_lexer": "ipython3",
   "version": "3.5.2"
  }
 },
 "nbformat": 4,
 "nbformat_minor": 2
}
