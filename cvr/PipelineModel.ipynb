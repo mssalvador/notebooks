{
 "cells": [
  {
   "cell_type": "markdown",
   "metadata": {},
   "source": [
    "#### This notebook should contain a pipeline method for bancruptcy"
   ]
  },
  {
   "cell_type": "markdown",
   "metadata": {},
   "source": []
  },
  {
   "cell_type": "code",
   "execution_count": 1,
   "metadata": {
    "collapsed": true
   },
   "outputs": [],
   "source": [
    "from ipywidgets import widgets\n",
    "from IPython.display import display, Javascript, HTML\n",
    "SQLContext.newSession(sqlContext)\n",
    "\n",
    "from pyspark.ml.feature import VectorAssembler, StandardScaler\n",
    "from pyspark.ml.tuning import CrossValidator, ParamGridBuilder, ValidatorParams\n",
    "from pyspark.sql.types import StringType, StructField, StructType, ArrayType, DoubleType, IntegerType\n",
    "from pyspark.ml.linalg import Vectors, VectorUDT, Matrix, MatrixUDT, DenseMatrix\n",
    "from pyspark.ml.clustering import KMeans\n",
    "from pyspark.ml.classification import LogisticRegression\n",
    "from pyspark.sql import Row, Window, functions as F\n",
    "from pyspark.ml import Pipeline,PipelineModel, Transformer, Estimator\n",
    "from pyspark.ml.param.shared import HasInputCol, HasOutputCol, Param\n",
    "from pyspark import keyword_only \n",
    "#from spark_sklearn import GridSearchCV,Converter\n",
    "#from sklearn.cluster import KMeans as skKmeans\n",
    "#from sklearn.linear_model import LogisticRegression as skLogistic\n",
    "\n",
    "import pandas as pd\n",
    "import traitlets\n",
    "import re\n",
    "import random\n",
    "import sys\n",
    "from datetime import datetime\n",
    "from operator import add\n",
    "import numpy as np\n",
    "import time\n",
    "import matplotlib.pyplot as plt\n",
    "import seaborn as sb\n",
    "%matplotlib inline\n",
    "\n",
    "#from spark_sklearn import GridSearchCV,Converter\n",
    "PATH = \"/home/svanhmic/workspace/data/DABAI/sparkdata/parquet\"\n",
    "sc.addPyFile(\"/home/svanhmic/workspace/DABAI/ReadData/GridSearchLogRegAndKmeans.py\")\n",
    "sc.addPyFile(\"/home/svanhmic/workspace/DABAI/ReadData/ConvertAllToVecToMl.py\")\n",
    "\n",
    "from ConvertAllToVecToMl import ConvertAllToVecToMl as convert\n",
    "\n",
    "#display(HTML(\"<style>.container { width:100% !important; }</style>\"))"
   ]
  },
  {
   "cell_type": "code",
   "execution_count": 2,
   "metadata": {
    "collapsed": true
   },
   "outputs": [],
   "source": [
    "from sklearn import datasets\n"
   ]
  },
  {
   "cell_type": "code",
   "execution_count": 3,
   "metadata": {
    "collapsed": true
   },
   "outputs": [],
   "source": [
    "digits = datasets.load_digits()"
   ]
  },
  {
   "cell_type": "code",
   "execution_count": 4,
   "metadata": {
    "collapsed": true
   },
   "outputs": [],
   "source": [
    "def browse_images(digits):\n",
    "    n = len(digits.images)\n",
    "    def view_image(i):\n",
    "        plt.imshow(digits.images[i], cmap=plt.cm.gray_r, interpolation='nearest')\n",
    "        plt.title('Training: %s' % digits.target[i])\n",
    "        plt.show()\n",
    "    widgets.interact(view_image, i=[0,1])\n",
    "\n"
   ]
  },
  {
   "cell_type": "code",
   "execution_count": 5,
   "metadata": {},
   "outputs": [
    {
     "data": {
      "application/vnd.jupyter.widget-view+json": {
       "model_id": "b72153b069f546f6b98ea4ef477e5914"
      }
     },
     "metadata": {},
     "output_type": "display_data"
    }
   ],
   "source": [
    "\n",
    "\n",
    "browse_images(digits)\n",
    "\n"
   ]
  },
  {
   "cell_type": "code",
   "execution_count": 6,
   "metadata": {
    "collapsed": true
   },
   "outputs": [],
   "source": [
    "def getAllDistances(matrix1,matrix2):\n",
    "    return [[np.linalg.norm(v-w) for v in matrix1 ] for w in matrix2]\n"
   ]
  },
  {
   "cell_type": "code",
   "execution_count": 7,
   "metadata": {
    "collapsed": true
   },
   "outputs": [],
   "source": [
    "def dataImport(Path):\n",
    "    '''\n",
    "        This method imports the data, from a repository.\n",
    "        TODO:\n",
    "            - More interactiveness, meaning selecting a file using widgets, etc. \n",
    "            \n",
    "        Input:\n",
    "            - Path a text string that give the \"initial\" path to where the files are.\n",
    "            \n",
    "        Output:\n",
    "            - renamedDf a spark data frame that \n",
    "    '''\n",
    "    assert os.path.exists(path=Path+\"/featureDataCvr.parquet\"), \"featureDataCvr does not exist! Consider changing directory\"\n",
    "    assert os.path.exists(path=Path+\"/companyCvrData\"), \"companyCvrData does not exist! Consider changing directory\"\n",
    "    \n",
    "    df = (sqlContext\n",
    "          .read\n",
    "          .parquet(Path+\"/featureDataCvr.parquet\"))\n",
    "    \n",
    "    windowSpecRank =(Window.partitionBy(F.col(\"cvrNummer\"))).orderBy(F.col(\"periode_gyldigFra\").desc())\n",
    "    groupCols = [\"cvrNummer\",\"vaerdi\"]\n",
    "    \n",
    "    companyDf = (sqlContext\n",
    "                 .read\n",
    "                 .parquet(Path+\"/companyCvrData\")\n",
    "                 .withColumn(colName=\"rank\",col=F.rank().over(windowSpecRank))\n",
    "                 .filter((F.col(\"rank\")==1) & (F.col(\"sekvensnr\")==0))\n",
    "                 .select([F.col(i) for i in groupCols])\n",
    "                 .withColumnRenamed(existing=\"vaerdi\",new=\"navn\")\n",
    "                 .orderBy(F.col(\"cvrNummer\"))\n",
    "                ) \n",
    "    \n",
    "    excludeCols = [\"medArb_\"+str(i) for i in range(1,16)] # we don't need the medarbejders \n",
    "    includeCols = [i for i in df.columns if i not in excludeCols]\n",
    "\n",
    "    rankCols = [re.sub(pattern=\"rank_\",repl=\"vaerdiSlope_\",string=i) for i in includeCols]\n",
    "    finalCols = [F.col(i) for i in includeCols[:2]]+[\"kortBeskrivelse\"]+[F.col(i).cast(\"double\") for i in includeCols[2:] if i not in [\"kortBeskrivelse\"]]\n",
    "\n",
    "    renamedDf = (df\n",
    "                 .select(*finalCols)\n",
    "                 .select([F.col(val).alias(rankCols[idx]) for idx,val in enumerate(includeCols)])\n",
    "                 .filter((F.col(\"kortBeskrivelse\") == \"APS\") | (F.col(\"kortBeskrivelse\") == \"AS\"))\n",
    "                )\n",
    "    #join the data with company names\n",
    "    labelCols = [\"navn\",\"cvrNummer\",\"label\",\"status\",\"kortBeskrivelse\"]\n",
    "    featCols = [i for i in companyDf.columns+renamedDf.columns if i not in labelCols]\n",
    "    selectedCols = [F.col(i[0]).cast(\"double\").alias(i[0]) if i[1] == \"bigint\" else F.col(i[0]) for i in renamedDf.dtypes ]\n",
    "    #print(selectedCols)\n",
    "\n",
    "    return (renamedDf\n",
    "            .join(companyDf,(companyDf[\"cvrNummer\"]==renamedDf[\"cvrNummer\"]),\"inner\")\n",
    "            .drop(companyDf[\"cvrNummer\"])\n",
    "            .select(selectedCols+[\"navn\"])\n",
    "            .withColumn(col=F.col(\"cvrNummer\").cast(\"long\"),colName=\"cvrNummer\")\n",
    "            .distinct()\n",
    "            .na\n",
    "            .fill(0.0,featCols)\n",
    "            .limit(10000) # for testing purposes only!!!!!!!!!!!!!!!!!!!!!!!!!\n",
    "            .cache()\n",
    "            , featCols\n",
    "           )"
   ]
  },
  {
   "cell_type": "code",
   "execution_count": null,
   "metadata": {
    "collapsed": true
   },
   "outputs": [],
   "source": []
  },
  {
   "cell_type": "code",
   "execution_count": null,
   "metadata": {
    "collapsed": true
   },
   "outputs": [],
   "source": []
  },
  {
   "cell_type": "code",
   "execution_count": null,
   "metadata": {
    "collapsed": true
   },
   "outputs": [],
   "source": []
  },
  {
   "cell_type": "code",
   "execution_count": 8,
   "metadata": {
    "collapsed": true
   },
   "outputs": [],
   "source": [
    "def computeAndInsertClusterCenter(dataset,centers):\n",
    "    '''\n",
    "        Insert a clusterCenter as column.\n",
    "    '''\n",
    "    \n",
    "    distanceUdf = F.udf(lambda x,y: float(np.sqrt(np.sum((x-y)*(x-y)))),DoubleType())\n",
    "    \n",
    "    return (dataset\n",
    "            .join(F.broadcast(centers),on=(dataset[\"prediction\"]==centers[\"cluster\"]),how=\"inner\")\n",
    "            .withColumn(colName=\"distance\",col=distanceUdf(F.col(\"scaledFeatures\"),F.col(\"center\")))\n",
    "            .drop(\"cluster\")\n",
    "            .drop(\"features\")\n",
    "            .drop(\"v2\")\n",
    "            )"
   ]
  },
  {
   "cell_type": "code",
   "execution_count": 9,
   "metadata": {
    "collapsed": true
   },
   "outputs": [],
   "source": [
    "class ReportClass(object):\n",
    "    def __init__(self,path,stages=None):\n",
    "        \n",
    "        #Import the data\n",
    "        \n",
    "        self.filePath = path\n",
    "        self.buttonDf,self.featCols = dataImport(self.filePath)\n",
    "        self.stages = stages\n",
    "        self.pipeModel = PipelineModel(stages=self.stages)\n",
    "        self.parameters = None\n",
    "        self.outputSliderVariables = widgets.IntText()\n",
    "        self.nOutliers = 5\n",
    "        self.nPrototypes = 5\n",
    "        self.clusterN = widgets.Text()\n",
    "        #self.buttonDf.show(10)\n",
    "        \n",
    "    #TODO\n",
    "    def test_import(self):\n",
    "        importButton = widgets.Button(description=\"Import\")\n",
    "\n",
    "    def set_stages(self,stages):\n",
    "        self.stages = stages\n",
    "        \n",
    "    def f(self,x):\n",
    "        self.outputSliderVariables.value = x\n",
    "        \n",
    "        \n",
    "    def test_operation(self):\n",
    "        buttonTest = widgets.Button(description = \"Train model\")\n",
    "        fileText = widgets.Text(value=self.filePath,disabled=False)\n",
    "        \n",
    "        \n",
    "        a_slider = widgets.IntSlider(min=2,max=100,step=1,value=2)\n",
    "        z = widgets.interact(self.f,x=a_slider)\n",
    "        display(widgets.HBox([fileText,buttonTest]))      \n",
    "        \n",
    "        buttonTest.on_click(self.onClickTrain)\n",
    "    \n",
    "    \n",
    "    def computeDists(self):\n",
    "        centers = dict(list(map(lambda x : (x[0],x[1]), enumerate(self.pipeModel.stages[-1].clusterCenters()))))\n",
    "        clusterCenters = sc.broadcast(centers)\n",
    "        \n",
    "        addCenterUDf = F.udf(lambda x: Vectors.dense(clusterCenters.value[x]),VectorUDT())\n",
    "        distanceUdf = F.udf(lambda x,y: float(np.sqrt(np.sum((x-y)*(x-y)))),DoubleType())\n",
    "        \n",
    "        return (self.buttonDf\n",
    "                .withColumn(col=addCenterUDf(F.col(\"prediction\")),colName=\"center\")\n",
    "                .withColumn(col=distanceUdf(F.col(\"scaledFeatures\"),F.col(\"center\")),colName=\"distance\")\n",
    "               )\n",
    "        \n",
    "        \n",
    "        \n",
    "    def onClickPrototypes(self,b):\n",
    "        \n",
    "        print(\"The report is shown here!\")\n",
    "        \n",
    "        #print(centers)\n",
    "        \n",
    "        cluster = int(re.sub(r'Cluster ',\"\",self.clusterN.value))\n",
    "            \n",
    "        self.getClosest2Center(cluster).show(truncate=False)\n",
    "        \n",
    "        \n",
    "    def onClickOutliers(self,b):\n",
    "        '''\n",
    "            This method\n",
    "        '''\n",
    "        \n",
    "        cluster = int(re.sub(r'Cluster ',\"\",self.clusterN.value))\n",
    "        self.getOutliersFromCenter(cluster).show(truncate=False)\n",
    "    \n",
    "        \n",
    "    def showOf(self):\n",
    "        '''\n",
    "            This method \n",
    "        \n",
    "        '''\n",
    "        secondOutlierButton = widgets.Button(description=\"Show Outliers\")\n",
    "        secondPrototypeButton = widgets.Button(description=\"Show Prototypes\")\n",
    "        z = self.browseClusters().widget.children[0]\n",
    "        \n",
    "        \n",
    "        l = traitlets.link((z,\"value\"),(self.clusterN,\"value\"))\n",
    "        \n",
    "        display(widgets.HBox([secondPrototypeButton,secondOutlierButton]))\n",
    "        \n",
    "    \n",
    "        secondOutlierButton.on_click(self.onClickOutliers)\n",
    "        secondPrototypeButton.on_click(self.onClickPrototypes)\n",
    "        \n",
    "    def browseClusters(self):\n",
    "        \"\"\"\n",
    "            Browse clusters one by one\n",
    "        \n",
    "        \"\"\"\n",
    "        \n",
    "        \n",
    "        #%matplotlib qt\n",
    "        df = (self\n",
    "              .getDistances()\n",
    "              #.filter(F.col(\"prediction\") == int(re.sub(r'Cluster ','',i)))\n",
    "              .select(\"prediction\",\"distance\"))       \n",
    "        \n",
    "        availbleClusters = (df\n",
    "                            .dropDuplicates()\n",
    "                            .groupBy(\"prediction\")\n",
    "                            .count()\n",
    "                            .filter(F.col(\"count\") > 1)\n",
    "                            .select(\"prediction\")\n",
    "                            .orderBy(\"prediction\")\n",
    "                            .collect()\n",
    "                           )\n",
    "        \n",
    "        \n",
    "        clusterList = [\"Cluster \"+str(i[0]) for i in availbleClusters]\n",
    "        \n",
    "        def viewImage(i):\n",
    "            fig = plt.figure(figsize=plt.figaspect(0.75))\n",
    "            ax = fig.add_subplot(1, 1, 1)\n",
    "            ax.set_xlabel(\"Distance\")\n",
    "            ax.set_title(i)\n",
    "            pDf = df.filter(F.col(\"prediction\")==int(re.sub(r'Cluster ','',i))).select(\"distance\").toPandas()\n",
    "            sb.distplot(pDf,ax=ax,rug=True,norm_hist=False,kde=False)\n",
    "            plt.show()\n",
    "            \n",
    "        return widgets.interact(viewImage, i=clusterList)\n",
    "        \n",
    "            \n",
    "    def showDistances(self):\n",
    "        \n",
    "        '''\n",
    "             Show all cluster histograms!\n",
    "        \n",
    "        '''\n",
    "        \n",
    "        buttonDistance = widgets.Button(description = \"Show distances\")\n",
    "        buttonDistance.on_click(self.onClickShowDistances)\n",
    "        display(buttonDistance)\n",
    "        \n",
    "    \n",
    "    def getClosest2Center(self,cluster):\n",
    "        '''\n",
    "            This method extracts the companies closest to its cluster center.\n",
    "        '''\n",
    "        \n",
    "        rankingWindow = (Window\n",
    "                         .partitionBy(F.col(\"prediction\"))\n",
    "                         .orderBy(F.col(\"distance\").asc()))\n",
    "        \n",
    "        \n",
    "        return (self.buttonDf\n",
    "                .withColumn(col=F.rank().over(rankingWindow),colName=\"rank\")\n",
    "                .filter((F.col(\"rank\")<=self.nPrototypes) & (F.col(\"prediction\") == cluster))\n",
    "                .select(\"cvrNummer\",\"distance\",\"prediction\",\"navn\")\n",
    "                .orderBy(F.col(\"prediction\")))\n",
    "    \n",
    "    \n",
    "    def getOutliersFromCenter(self,cluster):\n",
    "        '''\n",
    "            This method extracts the companies furtherst to its cluster center.\n",
    "        '''\n",
    "        \n",
    "        rankingWindow = (Window\n",
    "                         .partitionBy(F.col(\"prediction\"))\n",
    "                         .orderBy(F.col(\"distance\").desc()))\n",
    "        \n",
    "        \n",
    "        return (self.buttonDf\n",
    "                .withColumn(col=F.rank().over(rankingWindow),colName=\"rank\")\n",
    "                .filter((F.col(\"rank\")<=self.nOutliers) & (F.col(\"prediction\") == cluster))\n",
    "                .select(\"cvrNummer\",\"distance\",\"prediction\",\"navn\")\n",
    "                .orderBy(F.col(\"prediction\")))\n",
    "        \n",
    "    def onClickTrain(self,b):\n",
    "        \n",
    "        self.parameters = ({kmeans.k:self.outputSliderVariables.value ,kmeans.initMode:\"random\"})\n",
    "        print(\"You have selected: \"+str(self.outputSliderVariables.value)+\" number of clusters.\")\n",
    "        pipeline = Pipeline(stages=self.stages)\n",
    "        \n",
    "        #take time start\n",
    "        t0 = time.time() \n",
    "        \n",
    "        #fit the model\n",
    "        self.pipeModel = pipeline.fit(self.buttonDf,params=self.parameters)\n",
    "        self.buttonDf = self.pipeModel.transform(self.buttonDf)\n",
    "        self.buttonDf = self.computeDists()\n",
    "        #end time\n",
    "        t1 = time.time()\n",
    "        print(\"Done with training, it took: \"+str(t1-t0)+\" seconds to do the training\")\n",
    "        \n",
    "        \n",
    "    def getDistances(self):\n",
    "        '''\n",
    "            Returns the distances for each group  with cvrNummer, distances and prediction\n",
    "\n",
    "            Input:\n",
    "                The stuff.\n",
    "\n",
    "            Output:\n",
    "                spark dataframe\n",
    "        '''\n",
    "\n",
    "        cols = [\"cvrNummer\",\"prediction\",\"distance\"]\n",
    "        #self.buttonDf = self.computeDists()\n",
    "        if (\"prediction\" in self.buttonDf.columns) and (\"distance\" in self.buttonDf.columns):\n",
    "            return self.buttonDf.select(cols)\n",
    "        else:\n",
    "            return None\n",
    "        \n",
    "        \n",
    "    def onClickShowDistances(self,b):\n",
    "        \n",
    "        nGroups = self.outputSliderVariables.value\n",
    "        cols = 4 # fixed for the moment\n",
    "        rows = int(self.outputSliderVariables.value/cols) # likewis\n",
    "        print(rows)\n",
    "        \n",
    "        df = self.getDistances().select(\"prediction\",\"distance\").cache()\n",
    "        \n",
    "        nPlots = (df\n",
    "                  .dropDuplicates()\n",
    "                  .groupby(\"prediction\")\n",
    "                  .count()\n",
    "                  .filter(F.col(\"count\") > 1)\n",
    "                  .select(\"prediction\")\n",
    "                  .orderBy(\"prediction\")\n",
    "                  .collect()\n",
    "                 )\n",
    "        \n",
    "        nPlots = list(map(lambda x: x[0],nPlots))\n",
    "        \n",
    "        sb.set(color_codes=True)\n",
    "        col = 4\n",
    "        rows = int(len(nPlots)/col)+1\n",
    "\n",
    "        fig, axes = plt.subplots(ncols=col,nrows=rows,figsize=(20,20))\n",
    "        x = (df\n",
    "             #.dropDuplicates([\"cvrNummer\",\"label\",\"distance\"])\n",
    "             .toPandas())\n",
    "        df.unpersist()\n",
    "        \n",
    "        a = axes.ravel()\n",
    "        for idx,val in enumerate(nPlots):\n",
    "            #print(v)\n",
    "\n",
    "            pandasDf = x[x[\"prediction\"] == val]\n",
    "            a[idx].set_title(\"Cluster \"+ str(val))\n",
    "            a[idx].set_xlabel(\"distance\")\n",
    "            sb.distplot(pandasDf[[\"distance\"]],ax=a[idx],kde=True,rug=True)\n",
    "        fig.subplots_adjust(hspace=1)\n",
    "        plt.show()\n",
    "        "
   ]
  },
  {
   "cell_type": "code",
   "execution_count": 10,
   "metadata": {
    "collapsed": true
   },
   "outputs": [],
   "source": [
    "#Build up stages\n",
    "rep = ReportClass(path=\"/home/svanhmic/workspace/data/DABAI/sparkdata/parquet\")\n",
    "\n",
    "\n",
    "vectorizer = VectorAssembler(inputCols=rep.featCols,outputCol=\"features\")\n",
    "con = convert(inputCol=vectorizer.getOutputCol(),outputCol=\"v2\")\n",
    "standardScale = StandardScaler(withMean=True,withStd=True,inputCol=con.getOutputCol(),outputCol=\"scaledFeatures\")\n",
    "kmeans = KMeans(featuresCol=standardScale.getOutputCol(),predictionCol=\"prediction\")\n",
    "stages=[vectorizer,con,standardScale,kmeans]\n",
    "\n",
    "\n",
    "rep.set_stages(stages)\n",
    "\n",
    "\n",
    "#rep.buttonDf.show(5)"
   ]
  },
  {
   "cell_type": "code",
   "execution_count": 11,
   "metadata": {
    "scrolled": true
   },
   "outputs": [
    {
     "data": {
      "application/vnd.jupyter.widget-view+json": {
       "model_id": "75828216560d4983a114a3dee872375f"
      }
     },
     "metadata": {},
     "output_type": "display_data"
    },
    {
     "data": {
      "application/vnd.jupyter.widget-view+json": {
       "model_id": "a943f8ab3ac34c82aec30cc7321651c6"
      }
     },
     "metadata": {},
     "output_type": "display_data"
    },
    {
     "name": "stdout",
     "output_type": "stream",
     "text": [
      "You have selected: 2 number of clusters.\n",
      "Done with training, it took: 22.28877067565918 seconds to do the training\n"
     ]
    }
   ],
   "source": [
    "rep.test_operation()"
   ]
  },
  {
   "cell_type": "code",
   "execution_count": null,
   "metadata": {
    "collapsed": true,
    "scrolled": false
   },
   "outputs": [],
   "source": []
  },
  {
   "cell_type": "code",
   "execution_count": 12,
   "metadata": {},
   "outputs": [
    {
     "data": {
      "application/vnd.jupyter.widget-view+json": {
       "model_id": "94a2c35a09e5421d8bbedcca261fb0e9"
      }
     },
     "metadata": {},
     "output_type": "display_data"
    },
    {
     "name": "stdout",
     "output_type": "stream",
     "text": [
      "0\n"
     ]
    },
    {
     "data": {
      "image/png": "[encoded data removed]",
      "text/plain": [
       "<matplotlib.figure.Figure at 0x7f56f4415e80>"
      ]
     },
     "metadata": {},
     "output_type": "display_data"
    }
   ],
   "source": [
    "rep.showDistances()"
   ]
  },
  {
   "cell_type": "code",
   "execution_count": 13,
   "metadata": {
    "scrolled": false
   },
   "outputs": [
    {
     "data": {
      "application/vnd.jupyter.widget-view+json": {
       "model_id": "b404bdce6c0446f2a1d01363dbdda785"
      }
     },
     "metadata": {},
     "output_type": "display_data"
    },
    {
     "data": {
      "application/vnd.jupyter.widget-view+json": {
       "model_id": "42b6819e00e741319c4b8618170bc49d"
      }
     },
     "metadata": {},
     "output_type": "display_data"
    },
    {
     "name": "stdout",
     "output_type": "stream",
     "text": [
      "The report is shown here!\n",
      "+---------+-------------------+----------+----------------------+\n",
      "|cvrNummer|distance           |prediction|navn                  |\n",
      "+---------+-------------------+----------+----------------------+\n",
      "|25618556 |0.44999814704910607|1         |SKI-XTREME SKIREJSER  |\n",
      "|25439333 |0.4592997181139589 |1         |LITOPRINT             |\n",
      "|25969693 |0.46331396401517827|1         |MINDGAME REKLAMEBUREAU|\n",
      "|28506996 |0.46686892339360553|1         |CLK. METALSLIB        |\n",
      "|25866576 |0.47463552844828516|1         |AC & C                |\n",
      "+---------+-------------------+----------+----------------------+\n",
      "\n",
      "+---------+-----------------+----------+--------------------+\n",
      "|cvrNummer|distance         |prediction|navn                |\n",
      "+---------+-----------------+----------+--------------------+\n",
      "|25322851 |140.5172332208098|0         |OMCO HOLDING        |\n",
      "|27355943 |86.87660767217247|0         |ILLUM               |\n",
      "|34479526 |82.39123502748974|0         |SDK SPORT II        |\n",
      "|24620417 |70.563592958609  |0         |DBB JACK-UP SERVICES|\n",
      "|26505933 |36.06402847618785|0         |RHEOSCIENCE         |\n",
      "+---------+-----------------+----------+--------------------+\n",
      "\n",
      "The report is shown here!\n",
      "+---------+------------------+----------+--------------------------------------------+\n",
      "|cvrNummer|distance          |prediction|navn                                        |\n",
      "+---------+------------------+----------+--------------------------------------------+\n",
      "|15243775 |0.5624218898382426|0         |SPECIALLÆGESELSKABET TESTCENTER TRIANGLEN   |\n",
      "|21170445 |0.5652355530485145|0         |SAGUARO                                     |\n",
      "|13421676 |0.5653059090581173|0         |STILLING STEN OG GRUS                       |\n",
      "|25443047 |0.5653558373768759|0         |ALMENT PRAKTISERENDE LÆGE ULLA SKOV ANDERSEN|\n",
      "|11534430 |0.5687357105388768|0         |BACKUP TEAM                                 |\n",
      "+---------+------------------+----------+--------------------------------------------+\n",
      "\n",
      "The report is shown here!\n",
      "+---------+-------------------+----------+----------------------+\n",
      "|cvrNummer|distance           |prediction|navn                  |\n",
      "+---------+-------------------+----------+----------------------+\n",
      "|25618556 |0.44999814704910607|1         |SKI-XTREME SKIREJSER  |\n",
      "|25439333 |0.4592997181139589 |1         |LITOPRINT             |\n",
      "|25969693 |0.46331396401517827|1         |MINDGAME REKLAMEBUREAU|\n",
      "|28506996 |0.46686892339360553|1         |CLK. METALSLIB        |\n",
      "|25866576 |0.47463552844828516|1         |AC & C                |\n",
      "+---------+-------------------+----------+----------------------+\n",
      "\n"
     ]
    }
   ],
   "source": [
    "rep.showOf()"
   ]
  },
  {
   "cell_type": "code",
   "execution_count": null,
   "metadata": {
    "collapsed": true,
    "scrolled": false
   },
   "outputs": [],
   "source": []
  },
  {
   "cell_type": "code",
   "execution_count": null,
   "metadata": {
    "collapsed": true,
    "scrolled": false
   },
   "outputs": [],
   "source": [
    "from IPython.display import "
   ]
  },
  {
   "cell_type": "code",
   "execution_count": null,
   "metadata": {
    "collapsed": true
   },
   "outputs": [],
   "source": []
  },
  {
   "cell_type": "code",
   "execution_count": null,
   "metadata": {
    "collapsed": true,
    "scrolled": false
   },
   "outputs": [],
   "source": []
  },
  {
   "cell_type": "code",
   "execution_count": null,
   "metadata": {
    "collapsed": true
   },
   "outputs": [],
   "source": [
    "\n"
   ]
  },
  {
   "cell_type": "code",
   "execution_count": null,
   "metadata": {
    "collapsed": true
   },
   "outputs": [],
   "source": []
  },
  {
   "cell_type": "code",
   "execution_count": null,
   "metadata": {
    "collapsed": true
   },
   "outputs": [],
   "source": []
  },
  {
   "cell_type": "code",
   "execution_count": null,
   "metadata": {
    "collapsed": true
   },
   "outputs": [],
   "source": []
  },
  {
   "cell_type": "code",
   "execution_count": 35,
   "metadata": {},
   "outputs": [
    {
     "data": {
      "text/plain": [
       "5"
      ]
     },
     "execution_count": 35,
     "metadata": {},
     "output_type": "execute_result"
    }
   ],
   "source": [
    "import datetime as d\n",
    "a =\"01-May-2030\"\n",
    "\n",
    "x = d.datetime.strptime(a, '%d-%b-%Y').month\n",
    "x"
   ]
  },
  {
   "cell_type": "code",
   "execution_count": 34,
   "metadata": {},
   "outputs": [
    {
     "data": {
      "text/plain": [
       "int"
      ]
     },
     "execution_count": 34,
     "metadata": {},
     "output_type": "execute_result"
    }
   ],
   "source": []
  },
  {
   "cell_type": "code",
   "execution_count": null,
   "metadata": {
    "collapsed": true
   },
   "outputs": [],
   "source": []
  },
  {
   "cell_type": "code",
   "execution_count": null,
   "metadata": {
    "collapsed": true
   },
   "outputs": [],
   "source": []
  },
  {
   "cell_type": "code",
   "execution_count": null,
   "metadata": {
    "collapsed": true
   },
   "outputs": [],
   "source": []
  },
  {
   "cell_type": "code",
   "execution_count": null,
   "metadata": {
    "collapsed": true,
    "scrolled": true
   },
   "outputs": [],
   "source": []
  },
  {
   "cell_type": "code",
   "execution_count": null,
   "metadata": {
    "collapsed": true
   },
   "outputs": [],
   "source": []
  },
  {
   "cell_type": "code",
   "execution_count": null,
   "metadata": {
    "collapsed": true
   },
   "outputs": [],
   "source": []
  },
  {
   "cell_type": "code",
   "execution_count": null,
   "metadata": {
    "collapsed": true
   },
   "outputs": [],
   "source": []
  },
  {
   "cell_type": "code",
   "execution_count": null,
   "metadata": {
    "collapsed": true
   },
   "outputs": [],
   "source": []
  }
 ],
 "metadata": {
  "kernelspec": {
   "display_name": "Python 3",
   "language": "python",
   "name": "python3"
  },
  "language_info": {
   "codemirror_mode": {
    "name": "ipython",
    "version": 3
   },
   "file_extension": ".py",
   "mimetype": "text/x-python",
   "name": "python",
   "nbconvert_exporter": "python",
   "pygments_lexer": "ipython3",
   "version": "3.5.2"
  },
  "widgets": {
   "state": {
    "1399b5911ccb47f5a4ac568f2531c136": {
     "views": [
      {
       "cell_index": 6
      }
     ]
    },
    "141ed2cfd8c44a4498c568ff6d39820e": {
     "views": [
      {
       "cell_index": 15
      }
     ]
    },
    "31d504b676f14e2f9f11e256bfa7b7fe": {
     "views": [
      {
       "cell_index": 16
      }
     ]
    },
    "511e96c5108b460182184fb110291393": {
     "views": [
      {
       "cell_index": 18
      }
     ]
    },
    "609c81ca305d4a5eb2f14e23af9bd0ff": {
     "views": [
      {
       "cell_index": 15
      }
     ]
    },
    "6535f5fe65194e6c8f8cb3a575565512": {
     "views": [
      {
       "cell_index": 18
      }
     ]
    },
    "71615992831b4f48a0b6eca8cf6fe745": {
     "views": [
      {
       "cell_index": 16
      }
     ]
    },
    "87caec83af14406aa666c6a2a1d26ee3": {
     "views": [
      {
       "cell_index": 15
      }
     ]
    },
    "898556d27cf343a98957bcae9827dab3": {
     "views": [
      {
       "cell_index": 16
      }
     ]
    },
    "963ddba359584a53900583393c5ec357": {
     "views": [
      {
       "cell_index": 17
      }
     ]
    },
    "e723b0d6a07f434f85320c326f1e60e4": {
     "views": [
      {
       "cell_index": 15
      }
     ]
    },
    "f8baf054be6f4df996b58cadaa407610": {
     "views": [
      {
       "cell_index": 15
      }
     ]
    }
   },
   "version": "1.2.0"
  }
 },
 "nbformat": 4,
 "nbformat_minor": 2
}
