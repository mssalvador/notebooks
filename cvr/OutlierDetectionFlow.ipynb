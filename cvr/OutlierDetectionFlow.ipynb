{
 "cells": [
  {
   "cell_type": "markdown",
   "metadata": {},
   "source": [
    "# This is the notebook for the Outlier detection flow"
   ]
  },
  {
   "cell_type": "code",
   "execution_count": 10,
   "metadata": {
    "collapsed": true
   },
   "outputs": [],
   "source": [
    "from ipywidgets import widgets\n",
    "from IPython.display import display\n",
    "\n",
    "\n",
    "from pyspark.sql import functions as F\n",
    "from pyspark.ml.feature import VectorAssembler, StandardScaler\n",
    "from pyspark.sql.types import StringType,StructField,StructType,ArrayType,DoubleType\n",
    "from pyspark.ml.linalg import Vectors, VectorUDT,Matrix,MatrixUDT,DenseMatrix\n",
    "from pyspark.ml.clustering import KMeans\n",
    "from pyspark.sql import Row\n",
    "from pyspark.sql import Window\n",
    "from pyspark.ml import Pipeline\n",
    "\n",
    "import pandas as pd\n",
    "import re\n",
    "import random\n",
    "from prettytable import PrettyTable\n",
    "import sys\n",
    "from datetime import datetime\n",
    "from operator import add\n",
    "import numpy as np\n",
    "import matplotlib.pyplot as plt\n",
    "#from spark_sklearn import GridSearchCV,Converter\n",
    "PATH = \"/home/svanhmic/workspace/Python/Erhvervs/data/cdata/\"\n",
    "sc.addPyFile(\"/home/svanhmic/workspace/Python/Erhvervs/src/cvr/GridSearchLogRegAndKmeans.py\")"
   ]
  },
  {
   "cell_type": "code",
   "execution_count": 2,
   "metadata": {
    "collapsed": false
   },
   "outputs": [
    {
     "name": "stdout",
     "output_type": "stream",
     "text": [
      "10\n"
     ]
    },
    {
     "data": {
      "text/plain": [
       "<function __main__.choseKSlider>"
      ]
     },
     "execution_count": 2,
     "metadata": {},
     "output_type": "execute_result"
    }
   ],
   "source": []
  },
  {
   "cell_type": "code",
   "execution_count": 3,
   "metadata": {
    "collapsed": false
   },
   "outputs": [],
   "source": [
    "\n"
   ]
  },
  {
   "cell_type": "code",
   "execution_count": 4,
   "metadata": {
    "collapsed": true
   },
   "outputs": [],
   "source": [
    "def getAllDistances(matrix1,matrix2):\n",
    "    return [[np.linalg.norm(v-w) for v in matrix1 ] for w in matrix2]"
   ]
  },
  {
   "cell_type": "code",
   "execution_count": 5,
   "metadata": {
    "collapsed": false,
    "scrolled": false
   },
   "outputs": [],
   "source": [
    "#Get all the cvr features and rename bad name rank into vaerdiSlope\n",
    "df = (sqlContext\n",
    "      .read\n",
    "      .parquet(PATH+\"featureDataCvr\")\n",
    "     )\n",
    "\n",
    "rankCols = [re.sub(pattern=\"rank_\",repl=\"vaerdiSlope_\",string=i) for i in df.columns ]\n",
    "renamedDf = (df\n",
    "             .withColumn(colName=\"reklamebeskyttet\",col=F.col(\"reklamebeskyttet\").cast(\"double\"))\n",
    "             .select([F.col(val).alias(rankCols[idx]) for idx,val in enumerate(df.columns)])\n",
    "            )\n",
    "\n",
    "\n",
    "#Get all companies \n",
    "windowSpecRank =(Window.partitionBy(F.col(\"cvrNummer\"))).orderBy(F.col(\"periode_gyldigFra\").desc())\n",
    "\n",
    "groupCols = [\"cvrNummer\",\"vaerdi\"]\n",
    "\n",
    "companyNameDf = (sqlContext\n",
    "                 .read\n",
    "                 .parquet(PATH+\"companyCvrData\")\n",
    "                 .withColumn(colName=\"rank\",col=F.rank().over(windowSpecRank))\n",
    "                 .filter((F.col(\"rank\")==1) & (F.col(\"sekvensnr\")==0))\n",
    "                 .select([F.col(i) for i in groupCols])\n",
    "                 .withColumnRenamed(existing=\"vaerdi\",new=\"navn\")\n",
    "                 .orderBy(F.col(\"cvrNummer\"))\n",
    "                 .cache()\n",
    "                )\n",
    "\n"
   ]
  },
  {
   "cell_type": "code",
   "execution_count": 8,
   "metadata": {
    "collapsed": false
   },
   "outputs": [
    {
     "name": "stdout",
     "output_type": "stream",
     "text": [
      "[('cvrNummer', 'bigint'), ('status', 'array<string>'), ('label', 'double'), ('AarsVaerk_1', 'double'), ('AarsVaerk_2', 'double'), ('AarsVaerk_3', 'double'), ('AarsVaerk_4', 'double'), ('AarsVaerk_5', 'double'), ('AarsVaerk_6', 'double'), ('AarsVaerk_7', 'double'), ('AarsVaerk_8', 'double'), ('AarsVaerk_9', 'double'), ('AarsVaerk_10', 'double'), ('AarsVaerk_11', 'double'), ('AarsVaerk_12', 'double'), ('AarsVaerk_13', 'double'), ('AarsVaerk_14', 'double'), ('AarsVaerk_15', 'double'), ('medArb_1', 'double'), ('medArb_2', 'double'), ('medArb_3', 'double'), ('medArb_4', 'double'), ('medArb_5', 'double'), ('medArb_6', 'double'), ('medArb_7', 'double'), ('medArb_8', 'double'), ('medArb_9', 'double'), ('medArb_10', 'double'), ('medArb_11', 'double'), ('medArb_12', 'double'), ('medArb_13', 'double'), ('medArb_14', 'double'), ('medArb_15', 'double'), ('avgVarighed', 'double'), ('totalAabneEnheder', 'double'), ('totalLukketEnheder', 'double'), ('vaerdiSlope_1', 'double'), ('vaerdiSlope_2', 'double'), ('vaerdiSlope_3', 'double'), ('vaerdiSlope_4', 'double'), ('vaerdiSlope_5', 'double'), ('vaerdiSlope_6', 'double'), ('vaerdiSlope_7', 'double'), ('reklamebeskyttet', 'double'), ('kortBeskrivelse', 'string')]\n"
     ]
    }
   ],
   "source": [
    "labelCols = [\"navn\",\"cvrNummer\",\"label\",\"status\"]\n",
    "featCols = [i for i in companyNameDf.columns+renamedDf.columns if i not in labelCols]\n",
    "selectCols = [F.col(i[0]).cast(\"double\") if i[1] == \"bigint\" else F.col(i[0]) for i in renamedDf.dtypes]\n",
    "\n",
    "\n",
    "toDenseUDf = F.udf(lambda x: Vectors.dense(x.toArray()),VectorUDT())\n",
    "\n",
    "#the steps in the pipeline is generated here\n",
    "vectorizer = VectorAssembler(inputCols=featCols,outputCol=\"features\")\n",
    "standardScale = StandardScaler(withMean=True,withStd=True,inputCol=vectorizer.getOutputCol(),outputCol=\"scaledFeatures\")\n",
    "\n",
    "renamedWithCompaniesDf = (renamedDf\n",
    "                          .join(companyNameDf,(companyNameDf[\"cvrNummer\"]==renamedDf[\"cvrNummer\"]),\"left\")\n",
    "                          .drop(companyNameDf[\"cvrNummer\"]) \n",
    "                          .select(selectCols)\n",
    "                          .withColumn(col=F.col(\"cvrNummer\").cast(\"long\"),colName=\"cvrNummer\")\n",
    "                          .na\n",
    "                          .fill(0.0,featCols)\n",
    "                          .distinct()\n",
    "                         )\n"
   ]
  },
  {
   "cell_type": "code",
   "execution_count": 9,
   "metadata": {
    "collapsed": false
   },
   "outputs": [
    {
     "name": "stdout",
     "output_type": "stream",
     "text": [
      "+---------+--------------------+-----+-----------+-----------+-----------+-----------+-----------+-----------+-----------+-----------+-----------+------------+------------+------------+------------+------------+------------+--------+--------+--------+--------+--------+--------+--------+--------+--------+---------+---------+---------+---------+---------+---------+------------------+-----------------+------------------+------------------+------------------+-------------+-------------+-------------+-------------+-------------+----------------+---------------+\n",
      "|cvrNummer|              status|label|AarsVaerk_1|AarsVaerk_2|AarsVaerk_3|AarsVaerk_4|AarsVaerk_5|AarsVaerk_6|AarsVaerk_7|AarsVaerk_8|AarsVaerk_9|AarsVaerk_10|AarsVaerk_11|AarsVaerk_12|AarsVaerk_13|AarsVaerk_14|AarsVaerk_15|medArb_1|medArb_2|medArb_3|medArb_4|medArb_5|medArb_6|medArb_7|medArb_8|medArb_9|medArb_10|medArb_11|medArb_12|medArb_13|medArb_14|medArb_15|       avgVarighed|totalAabneEnheder|totalLukketEnheder|     vaerdiSlope_1|     vaerdiSlope_2|vaerdiSlope_3|vaerdiSlope_4|vaerdiSlope_5|vaerdiSlope_6|vaerdiSlope_7|reklamebeskyttet|kortBeskrivelse|\n",
      "+---------+--------------------+-----+-----------+-----------+-----------+-----------+-----------+-----------+-----------+-----------+-----------+------------+------------+------------+------------+------------+------------+--------+--------+--------+--------+--------+--------+--------+--------+--------+---------+---------+---------+---------+---------+---------+------------------+-----------------+------------------+------------------+------------------+-------------+-------------+-------------+-------------+-------------+----------------+---------------+\n",
      "| 20667885|[TVANGSOPLØST, UN...|  0.0|        1.0|        2.0|        1.0|        1.0|        0.0|        0.0|        0.0|        0.0|        0.0|         0.0|         0.0|         0.0|         0.0|         0.0|         0.0|     1.0|     5.0|     1.0|     1.0|     0.0|     0.0|     0.0|     0.0|     0.0|      0.0|      0.0|      0.0|      0.0|      0.0|      0.0|            1498.0|              1.0|               0.0|               0.0|               0.0|          0.0|          0.0|          0.0|          0.0|          0.0|             0.0|            APS|\n",
      "| 29222487|[TVANGSOPLØST, UN...|  0.0|        5.0|        5.0|        0.0|        0.0|        0.0|        0.0|        0.0|        0.0|        0.0|         0.0|         0.0|         0.0|         0.0|         0.0|         0.0|     5.0|     5.0|     0.0|     0.0|     0.0|     0.0|     0.0|     0.0|     0.0|      0.0|      0.0|      0.0|      0.0|      0.0|      0.0|1003.6666666666666|              3.0|               0.0|               0.0|               0.0|          0.0|          0.0|          0.0|          0.0|          0.0|             0.0|            APS|\n",
      "| 31418925|            [NORMAL]|  0.0|        5.0|        5.0|        2.0|        1.0|        0.0|        0.0|        0.0|        0.0|        0.0|         0.0|         0.0|         0.0|         0.0|         0.0|         0.0|     5.0|     5.0|     2.0|     2.0|     0.0|     0.0|     0.0|     0.0|     0.0|      0.0|      0.0|      0.0|      0.0|      0.0|      0.0|               0.0|              0.0|               2.0|155.73089700996678|               0.0|          0.0|          0.0|          0.0|          0.0|          0.0|             0.0|            A/S|\n",
      "| 32099807|            [NORMAL]|  0.0|        1.0|        2.0|        1.0|        0.0|        0.0|        0.0|        0.0|        0.0|        0.0|         0.0|         0.0|         0.0|         0.0|         0.0|         0.0|     2.0|     1.0|     1.0|     0.0|     0.0|     0.0|     0.0|     0.0|     0.0|      0.0|      0.0|      0.0|      0.0|      0.0|      0.0|               0.0|              0.0|               1.0|               0.0|               0.0|          0.0|          0.0|          0.0|          0.0|          0.0|             0.0|            A/S|\n",
      "| 75588119|[TVANGSOPLØST, UN...|  0.0|        1.0|        1.0|        1.0|        1.0|        1.0|        0.0|        0.0|        0.0|        0.0|         0.0|         0.0|         0.0|         0.0|         0.0|         0.0|     0.0|    10.0|    10.0|    10.0|    10.0|     0.0|     0.0|     0.0|     0.0|      0.0|      0.0|      0.0|      0.0|      0.0|      0.0|            3183.5|              2.0|               0.0|13.173302107728338|               0.0|          0.0|          0.0|          0.0|          0.0|          0.0|             0.0|            APS|\n",
      "| 10536596|[OPLØST EFTER FRI...|  0.0|        5.0|        5.0|        5.0|        5.0|       10.0|        5.0|        5.0|        5.0|        5.0|         5.0|         0.0|         0.0|         0.0|         0.0|         0.0|     5.0|     5.0|     5.0|     5.0|    10.0|    10.0|    10.0|     5.0|     5.0|      5.0|      0.0|      0.0|      0.0|      0.0|      0.0|            5718.0|              1.0|               0.0|343.07931570762054|204.49897750511246|          0.0|          0.0|          0.0|          0.0|          0.0|             0.0|            EFO|\n",
      "| 14553401|            [NORMAL]|  0.0|        1.0|        1.0|        1.0|        0.0|        0.0|        0.0|        0.0|        1.0|        0.0|         0.0|         0.0|         0.0|         0.0|         0.0|         0.0|     0.0|     1.0|     0.0|     0.0|     2.0|     2.0|     2.0|     2.0|     2.0|      1.0|      2.0|      2.0|      2.0|      1.0|      0.0|               0.0|              0.0|               1.0|  89.6121266161391|               0.0|          0.0|          0.0|          0.0|          0.0|          0.0|             0.0|            A/S|\n",
      "| 21781681|            [NORMAL]|  0.0|       10.0|       10.0|       10.0|       10.0|       10.0|       10.0|       10.0|       10.0|       10.0|        10.0|        10.0|        10.0|        10.0|         0.0|         0.0|    10.0|    20.0|    20.0|    20.0|    20.0|    10.0|    10.0|    10.0|    10.0|     10.0|     10.0|     10.0|     10.0|      0.0|      0.0|               0.0|              0.0|               1.0|               0.0|               0.0|          0.0|          0.0|          0.0|          0.0|          0.0|             0.0|            A/S|\n",
      "| 31781590|            [NORMAL]|  0.0|        1.0|        1.0|        1.0|        0.0|        0.0|        0.0|        0.0|        0.0|        0.0|         0.0|         0.0|         0.0|         0.0|         0.0|         0.0|     1.0|     1.0|     1.0|     0.0|     0.0|     0.0|     0.0|     0.0|     0.0|      0.0|      0.0|      0.0|      0.0|      0.0|      0.0|               0.0|              0.0|               1.0|               0.0|               0.0|          0.0|          0.0|          0.0|          0.0|          0.0|             0.0|            APS|\n",
      "| 75159412|            [NORMAL]|  0.0|        5.0|        5.0|        5.0|        5.0|        5.0|        5.0|        5.0|        5.0|        5.0|         5.0|         5.0|         5.0|         2.0|         2.0|         2.0|     5.0|     5.0|     5.0|     5.0|     5.0|     5.0|     5.0|     5.0|     5.0|      5.0|      5.0|      5.0|      5.0|      2.0|      2.0|               0.0|              0.0|               1.0|23.467292461132296|               0.0|          0.0|          0.0|          0.0|          0.0|          0.0|             0.0|            APS|\n",
      "| 81212015|            [NORMAL]|  0.0|        5.0|        5.0|        5.0|        5.0|        5.0|        5.0|        5.0|        5.0|        5.0|         5.0|         5.0|         5.0|         5.0|         5.0|         5.0|     5.0|     5.0|     5.0|     5.0|     5.0|    10.0|    10.0|    10.0|    10.0|     10.0|     10.0|     10.0|     10.0|     10.0|     10.0|               0.0|              0.0|               1.0|32.008535609495866|               0.0|          0.0|          0.0|          0.0|          0.0|          0.0|             0.0|            APS|\n",
      "| 82060812|            [NORMAL]|  0.0|        5.0|        5.0|        5.0|        5.0|        5.0|        5.0|        5.0|        5.0|        5.0|         5.0|         5.0|         5.0|         5.0|         5.0|         5.0|     5.0|     5.0|     5.0|     5.0|     5.0|     5.0|     5.0|     5.0|     5.0|      5.0|      5.0|      5.0|      5.0|     10.0|      5.0|               0.0|              0.0|               1.0| 38.31417624521073|               0.0|          0.0|          0.0|          0.0|          0.0|          0.0|             0.0|            APS|\n",
      "| 10003725|[UNDER KONKURS, N...|  1.0|        5.0|        5.0|       10.0|        5.0|        5.0|        5.0|        0.0|        0.0|        0.0|         0.0|         0.0|         0.0|         0.0|         0.0|         0.0|    20.0|    10.0|    10.0|    10.0|    20.0|    10.0|     0.0|     0.0|     0.0|      0.0|      0.0|      0.0|      0.0|      0.0|      0.0|               0.0|              0.0|               1.0|-615.3846153846154|30.389363722697055|          0.0|          0.0|          0.0|          0.0|          0.0|             0.0|            APS|\n",
      "| 34579334|            [NORMAL]|  0.0|        1.0|        0.0|        0.0|        0.0|        0.0|        0.0|        0.0|        0.0|        0.0|         0.0|         0.0|         0.0|         0.0|         0.0|         0.0|     2.0|     0.0|     0.0|     0.0|     0.0|     0.0|     0.0|     0.0|     0.0|      0.0|      0.0|      0.0|      0.0|      0.0|      0.0|             200.0|              1.0|               1.0|               0.0|               0.0|          0.0|          0.0|          0.0|          0.0|          0.0|             0.0|            APS|\n",
      "| 17710699|            [NORMAL]|  0.0|        1.0|        0.0|        0.0|        0.0|        0.0|        0.0|        0.0|        0.0|        0.0|         0.0|         0.0|         0.0|         0.0|         0.0|         0.0|     0.0|     0.0|     0.0|     0.0|     0.0|     0.0|     0.0|     0.0|     0.0|      0.0|      0.0|      0.0|      0.0|      0.0|      0.0|             213.0|              1.0|               1.0| 559.7014925373135|               0.0|          0.0|          0.0|          0.0|          0.0|          0.0|             0.0|            A/S|\n",
      "| 29841586|[TVANGSOPLØST, UN...|  0.0|        1.0|        1.0|        1.0|        0.0|        0.0|        0.0|        0.0|        0.0|        0.0|         0.0|         0.0|         0.0|         0.0|         0.0|         0.0|     1.0|     1.0|     1.0|     0.0|     0.0|     0.0|     0.0|     0.0|     0.0|      0.0|      0.0|      0.0|      0.0|      0.0|      0.0|            1246.0|              1.0|               0.0|               0.0|               0.0|          0.0|          0.0|          0.0|          0.0|          0.0|             0.0|            APS|\n",
      "| 32355846|            [NORMAL]|  0.0|        1.0|        1.0|        0.0|        0.0|        0.0|        0.0|        0.0|        0.0|        0.0|         0.0|         0.0|         0.0|         0.0|         0.0|         0.0|     2.0|     1.0|     0.0|     0.0|     0.0|     0.0|     0.0|     0.0|     0.0|      0.0|      0.0|      0.0|      0.0|      0.0|      0.0|               0.0|              0.0|               1.0|               0.0|               0.0|          0.0|          0.0|          0.0|          0.0|          0.0|             0.0|            APS|\n",
      "| 34086540|            [NORMAL]|  0.0|        2.0|        0.0|        0.0|        0.0|        0.0|        0.0|        0.0|        0.0|        0.0|         0.0|         0.0|         0.0|         0.0|         0.0|         0.0|     5.0|     0.0|     0.0|     0.0|     0.0|     0.0|     0.0|     0.0|     0.0|      0.0|      0.0|      0.0|      0.0|      0.0|      0.0|               0.0|              0.0|               1.0|               0.0|               0.0|          0.0|          0.0|          0.0|          0.0|          0.0|             0.0|            APS|\n",
      "| 19273075|[OPLØST EFTER KON...|  1.0|        1.0|        2.0|        2.0|        2.0|        2.0|        2.0|        2.0|        2.0|        2.0|         2.0|         2.0|         2.0|         0.0|         0.0|         0.0|     0.0|     0.0|     2.0|     5.0|     5.0|     5.0|     5.0|     5.0|     5.0|      5.0|      2.0|      5.0|      0.0|      0.0|      0.0|            2919.0|              2.0|               0.0|               0.0|               0.0|          0.0|          0.0|          0.0|          0.0|          0.0|             0.0|            APS|\n",
      "| 19374335|[OPLØST EFTER FUS...|  0.0|       50.0|        0.0|        0.0|        0.0|        0.0|        0.0|        0.0|        0.0|        0.0|         0.0|         0.0|         0.0|         0.0|         0.0|         0.0|    50.0|     0.0|     0.0|     0.0|     0.0|     0.0|     0.0|     0.0|     0.0|      0.0|      0.0|      0.0|      0.0|      0.0|      0.0|             670.0|              2.0|               0.0|           12500.0|               0.0|          0.0|          0.0|          0.0|          0.0|          0.0|             0.0|            A/S|\n",
      "+---------+--------------------+-----+-----------+-----------+-----------+-----------+-----------+-----------+-----------+-----------+-----------+------------+------------+------------+------------+------------+------------+--------+--------+--------+--------+--------+--------+--------+--------+--------+---------+---------+---------+---------+---------+---------+------------------+-----------------+------------------+------------------+------------------+-------------+-------------+-------------+-------------+-------------+----------------+---------------+\n",
      "only showing top 20 rows\n",
      "\n"
     ]
    }
   ],
   "source": [
    "renamedWithCompaniesDf.show()"
   ]
  },
  {
   "cell_type": "code",
   "execution_count": null,
   "metadata": {
    "collapsed": true
   },
   "outputs": [],
   "source": []
  }
 ],
 "metadata": {
  "kernelspec": {
   "display_name": "Python 3",
   "language": "python",
   "name": "python3"
  },
  "language_info": {
   "codemirror_mode": {
    "name": "ipython",
    "version": 3
   },
   "file_extension": ".py",
   "mimetype": "text/x-python",
   "name": "python",
   "nbconvert_exporter": "python",
   "pygments_lexer": "ipython3",
   "version": "3.5.2"
  },
  "widgets": {
   "state": {
    "07c1b8f9dbb04c23ab1c7cfba3e60a4f": {
     "views": [
      {
       "cell_index": 2
      }
     ]
    },
    "0feae362a3504dbca863bbaf6342238d": {
     "views": [
      {
       "cell_index": 2
      }
     ]
    },
    "0fffe40fd0584718a0a6aaf6ba9867d3": {
     "views": [
      {
       "cell_index": 2
      }
     ]
    },
    "1ba186ea8dd8445ca09343708769a360": {
     "views": [
      {
       "cell_index": 2
      }
     ]
    },
    "2e46a0898b8a4edd8c176a61f7040dae": {
     "views": [
      {
       "cell_index": 2
      }
     ]
    },
    "34278b2f98e44e3b89c6855942c8aaf2": {
     "views": [
      {
       "cell_index": 2
      }
     ]
    },
    "60fca154c81648898c9258d6bdfbc204": {
     "views": [
      {
       "cell_index": 2
      }
     ]
    },
    "7fddf07d6c5f4e75912b0fe5e5e5f17d": {
     "views": [
      {
       "cell_index": 3
      }
     ]
    },
    "92588c7795d742f9814a560fcf1e2b11": {
     "views": [
      {
       "cell_index": 2
      }
     ]
    },
    "ae6dc74a489548dc9fc0b3830588e2fe": {
     "views": [
      {
       "cell_index": 2
      }
     ]
    },
    "dde2359168dd44cd950fc75c42298a35": {
     "views": [
      {
       "cell_index": 2
      }
     ]
    },
    "e27ec4060b05465498110c2a6231c2da": {
     "views": [
      {
       "cell_index": 2
      }
     ]
    }
   },
   "version": "1.2.0"
  }
 },
 "nbformat": 4,
 "nbformat_minor": 2
}
