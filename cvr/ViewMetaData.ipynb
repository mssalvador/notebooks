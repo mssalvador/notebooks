{
 "cells": [
  {
   "cell_type": "code",
   "execution_count": 1,
   "metadata": {
    "collapsed": false
   },
   "outputs": [],
   "source": [
    "import numpy as np\n",
    "import sys\n",
    "\n",
    "from pyspark import SQLContext\n",
    "from pyspark import SparkContext\n",
    "from pyspark.sql.types import StringType, IntegerType\n",
    "from pyspark.sql.functions import  udf, mean\n",
    "from re import findall, sub"
   ]
  },
  {
   "cell_type": "code",
   "execution_count": 2,
   "metadata": {
    "collapsed": false
   },
   "outputs": [
    {
     "name": "stdout",
     "output_type": "stream",
     "text": [
      "[('hive.metastore.warehouse.dir', 'file:/home/svanhmic/workspace/Python/Erhvervs/src/notebooks/cvr/spark-warehouse'), ('spark.app.name', 'ImportMetaCVR'), ('spark.sql.catalogImplementation', 'hive'), ('spark.app.id', 'local-1483963678924'), ('spark.rdd.compress', 'True'), ('spark.driver.host', '10.52.1.5'), ('spark.serializer.objectStreamReset', '100'), ('spark.master', 'local[*]'), ('spark.driver.port', '39795'), ('spark.executor.id', 'driver'), ('spark.submit.deployMode', 'client'), ('spark.driver.memory', '6G')]\n"
     ]
    }
   ],
   "source": [
    "#spark = SparkSession(sc).builder.master(\"local[*]\").appName(\"TestingCvr\").getOrCreate()\n",
    "conf = sc.getConf()\n",
    "conf.setAppName(\"ImportMetaCVR\")\n",
    "print(conf.getAll())\n",
    "sqlContext = SQLContext(sc)"
   ]
  },
  {
   "cell_type": "code",
   "execution_count": null,
   "metadata": {
    "collapsed": false
   },
   "outputs": [],
   "source": []
  },
  {
   "cell_type": "code",
   "execution_count": 4,
   "metadata": {
    "collapsed": false,
    "scrolled": false
   },
   "outputs": [],
   "source": [
    "\n",
    "metaDataLink = \"/home/svanhmic/workspace/Python/Erhvervs/data/cdata/virksomhedersMetadata.json\"\n",
    "metaDataDf = sqlContext.read.json(metaDataLink)"
   ]
  },
  {
   "cell_type": "code",
   "execution_count": 5,
   "metadata": {
    "collapsed": false
   },
   "outputs": [
    {
     "name": "stdout",
     "output_type": "stream",
     "text": [
      "+-------+------------+------------------+---------+---------+----------------+--------------------+-------------+----------------------+--------------------+\n",
      "|  Index|antalAnsatte|brancheAnsvarskode|cvrnummer|nPenheder|reklamebeskyttet|     sammensatStatus|stiftelsesAar|virksomhedsBeskrivelse|   virksomhedsstatus|\n",
      "+-------+------------+------------------+---------+---------+----------------+--------------------+-------------+----------------------+--------------------+\n",
      "|1232645|           0|              None| 26565537|        1|               1|               aktiv|         2002|  Enkeltmandsvirkso...|                    |\n",
      "|1232646|        null|              None| 34642362|        1|               1|               aktiv|         2012|    Frivillig forening|                    |\n",
      "|1232647|        null|              None| 37645311|        1|               1|              normal|         2016|                  None|              normal|\n",
      "|1232648|          20|              None| 50743128|        1|               0|              ophørt|         1975|       Interessentskab|             slettet|\n",
      "|1232649|        null|              None| 37299499|        1|               0|              normal|         2015|        Anpartsselskab|              normal|\n",
      "|1232650|        null|              None| 31180368|        1|               0|              normal|         2008|        Anpartsselskab|              normal|\n",
      "|1232651|           0|              None| 31265584|        1|               0|              normal|         2008|        Anpartsselskab|              normal|\n",
      "|1232652|        null|              None| 35636889|        2|               1|              normal|         2014|        Anpartsselskab|              normal|\n",
      "|1232653|           0|              None| 25357264|        1|               0|               aktiv|         2000|  Enkeltmandsvirkso...|                    |\n",
      "|1232654|        null|              None| 37563188|        1|               1|               aktiv|         2016|  Enkeltmandsvirkso...|                    |\n",
      "|1232655|           0|              None| 25286499|        1|               1|               aktiv|         2000|  Enkeltmandsvirkso...|                    |\n",
      "|1232656|        null|              None| 37562254|        1|               1|              normal|         2016|                  None|              normal|\n",
      "|1232657|        null|              None| 36204370|        1|               1|              ophørt|         2015|       Interessentskab|                    |\n",
      "|1232658|           1|              None| 31329949|        1|               0|              normal|         2008|        Anpartsselskab|              normal|\n",
      "|1232659|           0|              None| 31330297|        1|               0|              normal|         2008|  Filial af udenlan...|              normal|\n",
      "|1232660|        null|              None| 32257194|        1|               1|               aktiv|         2009|  Anden udenlandsk ...|                    |\n",
      "|1232661|           0|              None| 26217776|        1|               1|             fremtid|         2001|  Enkeltmandsvirkso...|                    |\n",
      "|1232662|           0|              None| 15428406|        1|               0|               aktiv|         1991|  Enkeltmandsvirkso...|                    |\n",
      "|1232663|        null|              None| 31254000|        1|               0|undertvangsopløsning|         2008|        Anpartsselskab|undertvangsopløsning|\n",
      "|1232664|        null|              None| 30520858|        1|               0|              normal|         2008|        Anpartsselskab|              normal|\n",
      "+-------+------------+------------------+---------+---------+----------------+--------------------+-------------+----------------------+--------------------+\n",
      "only showing top 20 rows\n",
      "\n"
     ]
    }
   ],
   "source": [
    "metaDataDf.show()"
   ]
  },
  {
   "cell_type": "code",
   "execution_count": null,
   "metadata": {
    "collapsed": true
   },
   "outputs": [],
   "source": []
  }
 ],
 "metadata": {
  "kernelspec": {
   "display_name": "Python 3",
   "language": "python",
   "name": "python3"
  },
  "language_info": {
   "codemirror_mode": {
    "name": "ipython",
    "version": 3
   },
   "file_extension": ".py",
   "mimetype": "text/x-python",
   "name": "python",
   "nbconvert_exporter": "python",
   "pygments_lexer": "ipython3",
   "version": "3.5.2"
  }
 },
 "nbformat": 4,
 "nbformat_minor": 2
}
