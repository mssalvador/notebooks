{
 "cells": [
  {
   "cell_type": "code",
   "execution_count": 1,
   "metadata": {
    "collapsed": false,
    "scrolled": false
   },
   "outputs": [],
   "source": [
    "from pyspark import SparkConf\n",
    "from pyspark.sql import SparkSession, SQLContext\n",
    "from pyspark.sql import functions as F\n",
    "from functools import reduce\n",
    "from pyspark.sql.window import Window\n",
    "from pyspark.sql.types import IntegerType\n",
    "#Python imports\n",
    "import sys\n",
    "sys.path.append(\"/home/svanhmic/workspace/Python/Erhvervs/src/cvr\")\n",
    "import GetNextJsonLayer\n",
    "import os\n",
    "path = \"/home/svanhmic/workspace/Python/Erhvervs/data/cdata\"\n",
    "#paths\n"
   ]
  },
  {
   "cell_type": "code",
   "execution_count": 2,
   "metadata": {
    "collapsed": false
   },
   "outputs": [],
   "source": [
    "#%ls /home/svanhmic/workspace/Python/Erhvervs/data/cdata \n",
    "%env\n",
    "#%pdb\n",
    "from graphframes import graphframe"
   ]
  },
  {
   "cell_type": "code",
   "execution_count": null,
   "metadata": {
    "collapsed": false
   },
   "outputs": [],
   "source": []
  },
  {
   "cell_type": "code",
   "execution_count": 3,
   "metadata": {
    "collapsed": false
   },
   "outputs": [],
   "source": [
    "df = sqlContext.read.json(path+\"/AlleDeltager.json\")\n",
    "deltagerCols = GetNextJsonLayer.getNextSchemaLayer(df.schema,\"deltager\")"
   ]
  },
  {
   "cell_type": "code",
   "execution_count": 4,
   "metadata": {
    "collapsed": false,
    "scrolled": false
   },
   "outputs": [
    {
     "name": "stdout",
     "output_type": "stream",
     "text": [
      "root\n",
      " |-- deltager: struct (nullable = true)\n",
      " |    |-- attributter: array (nullable = true)\n",
      " |    |    |-- element: struct (containsNull = true)\n",
      " |    |    |    |-- sekvensnr: long (nullable = true)\n",
      " |    |    |    |-- type: string (nullable = true)\n",
      " |    |    |    |-- vaerdier: array (nullable = true)\n",
      " |    |    |    |    |-- element: struct (containsNull = true)\n",
      " |    |    |    |    |    |-- periode: struct (nullable = true)\n",
      " |    |    |    |    |    |    |-- gyldigFra: string (nullable = true)\n",
      " |    |    |    |    |    |    |-- gyldigTil: string (nullable = true)\n",
      " |    |    |    |    |    |-- sidstOpdateret: string (nullable = true)\n",
      " |    |    |    |    |    |-- vaerdi: string (nullable = true)\n",
      " |    |    |    |-- vaerditype: string (nullable = true)\n",
      " |    |-- beliggenhedsadresse: array (nullable = true)\n",
      " |    |    |-- element: struct (containsNull = true)\n",
      " |    |    |    |-- bogstavFra: string (nullable = true)\n",
      " |    |    |    |-- bogstavTil: string (nullable = true)\n",
      " |    |    |    |-- bynavn: string (nullable = true)\n",
      " |    |    |    |-- conavn: string (nullable = true)\n",
      " |    |    |    |-- etage: string (nullable = true)\n",
      " |    |    |    |-- fritekst: string (nullable = true)\n",
      " |    |    |    |-- husnummerFra: long (nullable = true)\n",
      " |    |    |    |-- husnummerTil: long (nullable = true)\n",
      " |    |    |    |-- kommune: struct (nullable = true)\n",
      " |    |    |    |    |-- kommuneKode: long (nullable = true)\n",
      " |    |    |    |    |-- kommuneNavn: string (nullable = true)\n",
      " |    |    |    |    |-- periode: struct (nullable = true)\n",
      " |    |    |    |    |    |-- gyldigFra: string (nullable = true)\n",
      " |    |    |    |    |    |-- gyldigTil: string (nullable = true)\n",
      " |    |    |    |    |-- sidstOpdateret: string (nullable = true)\n",
      " |    |    |    |-- landekode: string (nullable = true)\n",
      " |    |    |    |-- periode: struct (nullable = true)\n",
      " |    |    |    |    |-- gyldigFra: string (nullable = true)\n",
      " |    |    |    |    |-- gyldigTil: string (nullable = true)\n",
      " |    |    |    |-- postboks: string (nullable = true)\n",
      " |    |    |    |-- postdistrikt: string (nullable = true)\n",
      " |    |    |    |-- postnummer: long (nullable = true)\n",
      " |    |    |    |-- sidedoer: string (nullable = true)\n",
      " |    |    |    |-- sidstOpdateret: string (nullable = true)\n",
      " |    |    |    |-- vejkode: long (nullable = true)\n",
      " |    |    |    |-- vejnavn: string (nullable = true)\n",
      " |    |-- dataAdgang: long (nullable = true)\n",
      " |    |-- deltagerpersonMetadata: struct (nullable = true)\n",
      " |    |    |-- nyesteBeliggenhedsadresse: struct (nullable = true)\n",
      " |    |    |    |-- bogstavFra: string (nullable = true)\n",
      " |    |    |    |-- bogstavTil: string (nullable = true)\n",
      " |    |    |    |-- bynavn: string (nullable = true)\n",
      " |    |    |    |-- conavn: string (nullable = true)\n",
      " |    |    |    |-- etage: string (nullable = true)\n",
      " |    |    |    |-- fritekst: string (nullable = true)\n",
      " |    |    |    |-- husnummerFra: long (nullable = true)\n",
      " |    |    |    |-- husnummerTil: long (nullable = true)\n",
      " |    |    |    |-- kommune: struct (nullable = true)\n",
      " |    |    |    |    |-- kommuneKode: long (nullable = true)\n",
      " |    |    |    |    |-- kommuneNavn: string (nullable = true)\n",
      " |    |    |    |    |-- periode: struct (nullable = true)\n",
      " |    |    |    |    |    |-- gyldigFra: string (nullable = true)\n",
      " |    |    |    |    |-- sidstOpdateret: string (nullable = true)\n",
      " |    |    |    |-- landekode: string (nullable = true)\n",
      " |    |    |    |-- periode: struct (nullable = true)\n",
      " |    |    |    |    |-- gyldigFra: string (nullable = true)\n",
      " |    |    |    |    |-- gyldigTil: string (nullable = true)\n",
      " |    |    |    |-- postboks: string (nullable = true)\n",
      " |    |    |    |-- postdistrikt: string (nullable = true)\n",
      " |    |    |    |-- postnummer: long (nullable = true)\n",
      " |    |    |    |-- sidedoer: string (nullable = true)\n",
      " |    |    |    |-- sidstOpdateret: string (nullable = true)\n",
      " |    |    |    |-- vejkode: long (nullable = true)\n",
      " |    |    |    |-- vejnavn: string (nullable = true)\n",
      " |    |    |-- nyesteKontaktoplysninger: array (nullable = true)\n",
      " |    |    |    |-- element: string (containsNull = true)\n",
      " |    |-- elektroniskPost: array (nullable = true)\n",
      " |    |    |-- element: struct (containsNull = true)\n",
      " |    |    |    |-- hemmelig: boolean (nullable = true)\n",
      " |    |    |    |-- kontaktoplysning: string (nullable = true)\n",
      " |    |    |    |-- periode: struct (nullable = true)\n",
      " |    |    |    |    |-- gyldigFra: string (nullable = true)\n",
      " |    |    |    |    |-- gyldigTil: string (nullable = true)\n",
      " |    |    |    |-- sidstOpdateret: string (nullable = true)\n",
      " |    |-- enhedsNummer: long (nullable = true)\n",
      " |    |-- enhedstype: string (nullable = true)\n",
      " |    |-- fejlRegistreret: boolean (nullable = true)\n",
      " |    |-- fejlVedIndlaesning: boolean (nullable = true)\n",
      " |    |-- forretningsnoegle: long (nullable = true)\n",
      " |    |-- naermesteFremtidigeDato: string (nullable = true)\n",
      " |    |-- navne: array (nullable = true)\n",
      " |    |    |-- element: struct (containsNull = true)\n",
      " |    |    |    |-- navn: string (nullable = true)\n",
      " |    |    |    |-- sidstOpdateret: string (nullable = true)\n",
      " |    |-- postadresse: array (nullable = true)\n",
      " |    |    |-- element: struct (containsNull = true)\n",
      " |    |    |    |-- conavn: string (nullable = true)\n",
      " |    |    |    |-- fritekst: string (nullable = true)\n",
      " |    |    |    |-- landekode: string (nullable = true)\n",
      " |    |    |    |-- periode: struct (nullable = true)\n",
      " |    |    |    |    |-- gyldigFra: string (nullable = true)\n",
      " |    |    |    |-- sidstOpdateret: string (nullable = true)\n",
      " |    |-- samtId: long (nullable = true)\n",
      " |    |-- sidstIndlaest: string (nullable = true)\n",
      " |    |-- sidstOpdateret: string (nullable = true)\n",
      " |    |-- stilling: string (nullable = true)\n",
      " |    |-- telefaxNummer: array (nullable = true)\n",
      " |    |    |-- element: string (containsNull = true)\n",
      " |    |-- telefonNummer: array (nullable = true)\n",
      " |    |    |-- element: struct (containsNull = true)\n",
      " |    |    |    |-- hemmelig: boolean (nullable = true)\n",
      " |    |    |    |-- kontaktoplysning: string (nullable = true)\n",
      " |    |    |    |-- periode: struct (nullable = true)\n",
      " |    |    |    |    |-- gyldigFra: string (nullable = true)\n",
      " |    |    |    |-- sidstOpdateret: string (nullable = true)\n",
      " |    |-- virkningsAktoer: string (nullable = true)\n",
      " |    |-- virksomhedSummariskRelation: array (nullable = true)\n",
      " |    |    |-- element: struct (containsNull = true)\n",
      " |    |    |    |-- organisationer: array (nullable = true)\n",
      " |    |    |    |    |-- element: struct (containsNull = true)\n",
      " |    |    |    |    |    |-- attributter: array (nullable = true)\n",
      " |    |    |    |    |    |    |-- element: struct (containsNull = true)\n",
      " |    |    |    |    |    |    |    |-- sekvensnr: long (nullable = true)\n",
      " |    |    |    |    |    |    |    |-- type: string (nullable = true)\n",
      " |    |    |    |    |    |    |    |-- vaerdier: array (nullable = true)\n",
      " |    |    |    |    |    |    |    |    |-- element: struct (containsNull = true)\n",
      " |    |    |    |    |    |    |    |    |    |-- periode: struct (nullable = true)\n",
      " |    |    |    |    |    |    |    |    |    |    |-- gyldigFra: string (nullable = true)\n",
      " |    |    |    |    |    |    |    |    |    |    |-- gyldigTil: string (nullable = true)\n",
      " |    |    |    |    |    |    |    |    |    |-- sidstOpdateret: string (nullable = true)\n",
      " |    |    |    |    |    |    |    |    |    |-- vaerdi: string (nullable = true)\n",
      " |    |    |    |    |    |    |    |-- vaerditype: string (nullable = true)\n",
      " |    |    |    |    |    |-- enhedsNummerOrganisation: long (nullable = true)\n",
      " |    |    |    |    |    |-- hovedtype: string (nullable = true)\n",
      " |    |    |    |    |    |-- medlemsData: array (nullable = true)\n",
      " |    |    |    |    |    |    |-- element: struct (containsNull = true)\n",
      " |    |    |    |    |    |    |    |-- attributter: array (nullable = true)\n",
      " |    |    |    |    |    |    |    |    |-- element: struct (containsNull = true)\n",
      " |    |    |    |    |    |    |    |    |    |-- sekvensnr: long (nullable = true)\n",
      " |    |    |    |    |    |    |    |    |    |-- type: string (nullable = true)\n",
      " |    |    |    |    |    |    |    |    |    |-- vaerdier: array (nullable = true)\n",
      " |    |    |    |    |    |    |    |    |    |    |-- element: struct (containsNull = true)\n",
      " |    |    |    |    |    |    |    |    |    |    |    |-- periode: struct (nullable = true)\n",
      " |    |    |    |    |    |    |    |    |    |    |    |    |-- gyldigFra: string (nullable = true)\n",
      " |    |    |    |    |    |    |    |    |    |    |    |    |-- gyldigTil: string (nullable = true)\n",
      " |    |    |    |    |    |    |    |    |    |    |    |-- sidstOpdateret: string (nullable = true)\n",
      " |    |    |    |    |    |    |    |    |    |    |    |-- vaerdi: string (nullable = true)\n",
      " |    |    |    |    |    |    |    |    |    |-- vaerditype: string (nullable = true)\n",
      " |    |    |    |    |    |-- organisationsNavn: array (nullable = true)\n",
      " |    |    |    |    |    |    |-- element: struct (containsNull = true)\n",
      " |    |    |    |    |    |    |    |-- navn: string (nullable = true)\n",
      " |    |    |    |    |    |    |    |-- periode: struct (nullable = true)\n",
      " |    |    |    |    |    |    |    |    |-- gyldigFra: string (nullable = true)\n",
      " |    |    |    |    |    |    |    |    |-- gyldigTil: string (nullable = true)\n",
      " |    |    |    |    |    |    |    |-- sidstOpdateret: string (nullable = true)\n",
      " |    |    |    |-- virksomhed: struct (nullable = true)\n",
      " |    |    |    |    |-- cvrNummer: long (nullable = true)\n",
      " |    |    |    |    |-- enhedsNummer: long (nullable = true)\n",
      " |    |    |    |    |-- enhedstype: string (nullable = true)\n",
      " |    |    |    |    |-- fejlRegistreret: boolean (nullable = true)\n",
      " |    |    |    |    |-- livsforloeb: array (nullable = true)\n",
      " |    |    |    |    |    |-- element: struct (containsNull = true)\n",
      " |    |    |    |    |    |    |-- periode: struct (nullable = true)\n",
      " |    |    |    |    |    |    |    |-- gyldigFra: string (nullable = true)\n",
      " |    |    |    |    |    |    |    |-- gyldigTil: string (nullable = true)\n",
      " |    |    |    |    |    |    |-- sidstOpdateret: string (nullable = true)\n",
      " |    |    |    |    |-- navne: array (nullable = true)\n",
      " |    |    |    |    |    |-- element: struct (containsNull = true)\n",
      " |    |    |    |    |    |    |-- navn: string (nullable = true)\n",
      " |    |    |    |    |    |    |-- periode: struct (nullable = true)\n",
      " |    |    |    |    |    |    |    |-- gyldigFra: string (nullable = true)\n",
      " |    |    |    |    |    |    |    |-- gyldigTil: string (nullable = true)\n",
      " |    |    |    |    |    |    |-- sidstOpdateret: string (nullable = true)\n",
      " |    |    |    |    |-- regNummer: array (nullable = true)\n",
      " |    |    |    |    |    |-- element: struct (containsNull = true)\n",
      " |    |    |    |    |    |    |-- periode: struct (nullable = true)\n",
      " |    |    |    |    |    |    |    |-- gyldigFra: string (nullable = true)\n",
      " |    |    |    |    |    |    |    |-- gyldigTil: string (nullable = true)\n",
      " |    |    |    |    |    |    |-- regnummer: string (nullable = true)\n",
      " |    |    |    |    |    |    |-- sidstOpdateret: string (nullable = true)\n",
      " |    |    |    |    |-- sidstIndlaest: string (nullable = true)\n",
      " |    |    |    |    |-- status: array (nullable = true)\n",
      " |    |    |    |    |    |-- element: struct (containsNull = true)\n",
      " |    |    |    |    |    |    |-- kreditoplysningkode: long (nullable = true)\n",
      " |    |    |    |    |    |    |-- periode: struct (nullable = true)\n",
      " |    |    |    |    |    |    |    |-- gyldigFra: string (nullable = true)\n",
      " |    |    |    |    |    |    |    |-- gyldigTil: string (nullable = true)\n",
      " |    |    |    |    |    |    |-- sidstOpdateret: string (nullable = true)\n",
      " |    |    |    |    |    |    |-- statuskode: long (nullable = true)\n",
      " |    |    |    |    |-- virksomhedsform: array (nullable = true)\n",
      " |    |    |    |    |    |-- element: struct (containsNull = true)\n",
      " |    |    |    |    |    |    |-- ansvarligDataleverandoer: string (nullable = true)\n",
      " |    |    |    |    |    |    |-- kortBeskrivelse: string (nullable = true)\n",
      " |    |    |    |    |    |    |-- langBeskrivelse: string (nullable = true)\n",
      " |    |    |    |    |    |    |-- periode: struct (nullable = true)\n",
      " |    |    |    |    |    |    |    |-- gyldigFra: string (nullable = true)\n",
      " |    |    |    |    |    |    |    |-- gyldigTil: string (nullable = true)\n",
      " |    |    |    |    |    |    |-- sidstOpdateret: string (nullable = true)\n",
      " |    |    |    |    |    |    |-- virksomhedsformkode: long (nullable = true)\n",
      " |    |    |    |    |-- virksomhedsstatus: array (nullable = true)\n",
      " |    |    |    |    |    |-- element: struct (containsNull = true)\n",
      " |    |    |    |    |    |    |-- periode: struct (nullable = true)\n",
      " |    |    |    |    |    |    |    |-- gyldigFra: string (nullable = true)\n",
      " |    |    |    |    |    |    |    |-- gyldigTil: string (nullable = true)\n",
      " |    |    |    |    |    |    |-- sidstOpdateret: string (nullable = true)\n",
      " |    |    |    |    |    |    |-- status: string (nullable = true)\n",
      "\n"
     ]
    }
   ],
   "source": [
    "deltagerCols\n",
    "df.printSchema()"
   ]
  },
  {
   "cell_type": "code",
   "execution_count": 5,
   "metadata": {
    "collapsed": false
   },
   "outputs": [],
   "source": [
    "deltagerAttributterDf = GetNextJsonLayer.createNextLayerTable(df,[\"enhedsNummer\",\"enhedstype\",\"navne\"],\"attributter\",\"deltager\")\n",
    "holdOutCol = [\"vaerdier\"]\n",
    "vaerdiCols = [i for i in deltagerAttributterDf.columns if i not in holdOutCol]\n",
    "\n",
    "deltagerAttributterWithValuesDf = (GetNextJsonLayer\n",
    "                                   .createNextLayerTable(deltagerAttributterDf,vaerdiCols,holdOutCol[0])\n",
    "                                   .drop(\"periode\")\n",
    "                                   .drop(\"sidstOpdateret\")\n",
    "                                  )\n",
    "del holdOutCol[0]\n",
    "holdOutCol.append(\"navne\")\n",
    "del vaerdiCols\n",
    "vaerdiCols = [i for i in deltagerAttributterWithValuesDf.columns if i not in holdOutCol]\n",
    "withNamesAttributsDf = (GetNextJsonLayer\n",
    "                        .createNextLayerTable(deltagerAttributterWithValuesDf,vaerdiCols,holdOutCol[0])\n",
    "                        .drop(\"sidstOpdateret\")\n",
    "                       )\n",
    "#deltagerAttWithValsAndPeriodDf = GetNextJsonLayer.expandSubCols(df=deltagerAttributterWithValuesDf,mainColumn=\"periode\")\n",
    "#deltagerAttributterDf.columns\n"
   ]
  },
  {
   "cell_type": "code",
   "execution_count": 6,
   "metadata": {
    "collapsed": false,
    "scrolled": true
   },
   "outputs": [],
   "source": [
    "#withNamesAttributsDf.show(truncate=False)"
   ]
  },
  {
   "cell_type": "code",
   "execution_count": 7,
   "metadata": {
    "collapsed": false
   },
   "outputs": [],
   "source": [
    "holdtoCols = [\"enhedsNummer\",\"enhedstype\",\"navne\",\"stilling\"]\n",
    "delVirkRelDf = (GetNextJsonLayer\n",
    "                .createNextLayerTable(df,holdtoCols,\"virksomhedSummariskRelation\",\"deltager\")\n",
    "                .withColumnRenamed(existing=\"enhedsNummer\",new=\"personEnhedsNummer\")\n",
    "                .withColumnRenamed(existing=\"enhedstype\",new=\"personEnhedstype\")\n",
    "                .withColumnRenamed(existing=\"stilling\",new=\"personStilling\")\n",
    "                .withColumnRenamed(existing=\"navne\",new=\"personNavne\")\n",
    "                .drop(\"organisationer\")\n",
    "               )"
   ]
  },
  {
   "cell_type": "code",
   "execution_count": 8,
   "metadata": {
    "collapsed": false,
    "scrolled": true
   },
   "outputs": [
    {
     "name": "stdout",
     "output_type": "stream",
     "text": [
      "+------------------+----------------+----------------------------------------+--------------+---------------------------------------------------------------------------------------------------------------------------------------------------------------------------------------------------------------------------------------------------------------------------------------------------------------------------------------------------------------------------------------------------------------------------------------------------------------------------------------------------------------------------------------------------------------------------------------------------------------------------------------------------------------------------------------------------------------------------------------------------------------------------------------------------------------------------------------------------------------------------------------------------------------------------------------------------------------------------------------------------------------------------------------------------------------------------------------------------------------------------------------+\n",
      "|personEnhedsNummer|personEnhedstype|personNavne                             |personStilling|virksomhed                                                                                                                                                                                                                                                                                                                                                                                                                                                                                                                                                                                                                                                                                                                                                                                                                                                                                                                                                                                                                                                                                                                             |\n",
      "+------------------+----------------+----------------------------------------+--------------+---------------------------------------------------------------------------------------------------------------------------------------------------------------------------------------------------------------------------------------------------------------------------------------------------------------------------------------------------------------------------------------------------------------------------------------------------------------------------------------------------------------------------------------------------------------------------------------------------------------------------------------------------------------------------------------------------------------------------------------------------------------------------------------------------------------------------------------------------------------------------------------------------------------------------------------------------------------------------------------------------------------------------------------------------------------------------------------------------------------------------------------+\n",
      "|4000201845        |PERSON          |[[Ulrik Sindal Sørensen,null]]          |null          |[14222979,4000873375,VIRKSOMHED,false,WrappedArray([[1990-06-01,2011-12-31],1999-10-16T17:49:52.000+02:00]),WrappedArray([ULRIKS VINDUESPOLERING OG         RENGØRING                         V/ULRIK SINDAL SØRENSEN,[1990-06-01,2011-12-31],2013-11-22T19:12:17.000+01:00]),WrappedArray(),2015-06-24T13:00:21.307+02:00,WrappedArray(),WrappedArray([T&S,ENK,Enkeltmandsvirksomhed,[1990-06-01,2011-12-31],2013-11-22T19:00:13.000+01:00,10]),WrappedArray()]                                                                                                                                                                                                                                                                                                                                                                                                                                                                                                                                                                                                                                                                       |\n",
      "|4004119836        |PERSON          |[[Munte Malou Tina Herløv Cordrey,null]]|Kasserer      |[27733123,4001457636,VIRKSOMHED,false,WrappedArray([[2004-05-06,2009-08-17],2004-05-11T10:55:40.000+02:00]),WrappedArray([AMPU 1 ApS,[2004-06-16,2009-08-17],2013-11-22T19:12:17.000+01:00], [ApS KBIL 17 NR. 1826,[2004-05-06,2004-06-15],2004-05-11T10:56:12.000+02:00]),WrappedArray(),2015-06-25T13:10:55.286+02:00,WrappedArray(),WrappedArray([E&S,APS,Anpartsselskab,[2004-05-06,2009-08-17],2013-11-22T19:00:13.000+01:00,80]),WrappedArray([[2004-05-06,2008-08-24],2015-02-09T21:00:00.000+01:00,NORMAL], [[2008-08-25,2009-08-16],2015-02-09T21:00:00.000+01:00,UNDER TVANGSOPLØSNING], [[2009-08-17,2009-08-17],2015-02-09T21:00:00.000+01:00,TVANGSOPLØST])]                                                                                                                                                                                                                                                                                                                                                                                                                                                              |\n",
      "|4000562568        |PERSON          |[[Mette Bruun Christensen,null]]        |Pædagog       |[29552932,4001580288,VIRKSOMHED,false,WrappedArray([[2006-06-01,2007-08-31],2006-06-13T12:40:20.000+02:00]),WrappedArray([Terapien v/Mette Bruun Christensen,[2006-06-01,2007-08-31],2013-11-22T19:12:17.000+01:00]),WrappedArray(),2015-06-24T00:55:48.572+02:00,WrappedArray(),WrappedArray([T&S,ENK,Enkeltmandsvirksomhed,[2006-06-01,2007-08-31],2013-11-22T19:00:13.000+01:00,10]),WrappedArray()]                                                                                                                                                                                                                                                                                                                                                                                                                                                                                                                                                                                                                                                                                                                                |\n",
      "|4000078388        |PERSON          |[[Kim Bergensol Corto Andersen,null]]   |null          |[20083670,4001021649,VIRKSOMHED,false,WrappedArray([[1997-06-19,2000-09-30],1999-10-16T19:50:03.000+02:00], [[2008-08-20,2012-12-31],2008-10-07T12:03:24.000+02:00], [[2015-10-01,null],2015-08-12T11:11:57.000+02:00]),WrappedArray([KIM ANDERSEN,[1997-06-19,2008-08-19],2013-11-22T22:09:56.000+01:00], [Lyset i Livet v/Kim Andersen,[2008-08-20,2012-12-31],2013-11-22T22:12:17.000+01:00], [Bergensol,[2015-10-01,null],2015-08-12T11:11:57.000+02:00]),WrappedArray(),2015-08-12T11:12:08.938+02:00,WrappedArray(),WrappedArray([T&S,ENK,Enkeltmandsvirksomhed,[1997-06-19,2012-12-31],2013-11-22T22:00:13.000+01:00,10], [T&S,ENK,Enkeltmandsvirksomhed,[2015-10-01,null],2015-08-12T11:11:57.000+02:00,10]),WrappedArray()]                                                                                                                                                                                                                                                                                                                                                                                                   |\n",
      "|4000560418        |PERSON          |[[Trine Byrgesen Nielsen,null]]         |null          |[29485232,4001565256,VIRKSOMHED,false,WrappedArray([[2006-05-01,2008-02-21],2008-02-29T07:05:06.000+01:00]),WrappedArray([Byens-Rengøringsservice I/S v/Trine Nielsen & Jesper Nielsen,[2006-05-01,2008-02-21],2013-11-22T19:12:17.000+01:00]),WrappedArray(),2015-06-24T00:59:40.024+02:00,WrappedArray(),WrappedArray([T&S,I/S,Interessentskab,[2006-05-01,2008-02-21],2013-11-22T19:00:13.000+01:00,30]),WrappedArray()]                                                                                                                                                                                                                                                                                                                                                                                                                                                                                                                                                                                                                                                                                                            |\n",
      "|4000103042        |PERSON          |[[Lissi Marthin,null]]                  |null          |[13607400,4000856627,VIRKSOMHED,false,WrappedArray([[1981-01-01,2007-02-28],1999-10-16T17:49:51.000+02:00]),WrappedArray([Marthin Pels Design v/Rita Marthin,[2007-02-06,2007-02-28],2013-11-22T19:12:17.000+01:00], [Skindstudiet Marthin Pels En Gros v/Lissi Marthin,[1981-01-01,2000-11-07],2000-11-08T04:26:03.000+01:00], [Marthin Pels Design v/Lissi Marthin,[2000-11-08,2007-02-04],2000-11-08T04:26:05.000+01:00], [Marthin Pels Design v/Rita Mathin,[2007-02-05,2007-02-05],2007-02-07T11:35:57.000+01:00]),WrappedArray(),2015-06-24T17:20:49.623+02:00,WrappedArray(),WrappedArray([T&S,ENK,Enkeltmandsvirksomhed,[1981-01-01,2007-02-28],2013-11-22T19:00:13.000+01:00,10]),WrappedArray()]                                                                                                                                                                                                                                                                                                                                                                                                                             |\n",
      "|4003996076        |PERSON          |[[Arne Kirkeby,null]]                   |Afd fuldm     |[17172212,4000945369,VIRKSOMHED,false,WrappedArray([[1964-04-21,2015-05-26],2015-07-08T15:52:18.000+02:00]),WrappedArray([DFDS PENSIONSKASSE,[1964-04-21,2015-05-26],2015-07-08T15:52:18.000+02:00]),WrappedArray([[1992-01-01,1999-10-18],VIR209787,2015-02-10T00:00:00.000+01:00]),2015-07-08T15:52:45.651+02:00,WrappedArray(),WrappedArray([T&S,FOR,Forening,[1964-04-21,2002-11-26],2013-11-22T21:57:52.000+01:00,110], [E&S,FIV,Særlig finansiel virksomhed,[2002-11-27,2015-05-26],2015-07-08T15:52:18.000+02:00,285]),WrappedArray([[1992-01-01,2014-12-02],2015-02-10T00:00:00.000+01:00,NORMAL], [[2014-12-03,2015-05-25],2015-07-08T15:52:17.000+02:00,UNDER FRIVILLIG LIKVIDATION], [[2015-05-26,2015-05-26],2015-07-08T15:52:18.000+02:00,OPLØST EFTER FRIVILLIG LIKVIDATION])]                                                                                                                                                                                                                                                                                                                                           |\n",
      "|4003996076        |PERSON          |[[Arne Kirkeby,null]]                   |Afd fuldm     |[12669216,4000842325,VIRKSOMHED,false,WrappedArray([[1992-05-26,2005-06-13],1999-10-16T17:49:50.000+02:00]),WrappedArray([J. LAURITZEN A/S'S PENSIONSKASSE. AFVIKLINGSKASSE,[1992-05-26,2005-06-13],2013-11-22T19:12:17.000+01:00]),WrappedArray([[1992-05-26,1999-10-18],VIR209750,2015-02-09T21:00:00.000+01:00]),2015-06-25T04:32:32.420+02:00,WrappedArray(),WrappedArray([E&S,UOP,Uoplyst virksomhedsform,[1992-05-26,2005-06-13],2013-11-22T19:00:13.000+01:00,990]),WrappedArray([[1992-05-26,2005-06-12],2015-02-09T21:00:00.000+01:00,NORMAL], [[2005-06-13,2005-06-13],2015-02-09T21:00:00.000+01:00,SLETTET])]                                                                                                                                                                                                                                                                                                                                                                                                                                                                                                              |\n",
      "|4000696805        |PERSON          |[[Christina Irmgard Hjort,null]]        |null          |[33411847,4001835473,VIRKSOMHED,false,WrappedArray([[2011-01-01,2011-03-31],2011-02-15T09:19:30.000+01:00]),WrappedArray([Klinik Kamille v/Christina Irmgard Hjort,[2011-01-01,2011-03-31],2013-11-22T19:12:17.000+01:00]),WrappedArray(),2015-06-24T14:30:42.793+02:00,WrappedArray(),WrappedArray([T&S,ENK,Enkeltmandsvirksomhed,[2011-01-01,2011-03-31],2013-11-22T19:00:13.000+01:00,10]),WrappedArray()]                                                                                                                                                                                                                                                                                                                                                                                                                                                                                                                                                                                                                                                                                                                          |\n",
      "|4004156000        |PERSON          |[[Dan Klein Jensen,null]]               |null          |[29415455,4001560713,VIRKSOMHED,false,WrappedArray([[2006-03-16,2007-08-15],2006-03-16T08:37:50.000+01:00]),WrappedArray([ZITRO ApS,[2006-03-16,2007-08-15],2013-11-22T19:12:17.000+01:00]),WrappedArray(),2015-06-25T10:49:06.631+02:00,WrappedArray(),WrappedArray([E&S,APS,Anpartsselskab,[2006-03-16,2007-08-15],2013-11-22T19:00:13.000+01:00,80]),WrappedArray([[2006-03-16,2006-12-19],2015-02-09T21:00:00.000+01:00,NORMAL], [[2006-12-20,2007-08-14],2015-02-09T21:00:00.000+01:00,UNDER FRIVILLIG LIKVIDATION], [[2007-08-15,2007-08-15],2015-02-09T21:00:00.000+01:00,OPLØST EFTER FRIVILLIG LIKVIDATION])]                                                                                                                                                                                                                                                                                                                                                                                                                                                                                                                 |\n",
      "|4000709918        |PERSON          |[[Jacob Pilegaard,null]]                |null          |[33808577,4001863635,VIRKSOMHED,false,WrappedArray([[2011-10-01,2014-05-31],2014-05-31T20:30:49.000+02:00]),WrappedArray([pilegaardconsulting v/Jacob Pilegaard,[2011-10-01,2014-05-31],2014-05-31T20:30:49.000+02:00]),WrappedArray(),2015-06-24T11:48:18.565+02:00,WrappedArray(),WrappedArray([T&S,ENK,Enkeltmandsvirksomhed,[2011-10-01,2014-05-31],2014-05-31T20:30:49.000+02:00,10]),WrappedArray()]                                                                                                                                                                                                                                                                                                                                                                                                                                                                                                                                                                                                                                                                                                                             |\n",
      "|4004092700        |PERSON          |[[Jeanne le Sage de Fontenay,null]]     |Musikpædagog  |[26498201,4001370180,VIRKSOMHED,false,WrappedArray([[2002-02-22,2008-03-26],2002-03-07T10:19:42.000+01:00]),WrappedArray([AFVIKLINGSSELSKABET AF 6/1 2005   A/S,[2005-01-04,2008-03-26],2013-11-22T19:12:17.000+01:00], [SØNDERJYSK SKOLEFOTO A/S,[2002-02-22,2005-01-03],2002-03-19T04:51:21.000+01:00]),WrappedArray(),2015-06-25T11:40:39.083+02:00,WrappedArray([3,[2005-01-19,2008-03-26],2013-11-22T19:01:37.000+01:00,1]),WrappedArray([E&S,A/S,Aktieselskab,[2002-02-22,2008-03-26],2013-11-22T19:00:13.000+01:00,60]),WrappedArray([[2002-02-22,2005-01-12],2015-02-09T21:00:00.000+01:00,NORMAL], [[2005-01-13,2008-03-25],2015-02-09T21:00:00.000+01:00,UNDER KONKURS], [[2008-03-26,2008-03-26],2015-02-09T21:00:00.000+01:00,OPLØST EFTER KONKURS])]                                                                                                                                                                                                                                                                                                                                                                      |\n",
      "|4000457798        |PERSON          |[[Lene Schonnings,null]]                |null          |[27014097,4001393755,VIRKSOMHED,false,WrappedArray([[2003-03-01,2015-04-30],2015-04-07T08:10:11.000+02:00]),WrappedArray([Lene Schonnings/ Teknisk Dokumentation,[2003-03-01,2015-04-30],2015-04-07T08:10:11.000+02:00]),WrappedArray(),2015-06-24T05:28:32.779+02:00,WrappedArray(),WrappedArray([T&S,ENK,Enkeltmandsvirksomhed,[2003-03-01,2015-04-30],2015-04-07T08:10:11.000+02:00,10]),WrappedArray()]                                                                                                                                                                                                                                                                                                                                                                                                                                                                                                                                                                                                                                                                                                                            |\n",
      "|4000457798        |PERSON          |[[Lene Schonnings,null]]                |null          |[29743797,4001595738,VIRKSOMHED,false,WrappedArray([[2006-09-01,2006-09-01],2006-09-12T12:08:22.000+02:00]),WrappedArray([Nordvesten I/S v/Lene Schonnings & Kim Nielsen,[2006-09-01,2006-09-01],2013-11-22T19:12:17.000+01:00]),WrappedArray(),2015-06-24T07:10:14.491+02:00,WrappedArray(),WrappedArray([T&S,I/S,Interessentskab,[2006-09-01,2006-09-01],2013-11-22T19:00:13.000+01:00,30]),WrappedArray()]                                                                                                                                                                                                                                                                                                                                                                                                                                                                                                                                                                                                                                                                                                                          |\n",
      "|4000408635        |PERSON          |[[Ragnhild Vestergaard Pedersen,null]]  |Smørrebr jfr  |[26299632,4001342872,VIRKSOMHED,false,WrappedArray([[2001-12-01,2014-12-30],2015-01-16T10:03:38.000+01:00]),WrappedArray([Café Vaffelhuset,[2013-04-01,2014-12-30],2015-01-16T10:03:38.000+01:00], [Strandvejens Kiosk                Ragnhild Pedersen,[2001-12-01,2005-10-06],2013-11-22T19:09:56.000+01:00], [Strandvejens Kiosk/Vaffelbageriet v/Ragnhild Pedersen,[2005-10-07,2006-05-14],2005-10-11T07:48:06.000+02:00], [Vaffelbageriet v/Ragnhild Pedersen,[2006-05-15,2007-05-07],2006-06-01T07:47:25.000+02:00], [Torvegrillen v/Ragnhild Pedersen,[2007-05-08,2007-05-17],2007-05-14T05:13:39.000+02:00], [Vaffelbageriet / Torvegrillen v/Ragnhild Pedersen,[2007-05-18,2008-12-31],2007-05-18T07:33:35.000+02:00], [Vaffelbageriet,[2009-01-01,2013-03-31],2008-12-17T12:47:56.000+01:00]),WrappedArray(),2015-06-24T14:02:13.234+02:00,WrappedArray(),WrappedArray([T&S,ENK,Enkeltmandsvirksomhed,[2001-12-01,2014-12-30],2015-01-16T10:03:38.000+01:00,10]),WrappedArray()]                                                                                                                                             |\n",
      "|4000611422        |PERSON          |[[Dagmar Renate Uhlenfeldt,null]]       |null          |[30950755,4001686004,VIRKSOMHED,false,WrappedArray([[2007-09-01,2009-04-07],2007-12-11T10:33:23.000+01:00]),WrappedArray([Hundekennel v/Dagmar Renate Uhlenfeldt,[2007-09-01,2009-04-07],2013-11-22T19:12:17.000+01:00]),WrappedArray(),2015-06-24T07:33:59.657+02:00,WrappedArray(),WrappedArray([T&S,ENK,Enkeltmandsvirksomhed,[2007-09-01,2009-04-07],2013-11-22T19:00:13.000+01:00,10]),WrappedArray()]                                                                                                                                                                                                                                                                                                                                                                                                                                                                                                                                                                                                                                                                                                                            |\n",
      "|4000269638        |PERSON          |[[Brian Mortensen,null]]                |null          |[21531499,4001088105,VIRKSOMHED,false,WrappedArray([[1999-04-01,2001-03-31],1999-10-16T17:50:08.000+02:00], [[2006-02-01,2007-01-31],2006-01-25T09:53:16.000+01:00], [[2010-07-01,2011-04-30],2010-07-02T09:23:25.000+02:00]),WrappedArray([Mediepusheren.com v/ Brian Mortensen,[2010-07-01,2011-04-30],2013-11-22T19:12:17.000+01:00], [Twozero Websolutions              v/Brian Mortensen,[1999-04-01,2001-03-30],2001-04-02T13:27:47.000+02:00], [Hr. Brian Mortensen,[2001-03-31,2006-01-31],2001-04-02T13:27:50.000+02:00], [FairHosting v/ Brian Mortensen,[2006-02-01,2006-11-21],2006-01-25T09:53:16.000+01:00], [twozero.biz  v/ Brian Mortensen,[2006-11-22,2010-06-30],2006-11-27T06:58:08.000+01:00]),WrappedArray(),2015-06-24T02:31:53.202+02:00,WrappedArray(),WrappedArray([T&S,ENK,Enkeltmandsvirksomhed,[1999-04-01,2011-04-30],2013-11-22T19:00:13.000+01:00,10]),WrappedArray()]                                                                                                                                                                                                                                 |\n",
      "|4004131896        |PERSON          |[[Tove Cortnum Poulsen,null]]           |Dekoratør     |[31070392,4001676150,VIRKSOMHED,false,WrappedArray([[2007-11-26,2011-08-30],2007-11-26T12:00:28.000+01:00]),WrappedArray([CORTNUM INVEST ApS,[2007-11-26,2011-08-30],2013-11-22T19:12:17.000+01:00]),WrappedArray(),2015-06-24T22:14:35.152+02:00,WrappedArray(),WrappedArray([E&S,APS,Anpartsselskab,[2007-11-26,2011-08-30],2013-11-22T19:00:13.000+01:00,80]),WrappedArray([[2007-11-26,2011-08-29],2015-02-09T21:00:00.000+01:00,NORMAL], [[2011-08-30,2011-08-30],2015-02-09T21:00:00.000+01:00,OPLØST EFTER ERKLÆRING])]                                                                                                                                                                                                                                                                                                                                                                                                                                                                                                                                                                                                         |\n",
      "|4004020600        |PERSON          |[[Annette Præstmark,null]]              |Ergoterapeut  |[26269075,4001338782,VIRKSOMHED,false,WrappedArray([[2001-10-03,2006-01-26],2001-10-12T09:18:40.000+02:00]),WrappedArray([INTERACTIVE VISION HOLDING A/S,[2001-11-07,2006-01-26],2013-11-22T19:12:17.000+01:00], [INTERACTIVE VISION HOLDING A/S    UNDER STIFTELSE,[2001-10-03,2001-11-06],2013-11-22T19:09:56.000+01:00]),WrappedArray(),2015-06-25T03:21:13.080+02:00,WrappedArray(),WrappedArray([E&S,A/S,Aktieselskab,[2001-11-07,2006-01-26],2013-11-22T19:00:13.000+01:00,60], [E&S,EUO,Enhed under oprettelse i Erhvervsstyrelsen,[2001-10-03,2001-11-06],2013-11-22T18:57:52.000+01:00,270]),WrappedArray([[2001-10-03,2005-08-22],2015-02-09T21:00:00.000+01:00,NORMAL], [[2005-08-23,2006-01-25],2015-02-09T21:00:00.000+01:00,UNDER TVANGSOPLØSNING], [[2006-01-26,2006-01-26],2015-02-09T21:00:00.000+01:00,TVANGSOPLØST])]                                                                                                                                                                                                                                                                                               |\n",
      "|4004020600        |PERSON          |[[Annette Præstmark,null]]              |Ergoterapeut  |[17379038,4000944771,VIRKSOMHED,false,WrappedArray([[1993-11-01,2011-09-16],1999-10-16T17:49:57.000+02:00]),WrappedArray([AFVIKLINGSSELSKABET AF 4. MARTS   2005 A/S,[2005-03-04,2011-09-16],2013-11-22T19:12:17.000+01:00], [INTERACTIVE VISION A/S,[1999-04-24,2005-03-03],2015-03-18T21:00:00.000+01:00], [INTERACTIVISION A/S AF 1/11 1993,[1993-11-01,1999-01-08],2015-03-18T21:00:00.000+01:00], [INTERACTI VISION A/S,[1999-01-09,1999-04-23],2015-03-18T21:00:00.000+01:00]),WrappedArray([[1993-11-01,1999-10-18],A/S214967,2015-02-09T21:00:00.000+01:00]),2015-06-25T18:26:59.543+02:00,WrappedArray([3,[2011-07-22,2011-09-16],2013-11-22T19:01:37.000+01:00,3], [3,[2005-04-21,2010-12-16],2008-12-10T16:33:22.000+01:00,1], [3,[2010-12-17,2011-07-21],2010-12-17T11:43:02.000+01:00,5]),WrappedArray([E&S,A/S,Aktieselskab,[1993-11-01,2011-09-16],2013-11-22T19:00:13.000+01:00,60]),WrappedArray([[1993-11-01,2005-04-04],2015-02-09T21:00:00.000+01:00,NORMAL], [[2005-04-05,2011-09-15],2015-02-09T21:00:00.000+01:00,UNDER KONKURS], [[2011-09-16,2011-09-16],2015-02-09T21:00:00.000+01:00,OPLØST EFTER KONKURS])]|\n",
      "+------------------+----------------+----------------------------------------+--------------+---------------------------------------------------------------------------------------------------------------------------------------------------------------------------------------------------------------------------------------------------------------------------------------------------------------------------------------------------------------------------------------------------------------------------------------------------------------------------------------------------------------------------------------------------------------------------------------------------------------------------------------------------------------------------------------------------------------------------------------------------------------------------------------------------------------------------------------------------------------------------------------------------------------------------------------------------------------------------------------------------------------------------------------------------------------------------------------------------------------------------------------+\n",
      "only showing top 20 rows\n",
      "\n",
      "root\n",
      " |-- personEnhedsNummer: long (nullable = true)\n",
      " |-- personEnhedstype: string (nullable = true)\n",
      " |-- personNavne: array (nullable = true)\n",
      " |    |-- element: struct (containsNull = true)\n",
      " |    |    |-- navn: string (nullable = true)\n",
      " |    |    |-- sidstOpdateret: string (nullable = true)\n",
      " |-- personStilling: string (nullable = true)\n",
      " |-- virksomhed: struct (nullable = true)\n",
      " |    |-- cvrNummer: long (nullable = true)\n",
      " |    |-- enhedsNummer: long (nullable = true)\n",
      " |    |-- enhedstype: string (nullable = true)\n",
      " |    |-- fejlRegistreret: boolean (nullable = true)\n",
      " |    |-- livsforloeb: array (nullable = true)\n",
      " |    |    |-- element: struct (containsNull = true)\n",
      " |    |    |    |-- periode: struct (nullable = true)\n",
      " |    |    |    |    |-- gyldigFra: string (nullable = true)\n",
      " |    |    |    |    |-- gyldigTil: string (nullable = true)\n",
      " |    |    |    |-- sidstOpdateret: string (nullable = true)\n",
      " |    |-- navne: array (nullable = true)\n",
      " |    |    |-- element: struct (containsNull = true)\n",
      " |    |    |    |-- navn: string (nullable = true)\n",
      " |    |    |    |-- periode: struct (nullable = true)\n",
      " |    |    |    |    |-- gyldigFra: string (nullable = true)\n",
      " |    |    |    |    |-- gyldigTil: string (nullable = true)\n",
      " |    |    |    |-- sidstOpdateret: string (nullable = true)\n",
      " |    |-- regNummer: array (nullable = true)\n",
      " |    |    |-- element: struct (containsNull = true)\n",
      " |    |    |    |-- periode: struct (nullable = true)\n",
      " |    |    |    |    |-- gyldigFra: string (nullable = true)\n",
      " |    |    |    |    |-- gyldigTil: string (nullable = true)\n",
      " |    |    |    |-- regnummer: string (nullable = true)\n",
      " |    |    |    |-- sidstOpdateret: string (nullable = true)\n",
      " |    |-- sidstIndlaest: string (nullable = true)\n",
      " |    |-- status: array (nullable = true)\n",
      " |    |    |-- element: struct (containsNull = true)\n",
      " |    |    |    |-- kreditoplysningkode: long (nullable = true)\n",
      " |    |    |    |-- periode: struct (nullable = true)\n",
      " |    |    |    |    |-- gyldigFra: string (nullable = true)\n",
      " |    |    |    |    |-- gyldigTil: string (nullable = true)\n",
      " |    |    |    |-- sidstOpdateret: string (nullable = true)\n",
      " |    |    |    |-- statuskode: long (nullable = true)\n",
      " |    |-- virksomhedsform: array (nullable = true)\n",
      " |    |    |-- element: struct (containsNull = true)\n",
      " |    |    |    |-- ansvarligDataleverandoer: string (nullable = true)\n",
      " |    |    |    |-- kortBeskrivelse: string (nullable = true)\n",
      " |    |    |    |-- langBeskrivelse: string (nullable = true)\n",
      " |    |    |    |-- periode: struct (nullable = true)\n",
      " |    |    |    |    |-- gyldigFra: string (nullable = true)\n",
      " |    |    |    |    |-- gyldigTil: string (nullable = true)\n",
      " |    |    |    |-- sidstOpdateret: string (nullable = true)\n",
      " |    |    |    |-- virksomhedsformkode: long (nullable = true)\n",
      " |    |-- virksomhedsstatus: array (nullable = true)\n",
      " |    |    |-- element: struct (containsNull = true)\n",
      " |    |    |    |-- periode: struct (nullable = true)\n",
      " |    |    |    |    |-- gyldigFra: string (nullable = true)\n",
      " |    |    |    |    |-- gyldigTil: string (nullable = true)\n",
      " |    |    |    |-- sidstOpdateret: string (nullable = true)\n",
      " |    |    |    |-- status: string (nullable = true)\n",
      "\n"
     ]
    }
   ],
   "source": [
    "delVirkRelDf.show(20,truncate=False)\n",
    "delVirkRelDf.printSchema()"
   ]
  },
  {
   "cell_type": "code",
   "execution_count": null,
   "metadata": {
    "collapsed": false
   },
   "outputs": [],
   "source": [
    "lenUdf = F.udf(lambda x: len(x),IntegerType())\n",
    "\n",
    "delVirkRelDf.select(\"personNavne\",lenUdf(F.col(\"personNavne\")).alias(\"length\")).orderBy(F.col(\"length\").asc()).show()"
   ]
  },
  {
   "cell_type": "code",
   "execution_count": 10,
   "metadata": {
    "collapsed": false
   },
   "outputs": [
    {
     "ename": "AnalysisException",
     "evalue": "'Cannot resolve column name \"firmaNavne\" among (personEnhedsNummer, personEnhedstype, personStilling, virksomhed_cvrNummer, virksomhed_enhedsNummer, virksomhed_enhedstype, virksomhed_fejlRegistreret, virksomhed_livsforloeb, virksomhed_navne, virksomhed_regNummer, virksomhed_sidstIndlaest, virksomhed_status, virksomhed_virksomhedsform, virksomhed_virksomhedsstatus, personNavn);'",
     "output_type": "error",
     "traceback": [
      "\u001b[0;31m---------------------------------------------------------------------------\u001b[0m",
      "\u001b[0;31mPy4JJavaError\u001b[0m                             Traceback (most recent call last)",
      "\u001b[0;32m/usr/local/share/spark/python/pyspark/sql/utils.py\u001b[0m in \u001b[0;36mdeco\u001b[0;34m(*a, **kw)\u001b[0m\n\u001b[1;32m     62\u001b[0m         \u001b[0;32mtry\u001b[0m\u001b[0;34m:\u001b[0m\u001b[0;34m\u001b[0m\u001b[0m\n\u001b[0;32m---> 63\u001b[0;31m             \u001b[0;32mreturn\u001b[0m \u001b[0mf\u001b[0m\u001b[0;34m(\u001b[0m\u001b[0;34m*\u001b[0m\u001b[0ma\u001b[0m\u001b[0;34m,\u001b[0m \u001b[0;34m**\u001b[0m\u001b[0mkw\u001b[0m\u001b[0;34m)\u001b[0m\u001b[0;34m\u001b[0m\u001b[0m\n\u001b[0m\u001b[1;32m     64\u001b[0m         \u001b[0;32mexcept\u001b[0m \u001b[0mpy4j\u001b[0m\u001b[0;34m.\u001b[0m\u001b[0mprotocol\u001b[0m\u001b[0;34m.\u001b[0m\u001b[0mPy4JJavaError\u001b[0m \u001b[0;32mas\u001b[0m \u001b[0me\u001b[0m\u001b[0;34m:\u001b[0m\u001b[0;34m\u001b[0m\u001b[0m\n",
      "\u001b[0;32m/usr/local/share/spark/python/lib/py4j-0.10.1-src.zip/py4j/protocol.py\u001b[0m in \u001b[0;36mget_return_value\u001b[0;34m(answer, gateway_client, target_id, name)\u001b[0m\n\u001b[1;32m    311\u001b[0m                     \u001b[0;34m\"An error occurred while calling {0}{1}{2}.\\n\"\u001b[0m\u001b[0;34m.\u001b[0m\u001b[0;34m\u001b[0m\u001b[0m\n\u001b[0;32m--> 312\u001b[0;31m                     format(target_id, \".\", name), value)\n\u001b[0m\u001b[1;32m    313\u001b[0m             \u001b[0;32melse\u001b[0m\u001b[0;34m:\u001b[0m\u001b[0;34m\u001b[0m\u001b[0m\n",
      "\u001b[0;31mPy4JJavaError\u001b[0m: An error occurred while calling o282.apply.\n: org.apache.spark.sql.AnalysisException: Cannot resolve column name \"firmaNavne\" among (personEnhedsNummer, personEnhedstype, personStilling, virksomhed_cvrNummer, virksomhed_enhedsNummer, virksomhed_enhedstype, virksomhed_fejlRegistreret, virksomhed_livsforloeb, virksomhed_navne, virksomhed_regNummer, virksomhed_sidstIndlaest, virksomhed_status, virksomhed_virksomhedsform, virksomhed_virksomhedsstatus, personNavn);\n\tat org.apache.spark.sql.Dataset$$anonfun$resolve$1.apply(Dataset.scala:220)\n\tat org.apache.spark.sql.Dataset$$anonfun$resolve$1.apply(Dataset.scala:220)\n\tat scala.Option.getOrElse(Option.scala:121)\n\tat org.apache.spark.sql.Dataset.resolve(Dataset.scala:219)\n\tat org.apache.spark.sql.Dataset.col(Dataset.scala:921)\n\tat org.apache.spark.sql.Dataset.apply(Dataset.scala:908)\n\tat sun.reflect.GeneratedMethodAccessor61.invoke(Unknown Source)\n\tat sun.reflect.DelegatingMethodAccessorImpl.invoke(DelegatingMethodAccessorImpl.java:43)\n\tat java.lang.reflect.Method.invoke(Method.java:498)\n\tat py4j.reflection.MethodInvoker.invoke(MethodInvoker.java:237)\n\tat py4j.reflection.ReflectionEngine.invoke(ReflectionEngine.java:357)\n\tat py4j.Gateway.invoke(Gateway.java:280)\n\tat py4j.commands.AbstractCommand.invokeMethod(AbstractCommand.java:128)\n\tat py4j.commands.CallCommand.execute(CallCommand.java:79)\n\tat py4j.GatewayConnection.run(GatewayConnection.java:211)\n\tat java.lang.Thread.run(Thread.java:745)\n",
      "\nDuring handling of the above exception, another exception occurred:\n",
      "\u001b[0;31mAnalysisException\u001b[0m                         Traceback (most recent call last)",
      "\u001b[0;32m<ipython-input-10-8d73163761a8>\u001b[0m in \u001b[0;36m<module>\u001b[0;34m()\u001b[0m\n\u001b[1;32m     27\u001b[0m \u001b[0mnamesCol\u001b[0m \u001b[0;34m=\u001b[0m \u001b[0;34m[\u001b[0m\u001b[0mi\u001b[0m \u001b[0;32mfor\u001b[0m \u001b[0mi\u001b[0m \u001b[0;32min\u001b[0m \u001b[0mdelVirkRelWithPerNamDf\u001b[0m\u001b[0;34m.\u001b[0m\u001b[0mcolumns\u001b[0m \u001b[0;32mif\u001b[0m \u001b[0mi\u001b[0m \u001b[0;32mnot\u001b[0m \u001b[0;32min\u001b[0m \u001b[0mholdOutCol\u001b[0m\u001b[0;34m]\u001b[0m\u001b[0;34m\u001b[0m\u001b[0m\n\u001b[1;32m     28\u001b[0m delVirkRelWithVirkNamDf = (GetNextJsonLayer\n\u001b[0;32m---> 29\u001b[0;31m                            \u001b[0;34m.\u001b[0m\u001b[0mcreateNextLayerTable\u001b[0m\u001b[0;34m(\u001b[0m\u001b[0mdelVirkRelWithPerNamDf\u001b[0m\u001b[0;34m,\u001b[0m\u001b[0mnamesCol\u001b[0m\u001b[0;34m,\u001b[0m\u001b[0mholdOutCol\u001b[0m\u001b[0;34m[\u001b[0m\u001b[0;36m0\u001b[0m\u001b[0;34m]\u001b[0m\u001b[0;34m)\u001b[0m\u001b[0;34m\u001b[0m\u001b[0m\n\u001b[0m\u001b[1;32m     30\u001b[0m                            \u001b[0;34m.\u001b[0m\u001b[0mdrop\u001b[0m\u001b[0;34m(\u001b[0m\u001b[0;34m\"sidstOpdateret\"\u001b[0m\u001b[0;34m)\u001b[0m\u001b[0;34m\u001b[0m\u001b[0m\n\u001b[1;32m     31\u001b[0m                            \u001b[0;34m.\u001b[0m\u001b[0mdrop\u001b[0m\u001b[0;34m(\u001b[0m\u001b[0;34m\"periode\"\u001b[0m\u001b[0;34m)\u001b[0m\u001b[0;34m\u001b[0m\u001b[0m\n",
      "\u001b[0;32m/home/svanhmic/workspace/Python/Erhvervs/src/cvr/GetNextJsonLayer.py\u001b[0m in \u001b[0;36mcreateNextLayerTable\u001b[0;34m(df, nonExplodedColumns, explodedColumn, *nonExplodedPrefix)\u001b[0m\n\u001b[1;32m     29\u001b[0m     \u001b[0;32melse\u001b[0m\u001b[0;34m:\u001b[0m\u001b[0;34m\u001b[0m\u001b[0m\n\u001b[1;32m     30\u001b[0m         relationsDf = df.select([df[prefixedStr+v].alias(v) for v in nonExplodedColumns]+\n\u001b[0;32m---> 31\u001b[0;31m                             [F.explode(df[prefixedStr+explodedColumn]).alias(explodedColumn)])\n\u001b[0m\u001b[1;32m     32\u001b[0m \u001b[0;34m\u001b[0m\u001b[0m\n\u001b[1;32m     33\u001b[0m     \u001b[0mdfSchema\u001b[0m \u001b[0;34m=\u001b[0m \u001b[0mgetNextSchemaLayer\u001b[0m\u001b[0;34m(\u001b[0m\u001b[0mrelationsDf\u001b[0m\u001b[0;34m.\u001b[0m\u001b[0mschema\u001b[0m\u001b[0;34m,\u001b[0m\u001b[0mexplodedColumn\u001b[0m\u001b[0;34m)\u001b[0m\u001b[0;34m\u001b[0m\u001b[0m\n",
      "\u001b[0;32m/usr/local/share/spark/python/pyspark/sql/dataframe.py\u001b[0m in \u001b[0;36m__getitem__\u001b[0;34m(self, item)\u001b[0m\n\u001b[1;32m    821\u001b[0m         \"\"\"\n\u001b[1;32m    822\u001b[0m         \u001b[0;32mif\u001b[0m \u001b[0misinstance\u001b[0m\u001b[0;34m(\u001b[0m\u001b[0mitem\u001b[0m\u001b[0;34m,\u001b[0m \u001b[0mbasestring\u001b[0m\u001b[0;34m)\u001b[0m\u001b[0;34m:\u001b[0m\u001b[0;34m\u001b[0m\u001b[0m\n\u001b[0;32m--> 823\u001b[0;31m             \u001b[0mjc\u001b[0m \u001b[0;34m=\u001b[0m \u001b[0mself\u001b[0m\u001b[0;34m.\u001b[0m\u001b[0m_jdf\u001b[0m\u001b[0;34m.\u001b[0m\u001b[0mapply\u001b[0m\u001b[0;34m(\u001b[0m\u001b[0mitem\u001b[0m\u001b[0;34m)\u001b[0m\u001b[0;34m\u001b[0m\u001b[0m\n\u001b[0m\u001b[1;32m    824\u001b[0m             \u001b[0;32mreturn\u001b[0m \u001b[0mColumn\u001b[0m\u001b[0;34m(\u001b[0m\u001b[0mjc\u001b[0m\u001b[0;34m)\u001b[0m\u001b[0;34m\u001b[0m\u001b[0m\n\u001b[1;32m    825\u001b[0m         \u001b[0;32melif\u001b[0m \u001b[0misinstance\u001b[0m\u001b[0;34m(\u001b[0m\u001b[0mitem\u001b[0m\u001b[0;34m,\u001b[0m \u001b[0mColumn\u001b[0m\u001b[0;34m)\u001b[0m\u001b[0;34m:\u001b[0m\u001b[0;34m\u001b[0m\u001b[0m\n",
      "\u001b[0;32m/usr/local/share/spark/python/lib/py4j-0.10.1-src.zip/py4j/java_gateway.py\u001b[0m in \u001b[0;36m__call__\u001b[0;34m(self, *args)\u001b[0m\n\u001b[1;32m    931\u001b[0m         \u001b[0manswer\u001b[0m \u001b[0;34m=\u001b[0m \u001b[0mself\u001b[0m\u001b[0;34m.\u001b[0m\u001b[0mgateway_client\u001b[0m\u001b[0;34m.\u001b[0m\u001b[0msend_command\u001b[0m\u001b[0;34m(\u001b[0m\u001b[0mcommand\u001b[0m\u001b[0;34m)\u001b[0m\u001b[0;34m\u001b[0m\u001b[0m\n\u001b[1;32m    932\u001b[0m         return_value = get_return_value(\n\u001b[0;32m--> 933\u001b[0;31m             answer, self.gateway_client, self.target_id, self.name)\n\u001b[0m\u001b[1;32m    934\u001b[0m \u001b[0;34m\u001b[0m\u001b[0m\n\u001b[1;32m    935\u001b[0m         \u001b[0;32mfor\u001b[0m \u001b[0mtemp_arg\u001b[0m \u001b[0;32min\u001b[0m \u001b[0mtemp_args\u001b[0m\u001b[0;34m:\u001b[0m\u001b[0;34m\u001b[0m\u001b[0m\n",
      "\u001b[0;32m/usr/local/share/spark/python/pyspark/sql/utils.py\u001b[0m in \u001b[0;36mdeco\u001b[0;34m(*a, **kw)\u001b[0m\n\u001b[1;32m     67\u001b[0m                                              e.java_exception.getStackTrace()))\n\u001b[1;32m     68\u001b[0m             \u001b[0;32mif\u001b[0m \u001b[0ms\u001b[0m\u001b[0;34m.\u001b[0m\u001b[0mstartswith\u001b[0m\u001b[0;34m(\u001b[0m\u001b[0;34m'org.apache.spark.sql.AnalysisException: '\u001b[0m\u001b[0;34m)\u001b[0m\u001b[0;34m:\u001b[0m\u001b[0;34m\u001b[0m\u001b[0m\n\u001b[0;32m---> 69\u001b[0;31m                 \u001b[0;32mraise\u001b[0m \u001b[0mAnalysisException\u001b[0m\u001b[0;34m(\u001b[0m\u001b[0ms\u001b[0m\u001b[0;34m.\u001b[0m\u001b[0msplit\u001b[0m\u001b[0;34m(\u001b[0m\u001b[0;34m': '\u001b[0m\u001b[0;34m,\u001b[0m \u001b[0;36m1\u001b[0m\u001b[0;34m)\u001b[0m\u001b[0;34m[\u001b[0m\u001b[0;36m1\u001b[0m\u001b[0;34m]\u001b[0m\u001b[0;34m,\u001b[0m \u001b[0mstackTrace\u001b[0m\u001b[0;34m)\u001b[0m\u001b[0;34m\u001b[0m\u001b[0m\n\u001b[0m\u001b[1;32m     70\u001b[0m             \u001b[0;32mif\u001b[0m \u001b[0ms\u001b[0m\u001b[0;34m.\u001b[0m\u001b[0mstartswith\u001b[0m\u001b[0;34m(\u001b[0m\u001b[0;34m'org.apache.spark.sql.catalyst.analysis'\u001b[0m\u001b[0;34m)\u001b[0m\u001b[0;34m:\u001b[0m\u001b[0;34m\u001b[0m\u001b[0m\n\u001b[1;32m     71\u001b[0m                 \u001b[0;32mraise\u001b[0m \u001b[0mAnalysisException\u001b[0m\u001b[0;34m(\u001b[0m\u001b[0ms\u001b[0m\u001b[0;34m.\u001b[0m\u001b[0msplit\u001b[0m\u001b[0;34m(\u001b[0m\u001b[0;34m': '\u001b[0m\u001b[0;34m,\u001b[0m \u001b[0;36m1\u001b[0m\u001b[0;34m)\u001b[0m\u001b[0;34m[\u001b[0m\u001b[0;36m1\u001b[0m\u001b[0;34m]\u001b[0m\u001b[0;34m,\u001b[0m \u001b[0mstackTrace\u001b[0m\u001b[0;34m)\u001b[0m\u001b[0;34m\u001b[0m\u001b[0m\n",
      "\u001b[0;31mAnalysisException\u001b[0m: 'Cannot resolve column name \"firmaNavne\" among (personEnhedsNummer, personEnhedstype, personStilling, virksomhed_cvrNummer, virksomhed_enhedsNummer, virksomhed_enhedstype, virksomhed_fejlRegistreret, virksomhed_livsforloeb, virksomhed_navne, virksomhed_regNummer, virksomhed_sidstIndlaest, virksomhed_status, virksomhed_virksomhedsform, virksomhed_virksomhedsstatus, personNavn);'"
     ]
    }
   ],
   "source": [
    "delCols = [i for i in delVirkRelDf.columns if i not in [\"organisationer\",\"virksomhed\"]]\n",
    "delVirkRelOrgDf =  (GetNextJsonLayer\n",
    "                    .expandSubCols(delVirkRelDf,\"virksomhed\")\n",
    "                    .drop(\"livsforloeb\")\n",
    "                    .drop(F.col(\"fejlRegistreret\"))\n",
    "                    .drop(\"virksomhedsstatus\")\n",
    "                    .drop(\"virksomhedsform\")\n",
    "                    .drop(\"sidstIndlaest\")\n",
    "                    .drop(\"status\")\n",
    "                    .drop(\"regNummer\")\n",
    "                    .withColumnRenamed(existing=\"enhedsNummer\",new=\"firmaEnhedsNummer\")\n",
    "                    .withColumnRenamed(existing=\"navne\",new=\"firmaNavne\")\n",
    "                    .withColumnRenamed(existing=\"enhedstype\",new=\"firmaEnhedstype\")\n",
    "                    .cache()\n",
    "                   )\n",
    "\n",
    "holdOutCol = [\"personNavne\"]\n",
    "namesCol = [i for i in delVirkRelOrgDf.columns if i not in holdOutCol]\n",
    "delVirkRelWithPerNamDf = (GetNextJsonLayer\n",
    "                          .createNextLayerTable(delVirkRelOrgDf,namesCol,holdOutCol[0])\n",
    "                          .drop(\"sidstOpdateret\")\n",
    "                          .withColumnRenamed(existing=\"navn\",new=\"personNavn\")\n",
    "                         )\n",
    "del holdOutCol\n",
    "del namesCol\n",
    "holdOutCol = [\"firmaNavne\"]\n",
    "namesCol = [i for i in delVirkRelWithPerNamDf.columns if i not in holdOutCol]\n",
    "delVirkRelWithVirkNamDf = (GetNextJsonLayer\n",
    "                           .createNextLayerTable(delVirkRelWithPerNamDf,namesCol,holdOutCol[0])\n",
    "                           .drop(\"sidstOpdateret\")\n",
    "                           .drop(\"periode\")\n",
    "                           .withColumnRenamed(existing=\"navn\",new=\"firmaNavn\")\n",
    "                          )\n",
    "\n",
    "delVirkRelWithVirkNamDf.show()"
   ]
  },
  {
   "cell_type": "code",
   "execution_count": 108,
   "metadata": {
    "collapsed": false
   },
   "outputs": [],
   "source": [
    "#create person to oraganisation edge \n",
    "personFirmaEdgeDf = (delVirkRelWithVirkNamDf.select(F.col(\"personEnhedsNummer\").alias(\"src\"),F.col(\"firmaEnhedsNummer\").alias(\"dst\")))"
   ]
  },
  {
   "cell_type": "code",
   "execution_count": 109,
   "metadata": {
    "collapsed": false
   },
   "outputs": [
    {
     "name": "stdout",
     "output_type": "stream",
     "text": [
      "+----------+----------+\n",
      "|       src|       dst|\n",
      "+----------+----------+\n",
      "|4000201845|4000873375|\n",
      "|4004119836|4001457636|\n",
      "|4004119836|4001457636|\n",
      "|4000562568|4001580288|\n",
      "|4000078388|4001021649|\n",
      "|4000078388|4001021649|\n",
      "|4000078388|4001021649|\n",
      "|4000560418|4001565256|\n",
      "|4000103042|4000856627|\n",
      "|4000103042|4000856627|\n",
      "|4000103042|4000856627|\n",
      "|4000103042|4000856627|\n",
      "|4003996076|4000945369|\n",
      "|4003996076|4000842325|\n",
      "|4000696805|4001835473|\n",
      "|4004156000|4001560713|\n",
      "|4000709918|4001863635|\n",
      "|4004092700|4001370180|\n",
      "|4004092700|4001370180|\n",
      "|4000457798|4001393755|\n",
      "+----------+----------+\n",
      "only showing top 20 rows\n",
      "\n"
     ]
    }
   ],
   "source": [
    "personFirmaEdgeDf.show()\n",
    "\n"
   ]
  },
  {
   "cell_type": "code",
   "execution_count": null,
   "metadata": {
    "collapsed": true
   },
   "outputs": [],
   "source": []
  },
  {
   "cell_type": "code",
   "execution_count": 20,
   "metadata": {
    "collapsed": false
   },
   "outputs": [],
   "source": []
  },
  {
   "cell_type": "code",
   "execution_count": 21,
   "metadata": {
    "collapsed": false
   },
   "outputs": [
    {
     "name": "stdout",
     "output_type": "stream",
     "text": [
      "+----------+----------+-------------+\n",
      "|       src|       dst| relationship|\n",
      "+----------+----------+-------------+\n",
      "|4000201845|         0|Interessenter|\n",
      "|4004119836|4004954366|   Bestyrelse|\n",
      "|4000562568|         0|Interessenter|\n",
      "|4000078388|         0|Interessenter|\n",
      "|4000560418|         0|Interessenter|\n",
      "|4000103042|         0|Interessenter|\n",
      "|4003996076|4004503102|    Direktion|\n",
      "|4003996076|4004411703|    Direktion|\n",
      "|4000696805|         0|Interessenter|\n",
      "|4004156000|4005087331|     Stiftere|\n",
      "|4004156000|4005087332|   Bestyrelse|\n",
      "|4000709918|         0|Interessenter|\n",
      "|4004092700|4004857561|   Bestyrelse|\n",
      "|4000457798|         0|Interessenter|\n",
      "|4000457798|         0|Interessenter|\n",
      "|4000408635|         0|Interessenter|\n",
      "|4000611422|         0|Interessenter|\n",
      "|4000269638|         0|Interessenter|\n",
      "|4004131896|4005243831|     Stiftere|\n",
      "|4004131896|4005243832|    Direktion|\n",
      "+----------+----------+-------------+\n",
      "only showing top 20 rows\n",
      "\n"
     ]
    }
   ],
   "source": []
  },
  {
   "cell_type": "code",
   "execution_count": 60,
   "metadata": {
    "collapsed": false
   },
   "outputs": [],
   "source": [
    "allPersons = (virkSumRelationWithNamesDf\n",
    "                  .select(F.col(\"enhedsNummer\").alias(\"id\")\n",
    "                          ,F.col(\"navne_navn\").alias(\"navn\")\n",
    "                          ,F.lit(\"Person\").alias(\"type\"))\n",
    "                  .distinct()\n",
    "                  .cache()\n",
    "                 )\n",
    "allOrgs = (virkSumRelationWithNamesDf\n",
    "           .select(F.col(\"enhedsNummerOrganisation\").alias(\"id\")\n",
    "                   ,F.col(\"orgNavn_navn\").alias(\"navn\")\n",
    "                   ,F.lit(\"Organisation\").alias(\"type\"))\n",
    "           .filter(F.col(\"id\") !=0)\n",
    "           .cache()\n",
    "          )\n",
    "allVerticesDf = allOrgs.unionAll(allPersons)"
   ]
  },
  {
   "cell_type": "code",
   "execution_count": 61,
   "metadata": {
    "collapsed": false
   },
   "outputs": [
    {
     "data": {
      "text/plain": [
       "2820218"
      ]
     },
     "execution_count": 61,
     "metadata": {},
     "output_type": "execute_result"
    }
   ],
   "source": [
    "allPersons.count()\n",
    "allOrgs.count()"
   ]
  },
  {
   "cell_type": "code",
   "execution_count": 56,
   "metadata": {
    "collapsed": false
   },
   "outputs": [
    {
     "name": "stdout",
     "output_type": "stream",
     "text": [
      "+------------+-------+\n",
      "|        type|  count|\n",
      "+------------+-------+\n",
      "|      Person|3773220|\n",
      "|Organisation|3773220|\n",
      "+------------+-------+\n",
      "\n"
     ]
    }
   ],
   "source": [
    "personOrgGrsaphDf = graphframe.GraphFrame(allVerticesDf,personTilFirmaEdgeDf).cache()\n",
    "groupedCols = [F.col(\"type\")]\n",
    "personOrgGraphDf.vertices.groupby(*groupedCols).count().show()"
   ]
  },
  {
   "cell_type": "code",
   "execution_count": 27,
   "metadata": {
    "collapsed": false
   },
   "outputs": [
    {
     "name": "stdout",
     "output_type": "stream",
     "text": [
      "+----------+------+\n",
      "|        id|degree|\n",
      "+----------+------+\n",
      "|4004163266|     3|\n",
      "|4004383649|    14|\n",
      "|4005812438|     4|\n",
      "|4004826402|     4|\n",
      "|4004831974|     3|\n",
      "|4004203683|     1|\n",
      "|4004821174|    13|\n",
      "|4004712825|    28|\n",
      "|4000219055|     2|\n",
      "|4005813839|     2|\n",
      "|4005782118|     3|\n",
      "|4004274696|     1|\n",
      "|4004746497|     1|\n",
      "|4005809630|     6|\n",
      "|4005806416|     1|\n",
      "|4004702564|    10|\n",
      "|4005810208|     1|\n",
      "|4005811904|     2|\n",
      "|4005813403|     4|\n",
      "|4004382609|     9|\n",
      "+----------+------+\n",
      "only showing top 20 rows\n",
      "\n"
     ]
    }
   ],
   "source": [
    "personOrgGraphDf.degrees.show()"
   ]
  },
  {
   "cell_type": "code",
   "execution_count": 30,
   "metadata": {
    "collapsed": false
   },
   "outputs": [
    {
     "name": "stdout",
     "output_type": "stream",
     "text": [
      "+----------+---------+\n",
      "|        id|outDegree|\n",
      "+----------+---------+\n",
      "|4004163266|        3|\n",
      "|4004203683|        1|\n",
      "|4000219055|        2|\n",
      "|4004274696|        1|\n",
      "|4000238588|        2|\n",
      "|4004072379|        1|\n",
      "|4000349745|        2|\n",
      "|4004146496|        1|\n",
      "|4000052652|        2|\n",
      "|4004248640|        1|\n",
      "|4004212823|        2|\n",
      "|4000312242|        4|\n",
      "|4004262639|        1|\n",
      "|4004205560|        1|\n",
      "|4000338938|        1|\n",
      "|4000305565|        1|\n",
      "|4003946989|        1|\n",
      "|4000394288|        3|\n",
      "|4000394312|        1|\n",
      "|4000000978|        2|\n",
      "+----------+---------+\n",
      "only showing top 20 rows\n",
      "\n"
     ]
    }
   ],
   "source": [
    "personOrgGraphDf.outDegrees"
   ]
  },
  {
   "cell_type": "code",
   "execution_count": 34,
   "metadata": {
    "collapsed": false
   },
   "outputs": [],
   "source": [
    "personOrgGraphDegreesDf = personOrgGraphDf.vertices.join(personOrgGraphDf.outDegrees,(personOrgGraphDf.vertices[\"id\"]==personOrgGraphDf.outDegrees[\"id\"]),\"inner\")"
   ]
  },
  {
   "cell_type": "code",
   "execution_count": 35,
   "metadata": {
    "collapsed": false
   },
   "outputs": [
    {
     "name": "stdout",
     "output_type": "stream",
     "text": [
      "+-------+--------------------+------+-------+---------+\n",
      "|     id|                navn|  type|     id|outDegree|\n",
      "+-------+--------------------+------+-------+---------+\n",
      "|1859433| Lars Stampe Nielsen|Person|1859433|        3|\n",
      "|1859433| Lars Stampe Nielsen|Person|1859433|        3|\n",
      "|1859433| Lars Stampe Nielsen|Person|1859433|        3|\n",
      "|2164870|Jørgen Herman Jan...|Person|2164870|        2|\n",
      "|2164870|Jørgen Herman Jan...|Person|2164870|        2|\n",
      "|2249965|    Jakob Lee Jensen|Person|2249965|       19|\n",
      "|2249965|    Jakob Lee Jensen|Person|2249965|       19|\n",
      "|2249965|    Jakob Lee Jensen|Person|2249965|       19|\n",
      "|2249965|    Jakob Lee Jensen|Person|2249965|       19|\n",
      "|2249965|    Jakob Lee Jensen|Person|2249965|       19|\n",
      "|2249965|    Jakob Lee Jensen|Person|2249965|       19|\n",
      "|2249965|    Jakob Lee Jensen|Person|2249965|       19|\n",
      "|2249965|    Jakob Lee Jensen|Person|2249965|       19|\n",
      "|2249965|    Jakob Lee Jensen|Person|2249965|       19|\n",
      "|2249965|    Jakob Lee Jensen|Person|2249965|       19|\n",
      "|2249965|    Jakob Lee Jensen|Person|2249965|       19|\n",
      "|2249965|    Jakob Lee Jensen|Person|2249965|       19|\n",
      "|2249965|    Jakob Lee Jensen|Person|2249965|       19|\n",
      "|2249965|    Jakob Lee Jensen|Person|2249965|       19|\n",
      "|2249965|    Jakob Lee Jensen|Person|2249965|       19|\n",
      "+-------+--------------------+------+-------+---------+\n",
      "only showing top 20 rows\n",
      "\n"
     ]
    }
   ],
   "source": [
    "personOrgGraphDegreesDf.show()"
   ]
  },
  {
   "cell_type": "code",
   "execution_count": null,
   "metadata": {
    "collapsed": true
   },
   "outputs": [],
   "source": []
  }
 ],
 "metadata": {
  "kernelspec": {
   "display_name": "Python 3",
   "language": "python",
   "name": "python3"
  },
  "language_info": {
   "codemirror_mode": {
    "name": "ipython",
    "version": 3
   },
   "file_extension": ".py",
   "mimetype": "text/x-python",
   "name": "python",
   "nbconvert_exporter": "python",
   "pygments_lexer": "ipython3",
   "version": "3.5.2"
  }
 },
 "nbformat": 4,
 "nbformat_minor": 2
}
