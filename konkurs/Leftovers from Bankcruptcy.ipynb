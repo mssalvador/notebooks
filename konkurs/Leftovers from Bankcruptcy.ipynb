{
 "cells": [
  {
   "cell_type": "markdown",
   "metadata": {},
   "source": [
    "##### The left overs from Bankcruptcy Detection"
   ]
  },
  {
   "cell_type": "code",
   "execution_count": null,
   "metadata": {
    "collapsed": true
   },
   "outputs": [],
   "source": [
    "\n",
    "strs = \"\"\n",
    "excludedCols = [\"cvrNummer\",\"label\",\"status\",\"navn\",\"kortBeskrivelse\"]\n",
    "for i in logDf.columns:\n",
    "    if i not in excludedCols:\n",
    "        strs += i+\" + \"\n",
    "\n",
    "#excludedCols    \n",
    "imputedDf = logDf.fillna(value=0.0)\n",
    "formula = RFormula(formula=\"label ~ \"+strs[:-3],labelCol=\"label\")\n",
    "\n",
    "glr = GeneralizedLinearRegression(family=\"binomial\", link=\"logit\", maxIter=10, regParam=0.3)\n",
    "standardScale = StandardScaler(withMean=True,withStd=True,inputCol=glr.getFeaturesCol(),outputCol=\"scaledFeatures\")\n",
    "\n",
    "\n",
    "pipeline = Pipeline(stages=[formula,standardScale,glr])\n",
    "\n",
    "grid = (ParamGridBuilder()\n",
    "        .baseOn({lr.predictionCol:\"prediction\"})\n",
    "        .baseOn({lr.rawPredictionCol:\"rawPrediction\"})\n",
    "        .baseOn({lr.probabilityCol:\"probability\"})\n",
    "        .baseOn({lr.labelCol:\"label\"})\n",
    "        .baseOn({lr.featuresCol:\"features\"})\n",
    "        .addGrid(param=lr.elasticNetParam,values=[0.1,1.0])\n",
    "        .addGrid(param=lr.getMaxIter,values=[10])\n",
    "        .build()\n",
    "       )\n",
    "\n",
    "evaluate = BinaryClassificationEvaluator()\n",
    "\n",
    "trainEvalModel = TrainValidationSplit(estimator=pipeline,estimatorParamMaps=grid,evaluator=evaluate,trainRatio=0.8)"
   ]
  },
  {
   "cell_type": "code",
   "execution_count": null,
   "metadata": {
    "collapsed": true
   },
   "outputs": [],
   "source": [
    "cols = [i for i in logDf.columns if i not in excludedCols]+[\"label\"]\n",
    "\n",
    "model = pipeline.fit(imputedDf.filter(F.col(\"label\") <= 1).select(*cols))"
   ]
  },
  {
   "cell_type": "code",
   "execution_count": null,
   "metadata": {
    "collapsed": true
   },
   "outputs": [],
   "source": [
    "predict = model.transform(imputedDf.select(*cols).filter(F.col(\"label\") <= 1))\n",
    "coef = model.stages[-1]\n"
   ]
  },
  {
   "cell_type": "code",
   "execution_count": null,
   "metadata": {
    "collapsed": true
   },
   "outputs": [],
   "source": [
    "p = model.stages[-1].summary\n",
    "\n",
    "print(\"Coefficient Standard Errors: \" + str(p.coefficientStandardErrors))\n",
    "print(\"T Values: \" + str(p.tValues))\n",
    "print(\"P Values: \" + str(p.pValues))\n",
    "print(\"Dispersion: \" + str(p.dispersion))\n",
    "print(\"Null Deviance: \" + str(p.nullDeviance))\n",
    "print(\"Residual Degree Of Freedom Null: \" + str(p.residualDegreeOfFreedomNull))\n",
    "print(\"Deviance: \" + str(p.deviance))\n",
    "print(\"Residual Degree Of Freedom: \" + str(p.residualDegreeOfFreedom))\n",
    "print(\"AIC: \" + str(p.aic))\n",
    "print(\"Deviance Residuals: \")\n",
    "p.residuals().show()"
   ]
  },
  {
   "cell_type": "code",
   "execution_count": null,
   "metadata": {
    "collapsed": true
   },
   "outputs": [],
   "source": [
    "print(len(cols))\n",
    "print(type(coef.coefficients.toArray()))\n",
    "print()\n",
    "      \n",
    "      \n",
    "summary = {\"Labels\":cols[:-1]+[\"intercept\"],\"Coefficients\":np.insert(coef.coefficients.toArray(),0,coef.intercept),\"coefficient Std Err\":p.coefficientStandardErrors,\"T Values\":p.tValues,\"P Values\":p.pValues}"
   ]
  },
  {
   "cell_type": "code",
   "execution_count": null,
   "metadata": {
    "collapsed": true
   },
   "outputs": [],
   "source": [
    "pd.options.display.float_format = '{:,.4f}'.format\n",
    "df = pd.DataFrame(summary,columns=[\"Labels\",\"Coefficients\",\"coefficient Std Err\",\"T Values\",\"P Values\"])\n",
    "import subprocess\n",
    "\n",
    "HEADER = '''\n",
    "<html>\n",
    "    <head>\n",
    "        <style>\n",
    "            .df tbody \n",
    "        </style>\n",
    "    </head>\n",
    "    <body>\n",
    "'''\n",
    "FOOTER = '''\n",
    "    </body>\n",
    "</html>\n",
    "'''\n",
    "\n",
    "#df = pd.DataFrame({'a': np.arange(10), 'b': np.random.randn(10)})\n",
    "with open('test.html', 'w') as f:\n",
    "    f.write(HEADER)\n",
    "    f.write(df.to_html(classes='df'))\n",
    "    f.write(FOOTER)"
   ]
  },
  {
   "cell_type": "code",
   "execution_count": null,
   "metadata": {
    "collapsed": true
   },
   "outputs": [],
   "source": []
  }
 ],
 "metadata": {
  "kernelspec": {
   "display_name": "Python 3",
   "language": "python",
   "name": "python3"
  },
  "language_info": {
   "codemirror_mode": {
    "name": "ipython",
    "version": 3
   },
   "file_extension": ".py",
   "mimetype": "text/x-python",
   "name": "python",
   "nbconvert_exporter": "python",
   "pygments_lexer": "ipython3",
   "version": "3.5.2"
  }
 },
 "nbformat": 4,
 "nbformat_minor": 2
}
