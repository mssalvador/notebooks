{
 "cells": [
  {
   "cell_type": "code",
   "execution_count": null,
   "metadata": {
    "collapsed": true
   },
   "outputs": [],
   "source": [
    "from IPython.display import display, HTML"
   ]
  },
  {
   "cell_type": "code",
   "execution_count": null,
   "metadata": {},
   "outputs": [],
   "source": [
    "%%HTML\n",
    "<script>\n",
    "  function code_toggle() {\n",
    "    if (code_shown){\n",
    "      $('div.input').hide('500');\n",
    "      $('#toggleButton').val('Show Code')\n",
    "    } else {\n",
    "      $('div.input').show('500');\n",
    "      $('#toggleButton').val('Hide Code')\n",
    "    }\n",
    "    code_shown = !code_shown\n",
    "  }\n",
    "\n",
    "  $( document ).ready(function(){\n",
    "    code_shown=false;\n",
    "    $('div.input').hide()\n",
    "  });\n",
    "</script>\n",
    "<form action=\"javascript:code_toggle()\"><input type=\"submit\" id=\"toggleButton\" value=\"Show Code\"></form>"
   ]
  },
  {
   "cell_type": "code",
   "execution_count": null,
   "metadata": {},
   "outputs": [],
   "source": [
    "#import from regular python\n",
    "\n",
    "import pandas as pd\n",
    "import matplotlib.pyplot as plt\n",
    "import matplotlib.dates as md\n",
    "import numpy as np\n",
    "import seaborn as sb\n",
    "from ipywidgets import widgets\n",
    "\n",
    "\n",
    "import os\n",
    "import re\n",
    "import getpass\n",
    "\n",
    "user = getpass.getuser()\n",
    "\n",
    "module_path = os.path.abspath(os.path.join('..'))"
   ]
  },
  {
   "cell_type": "code",
   "execution_count": null,
   "metadata": {},
   "outputs": [],
   "source": [
    "#imports from Pyspark\n",
    "\n",
    "from pyspark.sql import functions as F\n",
    "from pyspark.sql.types import *\n",
    "from pyspark.ml.feature import VectorAssembler, StandardScaler\n",
    "from pyspark.ml import Pipeline\n",
    "from pyspark.ml.clustering import KMeans\n",
    "\n",
    "sc.addPyFile(module_path+\"/test/sample/ConvertAllToVecToMl.py\")\n",
    "from ConvertAllToVecToMl import ConvertAllToVecToMl"
   ]
  },
  {
   "cell_type": "code",
   "execution_count": null,
   "metadata": {
    "collapsed": true
   },
   "outputs": [],
   "source": [
    "data_Pdf = sb.load_dataset(\"flights\") # naive data set from seaborn\n",
    "#data_Pdf"
   ]
  },
  {
   "cell_type": "code",
   "execution_count": null,
   "metadata": {
    "collapsed": true
   },
   "outputs": [],
   "source": [
    "#create spark data frame\n",
    "flightDf = sqlContext.createDataFrame(data_Pdf)\n",
    "#flightDf.show()\n",
    "# Convering month to long\n",
    "\n",
    "import datetime as dt\n",
    "func = F.udf(lambda x: dt.datetime.strptime(x, '%b').month)\n",
    "\n",
    "flightInfoDf = flightDf.select('*').withColumn('month', func(F.substring(str='month',pos=0,len=3)))\n",
    "\n",
    "flightInfoDf= (flightInfoDf\n",
    "               .withColumn(\"timestamp\",F.concat(F.col(\"year\"),F.lit(\"-\"),F.col(\"month\"),F.lit(\"-1 12:00:0\")))\n",
    "               .withColumn(\"datetime\",F.from_utc_timestamp(\"timestamp\",\"UTC\"))\n",
    "               .withColumn(\"timestamp\",F.unix_timestamp(F.col(\"timestamp\"),\"yyyy-MM-dd HH:mm:ss\"))\n",
    "               \n",
    "               #.select('newdate', 'passengers')\n",
    "              )\n"
   ]
  },
  {
   "cell_type": "code",
   "execution_count": null,
   "metadata": {
    "collapsed": true
   },
   "outputs": [],
   "source": [
    "#create the spark ml pipeline\n",
    "myCol = [\"timestamp\", \"passengers\"]\n",
    "vectorAssembler = VectorAssembler(inputCols=myCol,outputCol=\"features\")\n",
    "convertion = ConvertAllToVecToMl(inputCol=vectorAssembler.getOutputCol(), outputCol=vectorAssembler.getOutputCol())\n",
    "clusters = KMeans(featuresCol=vectorAssembler.getOutputCol(), k=4, maxIter=10, initMode=\"random\")\n",
    "\n",
    "pipeline = Pipeline(stages=[vectorAssembler, convertion, clusters])\n"
   ]
  },
  {
   "cell_type": "code",
   "execution_count": null,
   "metadata": {
    "collapsed": true,
    "scrolled": true
   },
   "outputs": [],
   "source": [
    "#execute the pipeline\n",
    "\n",
    "model = pipeline.fit(flightInfoDf)\n",
    "prediction = model.transform(flightInfoDf)"
   ]
  },
  {
   "cell_type": "code",
   "execution_count": null,
   "metadata": {},
   "outputs": [],
   "source": [
    "prediction.toPandas()"
   ]
  },
  {
   "cell_type": "code",
   "execution_count": null,
   "metadata": {},
   "outputs": [],
   "source": [
    "#return the data to Pandas for visualisation\n",
    "button = widgets.Button(description=\"Visualize data\")\n",
    "display(button)\n",
    "\n",
    "def on_button_clicked(b):\n",
    "    g = sb.FacetGrid(prediction.toPandas(), hue=\"prediction\", size=5, palette=\"Set2\")\n",
    "    xfmt = md.DateFormatter('%Y')\n",
    "    g.ax.yaxis.set_major_formatter(xfmt)\n",
    "    g.map(plt.scatter, \"passengers\", \"datetime\", s=50, alpha=.7, linewidth=.5, edgecolor=\"white\")\n",
    "    plt.ylabel('year')\n",
    "    plt.show()\n",
    "\n",
    "button.on_click(on_button_clicked)"
   ]
  },
  {
   "cell_type": "code",
   "execution_count": null,
   "metadata": {
    "collapsed": true
   },
   "outputs": [],
   "source": []
  },
  {
   "cell_type": "code",
   "execution_count": null,
   "metadata": {
    "collapsed": true
   },
   "outputs": [],
   "source": []
  }
 ],
 "metadata": {
  "kernelspec": {
   "display_name": "Python 3",
   "language": "python",
   "name": "python3"
  },
  "language_info": {
   "codemirror_mode": {
    "name": "ipython",
    "version": 3
   },
   "file_extension": ".py",
   "mimetype": "text/x-python",
   "name": "python",
   "nbconvert_exporter": "python",
   "pygments_lexer": "ipython3",
   "version": "3.5.2"
  }
 },
 "nbformat": 4,
 "nbformat_minor": 2
}
