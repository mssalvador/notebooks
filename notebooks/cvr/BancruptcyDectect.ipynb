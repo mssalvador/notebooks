{
 "cells": [
  {
   "cell_type": "code",
   "execution_count": 41,
   "metadata": {
    "collapsed": false
   },
   "outputs": [],
   "source": [
    "SQLContext.newSession(sqlContext)\n",
    "from pyspark.sql import functions as F\n",
    "from pyspark.ml.feature import VectorAssembler,StandardScaler,RFormula\n",
    "from pyspark.ml.classification import LogisticRegression\n",
    "from pyspark.ml.tuning import CrossValidator, ParamGridBuilder, TrainValidationSplit\n",
    "from pyspark.ml.linalg import VectorUDT,Vectors\n",
    "from pyspark.ml.evaluation import BinaryClassificationEvaluator\n",
    "from pyspark.sql import Window\n",
    "from pyspark.ml import Pipeline\n",
    "from pyspark.ml.regression import GeneralizedLinearRegression\n",
    "\n",
    "\n",
    "import re\n",
    "from tabulate import tabulate\n",
    "import random\n",
    "import sys\n",
    "import numpy as np"
   ]
  },
  {
   "cell_type": "code",
   "execution_count": 88,
   "metadata": {
    "collapsed": false
   },
   "outputs": [
    {
     "name": "stdout",
     "output_type": "stream",
     "text": [
      "+---------+--------+-----+-----------+-----------+-----------+-----------+-----------+-----------+-----------+-----------+-----------+------------+------------+------------+------------+------------+------------+--------+--------+--------+--------+--------+--------+--------+--------+--------+---------+---------+---------+---------+---------+---------+-----------+-----------------+------------------+-------------------+-------------------+-------------+-------------+-------------+-------------+-------------+----------------+\n",
      "|cvrNummer|  status|label|AarsVaerk_1|AarsVaerk_2|AarsVaerk_3|AarsVaerk_4|AarsVaerk_5|AarsVaerk_6|AarsVaerk_7|AarsVaerk_8|AarsVaerk_9|AarsVaerk_10|AarsVaerk_11|AarsVaerk_12|AarsVaerk_13|AarsVaerk_14|AarsVaerk_15|medArb_1|medArb_2|medArb_3|medArb_4|medArb_5|medArb_6|medArb_7|medArb_8|medArb_9|medArb_10|medArb_11|medArb_12|medArb_13|medArb_14|medArb_15|avgVarighed|totalAabneEnheder|totalLukketEnheder|      vaerdiSlope_1|      vaerdiSlope_2|vaerdiSlope_3|vaerdiSlope_4|vaerdiSlope_5|vaerdiSlope_6|vaerdiSlope_7|reklamebeskyttet|\n",
      "+---------+--------+-----+-----------+-----------+-----------+-----------+-----------+-----------+-----------+-----------+-----------+------------+------------+------------+------------+------------+------------+--------+--------+--------+--------+--------+--------+--------+--------+--------+---------+---------+---------+---------+---------+---------+-----------+-----------------+------------------+-------------------+-------------------+-------------+-------------+-------------+-------------+-------------+----------------+\n",
      "| 20172800|[NORMAL]|  1.0|       50.0|       50.0|       50.0|       50.0|       50.0|       50.0|       50.0|       50.0|       50.0|        20.0|        50.0|        20.0|        20.0|        20.0|        20.0|    50.0|    50.0|    50.0|    50.0|    50.0|    50.0|    50.0|    50.0|    50.0|     50.0|     50.0|     20.0|     20.0|     20.0|     20.0|        7.0|              1.0|               1.0| -4497.751124437781|               null|         null|         null|         null|         null|         null|             0.0|\n",
      "| 14049800|[NORMAL]|  1.0|       20.0|       20.0|       20.0|       20.0|       20.0|       20.0|       20.0|       20.0|       20.0|        10.0|        10.0|        10.0|        10.0|        10.0|        10.0|    20.0|    20.0|    20.0|    20.0|    20.0|    20.0|    20.0|    20.0|    20.0|     20.0|     20.0|     20.0|     10.0|     10.0|     10.0|       null|              0.0|               1.0|  220.4585537918871| 17.921146953405017|         null|         null|         null|         null|         null|             0.0|\n",
      "| 19298000|[NORMAL]|  1.0|        1.0|        1.0|        1.0|        1.0|        2.0|        2.0|        1.0|        1.0|        2.0|         2.0|         2.0|         5.0|         5.0|         2.0|         2.0|     1.0|     1.0|     1.0|     2.0|     2.0|     2.0|     2.0|     2.0|     2.0|      2.0|      5.0|      5.0|      5.0|      5.0|      5.0|       null|              0.0|               1.0|-108.41507485802788|-126.19888944977284|         null|         null|         null|         null|         null|             1.0|\n",
      "| 21855200|[NORMAL]|  1.0|        1.0|       10.0|       10.0|       10.0|       10.0|       null|       null|       null|       null|        null|        null|        null|        null|        null|        null|     2.0|    10.0|    10.0|    10.0|    10.0|    null|    null|    null|    null|     null|     null|     null|     null|     null|     null|       null|              0.0|               1.0| 10.933741526350317|               null|         null|         null|         null|         null|         null|             0.0|\n",
      "| 14786600|[NORMAL]|  1.0|        0.0|        0.0|        1.0|        1.0|       null|       null|       null|       null|       null|        null|        null|        null|        null|        null|        null|     1.0|     1.0|     0.0|     0.0|    null|    null|    null|    null|    null|     null|     null|     null|     null|     null|     null|       null|              0.0|               1.0|               null|               null|         null|         null|         null|         null|         null|             0.0|\n",
      "| 32556000|[NORMAL]|  1.0|        2.0|        2.0|        1.0|       null|       null|       null|       null|       null|       null|        null|        null|        null|        null|        null|        null|    10.0|    10.0|     5.0|    null|    null|    null|    null|    null|    null|     null|     null|     null|     null|     null|     null|       null|              0.0|               1.0|               null|               null|         null|         null|         null|         null|         null|             0.0|\n",
      "| 20308400|[NORMAL]|  1.0|        1.0|        0.0|        0.0|        0.0|       null|       null|       null|       null|       null|        null|        null|        null|        null|        null|        null|     0.0|     1.0|     1.0|     1.0|    null|    null|    null|    null|    null|     null|     null|     null|     null|     null|     null|       null|              0.0|               1.0|               null|               null|         null|         null|         null|         null|         null|             0.0|\n",
      "| 34455600|[NORMAL]|  1.0|        1.0|       null|       null|       null|       null|       null|       null|       null|       null|        null|        null|        null|        null|        null|        null|     1.0|    null|    null|    null|    null|    null|    null|    null|    null|     null|     null|     null|     null|     null|     null|       null|              0.0|               1.0|               null|               null|         null|         null|         null|         null|         null|             0.0|\n",
      "| 10944600|[NORMAL]|  1.0|        2.0|        2.0|        2.0|        2.0|        2.0|        5.0|        5.0|        5.0|        5.0|        10.0|        10.0|        20.0|        20.0|        10.0|        10.0|     5.0|     5.0|     5.0|     5.0|     5.0|     5.0|     5.0|     5.0|     5.0|      5.0|     10.0|     20.0|     20.0|     20.0|     10.0|       null|              0.0|               1.0|  83.05647840531562|   96.3275135460566|         null|         null|         null|         null|         null|             0.0|\n",
      "| 13009600|[NORMAL]|  1.0|        5.0|        5.0|        5.0|        5.0|        5.0|        5.0|        5.0|        5.0|        5.0|         5.0|         5.0|         5.0|         5.0|         5.0|         5.0|    10.0|     5.0|    10.0|    10.0|    10.0|     5.0|     5.0|    10.0|    10.0|      5.0|      5.0|     10.0|      5.0|     10.0|      5.0|       null|              0.0|               1.0|    761.03500761035|  76.27765064836004|         null|         null|         null|         null|         null|             1.0|\n",
      "| 27585000|[NORMAL]|  1.0|        1.0|        1.0|        1.0|       null|       null|       null|       null|       null|       null|        null|        null|        null|        null|        null|        null|     1.0|     1.0|     1.0|    null|    null|    null|    null|    null|    null|     null|     null|     null|     null|     null|     null|       null|              0.0|               1.0|               null|               null|         null|         null|         null|         null|         null|             0.0|\n",
      "| 13341400|[NORMAL]|  1.0|       10.0|       10.0|       10.0|       10.0|       10.0|       10.0|       10.0|        5.0|       10.0|        10.0|        10.0|        10.0|         5.0|         5.0|         5.0|    10.0|    10.0|    10.0|    10.0|    10.0|    10.0|    10.0|    10.0|    10.0|     10.0|     10.0|     10.0|     10.0|     10.0|     10.0|       null|              0.0|               1.0| 158.73015873015873|  319.3033381712627|         null|         null|         null|         null|         null|             0.0|\n",
      "| 14876200|[NORMAL]|  1.0|        1.0|        1.0|        1.0|        1.0|        1.0|        1.0|        1.0|        1.0|        1.0|         1.0|         1.0|         1.0|         1.0|         1.0|        null|     1.0|     1.0|     0.0|     2.0|     1.0|     2.0|     2.0|     2.0|     1.0|      1.0|      1.0|      1.0|      1.0|      2.0|     null|       null|              0.0|               1.0|   21.1864406779661|               null|         null|         null|         null|         null|         null|             0.0|\n",
      "| 14290400|[NORMAL]|  1.0|        5.0|        5.0|        5.0|        5.0|        5.0|        5.0|        5.0|        5.0|        5.0|         5.0|         5.0|         5.0|         5.0|         5.0|         5.0|     5.0|     5.0|    10.0|    10.0|    10.0|    10.0|    10.0|    10.0|    10.0|     10.0|     10.0|     10.0|     10.0|     10.0|     10.0|       null|              0.0|               1.0|               null|               null|         null|         null|         null|         null|         null|             0.0|\n",
      "| 25108000|[NORMAL]|  1.0|        5.0|        5.0|        5.0|        5.0|        5.0|        5.0|        5.0|        5.0|        5.0|         5.0|         2.0|         2.0|        null|        null|        null|     5.0|     5.0|     5.0|    10.0|     5.0|     5.0|     5.0|     5.0|     5.0|      5.0|      5.0|      5.0|     null|     null|     null|       null|              0.0|               1.0|               null|               null|         null|         null|         null|         null|         null|             0.0|\n",
      "| 16981400|[NORMAL]|  1.0|        5.0|        5.0|        5.0|        5.0|        5.0|        5.0|        5.0|        5.0|        5.0|         5.0|         5.0|         5.0|         5.0|         5.0|         5.0|     5.0|     5.0|     5.0|     5.0|     5.0|    10.0|     5.0|     5.0|     5.0|      5.0|      5.0|      5.0|      5.0|      5.0|      5.0|       null|              0.0|               1.0|               null|               null|         null|         null|         null|         null|         null|             0.0|\n",
      "| 12910800|[NORMAL]|  1.0|        1.0|        1.0|        1.0|        1.0|        1.0|        1.0|        1.0|        1.0|        1.0|         1.0|         1.0|         1.0|         1.0|         1.0|         1.0|     1.0|     1.0|     1.0|     1.0|     1.0|     1.0|     1.0|     1.0|     2.0|      2.0|      2.0|      2.0|      2.0|      2.0|      2.0|       null|              0.0|               1.0|  42.71982912068352|               null|         null|         null|         null|         null|         null|             0.0|\n",
      "| 21827800|[NORMAL]|  1.0|       20.0|       10.0|       10.0|       10.0|       10.0|       10.0|       10.0|       10.0|       10.0|        10.0|        10.0|         5.0|         5.0|        null|        null|    20.0|    10.0|    10.0|    10.0|    10.0|    10.0|    10.0|    10.0|    10.0|     10.0|     10.0|      5.0|     10.0|     null|     null|       null|              0.0|               2.0|               null|               null|         null|         null|         null|         null|         null|             0.0|\n",
      "| 25548000|[NORMAL]|  1.0|        5.0|        5.0|        5.0|        5.0|        5.0|        5.0|       null|       null|       null|        null|        null|        null|        null|        null|        null|    10.0|    10.0|    10.0|     5.0|    10.0|    10.0|    null|    null|    null|     null|     null|     null|     null|     null|     null|      986.5|              2.0|               1.0|               null|               null|         null|         null|         null|         null|         null|             0.0|\n",
      "| 33065000|[NORMAL]|  1.0|        2.0|        5.0|       null|       null|       null|       null|       null|       null|       null|        null|        null|        null|        null|        null|        null|     0.0|    10.0|    null|    null|    null|    null|    null|    null|    null|     null|     null|     null|     null|     null|     null|       null|              0.0|               1.0|               null|               null|         null|         null|         null|         null|         null|             0.0|\n",
      "+---------+--------+-----+-----------+-----------+-----------+-----------+-----------+-----------+-----------+-----------+-----------+------------+------------+------------+------------+------------+------------+--------+--------+--------+--------+--------+--------+--------+--------+--------+---------+---------+---------+---------+---------+---------+-----------+-----------------+------------------+-------------------+-------------------+-------------+-------------+-------------+-------------+-------------+----------------+\n",
      "only showing top 20 rows\n",
      "\n"
     ]
    }
   ],
   "source": [
    "#import data and rename bad name rank into vaerdiSlope\n",
    "df = sqlContext.read.parquet(\"/home/svanhmic/workspace/Python/Erhvervs/data/cdata/featureDataCvr\")\n",
    "df.select([\"cvrNummer\"])\n",
    "rankCols = [re.sub(pattern=\"rank_\",repl=\"vaerdiSlope_\",string=i) for i in df.columns ]\n",
    "renamedDf = (df.withColumn(colName=\"reklamebeskyttet\",col=F.col(\"reklamebeskyttet\").cast(\"integer\"))\n",
    "             .select([F.col(val).alias(rankCols[idx]) for idx,val in enumerate(df.columns)])\n",
    "             .withColumn(col=F.col(\"totalAabneEnheder\").cast(\"double\"),colName=\"totalAabneEnheder\")\n",
    "             .withColumn(col=F.col(\"totalLukketEnheder\").cast(\"double\"),colName=\"totalLukketEnheder\")\n",
    "             .withColumn(col=F.col(\"reklamebeskyttet\").cast(\"double\"),colName=\"reklamebeskyttet\")\n",
    "             .withColumn(col=F.col(\"label\").cast(\"double\"),colName=\"label\")\n",
    "             \n",
    "             )\n",
    "renamedDf.show()"
   ]
  },
  {
   "cell_type": "code",
   "execution_count": null,
   "metadata": {
    "collapsed": true
   },
   "outputs": [],
   "source": []
  },
  {
   "cell_type": "code",
   "execution_count": null,
   "metadata": {
    "collapsed": true
   },
   "outputs": [],
   "source": []
  },
  {
   "cell_type": "code",
   "execution_count": 99,
   "metadata": {
    "collapsed": false
   },
   "outputs": [
    {
     "name": "stdout",
     "output_type": "stream",
     "text": [
      "prediction\n"
     ]
    }
   ],
   "source": [
    "strs = \"\"\n",
    "excludedCols = [\"medArb_\"+str(i) for i in range(1,16)]+[\"cvrNummer\",\"label\",\"status\"]\n",
    "for i in renamedDf.columns:\n",
    "    if i not in excludedCols:\n",
    "        strs += i+\" + \"\n",
    "\n",
    "#excludedCols    \n",
    "imputedDf = renamedDf.fillna(value=0.0)\n",
    "formula = RFormula(formula=\"label ~ \"+strs[:-3],labelCol=\"label\")\n",
    "\n",
    "glr = GeneralizedLinearRegression(family=\"binomial\", link=\"logit\", maxIter=10, regParam=0.3)\n",
    "print(glr.\n",
    "lr = LogisticRegression()\n",
    "\n",
    "pipeline = Pipeline(stages=[formula,glr])\n",
    "\n",
    "grid = (ParamGridBuilder()\n",
    "        .baseOn({lr.predictionCol:\"prediction\"})\n",
    "        .baseOn({lr.rawPredictionCol:\"rawPrediction\"})\n",
    "        .baseOn({lr.probabilityCol:\"probability\"})\n",
    "        .baseOn({lr.labelCol:\"label\"})\n",
    "        .baseOn({lr.featuresCol:\"features\"})\n",
    "        .addGrid(param=lr.elasticNetParam,values=[0.1,1.0])\n",
    "        .addGrid(param=lr.getMaxIter,values=[10])\n",
    "        .build()\n",
    "       )\n",
    "\n",
    "evaluate = BinaryClassificationEvaluator()\n",
    "\n",
    "trainEvalModel = TrainValidationSplit(estimator=pipeline,estimatorParamMaps=grid,evaluator=evaluate,trainRatio=0.8)"
   ]
  },
  {
   "cell_type": "code",
   "execution_count": 96,
   "metadata": {
    "collapsed": false
   },
   "outputs": [
    {
     "ename": "IllegalArgumentException",
     "evalue": "'Field \"rawPrediction\" does not exist.'",
     "output_type": "error",
     "traceback": [
      "\u001b[0;31m---------------------------------------------------------------------------\u001b[0m",
      "\u001b[0;31mPy4JJavaError\u001b[0m                             Traceback (most recent call last)",
      "\u001b[0;32m/usr/local/share/spark/python/pyspark/sql/utils.py\u001b[0m in \u001b[0;36mdeco\u001b[0;34m(*a, **kw)\u001b[0m\n\u001b[1;32m     62\u001b[0m         \u001b[0;32mtry\u001b[0m\u001b[0;34m:\u001b[0m\u001b[0;34m\u001b[0m\u001b[0m\n\u001b[0;32m---> 63\u001b[0;31m             \u001b[0;32mreturn\u001b[0m \u001b[0mf\u001b[0m\u001b[0;34m(\u001b[0m\u001b[0;34m*\u001b[0m\u001b[0ma\u001b[0m\u001b[0;34m,\u001b[0m \u001b[0;34m**\u001b[0m\u001b[0mkw\u001b[0m\u001b[0;34m)\u001b[0m\u001b[0;34m\u001b[0m\u001b[0m\n\u001b[0m\u001b[1;32m     64\u001b[0m         \u001b[0;32mexcept\u001b[0m \u001b[0mpy4j\u001b[0m\u001b[0;34m.\u001b[0m\u001b[0mprotocol\u001b[0m\u001b[0;34m.\u001b[0m\u001b[0mPy4JJavaError\u001b[0m \u001b[0;32mas\u001b[0m \u001b[0me\u001b[0m\u001b[0;34m:\u001b[0m\u001b[0;34m\u001b[0m\u001b[0m\n",
      "\u001b[0;32m/usr/local/share/spark/python/lib/py4j-0.10.1-src.zip/py4j/protocol.py\u001b[0m in \u001b[0;36mget_return_value\u001b[0;34m(answer, gateway_client, target_id, name)\u001b[0m\n\u001b[1;32m    311\u001b[0m                     \u001b[0;34m\"An error occurred while calling {0}{1}{2}.\\n\"\u001b[0m\u001b[0;34m.\u001b[0m\u001b[0;34m\u001b[0m\u001b[0m\n\u001b[0;32m--> 312\u001b[0;31m                     format(target_id, \".\", name), value)\n\u001b[0m\u001b[1;32m    313\u001b[0m             \u001b[0;32melse\u001b[0m\u001b[0;34m:\u001b[0m\u001b[0;34m\u001b[0m\u001b[0m\n",
      "\u001b[0;31mPy4JJavaError\u001b[0m: An error occurred while calling o2716.evaluate.\n: java.lang.IllegalArgumentException: Field \"rawPrediction\" does not exist.\n\tat org.apache.spark.sql.types.StructType$$anonfun$apply$1.apply(StructType.scala:228)\n\tat org.apache.spark.sql.types.StructType$$anonfun$apply$1.apply(StructType.scala:228)\n\tat scala.collection.MapLike$class.getOrElse(MapLike.scala:128)\n\tat scala.collection.AbstractMap.getOrElse(Map.scala:59)\n\tat org.apache.spark.sql.types.StructType.apply(StructType.scala:227)\n\tat org.apache.spark.ml.util.SchemaUtils$.checkColumnTypes(SchemaUtils.scala:56)\n\tat org.apache.spark.ml.evaluation.BinaryClassificationEvaluator.evaluate(BinaryClassificationEvaluator.scala:76)\n\tat sun.reflect.NativeMethodAccessorImpl.invoke0(Native Method)\n\tat sun.reflect.NativeMethodAccessorImpl.invoke(NativeMethodAccessorImpl.java:62)\n\tat sun.reflect.DelegatingMethodAccessorImpl.invoke(DelegatingMethodAccessorImpl.java:43)\n\tat java.lang.reflect.Method.invoke(Method.java:498)\n\tat py4j.reflection.MethodInvoker.invoke(MethodInvoker.java:237)\n\tat py4j.reflection.ReflectionEngine.invoke(ReflectionEngine.java:357)\n\tat py4j.Gateway.invoke(Gateway.java:280)\n\tat py4j.commands.AbstractCommand.invokeMethod(AbstractCommand.java:128)\n\tat py4j.commands.CallCommand.execute(CallCommand.java:79)\n\tat py4j.GatewayConnection.run(GatewayConnection.java:211)\n\tat java.lang.Thread.run(Thread.java:745)\n",
      "\nDuring handling of the above exception, another exception occurred:\n",
      "\u001b[0;31mIllegalArgumentException\u001b[0m                  Traceback (most recent call last)",
      "\u001b[0;32m<ipython-input-96-4946d3f6535c>\u001b[0m in \u001b[0;36m<module>\u001b[0;34m()\u001b[0m\n\u001b[1;32m      1\u001b[0m \u001b[0mcols\u001b[0m \u001b[0;34m=\u001b[0m \u001b[0;34m[\u001b[0m\u001b[0mi\u001b[0m \u001b[0;32mfor\u001b[0m \u001b[0mi\u001b[0m \u001b[0;32min\u001b[0m \u001b[0mrenamedDf\u001b[0m\u001b[0;34m.\u001b[0m\u001b[0mcolumns\u001b[0m \u001b[0;32mif\u001b[0m \u001b[0mi\u001b[0m \u001b[0;32mnot\u001b[0m \u001b[0;32min\u001b[0m \u001b[0mexcludedCols\u001b[0m\u001b[0;34m]\u001b[0m\u001b[0;34m+\u001b[0m\u001b[0;34m[\u001b[0m\u001b[0;34m\"label\"\u001b[0m\u001b[0;34m]\u001b[0m\u001b[0;34m\u001b[0m\u001b[0m\n\u001b[1;32m      2\u001b[0m \u001b[0;34m\u001b[0m\u001b[0m\n\u001b[0;32m----> 3\u001b[0;31m \u001b[0mmodel\u001b[0m \u001b[0;34m=\u001b[0m \u001b[0mtrainEvalModel\u001b[0m\u001b[0;34m.\u001b[0m\u001b[0mfit\u001b[0m\u001b[0;34m(\u001b[0m\u001b[0mimputedDf\u001b[0m\u001b[0;34m.\u001b[0m\u001b[0mselect\u001b[0m\u001b[0;34m(\u001b[0m\u001b[0;34m*\u001b[0m\u001b[0mcols\u001b[0m\u001b[0;34m)\u001b[0m\u001b[0;34m.\u001b[0m\u001b[0mfilter\u001b[0m\u001b[0;34m(\u001b[0m\u001b[0mF\u001b[0m\u001b[0;34m.\u001b[0m\u001b[0mcol\u001b[0m\u001b[0;34m(\u001b[0m\u001b[0;34m\"label\"\u001b[0m\u001b[0;34m)\u001b[0m \u001b[0;34m<=\u001b[0m \u001b[0;36m1\u001b[0m\u001b[0;34m)\u001b[0m\u001b[0;34m)\u001b[0m\u001b[0;34m\u001b[0m\u001b[0m\n\u001b[0m",
      "\u001b[0;32m/usr/local/share/spark/python/pyspark/ml/base.py\u001b[0m in \u001b[0;36mfit\u001b[0;34m(self, dataset, params)\u001b[0m\n\u001b[1;32m     62\u001b[0m                 \u001b[0;32mreturn\u001b[0m \u001b[0mself\u001b[0m\u001b[0;34m.\u001b[0m\u001b[0mcopy\u001b[0m\u001b[0;34m(\u001b[0m\u001b[0mparams\u001b[0m\u001b[0;34m)\u001b[0m\u001b[0;34m.\u001b[0m\u001b[0m_fit\u001b[0m\u001b[0;34m(\u001b[0m\u001b[0mdataset\u001b[0m\u001b[0;34m)\u001b[0m\u001b[0;34m\u001b[0m\u001b[0m\n\u001b[1;32m     63\u001b[0m             \u001b[0;32melse\u001b[0m\u001b[0;34m:\u001b[0m\u001b[0;34m\u001b[0m\u001b[0m\n\u001b[0;32m---> 64\u001b[0;31m                 \u001b[0;32mreturn\u001b[0m \u001b[0mself\u001b[0m\u001b[0;34m.\u001b[0m\u001b[0m_fit\u001b[0m\u001b[0;34m(\u001b[0m\u001b[0mdataset\u001b[0m\u001b[0;34m)\u001b[0m\u001b[0;34m\u001b[0m\u001b[0m\n\u001b[0m\u001b[1;32m     65\u001b[0m         \u001b[0;32melse\u001b[0m\u001b[0;34m:\u001b[0m\u001b[0;34m\u001b[0m\u001b[0m\n\u001b[1;32m     66\u001b[0m             raise ValueError(\"Params must be either a param map or a list/tuple of param maps, \"\n",
      "\u001b[0;32m/usr/local/share/spark/python/pyspark/ml/tuning.py\u001b[0m in \u001b[0;36m_fit\u001b[0;34m(self, dataset)\u001b[0m\n\u001b[1;32m    380\u001b[0m         \u001b[0;32mfor\u001b[0m \u001b[0mj\u001b[0m \u001b[0;32min\u001b[0m \u001b[0mrange\u001b[0m\u001b[0;34m(\u001b[0m\u001b[0mnumModels\u001b[0m\u001b[0;34m)\u001b[0m\u001b[0;34m:\u001b[0m\u001b[0;34m\u001b[0m\u001b[0m\n\u001b[1;32m    381\u001b[0m             \u001b[0mmodel\u001b[0m \u001b[0;34m=\u001b[0m \u001b[0mest\u001b[0m\u001b[0;34m.\u001b[0m\u001b[0mfit\u001b[0m\u001b[0;34m(\u001b[0m\u001b[0mtrain\u001b[0m\u001b[0;34m,\u001b[0m \u001b[0mepm\u001b[0m\u001b[0;34m[\u001b[0m\u001b[0mj\u001b[0m\u001b[0;34m]\u001b[0m\u001b[0;34m)\u001b[0m\u001b[0;34m\u001b[0m\u001b[0m\n\u001b[0;32m--> 382\u001b[0;31m             \u001b[0mmetric\u001b[0m \u001b[0;34m=\u001b[0m \u001b[0meva\u001b[0m\u001b[0;34m.\u001b[0m\u001b[0mevaluate\u001b[0m\u001b[0;34m(\u001b[0m\u001b[0mmodel\u001b[0m\u001b[0;34m.\u001b[0m\u001b[0mtransform\u001b[0m\u001b[0;34m(\u001b[0m\u001b[0mvalidation\u001b[0m\u001b[0;34m,\u001b[0m \u001b[0mepm\u001b[0m\u001b[0;34m[\u001b[0m\u001b[0mj\u001b[0m\u001b[0;34m]\u001b[0m\u001b[0;34m)\u001b[0m\u001b[0;34m)\u001b[0m\u001b[0;34m\u001b[0m\u001b[0m\n\u001b[0m\u001b[1;32m    383\u001b[0m             \u001b[0mmetrics\u001b[0m\u001b[0;34m[\u001b[0m\u001b[0mj\u001b[0m\u001b[0;34m]\u001b[0m \u001b[0;34m+=\u001b[0m \u001b[0mmetric\u001b[0m\u001b[0;34m\u001b[0m\u001b[0m\n\u001b[1;32m    384\u001b[0m         \u001b[0;32mif\u001b[0m \u001b[0meva\u001b[0m\u001b[0;34m.\u001b[0m\u001b[0misLargerBetter\u001b[0m\u001b[0;34m(\u001b[0m\u001b[0;34m)\u001b[0m\u001b[0;34m:\u001b[0m\u001b[0;34m\u001b[0m\u001b[0m\n",
      "\u001b[0;32m/usr/local/share/spark/python/pyspark/ml/evaluation.py\u001b[0m in \u001b[0;36mevaluate\u001b[0;34m(self, dataset, params)\u001b[0m\n\u001b[1;32m     66\u001b[0m                 \u001b[0;32mreturn\u001b[0m \u001b[0mself\u001b[0m\u001b[0;34m.\u001b[0m\u001b[0mcopy\u001b[0m\u001b[0;34m(\u001b[0m\u001b[0mparams\u001b[0m\u001b[0;34m)\u001b[0m\u001b[0;34m.\u001b[0m\u001b[0m_evaluate\u001b[0m\u001b[0;34m(\u001b[0m\u001b[0mdataset\u001b[0m\u001b[0;34m)\u001b[0m\u001b[0;34m\u001b[0m\u001b[0m\n\u001b[1;32m     67\u001b[0m             \u001b[0;32melse\u001b[0m\u001b[0;34m:\u001b[0m\u001b[0;34m\u001b[0m\u001b[0m\n\u001b[0;32m---> 68\u001b[0;31m                 \u001b[0;32mreturn\u001b[0m \u001b[0mself\u001b[0m\u001b[0;34m.\u001b[0m\u001b[0m_evaluate\u001b[0m\u001b[0;34m(\u001b[0m\u001b[0mdataset\u001b[0m\u001b[0;34m)\u001b[0m\u001b[0;34m\u001b[0m\u001b[0m\n\u001b[0m\u001b[1;32m     69\u001b[0m         \u001b[0;32melse\u001b[0m\u001b[0;34m:\u001b[0m\u001b[0;34m\u001b[0m\u001b[0m\n\u001b[1;32m     70\u001b[0m             \u001b[0;32mraise\u001b[0m \u001b[0mValueError\u001b[0m\u001b[0;34m(\u001b[0m\u001b[0;34m\"Params must be a param map but got %s.\"\u001b[0m \u001b[0;34m%\u001b[0m \u001b[0mtype\u001b[0m\u001b[0;34m(\u001b[0m\u001b[0mparams\u001b[0m\u001b[0;34m)\u001b[0m\u001b[0;34m)\u001b[0m\u001b[0;34m\u001b[0m\u001b[0m\n",
      "\u001b[0;32m/usr/local/share/spark/python/pyspark/ml/evaluation.py\u001b[0m in \u001b[0;36m_evaluate\u001b[0;34m(self, dataset)\u001b[0m\n\u001b[1;32m     96\u001b[0m         \"\"\"\n\u001b[1;32m     97\u001b[0m         \u001b[0mself\u001b[0m\u001b[0;34m.\u001b[0m\u001b[0m_transfer_params_to_java\u001b[0m\u001b[0;34m(\u001b[0m\u001b[0;34m)\u001b[0m\u001b[0;34m\u001b[0m\u001b[0m\n\u001b[0;32m---> 98\u001b[0;31m         \u001b[0;32mreturn\u001b[0m \u001b[0mself\u001b[0m\u001b[0;34m.\u001b[0m\u001b[0m_java_obj\u001b[0m\u001b[0;34m.\u001b[0m\u001b[0mevaluate\u001b[0m\u001b[0;34m(\u001b[0m\u001b[0mdataset\u001b[0m\u001b[0;34m.\u001b[0m\u001b[0m_jdf\u001b[0m\u001b[0;34m)\u001b[0m\u001b[0;34m\u001b[0m\u001b[0m\n\u001b[0m\u001b[1;32m     99\u001b[0m \u001b[0;34m\u001b[0m\u001b[0m\n\u001b[1;32m    100\u001b[0m     \u001b[0;32mdef\u001b[0m \u001b[0misLargerBetter\u001b[0m\u001b[0;34m(\u001b[0m\u001b[0mself\u001b[0m\u001b[0;34m)\u001b[0m\u001b[0;34m:\u001b[0m\u001b[0;34m\u001b[0m\u001b[0m\n",
      "\u001b[0;32m/usr/local/share/spark/python/lib/py4j-0.10.1-src.zip/py4j/java_gateway.py\u001b[0m in \u001b[0;36m__call__\u001b[0;34m(self, *args)\u001b[0m\n\u001b[1;32m    931\u001b[0m         \u001b[0manswer\u001b[0m \u001b[0;34m=\u001b[0m \u001b[0mself\u001b[0m\u001b[0;34m.\u001b[0m\u001b[0mgateway_client\u001b[0m\u001b[0;34m.\u001b[0m\u001b[0msend_command\u001b[0m\u001b[0;34m(\u001b[0m\u001b[0mcommand\u001b[0m\u001b[0;34m)\u001b[0m\u001b[0;34m\u001b[0m\u001b[0m\n\u001b[1;32m    932\u001b[0m         return_value = get_return_value(\n\u001b[0;32m--> 933\u001b[0;31m             answer, self.gateway_client, self.target_id, self.name)\n\u001b[0m\u001b[1;32m    934\u001b[0m \u001b[0;34m\u001b[0m\u001b[0m\n\u001b[1;32m    935\u001b[0m         \u001b[0;32mfor\u001b[0m \u001b[0mtemp_arg\u001b[0m \u001b[0;32min\u001b[0m \u001b[0mtemp_args\u001b[0m\u001b[0;34m:\u001b[0m\u001b[0;34m\u001b[0m\u001b[0m\n",
      "\u001b[0;32m/usr/local/share/spark/python/pyspark/sql/utils.py\u001b[0m in \u001b[0;36mdeco\u001b[0;34m(*a, **kw)\u001b[0m\n\u001b[1;32m     77\u001b[0m                 \u001b[0;32mraise\u001b[0m \u001b[0mQueryExecutionException\u001b[0m\u001b[0;34m(\u001b[0m\u001b[0ms\u001b[0m\u001b[0;34m.\u001b[0m\u001b[0msplit\u001b[0m\u001b[0;34m(\u001b[0m\u001b[0;34m': '\u001b[0m\u001b[0;34m,\u001b[0m \u001b[0;36m1\u001b[0m\u001b[0;34m)\u001b[0m\u001b[0;34m[\u001b[0m\u001b[0;36m1\u001b[0m\u001b[0;34m]\u001b[0m\u001b[0;34m,\u001b[0m \u001b[0mstackTrace\u001b[0m\u001b[0;34m)\u001b[0m\u001b[0;34m\u001b[0m\u001b[0m\n\u001b[1;32m     78\u001b[0m             \u001b[0;32mif\u001b[0m \u001b[0ms\u001b[0m\u001b[0;34m.\u001b[0m\u001b[0mstartswith\u001b[0m\u001b[0;34m(\u001b[0m\u001b[0;34m'java.lang.IllegalArgumentException: '\u001b[0m\u001b[0;34m)\u001b[0m\u001b[0;34m:\u001b[0m\u001b[0;34m\u001b[0m\u001b[0m\n\u001b[0;32m---> 79\u001b[0;31m                 \u001b[0;32mraise\u001b[0m \u001b[0mIllegalArgumentException\u001b[0m\u001b[0;34m(\u001b[0m\u001b[0ms\u001b[0m\u001b[0;34m.\u001b[0m\u001b[0msplit\u001b[0m\u001b[0;34m(\u001b[0m\u001b[0;34m': '\u001b[0m\u001b[0;34m,\u001b[0m \u001b[0;36m1\u001b[0m\u001b[0;34m)\u001b[0m\u001b[0;34m[\u001b[0m\u001b[0;36m1\u001b[0m\u001b[0;34m]\u001b[0m\u001b[0;34m,\u001b[0m \u001b[0mstackTrace\u001b[0m\u001b[0;34m)\u001b[0m\u001b[0;34m\u001b[0m\u001b[0m\n\u001b[0m\u001b[1;32m     80\u001b[0m             \u001b[0;32mraise\u001b[0m\u001b[0;34m\u001b[0m\u001b[0m\n\u001b[1;32m     81\u001b[0m     \u001b[0;32mreturn\u001b[0m \u001b[0mdeco\u001b[0m\u001b[0;34m\u001b[0m\u001b[0m\n",
      "\u001b[0;31mIllegalArgumentException\u001b[0m: 'Field \"rawPrediction\" does not exist.'"
     ]
    }
   ],
   "source": [
    "cols = [i for i in renamedDf.columns if i not in excludedCols]+[\"label\"]\n",
    "\n",
    "model = trainEvalModel.fit(imputedDf.select(*cols).filter(F.col(\"label\") <= 1))"
   ]
  },
  {
   "cell_type": "code",
   "execution_count": 91,
   "metadata": {
    "collapsed": false
   },
   "outputs": [
    {
     "name": "stdout",
     "output_type": "stream",
     "text": [
      "root\n",
      " |-- AarsVaerk_1: double (nullable = false)\n",
      " |-- AarsVaerk_2: double (nullable = false)\n",
      " |-- AarsVaerk_3: double (nullable = false)\n",
      " |-- AarsVaerk_4: double (nullable = false)\n",
      " |-- AarsVaerk_5: double (nullable = false)\n",
      " |-- AarsVaerk_6: double (nullable = false)\n",
      " |-- AarsVaerk_7: double (nullable = false)\n",
      " |-- AarsVaerk_8: double (nullable = false)\n",
      " |-- AarsVaerk_9: double (nullable = false)\n",
      " |-- AarsVaerk_10: double (nullable = false)\n",
      " |-- AarsVaerk_11: double (nullable = false)\n",
      " |-- AarsVaerk_12: double (nullable = false)\n",
      " |-- AarsVaerk_13: double (nullable = false)\n",
      " |-- AarsVaerk_14: double (nullable = false)\n",
      " |-- AarsVaerk_15: double (nullable = false)\n",
      " |-- avgVarighed: double (nullable = false)\n",
      " |-- totalAabneEnheder: double (nullable = false)\n",
      " |-- totalLukketEnheder: double (nullable = false)\n",
      " |-- vaerdiSlope_1: double (nullable = false)\n",
      " |-- vaerdiSlope_2: double (nullable = false)\n",
      " |-- vaerdiSlope_3: double (nullable = false)\n",
      " |-- vaerdiSlope_4: double (nullable = false)\n",
      " |-- vaerdiSlope_5: double (nullable = false)\n",
      " |-- vaerdiSlope_6: double (nullable = false)\n",
      " |-- vaerdiSlope_7: double (nullable = false)\n",
      " |-- reklamebeskyttet: double (nullable = false)\n",
      " |-- label: double (nullable = false)\n",
      "\n"
     ]
    }
   ],
   "source": [
    "predict = model..transform(imputedDf.select(*cols).filter(F.col(\"label\") <= 1))\n",
    "imputedDf.select(*cols).filter(F.col(\"label\") <= 1).printSchema()"
   ]
  },
  {
   "cell_type": "code",
   "execution_count": 95,
   "metadata": {
    "collapsed": false
   },
   "outputs": [
    {
     "name": "stdout",
     "output_type": "stream",
     "text": [
      "Coefficient Standard Errors: [0.00060663308727155, 0.0007519666947785978, 0.000711341189202029, 0.0006439644831685794, 0.0008270035385413254, 0.0008046613897137305, 0.0010321426755108202, 0.0009805126061947754, 0.0011715362209909488, 0.0014315023877709083, 0.0016039269138056539, 0.0014605483890031716, 0.0014580786819210197, 0.0017614815929307924, 0.0014442858090305548, 1.4776939364887241e-06, 0.0024527979391702794, 0.005641754851351828, 2.1602125780588623e-08, 4.482988627440235e-08, 1.941301702726079e-07, 2.0998993359408759e-07, 6.902319351199482e-07, 1.4340377734315118e-05, 7.894013037571729e-06, 0.006566878379619086, 0.0063388762292734815]\n",
      "T Values: [-283.03449896138227, 334.1714838200412, -109.68587851294157, -139.94269501038147, -179.80231389454045, 31.057119087710777, 48.42007280143863, 73.35819928413993, -101.56605125515793, -76.19650268271621, -83.18425599472717, 169.47191611885378, 109.72038472354501, -449.21664647282574, 377.14061210108883, 12.46005415872235, 68.8799591490644, 49.05598234468639, -633.8841577938279, 53.000340138228864, -197.25697275412088, 1087.1417532366233, -437.861577996344, 3465.9420471210274, -2803.8425688495117, 22.341417917833272, 77.69079487436609]\n",
      "P Values: [0.0, 0.0, 0.0, 0.0, 0.0, 0.0, 0.0, 0.0, 0.0, 0.0, 0.0, 0.0, 0.0, 0.0, 0.0, 0.0, 0.0, 0.0, 0.0, 0.0, 0.0, 0.0, 0.0, 0.0, 0.0, 0.0, 0.0]\n",
      "Dispersion: 1.0\n",
      "Null Deviance: 401241.2346208986\n",
      "Residual Degree Of Freedom Null: 315725\n",
      "Deviance: 800985.790291175\n",
      "Residual Degree Of Freedom: 315699\n",
      "AIC: 801039.790291175\n",
      "Deviance Residuals: \n",
      "+------------------+\n",
      "| devianceResiduals|\n",
      "+------------------+\n",
      "| 5.495744814729124|\n",
      "| 2.915752450551924|\n",
      "|0.6276935306296806|\n",
      "|1.2022015391153766|\n",
      "|0.9349878726666203|\n",
      "|0.8435041663619414|\n",
      "|0.9363351153560424|\n",
      "|0.9363351153560424|\n",
      "| 0.221823538936251|\n",
      "| 1.417611165164476|\n",
      "|0.8720615036837311|\n",
      "| 2.091462730558736|\n",
      "|1.2058553056300734|\n",
      "|1.4788191258410732|\n",
      "|1.4380863572855533|\n",
      "|1.4788191258410732|\n",
      "|0.9823909475371032|\n",
      "| 2.527356725983328|\n",
      "|1.1503602272879747|\n",
      "|0.5840304176284861|\n",
      "+------------------+\n",
      "only showing top 20 rows\n",
      "\n"
     ]
    }
   ],
   "source": [
    "p = model.stages[1].summary\n",
    "\n",
    "print(\"Coefficient Standard Errors: \" + str(p.coefficientStandardErrors))\n",
    "print(\"T Values: \" + str(p.tValues))\n",
    "print(\"P Values: \" + str(p.pValues))\n",
    "print(\"Dispersion: \" + str(p.dispersion))\n",
    "print(\"Null Deviance: \" + str(p.nullDeviance))\n",
    "print(\"Residual Degree Of Freedom Null: \" + str(p.residualDegreeOfFreedomNull))\n",
    "print(\"Deviance: \" + str(p.deviance))\n",
    "print(\"Residual Degree Of Freedom: \" + str(p.residualDegreeOfFreedom))\n",
    "print(\"AIC: \" + str(p.aic))\n",
    "print(\"Deviance Residuals: \")\n",
    "p.residuals().show()"
   ]
  },
  {
   "cell_type": "code",
   "execution_count": 3,
   "metadata": {
    "collapsed": false,
    "scrolled": true
   },
   "outputs": [
    {
     "name": "stdout",
     "output_type": "stream",
     "text": [
      "+-------+\n",
      "|summary|\n",
      "+-------+\n",
      "|  count|\n",
      "|   mean|\n",
      "| stddev|\n",
      "|    min|\n",
      "|    max|\n",
      "+-------+\n",
      "\n",
      "+-------+---------+------+-----------+-----------+-----------+-----------+-----------+-----------+-----------+-----------+-----------+------------+------------+------------+------------+------------+------------+--------+--------+--------+--------+--------+--------+--------+--------+--------+---------+---------+---------+---------+---------+---------+-----------+-----------------+------------------+-------------+-------------+-------------+-------------+-------------+-------------+-------------+----------------+\n",
      "|summary|cvrNummer| label|AarsVaerk_1|AarsVaerk_2|AarsVaerk_3|AarsVaerk_4|AarsVaerk_5|AarsVaerk_6|AarsVaerk_7|AarsVaerk_8|AarsVaerk_9|AarsVaerk_10|AarsVaerk_11|AarsVaerk_12|AarsVaerk_13|AarsVaerk_14|AarsVaerk_15|medArb_1|medArb_2|medArb_3|medArb_4|medArb_5|medArb_6|medArb_7|medArb_8|medArb_9|medArb_10|medArb_11|medArb_12|medArb_13|medArb_14|medArb_15|avgVarighed|totalAabneEnheder|totalLukketEnheder|vaerdiSlope_1|vaerdiSlope_2|vaerdiSlope_3|vaerdiSlope_4|vaerdiSlope_5|vaerdiSlope_6|vaerdiSlope_7|reklamebeskyttet|\n",
      "+-------+---------+------+-----------+-----------+-----------+-----------+-----------+-----------+-----------+-----------+-----------+------------+------------+------------+------------+------------+------------+--------+--------+--------+--------+--------+--------+--------+--------+--------+---------+---------+---------+---------+---------+---------+-----------+-----------------+------------------+-------------+-------------+-------------+-------------+-------------+-------------+-------------+----------------+\n",
      "|  count|   317827|317827|     317827|     269143|     210742|     174464|     143649|     118501|      99374|      84004|      69626|       59566|       50753|       43772|       36725|       28263|       22737|  317827|  269143|  210742|  174464|  143649|  118501|   99374|   84004|   69626|    59566|    50753|    43772|    36725|    28263|    22737|     234873|           317827|            317827|       121067|        45698|        19630|         9925|         5622|         3499|         2357|          317827|\n",
      "+-------+---------+------+-----------+-----------+-----------+-----------+-----------+-----------+-----------+-----------+-----------+------------+------------+------------+------------+------------+------------+--------+--------+--------+--------+--------+--------+--------+--------+--------+---------+---------+---------+---------+---------+---------+-----------+-----------------+------------------+-------------+-------------+-------------+-------------+-------------+-------------+-------------+----------------+\n",
      "\n"
     ]
    }
   ],
   "source": [
    "#check null values.\n",
    "descriptionCVR = renamedDf.describe()\n",
    "descriptionCVR.select(\"summary\").show()\n",
    "descriptionCVR.filter(F.col(\"summary\")==\"count\").show()\n",
    "\n",
    "\n"
   ]
  },
  {
   "cell_type": "code",
   "execution_count": 4,
   "metadata": {
    "collapsed": false
   },
   "outputs": [
    {
     "name": "stdout",
     "output_type": "stream",
     "text": [
      "+-------+-------------------+------------------+------------------+------------------+-----------------+-----------------+------------------+------------------+-----------------+------------------+------------------+------------------+------------------+------------------+------------------+------------------+------------------+------------------+-----------------+-----------------+-----------------+------------------+------------------+------------------+------------------+------------------+------------------+------------------+-----------------+------------------+------------------+-----------------+------------------+------------------+-------------------+-----------------+------------------+-----------------+-------------------+------------------+------------------+------------------+-------------------+\n",
      "|summary|          cvrNummer|             label|       AarsVaerk_1|       AarsVaerk_2|      AarsVaerk_3|      AarsVaerk_4|       AarsVaerk_5|       AarsVaerk_6|      AarsVaerk_7|       AarsVaerk_8|       AarsVaerk_9|      AarsVaerk_10|      AarsVaerk_11|      AarsVaerk_12|      AarsVaerk_13|      AarsVaerk_14|      AarsVaerk_15|          medArb_1|         medArb_2|         medArb_3|         medArb_4|          medArb_5|          medArb_6|          medArb_7|          medArb_8|          medArb_9|         medArb_10|         medArb_11|        medArb_12|         medArb_13|         medArb_14|        medArb_15|       avgVarighed| totalAabneEnheder| totalLukketEnheder|    vaerdiSlope_1|     vaerdiSlope_2|    vaerdiSlope_3|      vaerdiSlope_4|     vaerdiSlope_5|     vaerdiSlope_6|     vaerdiSlope_7|   reklamebeskyttet|\n",
      "+-------+-------------------+------------------+------------------+------------------+-----------------+-----------------+------------------+------------------+-----------------+------------------+------------------+------------------+------------------+------------------+------------------+------------------+------------------+------------------+-----------------+-----------------+-----------------+------------------+------------------+------------------+------------------+------------------+------------------+------------------+-----------------+------------------+------------------+-----------------+------------------+------------------+-------------------+-----------------+------------------+-----------------+-------------------+------------------+------------------+------------------+-------------------+\n",
      "|   mean|2.992587977176892E7|0.6770318443681625| 4.963124592938926| 6.599220488736471|7.883416689601503|9.083146093176817| 9.771213165424054|10.298917308714694|10.77020146114678|11.333662682729393|11.979418607991267|12.565540744720142|13.190747344984533|13.685712327515306|14.092008168822328|15.306301524961965|15.918722786647315| 5.503519210136332|8.213265810368465|9.818617076804813|11.16323711482025|12.375860604668324|12.991983190015274|13.533087125405036|13.999154802152278|14.809654439433546|15.498606587650674| 16.10517604870648|16.86322306497304|17.443267528931244|18.770017337154584|19.24664643532568|3104.0394283223163|1.1975634543320737|0.42037334776466445|9367.222088225697|14773.935940526042|37270.54804289701|  534722.7367923224| 69479.75111113006| 79309.96883183606|246815.61845150983|0.05565606446274231|\n",
      "| stddev|1.595872029695645E7|0.4815407404508707|28.219409782015937|31.349174803319965|36.38636236195736|40.84287153372559|43.053166612742295| 43.50716762822306|44.69115651768418| 46.24885171030284| 48.03721081702004|49.663482624596746|   50.952745810432|51.757992157941516| 51.79592907581495|57.952550432313735|59.896979275308205|31.469466071930402| 35.7271436211818|40.94583736584511| 45.5828092120186| 48.68024770176678| 49.50427185113245|50.816539411344706| 52.01619572491007|54.732773025784745|  56.2466055958348|56.478429021321915|58.18250553629226| 59.22942233650709| 64.22850620145455|64.30084551221002| 2826.832782887831| 4.297482547820878|  2.316930888416194|1104747.513966895|485532.34538503713|947528.7880333586|4.535843433554792E7|1192985.3794908465|1020811.2995945786| 4224380.725125994|0.22925669525652828|\n",
      "+-------+-------------------+------------------+------------------+------------------+-----------------+-----------------+------------------+------------------+-----------------+------------------+------------------+------------------+------------------+------------------+------------------+------------------+------------------+------------------+-----------------+-----------------+-----------------+------------------+------------------+------------------+------------------+------------------+------------------+------------------+-----------------+------------------+------------------+-----------------+------------------+------------------+-------------------+-----------------+------------------+-----------------+-------------------+------------------+------------------+------------------+-------------------+\n",
      "\n"
     ]
    }
   ],
   "source": [
    "#check mean and stddev\n",
    "descriptionCVR.filter((F.col(\"summary\") ==\"mean\") | (F.col(\"summary\") ==\"stddev\")).show()"
   ]
  },
  {
   "cell_type": "code",
   "execution_count": 5,
   "metadata": {
    "collapsed": false
   },
   "outputs": [
    {
     "name": "stdout",
     "output_type": "stream",
     "text": [
      "+---------+--------------------+\n",
      "|cvrNummer|                navn|\n",
      "+---------+--------------------+\n",
      "| 10000009|              YELLOW|\n",
      "| 10000025|WATERFRONT CONNEC...|\n",
      "+---------+--------------------+\n",
      "only showing top 2 rows\n",
      "\n"
     ]
    }
   ],
   "source": [
    "windowSpecRank =(Window.partitionBy(F.col(\"cvrNummer\"))).orderBy(F.col(\"gyldigFra\").desc())\n",
    "\n",
    "groupCols = [\"cvrNummer\",\"vaerdi\"]\n",
    "\n",
    "companyNameDf = (sqlContext\n",
    "                 .read\n",
    "                 .parquet(\"/home/svanhmic/workspace/Python/Erhvervs/data/cdata/\"+\"companyCvrData\")\n",
    "                 .withColumn(colName=\"rank\",col=F.rank().over(windowSpecRank))\n",
    "                 .filter((F.col(\"rank\")==1) & (F.col(\"sekvensnr\")==0))\n",
    "                 .select([F.col(i) for i in groupCols])\n",
    "                 .withColumnRenamed(existing=\"vaerdi\",new=\"navn\")\n",
    "                 .orderBy(F.col(\"cvrNummer\"))\n",
    "                 .cache()\n",
    "                )\n",
    "companyNameDf.show(2)"
   ]
  },
  {
   "cell_type": "code",
   "execution_count": 6,
   "metadata": {
    "collapsed": false,
    "scrolled": false
   },
   "outputs": [
    {
     "name": "stdout",
     "output_type": "stream",
     "text": [
      "+--------------------+---------+-----+--------------------+--------------------+\n",
      "|                navn|cvrNummer|label|              status|            features|\n",
      "+--------------------+---------+-----+--------------------+--------------------+\n",
      "|   EMPAKA KARTONNAGE| 10016533|    1|            [NORMAL]|[0.12721405809989...|\n",
      "|      DET GAMLE GODS| 10016606|    1|            [NORMAL]|[-0.1483813281958...|\n",
      "|               DIXEN| 10018064|    0|[OPLØST EFTER KON...|[-0.1483813281958...|\n",
      "|        TRELBORG VVS| 10063760|    1|            [NORMAL]|[-0.1483813281958...|\n",
      "|            CYBERSUN| 10065917|    0|[OPLØST EFTER KON...|[-0.0258944898421...|\n",
      "|                HME2| 10080207|    1|            [NORMAL]|[-0.1483813281958...|\n",
      "|TØMRERFIRMAET HER...| 10082528|    1|            [NORMAL]|[-0.1177596186074...|\n",
      "|    MØRKHOLT VINDUER| 10096227|    1|            [NORMAL]|[-0.1483813281958...|\n",
      "|                KISØ| 10108993|    1|            [NORMAL]|[-0.1177596186074...|\n",
      "|               C-CUT| 10117267|    1|[OPLØST EFTER ERK...|[-0.1483813281958...|\n",
      "|          HLS INVEST| 10120829|    0|[OPLØST EFTER KON...|[-0.1483813281958...|\n",
      "|       ELKA RAINWEAR| 10138698|    1|            [NORMAL]|[0.12721405809989...|\n",
      "|              BØMLER| 10142539|    0|[OPLØST EFTER KON...|[-0.1483813281958...|\n",
      "|     NORDISKE MEDIER| 10150825|    1|            [NORMAL]|[-0.1177596186074...|\n",
      "|  SBR POUL-ERIK KJÆR| 10178509|    0|[OPLØST EFTER KON...|[-0.1483813281958...|\n",
      "|         SCAN ORIENT| 10228476|    1|[TVANGSOPLØST, UN...|[-0.1483813281958...|\n",
      "|           AQUA-NORD| 10310989|    1|[OPLØST EFTER FRI...|[-0.1177596186074...|\n",
      "|        IKAST ETIKET| 10402980|    1|            [NORMAL]|[-0.1177596186074...|\n",
      "|BRDR. JØRGENSEN C...| 10518431|    1|            [NORMAL]|[0.43343115398404...|\n",
      "|         AXEL MADSEN| 10553490|    1|            [NORMAL]|[-0.0258944898421...|\n",
      "+--------------------+---------+-----+--------------------+--------------------+\n",
      "only showing top 20 rows\n",
      "\n"
     ]
    }
   ],
   "source": [
    "#take ln(x+1) of features\n",
    "\n",
    "labelCols = [\"cvrNummer\",\"label\",\"status\"]\n",
    "logFeatCols = [i for i in renamedDf.columns if i not in labelCols]\n",
    "#print(logFeatCols)\n",
    "mininum = descriptionCVR.filter(F.col(\"summary\")==\"min\").collect()[0]\n",
    "#print(mininum)\n",
    "\n",
    "\n",
    "logDf = (renamedDf\n",
    "         .select([F.col(\"cvrNummer\"),F.col(\"label\")]+[F.log1p(F.col(i)-F.lit(mininum[i])).alias(i) for i in logFeatCols])\n",
    "         .na\n",
    "         .fill(0.0,logFeatCols)\n",
    "         \n",
    "        )\n",
    "#logDf.show(2)\n",
    "\n",
    "\n",
    "#First convert features to vetor\n",
    "toDenseUDf = F.udf(lambda x: Vectors.dense(x.toArray()),VectorUDT())\n",
    "vectorizer = VectorAssembler(inputCols=logFeatCols,outputCol=\"features\")\n",
    "\n",
    "rawVectorDataDf = (vectorizer.transform(renamedDf                                                                               \n",
    "                                        .join(companyNameDf,(companyNameDf[\"cvrNummer\"]==renamedDf[\"cvrNummer\"]),\"inner\")\n",
    "                                        .drop(companyNameDf[\"cvrNummer\"])\n",
    "                                        #.select(*logColsSelected) \n",
    "                                        .na\n",
    "                                        .fill(0.0,logFeatCols)\n",
    "                                        .distinct()\n",
    "                                       )\n",
    "                   .select([\"navn\"]+labelCols+[toDenseUDf(vectorizer.getOutputCol()).alias(vectorizer.getOutputCol())])\n",
    "                  )\n",
    "\n",
    "standardScale = StandardScaler(withMean=True,withStd=True,inputCol=vectorizer.getOutputCol(),outputCol=\"scaledFeatures\")\n",
    "standardScaleModel = standardScale.fit(rawVectorDataDf)\n",
    "scaledFeaturesDf = (standardScaleModel\n",
    "                    .transform(rawVectorDataDf)\n",
    "                    .drop(\"features\")\n",
    "                    .withColumnRenamed(existing=\"scaledFeatures\",new=\"features\")\n",
    "                   )\n",
    "\n",
    "scaledFeaturesDf.show()"
   ]
  },
  {
   "cell_type": "code",
   "execution_count": 14,
   "metadata": {
    "collapsed": false
   },
   "outputs": [
    {
     "name": "stdout",
     "output_type": "stream",
     "text": [
      "+-----+-----+\n",
      "|label|count|\n",
      "+-----+-----+\n",
      "|    0| 6078|\n",
      "|    1|25756|\n",
      "+-----+-----+\n",
      "\n",
      "+-----+------+\n",
      "|label| count|\n",
      "+-----+------+\n",
      "|    0| 24465|\n",
      "|    1|103472|\n",
      "+-----+------+\n",
      "\n",
      "Number of data points: 160648\n",
      "Number of data points train: 127937\n",
      "Number of data points test: 31834\n"
     ]
    }
   ],
   "source": [
    "#put them into a feature vecto\n",
    "vectorizedTestDf = scaledFeaturesDf.filter(F.col(\"label\") <= 1).sampleBy(\"label\", fractions={0: 0.2, 1: 0.2}, seed=42)\n",
    "vectorizedTestDf.groupBy(\"label\").count().show()\n",
    "\n",
    "scaledCvrDf = scaledFeaturesDf.select(F.col(\"cvrNummer\"))\n",
    "cvrTestDf = vectorizedTestDf.select(\"cvrNummer\")\n",
    "cvrTrainDf = scaledCvrDf.subtract(cvrTestDf) #take the other partion as training set\n",
    "\n",
    "vectorizedTrainDf = (scaledFeaturesDf\n",
    "                     .filter(F.col(\"label\") <= 1)\n",
    "                     .join(cvrTrainDf,(scaledFeaturesDf[\"cvrNummer\"] == cvrTrainDf[\"cvrNummer\"]),\"inner\")\n",
    "                     .drop(cvrTrainDf[\"cvrNummer\"])\n",
    "                    )\n",
    "vectorizedTrainDf.groupBy(\"label\").count().show()\n",
    "print(\"Number of data points: \"+str(scaledFeaturesDf.count()))\n",
    "print(\"Number of data points train: \"+str(vectorizedTrainDf.select(\"cvrNummer\").count()))\n",
    "print(\"Number of data points test: \"+str(vectorizedTestDf.select(\"cvrNummer\").count()))\n",
    "#vectorizedTrainDf.printSchema()\n",
    "#print(vectorizedTrainDf.first())"
   ]
  },
  {
   "cell_type": "code",
   "execution_count": 15,
   "metadata": {
    "collapsed": false,
    "scrolled": true
   },
   "outputs": [
    {
     "name": "stdout",
     "output_type": "stream",
     "text": [
      "+--------------------+-----+--------------------+--------------------+---------+\n",
      "|                navn|label|              status|            features|cvrNummer|\n",
      "+--------------------+-----+--------------------+--------------------+---------+\n",
      "|SKYTTENS HANDEL O...|    1|[OPLØST EFTER FUS...|[-0.1483813281958...| 10019052|\n",
      "|            DIKI.NET|    0|[OPLØST EFTER KON...|[-0.1483813281958...| 10026113|\n",
      "|                CTEK|    1|[OPLØST EFTER FUS...|[-0.1177596186074...| 10040523|\n",
      "|      VG ENTREPRENØR|    1|            [NORMAL]|[0.43343115398404...| 10057426|\n",
      "|NORDBYENS OLIEFYR...|    1|            [NORMAL]|[-0.1483813281958...| 10089514|\n",
      "|EXPRESS LABELLING...|    1|[TVANGSOPLØST, UN...|[-0.1483813281958...| 10091713|\n",
      "|PSYKOLOGERNE VED ...|    1|[OPLØST EFTER FUS...|[-0.1790030377842...| 10108624|\n",
      "|         RAH HOLDING|    1|            [NORMAL]|[-0.1483813281958...| 10127351|\n",
      "|AMAGER BROLÆGGERF...|    0|[OPLØST EFTER KON...|[-0.1177596186074...| 10128587|\n",
      "|        ART OF JEWEL|    1|            [NORMAL]|[-0.1177596186074...| 10145619|\n",
      "|    FRONT FREDERICIA|    1|[OPLØST EFTER FUS...|[0.12721405809989...| 10156521|\n",
      "|M.L.R. AF 16. APR...|    1|[OPLØST EFTER ERK...|[-0.1177596186074...| 10200288|\n",
      "| FOLKE LARSENS EFTF.|    1|            [NORMAL]|[-0.0258944898421...| 10351235|\n",
      "|               TAORA|    1|[OPLØST EFTER FUS...|[-0.1790030377842...| 10366380|\n",
      "|     CH AF 24/8 2000|    1|[OPLØST EFTER FRI...|[0.12721405809989...| 10412986|\n",
      "|            SIBA-ØST|    1|[OPLØST EFTER FRI...|[-0.1483813281958...| 10481171|\n",
      "|         STEVNS TRYK|    1|[OPLØST EFTER ERK...|[-0.1483813281958...| 10577675|\n",
      "|  PERSPEKTIV HOLDING|    1|            [NORMAL]|[-0.1483813281958...| 10606683|\n",
      "|     INTRUM JUSTITIA|    1|            [NORMAL]|[1.35208244163648...| 10613779|\n",
      "|         LOBO MØBLER|    1|            [NORMAL]|[-0.1177596186074...| 10629098|\n",
      "+--------------------+-----+--------------------+--------------------+---------+\n",
      "only showing top 20 rows\n",
      "\n"
     ]
    }
   ],
   "source": [
    "vectorizedTrainDf.show()"
   ]
  },
  {
   "cell_type": "code",
   "execution_count": 16,
   "metadata": {
    "collapsed": false
   },
   "outputs": [
    {
     "data": {
      "text/plain": [
       "0.8090805096973791"
      ]
     },
     "execution_count": 16,
     "metadata": {},
     "output_type": "execute_result"
    }
   ],
   "source": [
    "#Train the logistic regressionmodel\n",
    "lr = LogisticRegression()\n",
    "grid = (ParamGridBuilder()\n",
    "        .baseOn({lr.predictionCol:\"prediction\"})\n",
    "        .baseOn({lr.rawPredictionCol:\"rawPrediction\"})\n",
    "        .baseOn({lr.probabilityCol:\"probability\"})\n",
    "        .baseOn({lr.labelCol:\"label\"})\n",
    "        .baseOn({lr.featuresCol:\"features\"})\n",
    "        .addGrid(param=lr.elasticNetParam,values=[0.1,1.0])\n",
    "        .addGrid(param=lr.getMaxIter,values=[10])\n",
    "        .build()\n",
    "       )\n",
    "evaluate = BinaryClassificationEvaluator(rawPredictionCol=\"rawPrediction\")\n",
    "crossVal = CrossValidator(estimator=lr,estimatorParamMaps=grid,evaluator=evaluate,numFolds=10)\n",
    "\n",
    "crossValModel = crossVal.fit(dataset=vectorizedTrainDf)\n",
    "evaluate.evaluate(crossValModel.transform(vectorizedTestDf))\n",
    "#coef = lrModel.coefficients"
   ]
  },
  {
   "cell_type": "code",
   "execution_count": 17,
   "metadata": {
    "collapsed": false
   },
   "outputs": [],
   "source": [
    "bestModel = crossValModel.bestModel"
   ]
  },
  {
   "cell_type": "code",
   "execution_count": 18,
   "metadata": {
    "collapsed": true
   },
   "outputs": [],
   "source": [
    "#test the values\n",
    "result = bestModel.transform(vectorizedTestDf)"
   ]
  },
  {
   "cell_type": "code",
   "execution_count": 12,
   "metadata": {
    "collapsed": false
   },
   "outputs": [],
   "source": [
    "#"
   ]
  },
  {
   "cell_type": "code",
   "execution_count": 19,
   "metadata": {
    "collapsed": false
   },
   "outputs": [
    {
     "name": "stdout",
     "output_type": "stream",
     "text": [
      "+-----+-----+\n",
      "|cases|count|\n",
      "+-----+-----+\n",
      "|   TP|25710|\n",
      "|   TN|   36|\n",
      "|   FN|   46|\n",
      "|   FP| 6042|\n",
      "+-----+-----+\n",
      "\n"
     ]
    }
   ],
   "source": [
    "#result.orderBy(\"prediction\").show(100)\n",
    "confCols = [F.col(i) for i in [\"TP\",\"TN\",\"FP\",\"FN\"]]\n",
    "\n",
    "\n",
    "csCols = [F.when((F.col(\"label\")==1) & (F.col(\"difference\") == 0),\"TP\")\n",
    "          ,F.when((F.col(\"label\")==0) & (F.col(\"difference\") == 0),\"TN\")\n",
    "          ,F.when(F.col(\"difference\") == 1,\"FN\")\n",
    "          ,F.when(F.col(\"difference\") == -1,\"FP\")\n",
    "         ]\n",
    "\n",
    "confusionDf = result.select(F.col(\"label\"),F.col(\"prediction\"),(F.col(\"label\")-F.col(\"prediction\")).alias(\"difference\"))\n",
    "(confusionDf\n",
    " .select(F.coalesce(*csCols).alias(\"cases\")  \n",
    "         #,.otherwise(0).alias(\"FP\")\n",
    "         #,.otherwise(0).alias(\"FN\")\n",
    "        )\n",
    " .groupBy(\"cases\").count()\n",
    ").show()\n",
    "\n",
    " "
   ]
  },
  {
   "cell_type": "code",
   "execution_count": 17,
   "metadata": {
    "collapsed": false
   },
   "outputs": [
    {
     "data": {
      "text/plain": [
       "True"
      ]
     },
     "execution_count": 17,
     "metadata": {},
     "output_type": "execute_result"
    }
   ],
   "source": [
    "crossValModel.bestModel.hasSummary"
   ]
  },
  {
   "cell_type": "code",
   "execution_count": 20,
   "metadata": {
    "collapsed": false
   },
   "outputs": [],
   "source": [
    "summary = crossValModel.bestModel.summary"
   ]
  },
  {
   "cell_type": "code",
   "execution_count": 24,
   "metadata": {
    "collapsed": false
   },
   "outputs": [
    {
     "name": "stdout",
     "output_type": "stream",
     "text": [
      "+--------------------+-----+--------------------+--------------------+---------+--------------------+--------------------+----------+\n",
      "|                navn|label|              status|            features|cvrNummer|       rawPrediction|         probability|prediction|\n",
      "+--------------------+-----+--------------------+--------------------+---------+--------------------+--------------------+----------+\n",
      "|SKYTTENS HANDEL O...|    1|[OPLØST EFTER FUS...|[-0.1483813281958...| 10019052|[-0.1436615979228...|[0.46414624375980...|       1.0|\n",
      "|            DIKI.NET|    0|[OPLØST EFTER KON...|[-0.1483813281958...| 10026113|[-0.2470744652013...|[0.43854370342953...|       1.0|\n",
      "|                CTEK|    1|[OPLØST EFTER FUS...|[-0.1177596186074...| 10040523|[-0.6803097893868...|[0.33619216432178...|       1.0|\n",
      "|      VG ENTREPRENØR|    1|            [NORMAL]|[0.43343115398404...| 10057426|[-3.7227933151943...|[0.02359613625108...|       1.0|\n",
      "|NORDBYENS OLIEFYR...|    1|            [NORMAL]|[-0.1483813281958...| 10089514|[-2.8801667669252...|[0.05314274429565...|       1.0|\n",
      "|EXPRESS LABELLING...|    1|[TVANGSOPLØST, UN...|[-0.1483813281958...| 10091713|[-0.1715003567869...|[0.45722969080531...|       1.0|\n",
      "|PSYKOLOGERNE VED ...|    1|[OPLØST EFTER FUS...|[-0.1790030377842...| 10108624|[-0.6485674484631...|[0.34331243211346...|       1.0|\n",
      "|         RAH HOLDING|    1|            [NORMAL]|[-0.1483813281958...| 10127351|[-2.8804422421872...|[0.05312888447426...|       1.0|\n",
      "|AMAGER BROLÆGGERF...|    0|[OPLØST EFTER KON...|[-0.1177596186074...| 10128587|[-1.1369952588026...|[0.24287246215155...|       1.0|\n",
      "|        ART OF JEWEL|    1|            [NORMAL]|[-0.1177596186074...| 10145619|[-6.3724232788323...|[0.00170510286780...|       1.0|\n",
      "|    FRONT FREDERICIA|    1|[OPLØST EFTER FUS...|[0.12721405809989...| 10156521|[-0.3793527083137...|[0.40628302543127...|       1.0|\n",
      "|M.L.R. AF 16. APR...|    1|[OPLØST EFTER ERK...|[-0.1177596186074...| 10200288|[-1.4990290785923...|[0.18257037794247...|       1.0|\n",
      "| FOLKE LARSENS EFTF.|    1|            [NORMAL]|[-0.0258944898421...| 10351235|[-3.6327245272056...|[0.02576276706084...|       1.0|\n",
      "|               TAORA|    1|[OPLØST EFTER FUS...|[-0.1790030377842...| 10366380|[-0.9451119361175...|[0.27986891278054...|       1.0|\n",
      "|     CH AF 24/8 2000|    1|[OPLØST EFTER FRI...|[0.12721405809989...| 10412986|[-0.5220910962423...|[0.37236339559707...|       1.0|\n",
      "|            SIBA-ØST|    1|[OPLØST EFTER FRI...|[-0.1483813281958...| 10481171|[-0.6766429736895...|[0.33701096745397...|       1.0|\n",
      "|         STEVNS TRYK|    1|[OPLØST EFTER ERK...|[-0.1483813281958...| 10577675|[-0.9080179077065...|[0.28740560581535...|       1.0|\n",
      "|  PERSPEKTIV HOLDING|    1|            [NORMAL]|[-0.1483813281958...| 10606683|[-4.1379135688213...|[0.01570550931538...|       1.0|\n",
      "|     INTRUM JUSTITIA|    1|            [NORMAL]|[1.35208244163648...| 10613779|[-2.8641158595488...|[0.05395622053629...|       1.0|\n",
      "|         LOBO MØBLER|    1|            [NORMAL]|[-0.1177596186074...| 10629098|[-3.4536192522129...|[0.03066110863007...|       1.0|\n",
      "+--------------------+-----+--------------------+--------------------+---------+--------------------+--------------------+----------+\n",
      "only showing top 20 rows\n",
      "\n"
     ]
    }
   ],
   "source": [
    "summary.predictions.show()"
   ]
  },
  {
   "cell_type": "code",
   "execution_count": null,
   "metadata": {
    "collapsed": false
   },
   "outputs": [],
   "source": []
  },
  {
   "cell_type": "code",
   "execution_count": null,
   "metadata": {
    "collapsed": true
   },
   "outputs": [],
   "source": []
  }
 ],
 "metadata": {
  "kernelspec": {
   "display_name": "Python 3",
   "language": "python",
   "name": "python3"
  },
  "language_info": {
   "codemirror_mode": {
    "name": "ipython",
    "version": 3
   },
   "file_extension": ".py",
   "mimetype": "text/x-python",
   "name": "python",
   "nbconvert_exporter": "python",
   "pygments_lexer": "ipython3",
   "version": "3.5.2"
  }
 },
 "nbformat": 4,
 "nbformat_minor": 2
}
