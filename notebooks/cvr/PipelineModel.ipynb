{
 "cells": [
  {
   "cell_type": "markdown",
   "metadata": {},
   "source": [
    "#### This notebook should contain a pipeline method for bancruptcy"
   ]
  },
  {
   "cell_type": "markdown",
   "metadata": {
    "collapsed": false
   },
   "source": []
  },
  {
   "cell_type": "code",
   "execution_count": 1,
   "metadata": {
    "collapsed": false
   },
   "outputs": [],
   "source": [
    "from ipywidgets import widgets\n",
    "from IPython.display import display, Javascript, HTML\n",
    "SQLContext.newSession(sqlContext)\n",
    "\n",
    "from pyspark.ml.feature import VectorAssembler, StandardScaler\n",
    "from pyspark.ml.tuning import CrossValidator, ParamGridBuilder, ValidatorParams\n",
    "from pyspark.sql.types import StringType, StructField, StructType, ArrayType, DoubleType, IntegerType\n",
    "from pyspark.ml.linalg import Vectors, VectorUDT, Matrix, MatrixUDT, DenseMatrix\n",
    "from pyspark.ml.clustering import KMeans\n",
    "from pyspark.ml.classification import LogisticRegression\n",
    "from pyspark.sql import Row, Window, functions as F\n",
    "from pyspark.ml import Pipeline,PipelineModel, Transformer, Estimator\n",
    "from pyspark.ml.param.shared import HasInputCol, HasOutputCol, Param\n",
    "from pyspark import keyword_only \n",
    "#from spark_sklearn import GridSearchCV,Converter\n",
    "#from sklearn.cluster import KMeans as skKmeans\n",
    "#from sklearn.linear_model import LogisticRegression as skLogistic\n",
    "\n",
    "import pandas as pd\n",
    "\n",
    "import re\n",
    "import random\n",
    "from prettytable import PrettyTable\n",
    "import sys\n",
    "from datetime import datetime\n",
    "from operator import add\n",
    "import numpy as np\n",
    "import time\n",
    "import matplotlib.pyplot as plt\n",
    "import seaborn as sb\n",
    "%matplotlib inline\n",
    "\n",
    "#from spark_sklearn import GridSearchCV,Converter\n",
    "PATH = \"/home/svanhmic/workspace/Python/Erhvervs/data/cdata/\"\n",
    "sc.addPyFile(\"/home/svanhmic/workspace/Python/Erhvervs/src/cvr/GridSearchLogRegAndKmeans.py\")\n",
    "sc.addPyFile(\"/home/svanhmic/workspace/Python/Erhvervs/src/cvr/ConvertAllToVecToMl.py\")\n",
    "\n",
    "from ConvertAllToVecToMl import ConvertAllToVecToMl as convert\n",
    "\n",
    "#display(HTML(\"<style>.container { width:100% !important; }</style>\"))"
   ]
  },
  {
   "cell_type": "code",
   "execution_count": 2,
   "metadata": {
    "collapsed": true
   },
   "outputs": [],
   "source": [
    "from sklearn import datasets\n",
    "\n"
   ]
  },
  {
   "cell_type": "code",
   "execution_count": 3,
   "metadata": {
    "collapsed": false
   },
   "outputs": [],
   "source": [
    "digits = datasets.load_digits()"
   ]
  },
  {
   "cell_type": "code",
   "execution_count": 4,
   "metadata": {
    "collapsed": true
   },
   "outputs": [],
   "source": [
    "def browse_images(digits):\n",
    "    n = len(digits.images)\n",
    "    def view_image(i):\n",
    "        plt.imshow(digits.images[i], cmap=plt.cm.gray_r, interpolation='nearest')\n",
    "        plt.title('Training: %s' % digits.target[i])\n",
    "        plt.show()\n",
    "    widgets.interact(view_image, i=[\"0\",\"1\"])\n",
    "\n"
   ]
  },
  {
   "cell_type": "code",
   "execution_count": 5,
   "metadata": {
    "collapsed": false
   },
   "outputs": [
    {
     "name": "stderr",
     "output_type": "stream",
     "text": [
      "/usr/local/lib/python3.5/dist-packages/ipykernel/__main__.py:4: VisibleDeprecationWarning: using a non-integer number instead of an integer will result in an error in the future\n",
      "/usr/local/lib/python3.5/dist-packages/ipykernel/__main__.py:5: VisibleDeprecationWarning: using a non-integer number instead of an integer will result in an error in the future\n"
     ]
    },
    {
     "data": {
      "image/png": "[encoded data removed]",
      "text/plain": [
       "<matplotlib.figure.Figure at 0x7f5f83d50c88>"
      ]
     },
     "metadata": {},
     "output_type": "display_data"
    }
   ],
   "source": [
    "\n",
    "\n",
    "browse_images(digits)\n",
    "\n"
   ]
  },
  {
   "cell_type": "code",
   "execution_count": 6,
   "metadata": {
    "collapsed": false
   },
   "outputs": [],
   "source": [
    "def getAllDistances(matrix1,matrix2):\n",
    "    return [[np.linalg.norm(v-w) for v in matrix1 ] for w in matrix2]\n"
   ]
  },
  {
   "cell_type": "code",
   "execution_count": 183,
   "metadata": {
    "collapsed": true
   },
   "outputs": [],
   "source": [
    "def dataImport(Path):\n",
    "    '''\n",
    "        This method imports the data, from a repository.\n",
    "        TODO:\n",
    "            - More interactiveness, meaning selecting a file using widgets, etc. \n",
    "            \n",
    "        Input:\n",
    "            - Path a text string that give the \"initial\" path to where the files are.\n",
    "            \n",
    "        Output:\n",
    "            - renamedDf a spark data frame that \n",
    "    '''\n",
    "    assert os.path.exists(path=Path+\"/featureDataCvr\"), \"featureDataCvr does not exist! Consider changing directory\"\n",
    "    assert os.path.exists(path=Path+\"/companyCvrData\"), \"companyCvrData does not exist! Consider changing directory\"\n",
    "    \n",
    "    df = (sqlContext\n",
    "          .read\n",
    "          .parquet(Path+\"/featureDataCvr\"))\n",
    "    \n",
    "    windowSpecRank =(Window.partitionBy(F.col(\"cvrNummer\"))).orderBy(F.col(\"periode_gyldigFra\").desc())\n",
    "    groupCols = [\"cvrNummer\",\"vaerdi\"]\n",
    "    \n",
    "    companyDf = (sqlContext\n",
    "                 .read\n",
    "                 .parquet(Path+\"/companyCvrData\")\n",
    "                 .withColumn(colName=\"rank\",col=F.rank().over(windowSpecRank))\n",
    "                 .filter((F.col(\"rank\")==1) & (F.col(\"sekvensnr\")==0))\n",
    "                 .select([F.col(i) for i in groupCols])\n",
    "                 .withColumnRenamed(existing=\"vaerdi\",new=\"navn\")\n",
    "                 .orderBy(F.col(\"cvrNummer\"))\n",
    "                ) \n",
    "    \n",
    "    excludeCols = [\"medArb_\"+str(i) for i in range(1,16)] # we don't need the medarbejders \n",
    "    includeCols = [i for i in df.columns if i not in excludeCols]\n",
    "\n",
    "    rankCols = [re.sub(pattern=\"rank_\",repl=\"vaerdiSlope_\",string=i) for i in includeCols]\n",
    "    finalCols = [F.col(i) for i in includeCols[:2]]+[\"kortBeskrivelse\"]+[F.col(i).cast(\"double\") for i in includeCols[2:] if i not in [\"kortBeskrivelse\"]]\n",
    "\n",
    "    renamedDf = (df\n",
    "                 .select(*finalCols)\n",
    "                 .select([F.col(val).alias(rankCols[idx]) for idx,val in enumerate(includeCols)])\n",
    "                 .filter((F.col(\"kortBeskrivelse\") == \"APS\") | (F.col(\"kortBeskrivelse\") == \"AS\"))\n",
    "                )\n",
    "    #join the data with company names\n",
    "    labelCols = [\"navn\",\"cvrNummer\",\"label\",\"status\",\"kortBeskrivelse\"]\n",
    "    featCols = [i for i in companyDf.columns+renamedDf.columns if i not in labelCols]\n",
    "    selectedCols = [F.col(i[0]).cast(\"double\").alias(i[0]) if i[1] == \"bigint\" else F.col(i[0]) for i in renamedDf.dtypes ]\n",
    "    #print(selectedCols)\n",
    "\n",
    "    return (renamedDf\n",
    "            .join(companyDf,(companyDf[\"cvrNummer\"]==renamedDf[\"cvrNummer\"]),\"inner\")\n",
    "            .drop(companyDf[\"cvrNummer\"])\n",
    "            .select(selectedCols+[\"navn\"])\n",
    "            .withColumn(col=F.col(\"cvrNummer\").cast(\"long\"),colName=\"cvrNummer\")\n",
    "            .distinct()\n",
    "            .na\n",
    "            .fill(0.0,featCols)\n",
    "            #.limit(1000) # for testing purposes only!!!!!!!!!!!!!!!!!!!!!!!!!\n",
    "            .cache() , featCols\n",
    "           )"
   ]
  },
  {
   "cell_type": "code",
   "execution_count": null,
   "metadata": {
    "collapsed": false
   },
   "outputs": [],
   "source": []
  },
  {
   "cell_type": "code",
   "execution_count": null,
   "metadata": {
    "collapsed": true
   },
   "outputs": [],
   "source": []
  },
  {
   "cell_type": "code",
   "execution_count": null,
   "metadata": {
    "collapsed": false
   },
   "outputs": [],
   "source": []
  },
  {
   "cell_type": "code",
   "execution_count": 186,
   "metadata": {
    "collapsed": false
   },
   "outputs": [],
   "source": [
    "def computeAndInsertClusterCenter(dataset,centers):\n",
    "    '''\n",
    "        Insert a clusterCenter as column.\n",
    "    '''\n",
    "    \n",
    "    distanceUdf = F.udf(lambda x,y: float(np.sqrt(np.sum((x-y)*(x-y)))),DoubleType())\n",
    "    \n",
    "    return (dataset\n",
    "            .join(F.broadcast(centers),on=(dataset[\"prediction\"]==centers[\"cluster\"]),how=\"inner\")\n",
    "            .withColumn(colName=\"distance\",col=distanceUdf(F.col(\"scaledFeatures\"),F.col(\"center\")))\n",
    "            .drop(\"cluster\")\n",
    "            .drop(\"features\")\n",
    "            .drop(\"v2\")\n",
    "            )"
   ]
  },
  {
   "cell_type": "code",
   "execution_count": 193,
   "metadata": {
    "collapsed": false
   },
   "outputs": [],
   "source": [
    "class ReportClass(object):\n",
    "    def __init__(self,path,stages=None):\n",
    "        \n",
    "        #Import the data\n",
    "        \n",
    "        self.filePath = path\n",
    "        self.buttonDf,self.featCols = dataImport(self.filePath)\n",
    "        self.stages = stages\n",
    "        self.pipeModel = PipelineModel(stages=self.stages)\n",
    "        self.parameters = None\n",
    "        self.outputSliderVariables = widgets.IntText()\n",
    "        self.nOutliers = 5\n",
    "        self.nPrototypes = 5\n",
    "        self.clusterN = widgets.Text()\n",
    "        #self.buttonDf.show(10)\n",
    "        \n",
    "    #TODO\n",
    "    def test_import(self):\n",
    "        importButton = widgets.Button(description=\"Import\")\n",
    "\n",
    "    def set_stages(self,stages):\n",
    "        self.stages = stages\n",
    "        \n",
    "    def f(self,x):\n",
    "        self.outputSliderVariables.value = x\n",
    "        \n",
    "        \n",
    "    def test_operation(self):\n",
    "        buttonTest = widgets.Button(description = \"Train model\")\n",
    "        fileText = widgets.Text(value=self.filePath,disabled=False)\n",
    "        \n",
    "        z = widgets.interact(self.f,x=[2,100,1])\n",
    "        display(widgets.HBox([fileText,buttonTest]))      \n",
    "        \n",
    "        buttonTest.on_click(self.onClickTrain)\n",
    "    \n",
    "    \n",
    "    def computeDists(self):\n",
    "        centers = dict(list(map(lambda x : (x[0],x[1]), enumerate(self.pipeModel.stages[-1].clusterCenters()))))\n",
    "        clusterCenters = sc.broadcast(centers)\n",
    "        \n",
    "        addCenterUDf = F.udf(lambda x: Vectors.dense(clusterCenters.value[x]),VectorUDT())\n",
    "        distanceUdf = F.udf(lambda x,y: float(np.sqrt(np.sum((x-y)*(x-y)))),DoubleType())\n",
    "        \n",
    "        return (self.buttonDf\n",
    "                .withColumn(col=addCenterUDf(F.col(\"prediction\")),colName=\"center\")\n",
    "                .withColumn(col=distanceUdf(F.col(\"scaledFeatures\"),F.col(\"center\")),colName=\"distance\")\n",
    "               )\n",
    "        \n",
    "        \n",
    "        \n",
    "    def onClickPrototypes(self,b):\n",
    "        \n",
    "        print(\"The report is shown here!\")\n",
    "        \n",
    "        #print(centers)\n",
    "        \n",
    "        cluster = int(re.sub(r'Cluster ',\"\",self.clusterN.value))\n",
    "            \n",
    "        self.getClosest2Center(cluster).show(truncate=False)\n",
    "        \n",
    "        \n",
    "    def onClickOutliers(self,b):\n",
    "        '''\n",
    "            This method\n",
    "        '''\n",
    "        \n",
    "        cluster = int(re.sub(r'Cluster ',\"\",self.clusterN.value))\n",
    "        self.getOutliersFromCenter(cluster).show(truncate=False)\n",
    "    \n",
    "        \n",
    "    def showOf(self):\n",
    "        '''\n",
    "            This method \n",
    "        \n",
    "        '''\n",
    "        secondOutlierButton = widgets.Button(description=\"Show Outliers\")\n",
    "        secondPrototypeButton = widgets.Button(description=\"Show Prototypes\")\n",
    "        z = self.browseClusters().widget.children[0]\n",
    "        \n",
    "        \n",
    "        l = traitlets.link((z,\"value\"),(self.clusterN,\"value\"))\n",
    "        \n",
    "        display(widgets.HBox([secondPrototypeButton,secondOutlierButton]))\n",
    "        \n",
    "    \n",
    "        secondOutlierButton.on_click(self.onClickOutliers)\n",
    "        secondPrototypeButton.on_click(self.onClickPrototypes)\n",
    "        \n",
    "    def browseClusters(self):\n",
    "        \"\"\"\n",
    "            Browse clusters one by one\n",
    "        \n",
    "        \"\"\"\n",
    "        \n",
    "        \n",
    "        #%matplotlib qt\n",
    "        df = (self\n",
    "              .getDistances()\n",
    "              #.filter(F.col(\"prediction\") == int(re.sub(r'Cluster ','',i)))\n",
    "              .select(\"prediction\",\"distance\"))       \n",
    "        \n",
    "        availbleClusters = (df\n",
    "                            .dropDuplicates()\n",
    "                            .groupBy(\"prediction\")\n",
    "                            .count()\n",
    "                            .filter(F.col(\"count\") > 1)\n",
    "                            .select(\"prediction\")\n",
    "                            .orderBy(\"prediction\")\n",
    "                            .collect()\n",
    "                           )\n",
    "        \n",
    "        \n",
    "        clusterList = [\"Cluster \"+str(i[0]) for i in availbleClusters]\n",
    "        \n",
    "        def viewImage(i):\n",
    "            fig = plt.figure(figsize=plt.figaspect(0.75))\n",
    "            ax = fig.add_subplot(1, 1, 1)\n",
    "            ax.set_xlabel(\"Distance\")\n",
    "            ax.set_title(i)\n",
    "            pDf = df.filter(F.col(\"prediction\")==int(re.sub(r'Cluster ','',i))).select(\"distance\").toPandas()\n",
    "            sb.distplot(pDf,ax=ax,rug=True,norm_hist=False,kde=False)\n",
    "            plt.show()\n",
    "            \n",
    "        return widgets.interact(viewImage, i=clusterList)\n",
    "        \n",
    "            \n",
    "    def showDistances(self):\n",
    "        \n",
    "        '''\n",
    "             Show all cluster histograms!\n",
    "        \n",
    "        '''\n",
    "        \n",
    "        buttonDistance = widgets.Button(description = \"Show distances\")\n",
    "        buttonDistance.on_click(self.onClickShowDistances)\n",
    "        display(buttonDistance)\n",
    "        \n",
    "    \n",
    "    def getClosest2Center(self,cluster):\n",
    "        '''\n",
    "            This method extracts the companies closest to its cluster center.\n",
    "        '''\n",
    "        \n",
    "        rankingWindow = (Window\n",
    "                         .partitionBy(F.col(\"prediction\"))\n",
    "                         .orderBy(F.col(\"distance\").asc()))\n",
    "        \n",
    "        \n",
    "        return (self.buttonDf\n",
    "                .withColumn(col=F.rank().over(rankingWindow),colName=\"rank\")\n",
    "                .filter((F.col(\"rank\")<=self.nPrototypes) & (F.col(\"prediction\") == cluster))\n",
    "                .select(\"cvrNummer\",\"distance\",\"prediction\",\"navn\")\n",
    "                .orderBy(F.col(\"prediction\")))\n",
    "    \n",
    "    \n",
    "    def getOutliersFromCenter(self,cluster):\n",
    "        '''\n",
    "            This method extracts the companies furtherst to its cluster center.\n",
    "        '''\n",
    "        \n",
    "        rankingWindow = (Window\n",
    "                         .partitionBy(F.col(\"prediction\"))\n",
    "                         .orderBy(F.col(\"distance\").desc()))\n",
    "        \n",
    "        \n",
    "        return (self.buttonDf\n",
    "                .withColumn(col=F.rank().over(rankingWindow),colName=\"rank\")\n",
    "                .filter((F.col(\"rank\")<=self.nOutliers) & (F.col(\"prediction\") == cluster))\n",
    "                .select(\"cvrNummer\",\"distance\",\"prediction\",\"navn\")\n",
    "                .orderBy(F.col(\"prediction\")))\n",
    "        \n",
    "    def onClickTrain(self,b):\n",
    "        \n",
    "        self.parameters = ({kmeans.k:self.outputSliderVariables.value ,kmeans.initMode:\"random\"})\n",
    "        print(\"You have selected: \"+str(self.outputSliderVariables.value)+\" number of clusters.\")\n",
    "        pipeline = Pipeline(stages=self.stages)\n",
    "        \n",
    "        #take time start\n",
    "        t0 = time.time() \n",
    "        \n",
    "        #fit the model\n",
    "        self.pipeModel = pipeline.fit(self.buttonDf,params=self.parameters)\n",
    "        self.buttonDf = self.pipeModel.transform(self.buttonDf)\n",
    "        self.buttonDf = self.computeDists()\n",
    "        #end time\n",
    "        t1 = time.time()\n",
    "        print(\"Done with training, it took: \"+str(t1-t0)+\" seconds to do the training\")\n",
    "        \n",
    "        \n",
    "    def getDistances(self):\n",
    "        '''\n",
    "            Returns the distances for each group  with cvrNummer, distances and prediction\n",
    "\n",
    "            Input:\n",
    "                The stuff.\n",
    "\n",
    "            Output:\n",
    "                spark dataframe\n",
    "        '''\n",
    "\n",
    "        cols = [\"cvrNummer\",\"prediction\",\"distance\"]\n",
    "        #self.buttonDf = self.computeDists()\n",
    "        if (\"prediction\" in self.buttonDf.columns) and (\"distance\" in self.buttonDf.columns):\n",
    "            return self.buttonDf.select(cols)\n",
    "        else:\n",
    "            return None\n",
    "        \n",
    "        \n",
    "    def onClickShowDistances(self,b):\n",
    "        \n",
    "        nGroups = self.outputSliderVariables.value\n",
    "        cols = 4 # fixed for the moment\n",
    "        rows = int(self.outputSliderVariables.value/cols) # likewis\n",
    "        print(rows)\n",
    "        \n",
    "        df = self.getDistances().select(\"prediction\",\"distance\").cache()\n",
    "        \n",
    "        nPlots = (df\n",
    "                  .dropDuplicates()\n",
    "                  .groupby(\"prediction\")\n",
    "                  .count()\n",
    "                  .filter(F.col(\"count\") > 1)\n",
    "                  .select(\"prediction\")\n",
    "                  .orderBy(\"prediction\")\n",
    "                  .collect()\n",
    "                 )\n",
    "        \n",
    "        nPlots = list(map(lambda x: x[0],nPlots))\n",
    "        \n",
    "        sb.set(color_codes=True)\n",
    "        col = 4\n",
    "        rows = int(len(nPlots)/col)+1\n",
    "\n",
    "        fig, axes = plt.subplots(ncols=col,nrows=rows,figsize=(20,20))\n",
    "        x = (df\n",
    "             #.dropDuplicates([\"cvrNummer\",\"label\",\"distance\"])\n",
    "             .toPandas())\n",
    "        df.unpersist()\n",
    "        \n",
    "        a = axes.ravel()\n",
    "        for idx,val in enumerate(nPlots):\n",
    "            #print(v)\n",
    "\n",
    "            pandasDf = x[x[\"prediction\"] == val]\n",
    "            a[idx].set_title(\"Cluster \"+ str(val))\n",
    "            a[idx].set_xlabel(\"distance\")\n",
    "            sb.distplot(pandasDf[[\"distance\"]],ax=a[idx],kde=True,rug=True)\n",
    "        fig.subplots_adjust(hspace=1)\n",
    "        plt.show()\n",
    "        "
   ]
  },
  {
   "cell_type": "code",
   "execution_count": 194,
   "metadata": {
    "collapsed": false
   },
   "outputs": [],
   "source": [
    "#Build up stages\n",
    "rep = ReportClass(path=\"/home/svanhmic/workspace/Python/Erhvervs/data/cdata\")\n",
    "\n",
    "\n",
    "vectorizer = VectorAssembler(inputCols=rep.featCols,outputCol=\"features\")\n",
    "con = convert(inputCol=vectorizer.getOutputCol(),outputCol=\"v2\")\n",
    "standardScale = StandardScaler(withMean=True,withStd=True,inputCol=con.getOutputCol(),outputCol=\"scaledFeatures\")\n",
    "kmeans = KMeans(featuresCol=standardScale.getOutputCol(),predictionCol=\"prediction\")\n",
    "stages=[vectorizer,con,standardScale,kmeans]\n",
    "\n",
    "\n",
    "rep.set_stages(stages)\n",
    "\n",
    "\n",
    "#rep.buttonDf.show(5)"
   ]
  },
  {
   "cell_type": "code",
   "execution_count": 195,
   "metadata": {
    "collapsed": false,
    "scrolled": true
   },
   "outputs": [
    {
     "name": "stdout",
     "output_type": "stream",
     "text": [
      "You have selected: 22 number of clusters.\n",
      "Done with training, it took: 239.80776119232178 seconds to do the training\n"
     ]
    }
   ],
   "source": [
    "rep.test_operation()"
   ]
  },
  {
   "cell_type": "code",
   "execution_count": null,
   "metadata": {
    "collapsed": false,
    "scrolled": false
   },
   "outputs": [
    {
     "data": {
      "image/png": "[encoded data removed]",
      "text/plain": [
       "<matplotlib.figure.Figure at 0x7f5f0b02c5f8>"
      ]
     },
     "metadata": {},
     "output_type": "display_data"
    }
   ],
   "source": [
    "rep.showOf()"
   ]
  },
  {
   "cell_type": "code",
   "execution_count": null,
   "metadata": {
    "collapsed": false
   },
   "outputs": [],
   "source": [
    "rep.showDistances()"
   ]
  },
  {
   "cell_type": "code",
   "execution_count": null,
   "metadata": {
    "collapsed": false,
    "scrolled": false
   },
   "outputs": [],
   "source": []
  },
  {
   "cell_type": "code",
   "execution_count": null,
   "metadata": {
    "collapsed": false,
    "scrolled": false
   },
   "outputs": [],
   "source": []
  },
  {
   "cell_type": "code",
   "execution_count": null,
   "metadata": {
    "collapsed": false,
    "scrolled": false
   },
   "outputs": [],
   "source": []
  },
  {
   "cell_type": "code",
   "execution_count": null,
   "metadata": {
    "collapsed": false
   },
   "outputs": [],
   "source": []
  },
  {
   "cell_type": "code",
   "execution_count": null,
   "metadata": {
    "collapsed": false,
    "scrolled": false
   },
   "outputs": [],
   "source": []
  },
  {
   "cell_type": "code",
   "execution_count": 29,
   "metadata": {
    "collapsed": false
   },
   "outputs": [],
   "source": [
    "\n",
    "import traitlets"
   ]
  },
  {
   "cell_type": "code",
   "execution_count": null,
   "metadata": {
    "collapsed": false
   },
   "outputs": [],
   "source": []
  },
  {
   "cell_type": "code",
   "execution_count": null,
   "metadata": {
    "collapsed": false
   },
   "outputs": [],
   "source": []
  },
  {
   "cell_type": "code",
   "execution_count": null,
   "metadata": {
    "collapsed": false
   },
   "outputs": [],
   "source": []
  },
  {
   "cell_type": "code",
   "execution_count": null,
   "metadata": {
    "collapsed": false
   },
   "outputs": [],
   "source": []
  },
  {
   "cell_type": "code",
   "execution_count": null,
   "metadata": {
    "collapsed": false
   },
   "outputs": [],
   "source": []
  },
  {
   "cell_type": "code",
   "execution_count": null,
   "metadata": {
    "collapsed": false
   },
   "outputs": [],
   "source": []
  },
  {
   "cell_type": "code",
   "execution_count": null,
   "metadata": {
    "collapsed": false
   },
   "outputs": [],
   "source": []
  },
  {
   "cell_type": "code",
   "execution_count": null,
   "metadata": {
    "collapsed": false
   },
   "outputs": [],
   "source": []
  },
  {
   "cell_type": "code",
   "execution_count": null,
   "metadata": {
    "collapsed": false,
    "scrolled": true
   },
   "outputs": [],
   "source": []
  },
  {
   "cell_type": "code",
   "execution_count": null,
   "metadata": {
    "collapsed": true
   },
   "outputs": [],
   "source": []
  },
  {
   "cell_type": "code",
   "execution_count": null,
   "metadata": {
    "collapsed": false
   },
   "outputs": [],
   "source": []
  },
  {
   "cell_type": "code",
   "execution_count": null,
   "metadata": {
    "collapsed": false
   },
   "outputs": [],
   "source": []
  },
  {
   "cell_type": "code",
   "execution_count": null,
   "metadata": {
    "collapsed": true
   },
   "outputs": [],
   "source": []
  }
 ],
 "metadata": {
  "kernelspec": {
   "display_name": "Python 3",
   "language": "python",
   "name": "python3"
  },
  "language_info": {
   "codemirror_mode": {
    "name": "ipython",
    "version": 3
   },
   "file_extension": ".py",
   "mimetype": "text/x-python",
   "name": "python",
   "nbconvert_exporter": "python",
   "pygments_lexer": "ipython3",
   "version": "3.5.2"
  },
  "widgets": {
   "state": {
    "03ac01ec2b834611838ab7680b67182e": {
     "views": [
      {
       "cell_index": 18
      }
     ]
    },
    "070ab1afd13e4a6e83f6d7b9bc7ac6bb": {
     "views": [
      {
       "cell_index": 24
      }
     ]
    },
    "0780073b5a544044bebc50a6439a49ee": {
     "views": [
      {
       "cell_index": 13
      }
     ]
    },
    "0e3596b8972941b581efdbf060f7bf93": {
     "views": [
      {
       "cell_index": 16
      }
     ]
    },
    "0f0b9cfd837f473f85796da8136295a7": {
     "views": [
      {
       "cell_index": 18
      }
     ]
    },
    "100ae848a9f54e8fb1f7b4eca9d9c0df": {
     "views": [
      {
       "cell_index": 15
      }
     ]
    },
    "10cb64eaba804797b5769ad74f7660d7": {
     "views": [
      {
       "cell_index": 15
      }
     ]
    },
    "110492593bd54039aa8747f6375eb1d4": {
     "views": [
      {
       "cell_index": 13
      }
     ]
    },
    "137a6fdf200040f7a39994faafd378da": {
     "views": [
      {
       "cell_index": 24
      }
     ]
    },
    "137be64798614d1092b94c521b5bcfc4": {
     "views": [
      {
       "cell_index": 15
      }
     ]
    },
    "14619e62bbaf4ca2bb067489a37cd591": {
     "views": [
      {
       "cell_index": 11
      }
     ]
    },
    "15382cbc837e4c7faeade6787ebe5461": {
     "views": [
      {
       "cell_index": 15
      }
     ]
    },
    "16db2bd4e06f4e2baffe78f3ef068596": {
     "views": [
      {
       "cell_index": 15
      }
     ]
    },
    "23610cb57e4845e2b0a8612f9ef58ba4": {
     "views": [
      {
       "cell_index": 15
      }
     ]
    },
    "25d296687bef4a26be8f2d1b481b4980": {
     "views": [
      {
       "cell_index": 16
      }
     ]
    },
    "2bdfad1798be4b82a18a61fb7463a4c7": {
     "views": [
      {
       "cell_index": 15
      }
     ]
    },
    "2e32dfdd48254e7cb5054346f5e1a3f5": {
     "views": [
      {
       "cell_index": 15
      }
     ]
    },
    "2f5f798b7871469ca12590b21f6b702a": {
     "views": [
      {
       "cell_index": 18
      }
     ]
    },
    "309cc7209022462494440faf1b87e6d9": {
     "views": [
      {
       "cell_index": 11
      }
     ]
    },
    "32b5674f1c2943e8a1789dca52cc649f": {
     "views": [
      {
       "cell_index": 15
      }
     ]
    },
    "33156a864cc24cecac620553bcda6842": {
     "views": [
      {
       "cell_index": 13
      }
     ]
    },
    "3582db2bc4114db4992c39a0c52d4e46": {
     "views": [
      {
       "cell_index": 16
      }
     ]
    },
    "35c865f8293d4607aab55562f4499369": {
     "views": [
      {
       "cell_index": 13
      }
     ]
    },
    "362b28452a4a41e0936885a729ac4b74": {
     "views": [
      {
       "cell_index": 15
      }
     ]
    },
    "3638c1cff2ad4d95adc67f47f26a5854": {
     "views": [
      {
       "cell_index": 24
      }
     ]
    },
    "395f59c68e004821b1fcfd58318e293f": {
     "views": [
      {
       "cell_index": 11
      }
     ]
    },
    "39a191a3d2f346e3a14ecd427764e4db": {
     "views": [
      {
       "cell_index": 21
      },
      {
       "cell_index": 21
      },
      {
       "cell_index": 21
      },
      {
       "cell_index": 21
      },
      {
       "cell_index": 21
      },
      {
       "cell_index": 21
      },
      {
       "cell_index": 21
      },
      {
       "cell_index": 21
      },
      {
       "cell_index": 21
      },
      {
       "cell_index": 21
      },
      {
       "cell_index": 21
      }
     ]
    },
    "39a5e4654dfa482ebc26a4de60e9f3ca": {
     "views": [
      {
       "cell_index": 18
      }
     ]
    },
    "3a508a79468747fcbb11317f6d1310d7": {
     "views": [
      {
       "cell_index": 15
      }
     ]
    },
    "3cb7726c3caf40f5a16002ef76eeebdf": {
     "views": [
      {
       "cell_index": 24
      }
     ]
    },
    "3deea09618e14aa59ca7889c3aa51e2b": {
     "views": [
      {
       "cell_index": 15
      }
     ]
    },
    "4331cecd27e147eeab754f4113c2e8ac": {
     "views": [
      {
       "cell_index": 11
      }
     ]
    },
    "43e59e30b7524c51a6399294e6a3a342": {
     "views": [
      {
       "cell_index": 15
      }
     ]
    },
    "465b429eb8ee443e84e30c868ac07f71": {
     "views": [
      {
       "cell_index": 15
      }
     ]
    },
    "4795cb65e3a74a1d883d5a8a31aad28b": {
     "views": [
      {
       "cell_index": 15
      }
     ]
    },
    "488b387fe7e441adb4c12b7de3d66956": {
     "views": [
      {
       "cell_index": 15
      }
     ]
    },
    "490fdde15896488ab0ea210ba5855117": {
     "views": [
      {
       "cell_index": 15
      }
     ]
    },
    "4b257fa7a73f4d9397cc99914590cfeb": {
     "views": [
      {
       "cell_index": 13
      }
     ]
    },
    "4c6988150ec64799a1a59560f93733b5": {
     "views": [
      {
       "cell_index": 15
      }
     ]
    },
    "4eea575826b546498765a6d578950115": {
     "views": [
      {
       "cell_index": 11
      }
     ]
    },
    "4f180f91eaec4e2a83825dedcc8f127d": {
     "views": [
      {
       "cell_index": 11
      }
     ]
    },
    "4fc921afd15d4936ba45e8ce3a748f02": {
     "views": [
      {
       "cell_index": 11
      }
     ]
    },
    "508d0ac0c25a4363a0d8ec815eaa576f": {
     "views": [
      {
       "cell_index": 16
      }
     ]
    },
    "53aa70fc4d204f1cbd59188ae790f20f": {
     "views": [
      {
       "cell_index": 18
      }
     ]
    },
    "5602fc0a5b154abfb1d39842af51cde3": {
     "views": [
      {
       "cell_index": 11
      }
     ]
    },
    "564fa290998f46408365328661309af9": {
     "views": [
      {
       "cell_index": 18
      }
     ]
    },
    "588ebe54d9f340f79c2f6e1509439e2f": {
     "views": [
      {
       "cell_index": 24
      }
     ]
    },
    "59406b4b228044bcb9ee94a40ff6da18": {
     "views": [
      {
       "cell_index": 15
      }
     ]
    },
    "598a2ef5106a461c952868f9d6537931": {
     "views": [
      {
       "cell_index": 15
      }
     ]
    },
    "599a86fdc0f0411cba48f1881fcf826c": {
     "views": [
      {
       "cell_index": 11
      }
     ]
    },
    "5b0203e2c95d40b894ca4bd82b69802f": {
     "views": [
      {
       "cell_index": 15
      }
     ]
    },
    "5ccedadad4bf4926b93d76d71b80d04f": {
     "views": [
      {
       "cell_index": 11
      }
     ]
    },
    "5d01422cadeb4b2a8211f614786a50cd": {
     "views": [
      {
       "cell_index": 11
      }
     ]
    },
    "5ec3318a1e1a44f097661550f40fa902": {
     "views": [
      {
       "cell_index": 11
      }
     ]
    },
    "627f55bd55aa44df9e0bf4b94bc8007a": {
     "views": [
      {
       "cell_index": 15
      }
     ]
    },
    "63bf3aaa13bf4aaabd9abeb2930618c8": {
     "views": [
      {
       "cell_index": 16
      }
     ]
    },
    "645a62264bab4adf89be9093dbe10d3d": {
     "views": [
      {
       "cell_index": 18
      }
     ]
    },
    "65849c7c506f49b4925fccc28166bf89": {
     "views": [
      {
       "cell_index": 6
      }
     ]
    },
    "66e52a5103d04e99807ab04fca4686b2": {
     "views": [
      {
       "cell_index": 13
      }
     ]
    },
    "6fad34cc569548898376d1ad65f76211": {
     "views": [
      {
       "cell_index": 11
      }
     ]
    },
    "709e0735719e49d8a81dfd5eec932fcb": {
     "views": [
      {
       "cell_index": 19
      }
     ]
    },
    "7216868a3d024c96abb4519a51772aa5": {
     "views": [
      {
       "cell_index": 13
      }
     ]
    },
    "73daaa6b952c490ba2789ce4ed9721bb": {
     "views": [
      {
       "cell_index": 19
      }
     ]
    },
    "73f447ffbbcc4cf4870d1754a2a7235d": {
     "views": [
      {
       "cell_index": 15
      }
     ]
    },
    "747e63de2b894102998d12a071bd6a9a": {
     "views": [
      {
       "cell_index": 15
      }
     ]
    },
    "749d9d6d896d406aa9491731c4a27e6c": {
     "views": [
      {
       "cell_index": 11
      }
     ]
    },
    "74f76e515b6f45558cf682093f8b0ba1": {
     "views": [
      {
       "cell_index": 15
      }
     ]
    },
    "750aeb6f2eae4db4bf1c95287dc4473b": {
     "views": [
      {
       "cell_index": 24
      }
     ]
    },
    "7801be9b474f4842ae63045def033379": {
     "views": [
      {
       "cell_index": 15
      }
     ]
    },
    "79bab27915c84e6e9e0542380fa088aa": {
     "views": [
      {
       "cell_index": 15
      }
     ]
    },
    "7ed07448aa744a60b7dbd6846ec002cc": {
     "views": [
      {
       "cell_index": 15
      }
     ]
    },
    "80c0b8f419a542cfb9c126dcac0f9707": {
     "views": [
      {
       "cell_index": 15
      }
     ]
    },
    "81c1d8fd46ed434ebf89712342370edd": {
     "views": [
      {
       "cell_index": 11
      }
     ]
    },
    "83fda7b84a5c44a590dde8d1a44a7235": {
     "views": [
      {
       "cell_index": 19
      }
     ]
    },
    "85be143111854d2d9c8a0d9139911579": {
     "views": [
      {
       "cell_index": 11
      }
     ]
    },
    "89609c8b67d74de5b351298ee0159732": {
     "views": [
      {
       "cell_index": 15
      }
     ]
    },
    "8d77b4de57594c34ad22da038b8fbc9a": {
     "views": [
      {
       "cell_index": 15
      }
     ]
    },
    "8ddd8c03ab174507a82511d0b70e8e69": {
     "views": [
      {
       "cell_index": 15
      }
     ]
    },
    "90ca99f0dd6342968c75d8ec485f6988": {
     "views": [
      {
       "cell_index": 13
      }
     ]
    },
    "92308775ba134098ae0da7acd777a7f2": {
     "views": [
      {
       "cell_index": 15
      }
     ]
    },
    "9417e86dfe6843318d34618725a0c483": {
     "views": [
      {
       "cell_index": 15
      }
     ]
    },
    "972e7c611d6348abbb9885713313b29d": {
     "views": [
      {
       "cell_index": 19
      }
     ]
    },
    "981caea903604b3799a2035fb251c4cb": {
     "views": [
      {
       "cell_index": 11
      }
     ]
    },
    "9bd4065faf6d42728d2af38fef875045": {
     "views": [
      {
       "cell_index": 15
      }
     ]
    },
    "9bf0f58275a74f0b811f87a0889cb8bf": {
     "views": [
      {
       "cell_index": 18
      }
     ]
    },
    "a44cfa85f0f3412c87cdb67be4985254": {
     "views": [
      {
       "cell_index": 13
      }
     ]
    },
    "a827f5a200504c81a07c5fac8d451cdb": {
     "views": [
      {
       "cell_index": 15
      }
     ]
    },
    "a9da361a4b3649c7b4868493d0e1a1e7": {
     "views": [
      {
       "cell_index": 15
      }
     ]
    },
    "ab2f3c9bbf934c6386cc2b6f21f5b50b": {
     "views": [
      {
       "cell_index": 15
      }
     ]
    },
    "aba662c1a9974de2815ebe373bf96ac8": {
     "views": [
      {
       "cell_index": 13
      }
     ]
    },
    "ac46075341544fdf9a282998c410d7d3": {
     "views": [
      {
       "cell_index": 13
      }
     ]
    },
    "adb878b01d844988811e8f9f8bb6ed17": {
     "views": [
      {
       "cell_index": 11
      }
     ]
    },
    "ae4c79523f5745259fcb1fc72044de9d": {
     "views": [
      {
       "cell_index": 16
      }
     ]
    },
    "b14d6a15e851458bb0eef445a95fe175": {
     "views": [
      {
       "cell_index": 11
      }
     ]
    },
    "b36008a7123842988cb06aa77a077a4e": {
     "views": [
      {
       "cell_index": 15
      }
     ]
    },
    "b390018684e04282b0082ce93dad03b6": {
     "views": [
      {
       "cell_index": 16
      }
     ]
    },
    "b8629f9488c14fb795fc80070faa96f1": {
     "views": [
      {
       "cell_index": 16
      }
     ]
    },
    "b9f5c54045764b6f92bc3017afd42d5d": {
     "views": [
      {
       "cell_index": 15
      }
     ]
    },
    "bad71a84619743caa2d2a9459ad4da8a": {
     "views": [
      {
       "cell_index": 11
      }
     ]
    },
    "bae98d61544447c5a11e812def94f2e9": {
     "views": [
      {
       "cell_index": 21
      }
     ]
    },
    "bbd9901252e84549a2ff82a155452d37": {
     "views": [
      {
       "cell_index": 15
      }
     ]
    },
    "bd2246aba9d741b590574779dca62d92": {
     "views": [
      {
       "cell_index": 13
      }
     ]
    },
    "be11b4f171bd4c7794a6327d1b61d114": {
     "views": [
      {
       "cell_index": 13
      }
     ]
    },
    "becab03fdaa6499882a11ba5f926248a": {
     "views": [
      {
       "cell_index": 11
      }
     ]
    },
    "c0ee02672f8e4db08c46d933d51c3020": {
     "views": [
      {
       "cell_index": 15
      }
     ]
    },
    "c1b7c6230a4047a2ac6275f70036a55f": {
     "views": [
      {
       "cell_index": 18
      }
     ]
    },
    "c403cd8e959e4747aab269c68159b956": {
     "views": [
      {
       "cell_index": 21
      }
     ]
    },
    "c56a275d97e0480eb2b454ca41cb633a": {
     "views": [
      {
       "cell_index": 15
      }
     ]
    },
    "c5d8122c343c4d3186583e46bbf018dd": {
     "views": [
      {
       "cell_index": 15
      }
     ]
    },
    "c5e896c4b02147e1a26c7cbfe6c939f7": {
     "views": [
      {
       "cell_index": 11
      }
     ]
    },
    "c63101982d6348ebac900c9beb19f480": {
     "views": [
      {
       "cell_index": 16
      }
     ]
    },
    "c8301eca92d8427abd9f5901947cfd2b": {
     "views": [
      {
       "cell_index": 19
      }
     ]
    },
    "c95cff4791874898abac7b0ed8fb65bd": {
     "views": [
      {
       "cell_index": 23
      }
     ]
    },
    "cb2439cec13b46148b98ffc861541560": {
     "views": [
      {
       "cell_index": 13
      }
     ]
    },
    "cbc6baa5847742e09ddc733fca70df9c": {
     "views": [
      {
       "cell_index": 15
      }
     ]
    },
    "cc8a46daced141d2bc829231b97722cc": {
     "views": [
      {
       "cell_index": 11
      }
     ]
    },
    "cddd4e38aead4523a63b7869cbc22749": {
     "views": [
      {
       "cell_index": 17
      }
     ]
    },
    "ceead66e11ae4ca1b4644ad7cf8422b3": {
     "views": [
      {
       "cell_index": 13
      }
     ]
    },
    "d010d1c7c93841dcb07a09573aa5958e": {
     "views": [
      {
       "cell_index": 15
      }
     ]
    },
    "d03f34f826084667840f776c7ccac9a6": {
     "views": [
      {
       "cell_index": 15
      }
     ]
    },
    "d0734f2ba8f54ec08c7d4b7bacf297c0": {
     "views": [
      {
       "cell_index": 11
      }
     ]
    },
    "d1864e49ffdf46059b60c9552eabeac5": {
     "views": [
      {
       "cell_index": 15
      }
     ]
    },
    "d82ba046cd4c4ea6a32f1f760a58e255": {
     "views": [
      {
       "cell_index": 16
      }
     ]
    },
    "d886533c6cc641adb3c95950010047a6": {
     "views": [
      {
       "cell_index": 15
      }
     ]
    },
    "da2170be21a54752992bad211f91e7fb": {
     "views": [
      {
       "cell_index": 16
      }
     ]
    },
    "dcb67444a5e64b6a96e7fa0112a2dbaa": {
     "views": [
      {
       "cell_index": 16
      }
     ]
    },
    "dd2770d6380c42ccbaf94ba76dca291c": {
     "views": [
      {
       "cell_index": 15
      }
     ]
    },
    "dedfab0a69e3447c99e2f2e7081ed22b": {
     "views": [
      {
       "cell_index": 11
      }
     ]
    },
    "dfd558f417844d168573ccf5b78b3e4e": {
     "views": [
      {
       "cell_index": 15
      }
     ]
    },
    "e16cb51c82a04e91967eaa1d7e595b6c": {
     "views": [
      {
       "cell_index": 16
      }
     ]
    },
    "e34a0d10fe31432ab1c4fe6812108adf": {
     "views": [
      {
       "cell_index": 13
      }
     ]
    },
    "e3c1ccdb6d7248da983a966c7180b171": {
     "views": [
      {
       "cell_index": 13
      }
     ]
    },
    "e86c4c4951e44cc8a3674a74f9e6fb8c": {
     "views": [
      {
       "cell_index": 11
      }
     ]
    },
    "eb66f8033118457eaebd644c36d232d3": {
     "views": [
      {
       "cell_index": 16
      }
     ]
    },
    "edb732b37442452d8ba5c403db914f0b": {
     "views": [
      {
       "cell_index": 15
      }
     ]
    },
    "ede2b83aef27416ca80b97b3bce0071d": {
     "views": [
      {
       "cell_index": 15
      }
     ]
    },
    "ef040c2465654a93a1c5a2c8bd3d28d4": {
     "views": [
      {
       "cell_index": 11
      }
     ]
    },
    "f211691afd6e408f8664bad7b2ad5081": {
     "views": [
      {
       "cell_index": 15
      }
     ]
    },
    "f5c48ccd2df04c31b6ea453d1d4cd4fc": {
     "views": [
      {
       "cell_index": 11
      }
     ]
    },
    "f9317d9e6dd2470cbe36948b7a990d85": {
     "views": [
      {
       "cell_index": 13
      }
     ]
    },
    "fcced5083e734e55bd9f48c2a7038300": {
     "views": [
      {
       "cell_index": 24
      },
      {
       "cell_index": 24
      }
     ]
    },
    "fe2709d5001d4ee688a0e053581164c2": {
     "views": [
      {
       "cell_index": 24
      }
     ]
    },
    "ff5affe812b34b4eb902082cb260a144": {
     "views": [
      {
       "cell_index": 13
      }
     ]
    },
    "ff9239067fa448749390b303d476aa39": {
     "views": [
      {
       "cell_index": 11
      }
     ]
    }
   },
   "version": "1.2.0"
  }
 },
 "nbformat": 4,
 "nbformat_minor": 2
}
