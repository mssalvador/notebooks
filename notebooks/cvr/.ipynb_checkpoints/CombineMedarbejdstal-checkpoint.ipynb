{
 "cells": [
  {
   "cell_type": "code",
   "execution_count": 1,
   "metadata": {
    "collapsed": true
   },
   "outputs": [],
   "source": [
    "#Always Pyspark first!\n",
    "ErhvervsPath = \"/home/svanhmic/workspace/Python/Erhvervs\"\n",
    "cvrPath = \"/home/svanhmic/workspace/Python/Erhvervs/data/cdata/parquet\"\n",
    "from pyspark.sql import functions as F, Window, WindowSpec\n",
    "from pyspark.sql import Row\n",
    "from pyspark.sql.types import StringType,ArrayType,IntegerType,DoubleType,StructField,StructType\n",
    "sc.addPyFile(ErhvervsPath+\"/src/RegnSkabData/ImportRegnskabData.py\")\n",
    "sc.addPyFile(ErhvervsPath+'/src/RegnSkabData/RegnskabsClass.py')\n",
    "sc.addPyFile(ErhvervsPath+'/src/cvr/GetNextJsonLayer.py')\n",
    "\n",
    "import sys\n",
    "import re\n",
    "import os\n",
    "import ImportRegnskabData\n",
    "import GetNextJsonLayer\n",
    "import itertools\n",
    "import functools"
   ]
  },
  {
   "cell_type": "code",
   "execution_count": 2,
   "metadata": {
    "collapsed": false
   },
   "outputs": [],
   "source": [
    "def createManPowerTabel(aarsDf,kvartDf,maanedDf):\n",
    "    '''\n",
    "        Combines medarbejdstabels to one tabel and makes sure that all is sampel once a month\n",
    "        \n",
    "        Input:\n",
    "        \n",
    "        Output:\n",
    "    \n",
    "    \n",
    "    '''\n",
    "    def assignPrefix(df,prefix):\n",
    "        excluded = [\"langBeskrivelse\",\"virksomhedsformkode\",\"periode_gyldigFra\",\"periode_gyldigTil\",\"rank\"]\n",
    "        return df.select([F.col(i).alias(prefix+i) for i in df.columns if i not in excluded])\n",
    "    \n",
    "    def assignKvartLowerBound(col):\n",
    "        \n",
    "        if col == 1: \n",
    "            return 1\n",
    "        elif col == 2:\n",
    "            return 4\n",
    "        elif col == 3:\n",
    "            return 7\n",
    "        else:\n",
    "            return 10\n",
    "        \n",
    "    def assignKvartUpperBound(col):\n",
    "    \n",
    "        if col == 1:\n",
    "            return 3\n",
    "        elif col == 2:\n",
    "            return 6\n",
    "        elif col == 3:\n",
    "            return 9\n",
    "        else:\n",
    "            return 12\n",
    "    \n",
    "    nameCols = [\"final_cvrNummer\"\n",
    "                ,\"aar\"\n",
    "                ,\"maaned\"\n",
    "                ,\"final_lower_intervalKodeAntalAarsvaerk\"\n",
    "                ,\"final_lower_intervalKodeAntalAnsatte\"\n",
    "                ,\"final_kortBeskrivelse\"]\n",
    "     \n",
    "    #what we want to get is as dataframe that looks like this\n",
    "    #| cvr | year | month | x | y | aps/as| \n",
    "    # where years below 2015 are currently represented as year or qarter data. \n",
    "    \n",
    "    attributesCols = [\"aar\"]\n",
    "    minMaxCols =  [F.min,F.max]\n",
    "    combinedCols = [f(i) for i in attributesCols for f in minMaxCols]\n",
    "    \n",
    "    minYear = aarsDf.groupBy().agg(*combinedCols).collect()[0]\n",
    "    years = [Row(aar=i,maaned=j)  for i in range(minYear[0],minYear[1]+1) for j in range(1,13)]\n",
    "    \n",
    "    lowerUdf = F.udf(lambda x: float(assignKvartLowerBound(x)),DoubleType())\n",
    "    upperUdf = F.udf(lambda x: float(assignKvartUpperBound(x)),DoubleType())\n",
    "    \n",
    "    aDf = (assignPrefix(aarsDf,\"aar_\")\n",
    "           .withColumnRenamed(existing=\"aar_lower_intervalKodeAntalInklusivEjere\",new=\"aar_lower_intervalKodeAntalAnsatte\")\n",
    "           .drop(\"aar_ansvarligDataleverandoer\")\n",
    "           .repartition(\"aar_aar\")\n",
    "          )\n",
    "      \n",
    "    kDf = (assignPrefix(kvartDf,\"kvart_\")\n",
    "           .withColumn(col=lowerUdf(\"kvart_kvartal\"),colName =\"l\")\n",
    "           .withColumn(col=upperUdf(\"kvart_kvartal\"),colName =\"u\")\n",
    "           .repartition(\"kvart_aar\"))\n",
    "    #aDf.show()\n",
    "\n",
    "    mDf = (maanedDf\n",
    "           .select([F.col(re.sub(\"final_\",\"\",c)).alias(nameCols[i]) for i,c in enumerate(nameCols)]))\n",
    "    \n",
    "    yearsAndMonthDf = sqlContext.createDataFrame(years).repartition(\"aar\")\n",
    "\n",
    "    secondCols = [kDf.columns[0]]+yearsAndMonthDf.columns+kDf.columns[3:5]+[kDf.columns[6]]\n",
    "    secondJoinDf = (yearsAndMonthDf\n",
    "                    .join(kDf,((yearsAndMonthDf[\"aar\"] == kDf[\"kvart_aar\"])\n",
    "                               & ( yearsAndMonthDf[\"maaned\"].between(kDf[\"l\"],kDf[\"u\"]) )),how=\"left\")\n",
    "                    .select([F.col(c).alias(nameCols[i]) for i,c in enumerate(secondCols)])\n",
    "                    )\n",
    "                   \n",
    "    #secondJoinDf.orderBy(F.col(\"final_cvrNummer\").desc()).show()\n",
    "\n",
    "    coalseSecondCol = [secondJoinDf.columns[0]]+secondJoinDf.columns[3:]\n",
    "    aCoalseCol = [aDf.columns[0]]+aDf.columns[2:]\n",
    "    combinedCols = list(zip(coalseSecondCol,aCoalseCol))\n",
    "    #print(combinedCols)\n",
    "    actionCols = [F.coalesce(combinedCols[0][0],combinedCols[0][1]).alias(combinedCols[0][0])]+yearsAndMonthDf.columns+[F.coalesce(i,j).alias(i) for i,j in combinedCols[1:]]\n",
    "    #print(actionCols)\n",
    "    \n",
    "    lastJoinDf = (secondJoinDf\n",
    "                  .join(aDf,((secondJoinDf[\"aar\"] == aDf[\"aar_aar\"]) \n",
    "                             & (secondJoinDf[\"final_cvrNummer\"] == None)),how=\"left\")\n",
    "                  .select(actionCols)\n",
    "                  )\n",
    "    #lastJoinDf.show()\n",
    "    \n",
    "    return (lastJoinDf\n",
    "            .na\n",
    "            .drop(how=\"all\",subset=[\"final_cvrNummer\"])\n",
    "            \n",
    "            # remove all that don't have any cvr-nummber\n",
    "            ) #extract only relevant"
   ]
  },
  {
   "cell_type": "code",
   "execution_count": 3,
   "metadata": {
    "collapsed": false,
    "scrolled": true
   },
   "outputs": [],
   "source": [
    "dfA = sqlContext.read.parquet(cvrPath+\"/AarsVaerker.parquet\")\n",
    "dfK = sqlContext.read.parquet(cvrPath+\"/KvartalsVaerker.parquet\")\n",
    "dfM = sqlContext.read.parquet(cvrPath+\"/MaanedsVaerker.parquet\")"
   ]
  },
  {
   "cell_type": "code",
   "execution_count": 4,
   "metadata": {
    "collapsed": false
   },
   "outputs": [],
   "source": [
    "\n",
    "#xDf = createManPowerTabel(dfA,dfK,dfM)\n",
    "#xDf.write.parquet(mode=\"overwrite\",path=\"/home/svanhmic/workspace/Python/Erhvervs/data/cdata/TotalAarsVaerker.parquet\")"
   ]
  },
  {
   "cell_type": "code",
   "execution_count": 5,
   "metadata": {
    "collapsed": true
   },
   "outputs": [],
   "source": [
    "\n",
    "def assignPrefix(df,prefix):\n",
    "    excluded = [\"langBeskrivelse\",\"virksomhedsformkode\",\"periode_gyldigFra\",\"periode_gyldigTil\",\"rank\"]\n",
    "    return df.select([F.col(i).alias(prefix+i) for i in df.columns if i not in excluded])\n",
    "    \n",
    "def assignKvartLowerBound(col):\n",
    "        \n",
    "    if col == 1: \n",
    "        return 1\n",
    "    elif col == 2:\n",
    "        return 4\n",
    "    elif col == 3:\n",
    "        return 7\n",
    "    else:\n",
    "        return 10\n",
    "        \n",
    "def assignKvartUpperBound(col):\n",
    "    \n",
    "    if col == 1:\n",
    "        return 3\n",
    "    elif col == 2:\n",
    "        return 6\n",
    "    elif col == 3:\n",
    "        return 9\n",
    "    else:\n",
    "        return 12\n",
    "    \n",
    "    "
   ]
  },
  {
   "cell_type": "code",
   "execution_count": null,
   "metadata": {
    "collapsed": true
   },
   "outputs": [],
   "source": []
  },
  {
   "cell_type": "code",
   "execution_count": 6,
   "metadata": {
    "collapsed": true
   },
   "outputs": [],
   "source": [
    "def createYearTabel(df):\n",
    "    \n",
    "    attributesCols = [\"aar\"]\n",
    "    minMaxCols =  [F.min,F.max]\n",
    "    combinedCols = [f(i) for i in attributesCols for f in minMaxCols]\n",
    "    minYear = df.groupBy().agg(*combinedCols).collect()[0]\n",
    "    years = [Row(aar=i,maaned=j)  for i in range(minYear[0],minYear[1]+1) for j in range(1,13)]\n",
    "    yearDf = sqlContext.createDataFrame(years)\n",
    "    \n",
    "    return yearDf"
   ]
  },
  {
   "cell_type": "code",
   "execution_count": 7,
   "metadata": {
    "collapsed": false
   },
   "outputs": [
    {
     "name": "stdout",
     "output_type": "stream",
     "text": [
      "+---------+----+------+--------------------------------+------------------------------+---------------+\n",
      "|cvrNummer| aar|maaned|lower_intervalKodeAntalAarsvaerk|lower_intervalKodeAntalAnsatte|kortBeskrivelse|\n",
      "+---------+----+------+--------------------------------+------------------------------+---------------+\n",
      "| 29214654|2007|     1|                            null|                             5|            APS|\n",
      "| 14339094|2007|     1|                            null|                             2|            A/S|\n",
      "| 87136213|2007|     1|                            null|                            10|            A/S|\n",
      "| 21763403|2007|     1|                            null|                             5|            APS|\n",
      "| 10099366|2007|     1|                            null|                             5|            APS|\n",
      "| 20888601|2007|     1|                            null|                             2|            APS|\n",
      "| 13075549|2007|     1|                            null|                             5|            APS|\n",
      "| 52107016|2007|     1|                            null|                            10|            A/S|\n",
      "| 26059216|2007|     1|                            null|                             5|            APS|\n",
      "| 30078993|2007|     1|                            null|                             1|            APS|\n",
      "| 26677130|2007|     1|                            null|                             5|            APS|\n",
      "| 25773950|2007|     1|                            null|                             0|            APS|\n",
      "| 25795687|2007|     1|                            null|                             2|            APS|\n",
      "| 28112122|2007|     1|                            null|                             2|            APS|\n",
      "| 70446111|2007|     1|                            null|                            10|            A/S|\n",
      "| 28697783|2007|     1|                            null|                             1|            APS|\n",
      "| 25685083|2007|     1|                            null|                             5|            A/S|\n",
      "| 25826523|2007|     1|                            null|                             5|            A/S|\n",
      "| 51033019|2007|     1|                            null|                             2|            APS|\n",
      "| 45532410|2007|     1|                            null|                             5|            A/S|\n",
      "+---------+----+------+--------------------------------+------------------------------+---------------+\n",
      "only showing top 20 rows\n",
      "\n"
     ]
    },
    {
     "data": {
      "text/plain": [
       "13403772"
      ]
     },
     "execution_count": 7,
     "metadata": {},
     "output_type": "execute_result"
    }
   ],
   "source": [
    "\n",
    "lowerUdf = F.udf(lambda x: float(assignKvartLowerBound(x)),DoubleType())\n",
    "upperUdf = F.udf(lambda x: float(assignKvartUpperBound(x)),DoubleType())\n",
    "\n",
    "y = createYearTabel(dfK)\n",
    "kCols = [\"cvrNummer\",\"aar\",\"maaned\",\"lower_intervalKodeAntalAarsvaerk\",\"lower_intervalKodeAntalAnsatte\",\"kortBeskrivelse\"]\n",
    "expandKDf = (y\n",
    "             .join(dfK\n",
    "                   .withColumn(col=lowerUdf(\"kvartal\"),colName=\"l\")\n",
    "                   .withColumn(col=upperUdf(\"kvartal\"),colName=\"u\")\n",
    "                   ,((y[\"aar\"] == dfK[\"aar\"]) & (y[\"maaned\"].between(F.col(\"l\"),F.col(\"u\"))))\n",
    "                   ,\"inner\"\n",
    "                  )\n",
    "             .drop(dfK[\"aar\"])\n",
    "             .drop(dfK[\"kvartal\"])\n",
    "             .select(kCols)\n",
    "            )\n",
    "\n",
    "expandKDf.show()\n",
    "expandKDf.count()\n"
   ]
  },
  {
   "cell_type": "code",
   "execution_count": 8,
   "metadata": {
    "collapsed": false
   },
   "outputs": [
    {
     "name": "stdout",
     "output_type": "stream",
     "text": [
      "+---------+----+------+--------------------------------+------------------------------------+---------------+\n",
      "|cvrNummer| aar|maaned|lower_intervalKodeAntalAarsvaerk|lower_intervalKodeAntalInklusivEjere|kortBeskrivelse|\n",
      "+---------+----+------+--------------------------------+------------------------------------+---------------+\n",
      "| 83072911|1997|     1|                               1|                                   1|            APS|\n",
      "| 82552316|1997|     1|                               1|                                   1|            A/S|\n",
      "| 70346419|1997|     1|                               5|                                   5|            APS|\n",
      "| 19302695|1997|     1|                               2|                                   2|            APS|\n",
      "| 10667607|1997|     1|                               1|                                   2|            APS|\n",
      "| 10967899|1997|     1|                               1|                                   2|            APS|\n",
      "| 89461812|1997|     1|                               5|                                   5|            APS|\n",
      "| 15678577|1997|     1|                               5|                                   5|            APS|\n",
      "| 13224188|1997|     1|                               2|                                   2|            APS|\n",
      "| 83888016|1997|     1|                               1|                                   1|            APS|\n",
      "| 73396719|1997|     1|                               5|                                   5|            APS|\n",
      "| 20199083|1997|     1|                               2|                                   5|            APS|\n",
      "| 12467893|1997|     1|                               2|                                   5|            A/S|\n",
      "| 17713396|1997|     1|                               2|                                   5|            APS|\n",
      "| 71276619|1997|     1|                              10|                                  10|            A/S|\n",
      "| 76699119|1997|     1|                              20|                                  20|            A/S|\n",
      "| 40234012|1997|     1|                              10|                                  10|            A/S|\n",
      "| 21862843|1997|     1|                               5|                                  10|            APS|\n",
      "| 16244201|1997|     1|                              50|                                 100|            A/S|\n",
      "| 61786619|1997|     1|                               1|                                   2|            APS|\n",
      "+---------+----+------+--------------------------------+------------------------------------+---------------+\n",
      "only showing top 20 rows\n",
      "\n"
     ]
    }
   ],
   "source": [
    "x = createYearTabel(dfA)\n",
    "cols = [\"cvrNummer\",\"aar\",\"maaned\",\"lower_intervalKodeAntalAarsvaerk\",\"lower_intervalKodeAntalInklusivEjere\",\"kortBeskrivelse\"]\n",
    "expandedADf = (x\n",
    "               .join(dfA,(x[\"aar\"] == dfA[\"aar\"] ),\"left\")\n",
    "               .drop(dfA[\"aar\"])\n",
    "               .select(cols)\n",
    "              )\n",
    "\n",
    "expandedADf.show()"
   ]
  },
  {
   "cell_type": "code",
   "execution_count": 9,
   "metadata": {
    "collapsed": false
   },
   "outputs": [],
   "source": [
    "mCols= [\"cvrNummer\",\"aar\",\"maaned\",\"lower_intervalKodeAntalAarsvaerk\",\"lower_intervalKodeAntalAnsatte\",\"kortBeskrivelse\"]\n",
    "MaanedsDf = dfM.select(mCols)"
   ]
  },
  {
   "cell_type": "code",
   "execution_count": 10,
   "metadata": {
    "collapsed": false
   },
   "outputs": [],
   "source": [
    "kvartCvrDf = expandKDf.select(\"cvrNummer\",\"aar\",\"maaned\")\n",
    "aarCvrDf = expandedADf.select(\"cvrNummer\",\"aar\",\"maaned\")"
   ]
  },
  {
   "cell_type": "code",
   "execution_count": 11,
   "metadata": {
    "collapsed": true
   },
   "outputs": [],
   "source": [
    "onlyInAar = aarCvrDf.subtract(kvartCvrDf)\n",
    "onlyInDataDf = (onlyInAar\n",
    "                .join(expandedADf,((onlyInAar[\"cvrNummer\"] == expandedADf[\"cvrNummer\"]) \n",
    "                                   & (onlyInAar[\"aar\"] == expandedADf[\"aar\"])\n",
    "                                   & (onlyInAar[\"maaned\"] == expandedADf[\"maaned\"])),\"inner\")\n",
    "                .drop(expandedADf[\"cvrNummer\"])\n",
    "                .drop(expandedADf[\"aar\"])\n",
    "                .drop(expandedADf[\"maaned\"])\n",
    "               )\n"
   ]
  },
  {
   "cell_type": "code",
   "execution_count": 12,
   "metadata": {
    "collapsed": false,
    "scrolled": false
   },
   "outputs": [
    {
     "name": "stdout",
     "output_type": "stream",
     "text": [
      "+---------+----+------+--------------------------------+------------------------------------+---------------+\n",
      "|cvrNummer| aar|maaned|lower_intervalKodeAntalAarsvaerk|lower_intervalKodeAntalInklusivEjere|kortBeskrivelse|\n",
      "+---------+----+------+--------------------------------+------------------------------------+---------------+\n",
      "| 10000009|1999|     8|                               1|                                   1|            APS|\n",
      "| 10001706|1998|     1|                               2|                                   2|            APS|\n",
      "| 10001765|2009|     3|                               1|                                   2|            APS|\n",
      "| 10002923|1999|     4|                               1|                                   0|            APS|\n",
      "| 10002966|2006|    12|                               0|                                   1|            APS|\n",
      "| 10003164|2001|     1|                               0|                                   1|            APS|\n",
      "| 10003652|2011|     1|                               1|                                   0|            APS|\n",
      "| 10004500|1998|     4|                              20|                                  20|            A/S|\n",
      "| 10004861|2004|     7|                               1|                                   0|            A/S|\n",
      "| 10005205|1999|     7|                               1|                                   1|            APS|\n",
      "| 10005620|2003|     8|                               2|                                   2|            A/S|\n",
      "| 10006120|2000|     6|                               0|                                   0|            A/S|\n",
      "| 10006481|1997|     8|                              10|                                  10|            A/S|\n",
      "| 10006716|1999|    12|                               2|                                   5|            APS|\n",
      "| 10010535|1997|     7|                               2|                                   5|            APS|\n",
      "| 10011221|2003|     7|                               1|                                   1|            A/S|\n",
      "| 10011574|1997|     1|                               1|                                   1|            APS|\n",
      "| 10011574|1997|    11|                               1|                                   1|            APS|\n",
      "| 10012090|1997|     7|                               5|                                   5|            A/S|\n",
      "| 10012090|1998|     6|                               5|                                  10|            A/S|\n",
      "+---------+----+------+--------------------------------+------------------------------------+---------------+\n",
      "only showing top 20 rows\n",
      "\n"
     ]
    }
   ],
   "source": [
    "onlyInDataDf.show()"
   ]
  },
  {
   "cell_type": "code",
   "execution_count": 13,
   "metadata": {
    "collapsed": false
   },
   "outputs": [],
   "source": [
    "combineAllKADf = expandKDf.unionAll(onlyInDataDf)\n",
    "combineAllKAMDf = combineAllKADf.unionAll(MaanedsDf)"
   ]
  },
  {
   "cell_type": "code",
   "execution_count": 14,
   "metadata": {
    "collapsed": false
   },
   "outputs": [
    {
     "name": "stdout",
     "output_type": "stream",
     "text": [
      "+---------+----+------+--------------------------------+------------------------------+---------------+\n",
      "|cvrNummer| aar|maaned|lower_intervalKodeAntalAarsvaerk|lower_intervalKodeAntalAnsatte|kortBeskrivelse|\n",
      "+---------+----+------+--------------------------------+------------------------------+---------------+\n",
      "| 29214654|2007|     1|                            null|                             5|            APS|\n",
      "| 14339094|2007|     1|                            null|                             2|            A/S|\n",
      "| 87136213|2007|     1|                            null|                            10|            A/S|\n",
      "| 21763403|2007|     1|                            null|                             5|            APS|\n",
      "| 10099366|2007|     1|                            null|                             5|            APS|\n",
      "| 20888601|2007|     1|                            null|                             2|            APS|\n",
      "| 13075549|2007|     1|                            null|                             5|            APS|\n",
      "| 52107016|2007|     1|                            null|                            10|            A/S|\n",
      "| 26059216|2007|     1|                            null|                             5|            APS|\n",
      "| 30078993|2007|     1|                            null|                             1|            APS|\n",
      "| 26677130|2007|     1|                            null|                             5|            APS|\n",
      "| 25773950|2007|     1|                            null|                             0|            APS|\n",
      "| 25795687|2007|     1|                            null|                             2|            APS|\n",
      "| 28112122|2007|     1|                            null|                             2|            APS|\n",
      "| 70446111|2007|     1|                            null|                            10|            A/S|\n",
      "| 28697783|2007|     1|                            null|                             1|            APS|\n",
      "| 25685083|2007|     1|                            null|                             5|            A/S|\n",
      "| 25826523|2007|     1|                            null|                             5|            A/S|\n",
      "| 51033019|2007|     1|                            null|                             2|            APS|\n",
      "| 45532410|2007|     1|                            null|                             5|            A/S|\n",
      "+---------+----+------+--------------------------------+------------------------------+---------------+\n",
      "only showing top 20 rows\n",
      "\n"
     ]
    }
   ],
   "source": [
    "combineAllKAMDf.show()"
   ]
  },
  {
   "cell_type": "code",
   "execution_count": 16,
   "metadata": {
    "collapsed": false
   },
   "outputs": [
    {
     "data": {
      "text/plain": [
       "15729030"
      ]
     },
     "execution_count": 16,
     "metadata": {},
     "output_type": "execute_result"
    }
   ],
   "source": [
    "combineAllKADf.count()"
   ]
  },
  {
   "cell_type": "code",
   "execution_count": 17,
   "metadata": {
    "collapsed": false
   },
   "outputs": [
    {
     "data": {
      "text/plain": [
       "16836855"
      ]
     },
     "execution_count": 17,
     "metadata": {},
     "output_type": "execute_result"
    }
   ],
   "source": [
    "combineAllKAMDf.count()"
   ]
  },
  {
   "cell_type": "code",
   "execution_count": null,
   "metadata": {
    "collapsed": true
   },
   "outputs": [],
   "source": [
    "combineAllKAMDf.write.parquet(cvrPath+\"/TotalAarsVaerker.parquet\",mode=\"overwrite\")"
   ]
  }
 ],
 "metadata": {
  "kernelspec": {
   "display_name": "Python 3",
   "language": "python",
   "name": "python3"
  },
  "language_info": {
   "codemirror_mode": {
    "name": "ipython",
    "version": 3
   },
   "file_extension": ".py",
   "mimetype": "text/x-python",
   "name": "python",
   "nbconvert_exporter": "python",
   "pygments_lexer": "ipython3",
   "version": "3.5.2"
  }
 },
 "nbformat": 4,
 "nbformat_minor": 2
}
