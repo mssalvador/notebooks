{
 "cells": [
  {
   "cell_type": "code",
   "execution_count": 1,
   "metadata": {
    "collapsed": false,
    "scrolled": false
   },
   "outputs": [],
   "source": [
    "from pyspark import SparkConf\n",
    "from pyspark.sql import SparkSession, SQLContext\n",
    "from pyspark.sql import functions as F\n",
    "from functools import reduce\n",
    "from pyspark.sql.window import Window\n",
    "#Python imports\n",
    "import sys\n",
    "sys.path.append(\"/home/svanhmic/workspace/Python/Erhvervs/src/cvr\")\n",
    "import GetNextJsonLayer\n",
    "import os\n",
    "path = \"/home/svanhmic/workspace/Python/Erhvervs/data/cdata\"\n",
    "\n",
    "#paths\n"
   ]
  },
  {
   "cell_type": "code",
   "execution_count": 2,
   "metadata": {
    "collapsed": false
   },
   "outputs": [],
   "source": [
    "#%ls /home/svanhmic/workspace/Python/Erhvervs/data/cdata \n",
    "%env\n",
    "#%pdb\n",
    "from graphframes import graphframe"
   ]
  },
  {
   "cell_type": "code",
   "execution_count": null,
   "metadata": {
    "collapsed": false
   },
   "outputs": [],
   "source": []
  },
  {
   "cell_type": "code",
   "execution_count": 3,
   "metadata": {
    "collapsed": false
   },
   "outputs": [],
   "source": [
    "df = sqlContext.read.json(path+\"/AlleDeltager.json\")\n",
    "deltagerCols = GetNextJsonLayer.getNextSchemaLayer(df.schema,\"deltager\")"
   ]
  },
  {
   "cell_type": "code",
   "execution_count": 4,
   "metadata": {
    "collapsed": false,
    "scrolled": false
   },
   "outputs": [
    {
     "name": "stdout",
     "output_type": "stream",
     "text": [
      "root\n",
      " |-- deltager: struct (nullable = true)\n",
      " |    |-- attributter: array (nullable = true)\n",
      " |    |    |-- element: struct (containsNull = true)\n",
      " |    |    |    |-- sekvensnr: long (nullable = true)\n",
      " |    |    |    |-- type: string (nullable = true)\n",
      " |    |    |    |-- vaerdier: array (nullable = true)\n",
      " |    |    |    |    |-- element: struct (containsNull = true)\n",
      " |    |    |    |    |    |-- periode: struct (nullable = true)\n",
      " |    |    |    |    |    |    |-- gyldigFra: string (nullable = true)\n",
      " |    |    |    |    |    |    |-- gyldigTil: string (nullable = true)\n",
      " |    |    |    |    |    |-- sidstOpdateret: string (nullable = true)\n",
      " |    |    |    |    |    |-- vaerdi: string (nullable = true)\n",
      " |    |    |    |-- vaerditype: string (nullable = true)\n",
      " |    |-- beliggenhedsadresse: array (nullable = true)\n",
      " |    |    |-- element: struct (containsNull = true)\n",
      " |    |    |    |-- bogstavFra: string (nullable = true)\n",
      " |    |    |    |-- bogstavTil: string (nullable = true)\n",
      " |    |    |    |-- bynavn: string (nullable = true)\n",
      " |    |    |    |-- conavn: string (nullable = true)\n",
      " |    |    |    |-- etage: string (nullable = true)\n",
      " |    |    |    |-- fritekst: string (nullable = true)\n",
      " |    |    |    |-- husnummerFra: long (nullable = true)\n",
      " |    |    |    |-- husnummerTil: long (nullable = true)\n",
      " |    |    |    |-- kommune: struct (nullable = true)\n",
      " |    |    |    |    |-- kommuneKode: long (nullable = true)\n",
      " |    |    |    |    |-- kommuneNavn: string (nullable = true)\n",
      " |    |    |    |    |-- periode: struct (nullable = true)\n",
      " |    |    |    |    |    |-- gyldigFra: string (nullable = true)\n",
      " |    |    |    |    |    |-- gyldigTil: string (nullable = true)\n",
      " |    |    |    |    |-- sidstOpdateret: string (nullable = true)\n",
      " |    |    |    |-- landekode: string (nullable = true)\n",
      " |    |    |    |-- periode: struct (nullable = true)\n",
      " |    |    |    |    |-- gyldigFra: string (nullable = true)\n",
      " |    |    |    |    |-- gyldigTil: string (nullable = true)\n",
      " |    |    |    |-- postboks: string (nullable = true)\n",
      " |    |    |    |-- postdistrikt: string (nullable = true)\n",
      " |    |    |    |-- postnummer: long (nullable = true)\n",
      " |    |    |    |-- sidedoer: string (nullable = true)\n",
      " |    |    |    |-- sidstOpdateret: string (nullable = true)\n",
      " |    |    |    |-- vejkode: long (nullable = true)\n",
      " |    |    |    |-- vejnavn: string (nullable = true)\n",
      " |    |-- dataAdgang: long (nullable = true)\n",
      " |    |-- deltagerpersonMetadata: struct (nullable = true)\n",
      " |    |    |-- nyesteBeliggenhedsadresse: struct (nullable = true)\n",
      " |    |    |    |-- bogstavFra: string (nullable = true)\n",
      " |    |    |    |-- bogstavTil: string (nullable = true)\n",
      " |    |    |    |-- bynavn: string (nullable = true)\n",
      " |    |    |    |-- conavn: string (nullable = true)\n",
      " |    |    |    |-- etage: string (nullable = true)\n",
      " |    |    |    |-- fritekst: string (nullable = true)\n",
      " |    |    |    |-- husnummerFra: long (nullable = true)\n",
      " |    |    |    |-- husnummerTil: long (nullable = true)\n",
      " |    |    |    |-- kommune: struct (nullable = true)\n",
      " |    |    |    |    |-- kommuneKode: long (nullable = true)\n",
      " |    |    |    |    |-- kommuneNavn: string (nullable = true)\n",
      " |    |    |    |    |-- periode: struct (nullable = true)\n",
      " |    |    |    |    |    |-- gyldigFra: string (nullable = true)\n",
      " |    |    |    |    |-- sidstOpdateret: string (nullable = true)\n",
      " |    |    |    |-- landekode: string (nullable = true)\n",
      " |    |    |    |-- periode: struct (nullable = true)\n",
      " |    |    |    |    |-- gyldigFra: string (nullable = true)\n",
      " |    |    |    |    |-- gyldigTil: string (nullable = true)\n",
      " |    |    |    |-- postboks: string (nullable = true)\n",
      " |    |    |    |-- postdistrikt: string (nullable = true)\n",
      " |    |    |    |-- postnummer: long (nullable = true)\n",
      " |    |    |    |-- sidedoer: string (nullable = true)\n",
      " |    |    |    |-- sidstOpdateret: string (nullable = true)\n",
      " |    |    |    |-- vejkode: long (nullable = true)\n",
      " |    |    |    |-- vejnavn: string (nullable = true)\n",
      " |    |    |-- nyesteKontaktoplysninger: array (nullable = true)\n",
      " |    |    |    |-- element: string (containsNull = true)\n",
      " |    |-- elektroniskPost: array (nullable = true)\n",
      " |    |    |-- element: struct (containsNull = true)\n",
      " |    |    |    |-- hemmelig: boolean (nullable = true)\n",
      " |    |    |    |-- kontaktoplysning: string (nullable = true)\n",
      " |    |    |    |-- periode: struct (nullable = true)\n",
      " |    |    |    |    |-- gyldigFra: string (nullable = true)\n",
      " |    |    |    |    |-- gyldigTil: string (nullable = true)\n",
      " |    |    |    |-- sidstOpdateret: string (nullable = true)\n",
      " |    |-- enhedsNummer: long (nullable = true)\n",
      " |    |-- enhedstype: string (nullable = true)\n",
      " |    |-- fejlRegistreret: boolean (nullable = true)\n",
      " |    |-- fejlVedIndlaesning: boolean (nullable = true)\n",
      " |    |-- forretningsnoegle: long (nullable = true)\n",
      " |    |-- naermesteFremtidigeDato: string (nullable = true)\n",
      " |    |-- navne: array (nullable = true)\n",
      " |    |    |-- element: struct (containsNull = true)\n",
      " |    |    |    |-- navn: string (nullable = true)\n",
      " |    |    |    |-- sidstOpdateret: string (nullable = true)\n",
      " |    |-- postadresse: array (nullable = true)\n",
      " |    |    |-- element: struct (containsNull = true)\n",
      " |    |    |    |-- conavn: string (nullable = true)\n",
      " |    |    |    |-- fritekst: string (nullable = true)\n",
      " |    |    |    |-- landekode: string (nullable = true)\n",
      " |    |    |    |-- periode: struct (nullable = true)\n",
      " |    |    |    |    |-- gyldigFra: string (nullable = true)\n",
      " |    |    |    |-- sidstOpdateret: string (nullable = true)\n",
      " |    |-- samtId: long (nullable = true)\n",
      " |    |-- sidstIndlaest: string (nullable = true)\n",
      " |    |-- sidstOpdateret: string (nullable = true)\n",
      " |    |-- stilling: string (nullable = true)\n",
      " |    |-- telefaxNummer: array (nullable = true)\n",
      " |    |    |-- element: string (containsNull = true)\n",
      " |    |-- telefonNummer: array (nullable = true)\n",
      " |    |    |-- element: struct (containsNull = true)\n",
      " |    |    |    |-- hemmelig: boolean (nullable = true)\n",
      " |    |    |    |-- kontaktoplysning: string (nullable = true)\n",
      " |    |    |    |-- periode: struct (nullable = true)\n",
      " |    |    |    |    |-- gyldigFra: string (nullable = true)\n",
      " |    |    |    |-- sidstOpdateret: string (nullable = true)\n",
      " |    |-- virkningsAktoer: string (nullable = true)\n",
      " |    |-- virksomhedSummariskRelation: array (nullable = true)\n",
      " |    |    |-- element: struct (containsNull = true)\n",
      " |    |    |    |-- organisationer: array (nullable = true)\n",
      " |    |    |    |    |-- element: struct (containsNull = true)\n",
      " |    |    |    |    |    |-- attributter: array (nullable = true)\n",
      " |    |    |    |    |    |    |-- element: struct (containsNull = true)\n",
      " |    |    |    |    |    |    |    |-- sekvensnr: long (nullable = true)\n",
      " |    |    |    |    |    |    |    |-- type: string (nullable = true)\n",
      " |    |    |    |    |    |    |    |-- vaerdier: array (nullable = true)\n",
      " |    |    |    |    |    |    |    |    |-- element: struct (containsNull = true)\n",
      " |    |    |    |    |    |    |    |    |    |-- periode: struct (nullable = true)\n",
      " |    |    |    |    |    |    |    |    |    |    |-- gyldigFra: string (nullable = true)\n",
      " |    |    |    |    |    |    |    |    |    |    |-- gyldigTil: string (nullable = true)\n",
      " |    |    |    |    |    |    |    |    |    |-- sidstOpdateret: string (nullable = true)\n",
      " |    |    |    |    |    |    |    |    |    |-- vaerdi: string (nullable = true)\n",
      " |    |    |    |    |    |    |    |-- vaerditype: string (nullable = true)\n",
      " |    |    |    |    |    |-- enhedsNummerOrganisation: long (nullable = true)\n",
      " |    |    |    |    |    |-- hovedtype: string (nullable = true)\n",
      " |    |    |    |    |    |-- medlemsData: array (nullable = true)\n",
      " |    |    |    |    |    |    |-- element: struct (containsNull = true)\n",
      " |    |    |    |    |    |    |    |-- attributter: array (nullable = true)\n",
      " |    |    |    |    |    |    |    |    |-- element: struct (containsNull = true)\n",
      " |    |    |    |    |    |    |    |    |    |-- sekvensnr: long (nullable = true)\n",
      " |    |    |    |    |    |    |    |    |    |-- type: string (nullable = true)\n",
      " |    |    |    |    |    |    |    |    |    |-- vaerdier: array (nullable = true)\n",
      " |    |    |    |    |    |    |    |    |    |    |-- element: struct (containsNull = true)\n",
      " |    |    |    |    |    |    |    |    |    |    |    |-- periode: struct (nullable = true)\n",
      " |    |    |    |    |    |    |    |    |    |    |    |    |-- gyldigFra: string (nullable = true)\n",
      " |    |    |    |    |    |    |    |    |    |    |    |    |-- gyldigTil: string (nullable = true)\n",
      " |    |    |    |    |    |    |    |    |    |    |    |-- sidstOpdateret: string (nullable = true)\n",
      " |    |    |    |    |    |    |    |    |    |    |    |-- vaerdi: string (nullable = true)\n",
      " |    |    |    |    |    |    |    |    |    |-- vaerditype: string (nullable = true)\n",
      " |    |    |    |    |    |-- organisationsNavn: array (nullable = true)\n",
      " |    |    |    |    |    |    |-- element: struct (containsNull = true)\n",
      " |    |    |    |    |    |    |    |-- navn: string (nullable = true)\n",
      " |    |    |    |    |    |    |    |-- periode: struct (nullable = true)\n",
      " |    |    |    |    |    |    |    |    |-- gyldigFra: string (nullable = true)\n",
      " |    |    |    |    |    |    |    |    |-- gyldigTil: string (nullable = true)\n",
      " |    |    |    |    |    |    |    |-- sidstOpdateret: string (nullable = true)\n",
      " |    |    |    |-- virksomhed: struct (nullable = true)\n",
      " |    |    |    |    |-- cvrNummer: long (nullable = true)\n",
      " |    |    |    |    |-- enhedsNummer: long (nullable = true)\n",
      " |    |    |    |    |-- enhedstype: string (nullable = true)\n",
      " |    |    |    |    |-- fejlRegistreret: boolean (nullable = true)\n",
      " |    |    |    |    |-- livsforloeb: array (nullable = true)\n",
      " |    |    |    |    |    |-- element: struct (containsNull = true)\n",
      " |    |    |    |    |    |    |-- periode: struct (nullable = true)\n",
      " |    |    |    |    |    |    |    |-- gyldigFra: string (nullable = true)\n",
      " |    |    |    |    |    |    |    |-- gyldigTil: string (nullable = true)\n",
      " |    |    |    |    |    |    |-- sidstOpdateret: string (nullable = true)\n",
      " |    |    |    |    |-- navne: array (nullable = true)\n",
      " |    |    |    |    |    |-- element: struct (containsNull = true)\n",
      " |    |    |    |    |    |    |-- navn: string (nullable = true)\n",
      " |    |    |    |    |    |    |-- periode: struct (nullable = true)\n",
      " |    |    |    |    |    |    |    |-- gyldigFra: string (nullable = true)\n",
      " |    |    |    |    |    |    |    |-- gyldigTil: string (nullable = true)\n",
      " |    |    |    |    |    |    |-- sidstOpdateret: string (nullable = true)\n",
      " |    |    |    |    |-- regNummer: array (nullable = true)\n",
      " |    |    |    |    |    |-- element: struct (containsNull = true)\n",
      " |    |    |    |    |    |    |-- periode: struct (nullable = true)\n",
      " |    |    |    |    |    |    |    |-- gyldigFra: string (nullable = true)\n",
      " |    |    |    |    |    |    |    |-- gyldigTil: string (nullable = true)\n",
      " |    |    |    |    |    |    |-- regnummer: string (nullable = true)\n",
      " |    |    |    |    |    |    |-- sidstOpdateret: string (nullable = true)\n",
      " |    |    |    |    |-- sidstIndlaest: string (nullable = true)\n",
      " |    |    |    |    |-- status: array (nullable = true)\n",
      " |    |    |    |    |    |-- element: struct (containsNull = true)\n",
      " |    |    |    |    |    |    |-- kreditoplysningkode: long (nullable = true)\n",
      " |    |    |    |    |    |    |-- periode: struct (nullable = true)\n",
      " |    |    |    |    |    |    |    |-- gyldigFra: string (nullable = true)\n",
      " |    |    |    |    |    |    |    |-- gyldigTil: string (nullable = true)\n",
      " |    |    |    |    |    |    |-- sidstOpdateret: string (nullable = true)\n",
      " |    |    |    |    |    |    |-- statuskode: long (nullable = true)\n",
      " |    |    |    |    |-- virksomhedsform: array (nullable = true)\n",
      " |    |    |    |    |    |-- element: struct (containsNull = true)\n",
      " |    |    |    |    |    |    |-- ansvarligDataleverandoer: string (nullable = true)\n",
      " |    |    |    |    |    |    |-- kortBeskrivelse: string (nullable = true)\n",
      " |    |    |    |    |    |    |-- langBeskrivelse: string (nullable = true)\n",
      " |    |    |    |    |    |    |-- periode: struct (nullable = true)\n",
      " |    |    |    |    |    |    |    |-- gyldigFra: string (nullable = true)\n",
      " |    |    |    |    |    |    |    |-- gyldigTil: string (nullable = true)\n",
      " |    |    |    |    |    |    |-- sidstOpdateret: string (nullable = true)\n",
      " |    |    |    |    |    |    |-- virksomhedsformkode: long (nullable = true)\n",
      " |    |    |    |    |-- virksomhedsstatus: array (nullable = true)\n",
      " |    |    |    |    |    |-- element: struct (containsNull = true)\n",
      " |    |    |    |    |    |    |-- periode: struct (nullable = true)\n",
      " |    |    |    |    |    |    |    |-- gyldigFra: string (nullable = true)\n",
      " |    |    |    |    |    |    |    |-- gyldigTil: string (nullable = true)\n",
      " |    |    |    |    |    |    |-- sidstOpdateret: string (nullable = true)\n",
      " |    |    |    |    |    |    |-- status: string (nullable = true)\n",
      "\n"
     ]
    }
   ],
   "source": [
    "deltagerCols\n",
    "df.printSchema()"
   ]
  },
  {
   "cell_type": "code",
   "execution_count": 5,
   "metadata": {
    "collapsed": false
   },
   "outputs": [],
   "source": [
    "deltagerAttributterDf = GetNextJsonLayer.createNextLayerTable(df,[\"enhedsNummer\",\"enhedstype\",\"navne\"],\"attributter\",\"deltager\")\n",
    "holdOutCol = [\"vaerdier\"]\n",
    "vaerdiCols = [i for i in deltagerAttributterDf.columns if i not in holdOutCol]\n",
    "\n",
    "deltagerAttributterWithValuesDf = (GetNextJsonLayer\n",
    "                                   .createNextLayerTable(deltagerAttributterDf,vaerdiCols,holdOutCol[0])\n",
    "                                   .drop(\"periode\")\n",
    "                                   .drop(\"sidstOpdateret\"))\n",
    "del holdOutCol[0]\n",
    "holdOutCol.append(\"navne\")\n",
    "del vaerdiCols\n",
    "vaerdiCols = [i for i in deltagerAttributterWithValuesDf.columns if i not in holdOutCol]\n",
    "withNamesAttributsDf = (GetNextJsonLayer\n",
    "                        .createNextLayerTable(deltagerAttributterWithValuesDf,vaerdiCols,holdOutCol[0])\n",
    "                        .drop(\"sidstOpdateret\")\n",
    "                       )\n",
    "#deltagerAttWithValsAndPeriodDf = GetNextJsonLayer.expandSubCols(df=deltagerAttributterWithValuesDf,mainColumn=\"periode\")\n",
    "#deltagerAttributterDf.columns\n"
   ]
  },
  {
   "cell_type": "code",
   "execution_count": 6,
   "metadata": {
    "collapsed": false,
    "scrolled": true
   },
   "outputs": [],
   "source": [
    "#withNamesAttributsDf.show(truncate=False)"
   ]
  },
  {
   "cell_type": "code",
   "execution_count": 7,
   "metadata": {
    "collapsed": false
   },
   "outputs": [],
   "source": [
    "delVirkRelDf = GetNextJsonLayer.createNextLayerTable(df,[\"enhedsNummer\",\"enhedstype\",\"navne\"],\"virksomhedSummariskRelation\",\"deltager\")"
   ]
  },
  {
   "cell_type": "code",
   "execution_count": 8,
   "metadata": {
    "collapsed": false,
    "scrolled": true
   },
   "outputs": [
    {
     "name": "stdout",
     "output_type": "stream",
     "text": [
      "+------------+----------+--------------------+--------------------+--------------------+\n",
      "|enhedsNummer|enhedstype|               navne|      organisationer|          virksomhed|\n",
      "+------------+----------+--------------------+--------------------+--------------------+\n",
      "|  4000201845|    PERSON|[[Ulrik Sindal Sø...|[[WrappedArray([0...|[14222979,4000873...|\n",
      "|  4004119836|    PERSON|[[Munte Malou Tin...|[[WrappedArray([0...|[27733123,4001457...|\n",
      "|  4000562568|    PERSON|[[Mette Bruun Chr...|[[WrappedArray([0...|[29552932,4001580...|\n",
      "|  4000078388|    PERSON|[[Kim Bergensol C...|[[WrappedArray([0...|[20083670,4001021...|\n",
      "|  4000560418|    PERSON|[[Trine Byrgesen ...|[[WrappedArray([0...|[29485232,4001565...|\n",
      "|  4000103042|    PERSON|[[Lissi Marthin,n...|[[WrappedArray([0...|[13607400,4000856...|\n",
      "|  4003996076|    PERSON|[[Arne Kirkeby,nu...|[[WrappedArray([0...|[17172212,4000945...|\n",
      "|  4003996076|    PERSON|[[Arne Kirkeby,nu...|[[WrappedArray([0...|[12669216,4000842...|\n",
      "|  4000696805|    PERSON|[[Christina Irmga...|[[WrappedArray([0...|[33411847,4001835...|\n",
      "|  4004156000|    PERSON|[[Dan Klein Jense...|[[WrappedArray([0...|[29415455,4001560...|\n",
      "|  4000709918|    PERSON|[[Jacob Pilegaard...|[[WrappedArray([0...|[33808577,4001863...|\n",
      "|  4004092700|    PERSON|[[Jeanne le Sage ...|[[WrappedArray([0...|[26498201,4001370...|\n",
      "|  4000457798|    PERSON|[[Lene Schonnings...|[[WrappedArray([0...|[27014097,4001393...|\n",
      "|  4000457798|    PERSON|[[Lene Schonnings...|[[WrappedArray([0...|[29743797,4001595...|\n",
      "|  4000408635|    PERSON|[[Ragnhild Vester...|[[WrappedArray([0...|[26299632,4001342...|\n",
      "|  4000611422|    PERSON|[[Dagmar Renate U...|[[WrappedArray([0...|[30950755,4001686...|\n",
      "|  4000269638|    PERSON|[[Brian Mortensen...|[[WrappedArray([0...|[21531499,4001088...|\n",
      "|  4004131896|    PERSON|[[Tove Cortnum Po...|[[WrappedArray([0...|[31070392,4001676...|\n",
      "|  4004020600|    PERSON|[[Annette Præstma...|[[WrappedArray([0...|[26269075,4001338...|\n",
      "|  4004020600|    PERSON|[[Annette Præstma...|[[WrappedArray([0...|[17379038,4000944...|\n",
      "+------------+----------+--------------------+--------------------+--------------------+\n",
      "only showing top 20 rows\n",
      "\n",
      "root\n",
      " |-- enhedsNummer: long (nullable = true)\n",
      " |-- enhedstype: string (nullable = true)\n",
      " |-- navne: array (nullable = true)\n",
      " |    |-- element: struct (containsNull = true)\n",
      " |    |    |-- navn: string (nullable = true)\n",
      " |    |    |-- sidstOpdateret: string (nullable = true)\n",
      " |-- organisationer: array (nullable = true)\n",
      " |    |-- element: struct (containsNull = true)\n",
      " |    |    |-- attributter: array (nullable = true)\n",
      " |    |    |    |-- element: struct (containsNull = true)\n",
      " |    |    |    |    |-- sekvensnr: long (nullable = true)\n",
      " |    |    |    |    |-- type: string (nullable = true)\n",
      " |    |    |    |    |-- vaerdier: array (nullable = true)\n",
      " |    |    |    |    |    |-- element: struct (containsNull = true)\n",
      " |    |    |    |    |    |    |-- periode: struct (nullable = true)\n",
      " |    |    |    |    |    |    |    |-- gyldigFra: string (nullable = true)\n",
      " |    |    |    |    |    |    |    |-- gyldigTil: string (nullable = true)\n",
      " |    |    |    |    |    |    |-- sidstOpdateret: string (nullable = true)\n",
      " |    |    |    |    |    |    |-- vaerdi: string (nullable = true)\n",
      " |    |    |    |    |-- vaerditype: string (nullable = true)\n",
      " |    |    |-- enhedsNummerOrganisation: long (nullable = true)\n",
      " |    |    |-- hovedtype: string (nullable = true)\n",
      " |    |    |-- medlemsData: array (nullable = true)\n",
      " |    |    |    |-- element: struct (containsNull = true)\n",
      " |    |    |    |    |-- attributter: array (nullable = true)\n",
      " |    |    |    |    |    |-- element: struct (containsNull = true)\n",
      " |    |    |    |    |    |    |-- sekvensnr: long (nullable = true)\n",
      " |    |    |    |    |    |    |-- type: string (nullable = true)\n",
      " |    |    |    |    |    |    |-- vaerdier: array (nullable = true)\n",
      " |    |    |    |    |    |    |    |-- element: struct (containsNull = true)\n",
      " |    |    |    |    |    |    |    |    |-- periode: struct (nullable = true)\n",
      " |    |    |    |    |    |    |    |    |    |-- gyldigFra: string (nullable = true)\n",
      " |    |    |    |    |    |    |    |    |    |-- gyldigTil: string (nullable = true)\n",
      " |    |    |    |    |    |    |    |    |-- sidstOpdateret: string (nullable = true)\n",
      " |    |    |    |    |    |    |    |    |-- vaerdi: string (nullable = true)\n",
      " |    |    |    |    |    |    |-- vaerditype: string (nullable = true)\n",
      " |    |    |-- organisationsNavn: array (nullable = true)\n",
      " |    |    |    |-- element: struct (containsNull = true)\n",
      " |    |    |    |    |-- navn: string (nullable = true)\n",
      " |    |    |    |    |-- periode: struct (nullable = true)\n",
      " |    |    |    |    |    |-- gyldigFra: string (nullable = true)\n",
      " |    |    |    |    |    |-- gyldigTil: string (nullable = true)\n",
      " |    |    |    |    |-- sidstOpdateret: string (nullable = true)\n",
      " |-- virksomhed: struct (nullable = true)\n",
      " |    |-- cvrNummer: long (nullable = true)\n",
      " |    |-- enhedsNummer: long (nullable = true)\n",
      " |    |-- enhedstype: string (nullable = true)\n",
      " |    |-- fejlRegistreret: boolean (nullable = true)\n",
      " |    |-- livsforloeb: array (nullable = true)\n",
      " |    |    |-- element: struct (containsNull = true)\n",
      " |    |    |    |-- periode: struct (nullable = true)\n",
      " |    |    |    |    |-- gyldigFra: string (nullable = true)\n",
      " |    |    |    |    |-- gyldigTil: string (nullable = true)\n",
      " |    |    |    |-- sidstOpdateret: string (nullable = true)\n",
      " |    |-- navne: array (nullable = true)\n",
      " |    |    |-- element: struct (containsNull = true)\n",
      " |    |    |    |-- navn: string (nullable = true)\n",
      " |    |    |    |-- periode: struct (nullable = true)\n",
      " |    |    |    |    |-- gyldigFra: string (nullable = true)\n",
      " |    |    |    |    |-- gyldigTil: string (nullable = true)\n",
      " |    |    |    |-- sidstOpdateret: string (nullable = true)\n",
      " |    |-- regNummer: array (nullable = true)\n",
      " |    |    |-- element: struct (containsNull = true)\n",
      " |    |    |    |-- periode: struct (nullable = true)\n",
      " |    |    |    |    |-- gyldigFra: string (nullable = true)\n",
      " |    |    |    |    |-- gyldigTil: string (nullable = true)\n",
      " |    |    |    |-- regnummer: string (nullable = true)\n",
      " |    |    |    |-- sidstOpdateret: string (nullable = true)\n",
      " |    |-- sidstIndlaest: string (nullable = true)\n",
      " |    |-- status: array (nullable = true)\n",
      " |    |    |-- element: struct (containsNull = true)\n",
      " |    |    |    |-- kreditoplysningkode: long (nullable = true)\n",
      " |    |    |    |-- periode: struct (nullable = true)\n",
      " |    |    |    |    |-- gyldigFra: string (nullable = true)\n",
      " |    |    |    |    |-- gyldigTil: string (nullable = true)\n",
      " |    |    |    |-- sidstOpdateret: string (nullable = true)\n",
      " |    |    |    |-- statuskode: long (nullable = true)\n",
      " |    |-- virksomhedsform: array (nullable = true)\n",
      " |    |    |-- element: struct (containsNull = true)\n",
      " |    |    |    |-- ansvarligDataleverandoer: string (nullable = true)\n",
      " |    |    |    |-- kortBeskrivelse: string (nullable = true)\n",
      " |    |    |    |-- langBeskrivelse: string (nullable = true)\n",
      " |    |    |    |-- periode: struct (nullable = true)\n",
      " |    |    |    |    |-- gyldigFra: string (nullable = true)\n",
      " |    |    |    |    |-- gyldigTil: string (nullable = true)\n",
      " |    |    |    |-- sidstOpdateret: string (nullable = true)\n",
      " |    |    |    |-- virksomhedsformkode: long (nullable = true)\n",
      " |    |-- virksomhedsstatus: array (nullable = true)\n",
      " |    |    |-- element: struct (containsNull = true)\n",
      " |    |    |    |-- periode: struct (nullable = true)\n",
      " |    |    |    |    |-- gyldigFra: string (nullable = true)\n",
      " |    |    |    |    |-- gyldigTil: string (nullable = true)\n",
      " |    |    |    |-- sidstOpdateret: string (nullable = true)\n",
      " |    |    |    |-- status: string (nullable = true)\n",
      "\n"
     ]
    }
   ],
   "source": [
    "delVirkRelDf.show()\n",
    "delVirkRelDf.printSchema()"
   ]
  },
  {
   "cell_type": "code",
   "execution_count": 9,
   "metadata": {
    "collapsed": false
   },
   "outputs": [
    {
     "name": "stdout",
     "output_type": "stream",
     "text": [
      "+------------+----------+--------------------+--------------------+------------------------+--------------------+--------------------+--------------------+\n",
      "|enhedsNummer|enhedstype|               navne|         attributter|enhedsNummerOrganisation|           hovedtype|         medlemsData|   organisationsNavn|\n",
      "+------------+----------+--------------------+--------------------+------------------------+--------------------+--------------------+--------------------+\n",
      "|  4000201845|    PERSON|[[Ulrik Sindal Sø...|[[0,FUNKTION,Wrap...|                       0|FULDT_ANSVARLIG_D...|[[WrappedArray([0...|[[Interessenter,[...|\n",
      "|  4004119836|    PERSON|[[Munte Malou Tin...|[[0,FUNKTION,Wrap...|              4004954366|       LEDELSESORGAN|[[WrappedArray([0...|[[Bestyrelse,[200...|\n",
      "|  4000562568|    PERSON|[[Mette Bruun Chr...|[[0,FUNKTION,Wrap...|                       0|FULDT_ANSVARLIG_D...|[[WrappedArray([0...|[[Interessenter,[...|\n",
      "|  4000078388|    PERSON|[[Kim Bergensol C...|[[0,FUNKTION,Wrap...|                       0|FULDT_ANSVARLIG_D...|[[WrappedArray([0...|[[Interessenter,[...|\n",
      "|  4000560418|    PERSON|[[Trine Byrgesen ...|[[0,FUNKTION,Wrap...|                       0|FULDT_ANSVARLIG_D...|[[WrappedArray([0...|[[Interessenter,[...|\n",
      "|  4000103042|    PERSON|[[Lissi Marthin,n...|[[0,FUNKTION,Wrap...|                       0|FULDT_ANSVARLIG_D...|[[WrappedArray([0...|[[Interessenter,[...|\n",
      "|  4003996076|    PERSON|[[Arne Kirkeby,nu...|[[0,FUNKTION,Wrap...|              4004503102|       LEDELSESORGAN|[[WrappedArray([0...|[[Direktion,[1992...|\n",
      "|  4003996076|    PERSON|[[Arne Kirkeby,nu...|[[0,FUNKTION,Wrap...|              4004411703|       LEDELSESORGAN|[[WrappedArray([0...|[[Direktion,[1992...|\n",
      "|  4000696805|    PERSON|[[Christina Irmga...|[[0,FUNKTION,Wrap...|                       0|FULDT_ANSVARLIG_D...|[[WrappedArray([0...|[[Interessenter,[...|\n",
      "|  4004156000|    PERSON|[[Dan Klein Jense...|[[0,FUNKTION,Wrap...|              4005087331|            STIFTERE|[[WrappedArray([0...|[[Stiftere,[2006-...|\n",
      "|  4004156000|    PERSON|[[Dan Klein Jense...|[[0,FUNKTION,Wrap...|              4005087332|       LEDELSESORGAN|[[WrappedArray([0...|[[Bestyrelse,[200...|\n",
      "|  4000709918|    PERSON|[[Jacob Pilegaard...|[[0,FUNKTION,Wrap...|                       0|FULDT_ANSVARLIG_D...|[[WrappedArray([0...|[[Interessenter,[...|\n",
      "|  4004092700|    PERSON|[[Jeanne le Sage ...|[[0,FUNKTION,Wrap...|              4004857561|       LEDELSESORGAN|[[WrappedArray([0...|[[Bestyrelse,[200...|\n",
      "|  4000457798|    PERSON|[[Lene Schonnings...|[[0,FUNKTION,Wrap...|                       0|FULDT_ANSVARLIG_D...|[[WrappedArray([0...|[[Interessenter,[...|\n",
      "|  4000457798|    PERSON|[[Lene Schonnings...|[[0,FUNKTION,Wrap...|                       0|FULDT_ANSVARLIG_D...|[[WrappedArray([0...|[[Interessenter,[...|\n",
      "|  4000408635|    PERSON|[[Ragnhild Vester...|[[0,FUNKTION,Wrap...|                       0|FULDT_ANSVARLIG_D...|[[WrappedArray([0...|[[Interessenter,[...|\n",
      "|  4000611422|    PERSON|[[Dagmar Renate U...|[[0,FUNKTION,Wrap...|                       0|FULDT_ANSVARLIG_D...|[[WrappedArray([0...|[[Interessenter,[...|\n",
      "|  4000269638|    PERSON|[[Brian Mortensen...|[[0,FUNKTION,Wrap...|                       0|FULDT_ANSVARLIG_D...|[[WrappedArray([0...|[[Interessenter,[...|\n",
      "|  4004131896|    PERSON|[[Tove Cortnum Po...|[[0,FUNKTION,Wrap...|              4005243831|            STIFTERE|[[WrappedArray([0...|[[Stiftere,[2007-...|\n",
      "|  4004131896|    PERSON|[[Tove Cortnum Po...|[[0,FUNKTION,Wrap...|              4005243832|       LEDELSESORGAN|[[WrappedArray([0...|[[Direktion,[2007...|\n",
      "+------------+----------+--------------------+--------------------+------------------------+--------------------+--------------------+--------------------+\n",
      "only showing top 20 rows\n",
      "\n"
     ]
    }
   ],
   "source": [
    "delCols = [i for i in delVirkRelDf.columns if i not in [\"organisationer\",\"virksomhed\"]]\n",
    "delVirkRelOrgDf =  GetNextJsonLayer.createNextLayerTable(delVirkRelDf,delCols,\"organisationer\")\n",
    "delVirkRelOrgDf.show()"
   ]
  },
  {
   "cell_type": "code",
   "execution_count": 10,
   "metadata": {
    "collapsed": false
   },
   "outputs": [
    {
     "name": "stdout",
     "output_type": "stream",
     "text": [
      "+------------+------------------------+-------------+--------------------+----------------------+--------------------+--------------------+\n",
      "|enhedsNummer|enhedsNummerOrganisation| orgNavn_navn|     orgNavn_periode|orgNavn_sidstOpdateret|          navne_navn|navne_sidstOpdateret|\n",
      "+------------+------------------------+-------------+--------------------+----------------------+--------------------+--------------------+\n",
      "|  4000201845|                       0|Interessenter|         [null,null]|                  null|Ulrik Sindal Søre...|                null|\n",
      "|  4004119836|              4004954366|   Bestyrelse|[2004-05-06,2009-...|  2015-02-09T23:00:...|Munte Malou Tina ...|                null|\n",
      "|  4000562568|                       0|Interessenter|         [null,null]|                  null|Mette Bruun Chris...|                null|\n",
      "|  4000078388|                       0|Interessenter|         [null,null]|                  null|Kim Bergensol Cor...|                null|\n",
      "|  4000560418|                       0|Interessenter|         [null,null]|                  null|Trine Byrgesen Ni...|                null|\n",
      "|  4000103042|                       0|Interessenter|         [null,null]|                  null|       Lissi Marthin|                null|\n",
      "|  4003996076|              4004503102|    Direktion|[1992-01-01,2015-...|  2015-07-08T15:52:...|        Arne Kirkeby|                null|\n",
      "|  4003996076|              4004411703|    Direktion|[1992-05-26,2005-...|  2015-02-09T23:00:...|        Arne Kirkeby|                null|\n",
      "|  4000696805|                       0|Interessenter|         [null,null]|                  null|Christina Irmgard...|                null|\n",
      "|  4004156000|              4005087331|     Stiftere|[2006-03-16,2007-...|  2015-02-09T23:00:...|    Dan Klein Jensen|                null|\n",
      "|  4004156000|              4005087332|   Bestyrelse|[2006-03-16,2007-...|  2015-02-09T23:00:...|    Dan Klein Jensen|                null|\n",
      "|  4000709918|                       0|Interessenter|         [null,null]|                  null|     Jacob Pilegaard|                null|\n",
      "|  4004092700|              4004857561|   Bestyrelse|[2002-02-22,2008-...|  2015-02-09T23:00:...|Jeanne le Sage de...|                null|\n",
      "|  4000457798|                       0|Interessenter|         [null,null]|                  null|     Lene Schonnings|                null|\n",
      "|  4000457798|                       0|Interessenter|         [null,null]|                  null|     Lene Schonnings|                null|\n",
      "|  4000408635|                       0|Interessenter|         [null,null]|                  null|Ragnhild Vesterga...|                null|\n",
      "|  4000611422|                       0|Interessenter|         [null,null]|                  null|Dagmar Renate Uhl...|                null|\n",
      "|  4000269638|                       0|Interessenter|         [null,null]|                  null|     Brian Mortensen|                null|\n",
      "|  4004131896|              4005243831|     Stiftere|[2007-11-26,2011-...|  2015-02-09T23:00:...|Tove Cortnum Poulsen|                null|\n",
      "|  4004131896|              4005243832|    Direktion|[2007-11-26,2011-...|  2015-02-09T23:00:...|Tove Cortnum Poulsen|                null|\n",
      "+------------+------------------------+-------------+--------------------+----------------------+--------------------+--------------------+\n",
      "only showing top 20 rows\n",
      "\n",
      "root\n",
      " |-- enhedsNummer: long (nullable = true)\n",
      " |-- enhedsNummerOrganisation: long (nullable = true)\n",
      " |-- orgNavn_navn: string (nullable = true)\n",
      " |-- orgNavn_periode: struct (nullable = true)\n",
      " |    |-- gyldigFra: string (nullable = true)\n",
      " |    |-- gyldigTil: string (nullable = true)\n",
      " |-- orgNavn_sidstOpdateret: string (nullable = true)\n",
      " |-- navne_navn: string (nullable = true)\n",
      " |-- navne_sidstOpdateret: string (nullable = true)\n",
      "\n"
     ]
    }
   ],
   "source": [
    "orgCols = [\"navne\",\"enhedsNummer\",\"enhedsNummerOrganisation\"]\n",
    "virkSumRelationDf = GetNextJsonLayer.createNextLayerTable(delVirkRelOrgDf,orgCols,\"organisationsNavn\")\n",
    "newNames = [F.col(i).alias(\"orgNavn_\"+str(i)) for i in virkSumRelationDf.columns if i not in orgCols]                   \n",
    "virkSumRelationDf = virkSumRelationDf.select(orgCols+newNames)\n",
    "\n",
    "\n",
    "holdOutCol = [\"navne\"]\n",
    "keepCols = [i for i in virkSumRelationDf.columns if i not in holdOutCol]\n",
    "virkSumRelationWithNamesDf = (GetNextJsonLayer\n",
    "                              .createNextLayerTable(virkSumRelationDf,keepCols,*holdOutCol))\n",
    "del newNames\n",
    "newNames = [F.col(i).alias(\"navne_\"+str(i)) for i in virkSumRelationWithNamesDf.columns if i not in keepCols] \n",
    "virkSumRelationWithNamesDf = virkSumRelationWithNamesDf.select(keepCols+newNames)\n",
    "\n",
    "virkSumRelationWithNamesDf.show()\n",
    "virkSumRelationWithNamesDf.printSchema()"
   ]
  },
  {
   "cell_type": "code",
   "execution_count": 20,
   "metadata": {
    "collapsed": false
   },
   "outputs": [],
   "source": [
    "#create person to oraganisation edge \n",
    "\n",
    "personTilFirmaEdgeDf = (virkSumRelationWithNamesDf\n",
    "                    .select(F.col(\"enhedsNummer\").alias(\"src\")\n",
    "                            ,F.col(\"enhedsNummerOrganisation\").alias(\"dst\"),F.col(\"orgNavn_navn\").alias(\"relationship\")))"
   ]
  },
  {
   "cell_type": "code",
   "execution_count": 21,
   "metadata": {
    "collapsed": false
   },
   "outputs": [
    {
     "name": "stdout",
     "output_type": "stream",
     "text": [
      "+----------+----------+-------------+\n",
      "|       src|       dst| relationship|\n",
      "+----------+----------+-------------+\n",
      "|4000201845|         0|Interessenter|\n",
      "|4004119836|4004954366|   Bestyrelse|\n",
      "|4000562568|         0|Interessenter|\n",
      "|4000078388|         0|Interessenter|\n",
      "|4000560418|         0|Interessenter|\n",
      "|4000103042|         0|Interessenter|\n",
      "|4003996076|4004503102|    Direktion|\n",
      "|4003996076|4004411703|    Direktion|\n",
      "|4000696805|         0|Interessenter|\n",
      "|4004156000|4005087331|     Stiftere|\n",
      "|4004156000|4005087332|   Bestyrelse|\n",
      "|4000709918|         0|Interessenter|\n",
      "|4004092700|4004857561|   Bestyrelse|\n",
      "|4000457798|         0|Interessenter|\n",
      "|4000457798|         0|Interessenter|\n",
      "|4000408635|         0|Interessenter|\n",
      "|4000611422|         0|Interessenter|\n",
      "|4000269638|         0|Interessenter|\n",
      "|4004131896|4005243831|     Stiftere|\n",
      "|4004131896|4005243832|    Direktion|\n",
      "+----------+----------+-------------+\n",
      "only showing top 20 rows\n",
      "\n"
     ]
    }
   ],
   "source": [
    "personTilFirmaEdgeDf.show()"
   ]
  },
  {
   "cell_type": "code",
   "execution_count": 17,
   "metadata": {
    "collapsed": false
   },
   "outputs": [],
   "source": [
    "allPersons = (virkSumRelationWithNamesDf\n",
    "                  .select(F.col(\"enhedsNummer\").alias(\"id\")\n",
    "                          ,F.col(\"navne_navn\").alias(\"navn\")\n",
    "                          ,F.lit(\"Person\").alias(\"type\"))\n",
    "                 )\n",
    "allOrgs = (virkSumRelationWithNamesDf\n",
    "                  .select(F.col(\"enhedsNummerOrganisation\").alias(\"id\")\n",
    "                          ,F.col(\"orgNavn_navn\").alias(\"navn\"),F.lit(\"Organisation\").alias(\"type\"))\n",
    "          )\n",
    "allVerticesDf = allOrgs.unionAll(allPersons)"
   ]
  },
  {
   "cell_type": "code",
   "execution_count": 18,
   "metadata": {
    "collapsed": false
   },
   "outputs": [
    {
     "name": "stdout",
     "output_type": "stream",
     "text": [
      "+----------+-------------+------------+\n",
      "|        id|         navn|        type|\n",
      "+----------+-------------+------------+\n",
      "|         0|Interessenter|Organisation|\n",
      "|4004954366|   Bestyrelse|Organisation|\n",
      "|         0|Interessenter|Organisation|\n",
      "|         0|Interessenter|Organisation|\n",
      "|         0|Interessenter|Organisation|\n",
      "|         0|Interessenter|Organisation|\n",
      "|4004503102|    Direktion|Organisation|\n",
      "|4004411703|    Direktion|Organisation|\n",
      "|         0|Interessenter|Organisation|\n",
      "|4005087331|     Stiftere|Organisation|\n",
      "|4005087332|   Bestyrelse|Organisation|\n",
      "|         0|Interessenter|Organisation|\n",
      "|4004857561|   Bestyrelse|Organisation|\n",
      "|         0|Interessenter|Organisation|\n",
      "|         0|Interessenter|Organisation|\n",
      "|         0|Interessenter|Organisation|\n",
      "|         0|Interessenter|Organisation|\n",
      "|         0|Interessenter|Organisation|\n",
      "|4005243831|     Stiftere|Organisation|\n",
      "|4005243832|    Direktion|Organisation|\n",
      "+----------+-------------+------------+\n",
      "only showing top 20 rows\n",
      "\n"
     ]
    }
   ],
   "source": [
    "allVerticesDf.show()"
   ]
  },
  {
   "cell_type": "code",
   "execution_count": 26,
   "metadata": {
    "collapsed": false
   },
   "outputs": [],
   "source": [
    "personOrgGraphDf = graphframe.GraphFrame(allVerticesDf,personTilFirmaEdgeDf).cache()"
   ]
  },
  {
   "cell_type": "code",
   "execution_count": 27,
   "metadata": {
    "collapsed": false
   },
   "outputs": [
    {
     "name": "stdout",
     "output_type": "stream",
     "text": [
      "+----------+------+\n",
      "|        id|degree|\n",
      "+----------+------+\n",
      "|4004163266|     3|\n",
      "|4004383649|    14|\n",
      "|4005812438|     4|\n",
      "|4004826402|     4|\n",
      "|4004831974|     3|\n",
      "|4004203683|     1|\n",
      "|4004821174|    13|\n",
      "|4004712825|    28|\n",
      "|4000219055|     2|\n",
      "|4005813839|     2|\n",
      "|4005782118|     3|\n",
      "|4004274696|     1|\n",
      "|4004746497|     1|\n",
      "|4005809630|     6|\n",
      "|4005806416|     1|\n",
      "|4004702564|    10|\n",
      "|4005810208|     1|\n",
      "|4005811904|     2|\n",
      "|4005813403|     4|\n",
      "|4004382609|     9|\n",
      "+----------+------+\n",
      "only showing top 20 rows\n",
      "\n"
     ]
    }
   ],
   "source": [
    "personOrgGraphDf.degrees.show()"
   ]
  },
  {
   "cell_type": "code",
   "execution_count": 30,
   "metadata": {
    "collapsed": false
   },
   "outputs": [
    {
     "name": "stdout",
     "output_type": "stream",
     "text": [
      "+----------+---------+\n",
      "|        id|outDegree|\n",
      "+----------+---------+\n",
      "|4004163266|        3|\n",
      "|4004203683|        1|\n",
      "|4000219055|        2|\n",
      "|4004274696|        1|\n",
      "|4000238588|        2|\n",
      "|4004072379|        1|\n",
      "|4000349745|        2|\n",
      "|4004146496|        1|\n",
      "|4000052652|        2|\n",
      "|4004248640|        1|\n",
      "|4004212823|        2|\n",
      "|4000312242|        4|\n",
      "|4004262639|        1|\n",
      "|4004205560|        1|\n",
      "|4000338938|        1|\n",
      "|4000305565|        1|\n",
      "|4003946989|        1|\n",
      "|4000394288|        3|\n",
      "|4000394312|        1|\n",
      "|4000000978|        2|\n",
      "+----------+---------+\n",
      "only showing top 20 rows\n",
      "\n"
     ]
    }
   ],
   "source": [
    "personOrgGraphDf.outDegrees"
   ]
  },
  {
   "cell_type": "code",
   "execution_count": 34,
   "metadata": {
    "collapsed": false
   },
   "outputs": [],
   "source": [
    "personOrgGraphDegreesDf = personOrgGraphDf.vertices.join(personOrgGraphDf.outDegrees,(personOrgGraphDf.vertices[\"id\"]==personOrgGraphDf.outDegrees[\"id\"]),\"inner\")"
   ]
  },
  {
   "cell_type": "code",
   "execution_count": 35,
   "metadata": {
    "collapsed": false
   },
   "outputs": [
    {
     "name": "stdout",
     "output_type": "stream",
     "text": [
      "+-------+--------------------+------+-------+---------+\n",
      "|     id|                navn|  type|     id|outDegree|\n",
      "+-------+--------------------+------+-------+---------+\n",
      "|1859433| Lars Stampe Nielsen|Person|1859433|        3|\n",
      "|1859433| Lars Stampe Nielsen|Person|1859433|        3|\n",
      "|1859433| Lars Stampe Nielsen|Person|1859433|        3|\n",
      "|2164870|Jørgen Herman Jan...|Person|2164870|        2|\n",
      "|2164870|Jørgen Herman Jan...|Person|2164870|        2|\n",
      "|2249965|    Jakob Lee Jensen|Person|2249965|       19|\n",
      "|2249965|    Jakob Lee Jensen|Person|2249965|       19|\n",
      "|2249965|    Jakob Lee Jensen|Person|2249965|       19|\n",
      "|2249965|    Jakob Lee Jensen|Person|2249965|       19|\n",
      "|2249965|    Jakob Lee Jensen|Person|2249965|       19|\n",
      "|2249965|    Jakob Lee Jensen|Person|2249965|       19|\n",
      "|2249965|    Jakob Lee Jensen|Person|2249965|       19|\n",
      "|2249965|    Jakob Lee Jensen|Person|2249965|       19|\n",
      "|2249965|    Jakob Lee Jensen|Person|2249965|       19|\n",
      "|2249965|    Jakob Lee Jensen|Person|2249965|       19|\n",
      "|2249965|    Jakob Lee Jensen|Person|2249965|       19|\n",
      "|2249965|    Jakob Lee Jensen|Person|2249965|       19|\n",
      "|2249965|    Jakob Lee Jensen|Person|2249965|       19|\n",
      "|2249965|    Jakob Lee Jensen|Person|2249965|       19|\n",
      "|2249965|    Jakob Lee Jensen|Person|2249965|       19|\n",
      "+-------+--------------------+------+-------+---------+\n",
      "only showing top 20 rows\n",
      "\n"
     ]
    }
   ],
   "source": [
    "personOrgGraphDegreesDf.show()"
   ]
  },
  {
   "cell_type": "code",
   "execution_count": null,
   "metadata": {
    "collapsed": true
   },
   "outputs": [],
   "source": []
  }
 ],
 "metadata": {
  "kernelspec": {
   "display_name": "Python 3",
   "language": "python",
   "name": "python3"
  },
  "language_info": {
   "codemirror_mode": {
    "name": "ipython",
    "version": 3
   },
   "file_extension": ".py",
   "mimetype": "text/x-python",
   "name": "python",
   "nbconvert_exporter": "python",
   "pygments_lexer": "ipython3",
   "version": "3.5.2"
  }
 },
 "nbformat": 4,
 "nbformat_minor": 2
}
