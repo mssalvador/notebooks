{
 "cells": [
  {
   "cell_type": "code",
   "execution_count": 1,
   "metadata": {
    "collapsed": false,
    "scrolled": false
   },
   "outputs": [],
   "source": [
    "from pyspark import SparkConf\n",
    "from pyspark.sql import SparkSession, SQLContext\n",
    "from pyspark.sql import functions as F\n",
    "from functools import reduce\n",
    "from pyspark.sql.window import Window\n",
    "#Python imports\n",
    "import sys\n",
    "sys.path.append(\"/home/svanhmic/workspace/Python/Erhvervs/src/cvr\")\n",
    "import GetNextJsonLayer\n",
    "import os\n",
    "path = \"/home/svanhmic/workspace/Python/Erhvervs/data/cdata\"\n",
    "#paths\n"
   ]
  },
  {
   "cell_type": "code",
   "execution_count": 2,
   "metadata": {
    "collapsed": false
   },
   "outputs": [],
   "source": [
    "#%ls /home/svanhmic/workspace/Python/Erhvervs/data/cdata \n",
    "%env\n",
    "#%pdb\n",
    "from graphframes import graphframe"
   ]
  },
  {
   "cell_type": "code",
   "execution_count": null,
   "metadata": {
    "collapsed": false
   },
   "outputs": [],
   "source": []
  },
  {
   "cell_type": "code",
   "execution_count": 3,
   "metadata": {
    "collapsed": false
   },
   "outputs": [],
   "source": [
    "df = sqlContext.read.json(path+\"/AlleDeltager.json\")\n",
    "deltagerCols = GetNextJsonLayer.getNextSchemaLayer(df.schema,\"deltager\")"
   ]
  },
  {
   "cell_type": "code",
   "execution_count": 4,
   "metadata": {
    "collapsed": false,
    "scrolled": true
   },
   "outputs": [
    {
     "name": "stdout",
     "output_type": "stream",
     "text": [
      "root\n",
      " |-- deltager: struct (nullable = true)\n",
      " |    |-- attributter: array (nullable = true)\n",
      " |    |    |-- element: struct (containsNull = true)\n",
      " |    |    |    |-- sekvensnr: long (nullable = true)\n",
      " |    |    |    |-- type: string (nullable = true)\n",
      " |    |    |    |-- vaerdier: array (nullable = true)\n",
      " |    |    |    |    |-- element: struct (containsNull = true)\n",
      " |    |    |    |    |    |-- periode: struct (nullable = true)\n",
      " |    |    |    |    |    |    |-- gyldigFra: string (nullable = true)\n",
      " |    |    |    |    |    |    |-- gyldigTil: string (nullable = true)\n",
      " |    |    |    |    |    |-- sidstOpdateret: string (nullable = true)\n",
      " |    |    |    |    |    |-- vaerdi: string (nullable = true)\n",
      " |    |    |    |-- vaerditype: string (nullable = true)\n",
      " |    |-- beliggenhedsadresse: array (nullable = true)\n",
      " |    |    |-- element: struct (containsNull = true)\n",
      " |    |    |    |-- bogstavFra: string (nullable = true)\n",
      " |    |    |    |-- bogstavTil: string (nullable = true)\n",
      " |    |    |    |-- bynavn: string (nullable = true)\n",
      " |    |    |    |-- conavn: string (nullable = true)\n",
      " |    |    |    |-- etage: string (nullable = true)\n",
      " |    |    |    |-- fritekst: string (nullable = true)\n",
      " |    |    |    |-- husnummerFra: long (nullable = true)\n",
      " |    |    |    |-- husnummerTil: long (nullable = true)\n",
      " |    |    |    |-- kommune: struct (nullable = true)\n",
      " |    |    |    |    |-- kommuneKode: long (nullable = true)\n",
      " |    |    |    |    |-- kommuneNavn: string (nullable = true)\n",
      " |    |    |    |    |-- periode: struct (nullable = true)\n",
      " |    |    |    |    |    |-- gyldigFra: string (nullable = true)\n",
      " |    |    |    |    |    |-- gyldigTil: string (nullable = true)\n",
      " |    |    |    |    |-- sidstOpdateret: string (nullable = true)\n",
      " |    |    |    |-- landekode: string (nullable = true)\n",
      " |    |    |    |-- periode: struct (nullable = true)\n",
      " |    |    |    |    |-- gyldigFra: string (nullable = true)\n",
      " |    |    |    |    |-- gyldigTil: string (nullable = true)\n",
      " |    |    |    |-- postboks: string (nullable = true)\n",
      " |    |    |    |-- postdistrikt: string (nullable = true)\n",
      " |    |    |    |-- postnummer: long (nullable = true)\n",
      " |    |    |    |-- sidedoer: string (nullable = true)\n",
      " |    |    |    |-- sidstOpdateret: string (nullable = true)\n",
      " |    |    |    |-- vejkode: long (nullable = true)\n",
      " |    |    |    |-- vejnavn: string (nullable = true)\n",
      " |    |-- dataAdgang: long (nullable = true)\n",
      " |    |-- deltagerpersonMetadata: struct (nullable = true)\n",
      " |    |    |-- nyesteBeliggenhedsadresse: struct (nullable = true)\n",
      " |    |    |    |-- bogstavFra: string (nullable = true)\n",
      " |    |    |    |-- bogstavTil: string (nullable = true)\n",
      " |    |    |    |-- bynavn: string (nullable = true)\n",
      " |    |    |    |-- conavn: string (nullable = true)\n",
      " |    |    |    |-- etage: string (nullable = true)\n",
      " |    |    |    |-- fritekst: string (nullable = true)\n",
      " |    |    |    |-- husnummerFra: long (nullable = true)\n",
      " |    |    |    |-- husnummerTil: long (nullable = true)\n",
      " |    |    |    |-- kommune: struct (nullable = true)\n",
      " |    |    |    |    |-- kommuneKode: long (nullable = true)\n",
      " |    |    |    |    |-- kommuneNavn: string (nullable = true)\n",
      " |    |    |    |    |-- periode: struct (nullable = true)\n",
      " |    |    |    |    |    |-- gyldigFra: string (nullable = true)\n",
      " |    |    |    |    |-- sidstOpdateret: string (nullable = true)\n",
      " |    |    |    |-- landekode: string (nullable = true)\n",
      " |    |    |    |-- periode: struct (nullable = true)\n",
      " |    |    |    |    |-- gyldigFra: string (nullable = true)\n",
      " |    |    |    |    |-- gyldigTil: string (nullable = true)\n",
      " |    |    |    |-- postboks: string (nullable = true)\n",
      " |    |    |    |-- postdistrikt: string (nullable = true)\n",
      " |    |    |    |-- postnummer: long (nullable = true)\n",
      " |    |    |    |-- sidedoer: string (nullable = true)\n",
      " |    |    |    |-- sidstOpdateret: string (nullable = true)\n",
      " |    |    |    |-- vejkode: long (nullable = true)\n",
      " |    |    |    |-- vejnavn: string (nullable = true)\n",
      " |    |    |-- nyesteKontaktoplysninger: array (nullable = true)\n",
      " |    |    |    |-- element: string (containsNull = true)\n",
      " |    |-- elektroniskPost: array (nullable = true)\n",
      " |    |    |-- element: struct (containsNull = true)\n",
      " |    |    |    |-- hemmelig: boolean (nullable = true)\n",
      " |    |    |    |-- kontaktoplysning: string (nullable = true)\n",
      " |    |    |    |-- periode: struct (nullable = true)\n",
      " |    |    |    |    |-- gyldigFra: string (nullable = true)\n",
      " |    |    |    |    |-- gyldigTil: string (nullable = true)\n",
      " |    |    |    |-- sidstOpdateret: string (nullable = true)\n",
      " |    |-- enhedsNummer: long (nullable = true)\n",
      " |    |-- enhedstype: string (nullable = true)\n",
      " |    |-- fejlRegistreret: boolean (nullable = true)\n",
      " |    |-- fejlVedIndlaesning: boolean (nullable = true)\n",
      " |    |-- forretningsnoegle: long (nullable = true)\n",
      " |    |-- naermesteFremtidigeDato: string (nullable = true)\n",
      " |    |-- navne: array (nullable = true)\n",
      " |    |    |-- element: struct (containsNull = true)\n",
      " |    |    |    |-- navn: string (nullable = true)\n",
      " |    |    |    |-- sidstOpdateret: string (nullable = true)\n",
      " |    |-- postadresse: array (nullable = true)\n",
      " |    |    |-- element: struct (containsNull = true)\n",
      " |    |    |    |-- conavn: string (nullable = true)\n",
      " |    |    |    |-- fritekst: string (nullable = true)\n",
      " |    |    |    |-- landekode: string (nullable = true)\n",
      " |    |    |    |-- periode: struct (nullable = true)\n",
      " |    |    |    |    |-- gyldigFra: string (nullable = true)\n",
      " |    |    |    |-- sidstOpdateret: string (nullable = true)\n",
      " |    |-- samtId: long (nullable = true)\n",
      " |    |-- sidstIndlaest: string (nullable = true)\n",
      " |    |-- sidstOpdateret: string (nullable = true)\n",
      " |    |-- stilling: string (nullable = true)\n",
      " |    |-- telefaxNummer: array (nullable = true)\n",
      " |    |    |-- element: string (containsNull = true)\n",
      " |    |-- telefonNummer: array (nullable = true)\n",
      " |    |    |-- element: struct (containsNull = true)\n",
      " |    |    |    |-- hemmelig: boolean (nullable = true)\n",
      " |    |    |    |-- kontaktoplysning: string (nullable = true)\n",
      " |    |    |    |-- periode: struct (nullable = true)\n",
      " |    |    |    |    |-- gyldigFra: string (nullable = true)\n",
      " |    |    |    |-- sidstOpdateret: string (nullable = true)\n",
      " |    |-- virkningsAktoer: string (nullable = true)\n",
      " |    |-- virksomhedSummariskRelation: array (nullable = true)\n",
      " |    |    |-- element: struct (containsNull = true)\n",
      " |    |    |    |-- organisationer: array (nullable = true)\n",
      " |    |    |    |    |-- element: struct (containsNull = true)\n",
      " |    |    |    |    |    |-- attributter: array (nullable = true)\n",
      " |    |    |    |    |    |    |-- element: struct (containsNull = true)\n",
      " |    |    |    |    |    |    |    |-- sekvensnr: long (nullable = true)\n",
      " |    |    |    |    |    |    |    |-- type: string (nullable = true)\n",
      " |    |    |    |    |    |    |    |-- vaerdier: array (nullable = true)\n",
      " |    |    |    |    |    |    |    |    |-- element: struct (containsNull = true)\n",
      " |    |    |    |    |    |    |    |    |    |-- periode: struct (nullable = true)\n",
      " |    |    |    |    |    |    |    |    |    |    |-- gyldigFra: string (nullable = true)\n",
      " |    |    |    |    |    |    |    |    |    |    |-- gyldigTil: string (nullable = true)\n",
      " |    |    |    |    |    |    |    |    |    |-- sidstOpdateret: string (nullable = true)\n",
      " |    |    |    |    |    |    |    |    |    |-- vaerdi: string (nullable = true)\n",
      " |    |    |    |    |    |    |    |-- vaerditype: string (nullable = true)\n",
      " |    |    |    |    |    |-- enhedsNummerOrganisation: long (nullable = true)\n",
      " |    |    |    |    |    |-- hovedtype: string (nullable = true)\n",
      " |    |    |    |    |    |-- medlemsData: array (nullable = true)\n",
      " |    |    |    |    |    |    |-- element: struct (containsNull = true)\n",
      " |    |    |    |    |    |    |    |-- attributter: array (nullable = true)\n",
      " |    |    |    |    |    |    |    |    |-- element: struct (containsNull = true)\n",
      " |    |    |    |    |    |    |    |    |    |-- sekvensnr: long (nullable = true)\n",
      " |    |    |    |    |    |    |    |    |    |-- type: string (nullable = true)\n",
      " |    |    |    |    |    |    |    |    |    |-- vaerdier: array (nullable = true)\n",
      " |    |    |    |    |    |    |    |    |    |    |-- element: struct (containsNull = true)\n",
      " |    |    |    |    |    |    |    |    |    |    |    |-- periode: struct (nullable = true)\n",
      " |    |    |    |    |    |    |    |    |    |    |    |    |-- gyldigFra: string (nullable = true)\n",
      " |    |    |    |    |    |    |    |    |    |    |    |    |-- gyldigTil: string (nullable = true)\n",
      " |    |    |    |    |    |    |    |    |    |    |    |-- sidstOpdateret: string (nullable = true)\n",
      " |    |    |    |    |    |    |    |    |    |    |    |-- vaerdi: string (nullable = true)\n",
      " |    |    |    |    |    |    |    |    |    |-- vaerditype: string (nullable = true)\n",
      " |    |    |    |    |    |-- organisationsNavn: array (nullable = true)\n",
      " |    |    |    |    |    |    |-- element: struct (containsNull = true)\n",
      " |    |    |    |    |    |    |    |-- navn: string (nullable = true)\n",
      " |    |    |    |    |    |    |    |-- periode: struct (nullable = true)\n",
      " |    |    |    |    |    |    |    |    |-- gyldigFra: string (nullable = true)\n",
      " |    |    |    |    |    |    |    |    |-- gyldigTil: string (nullable = true)\n",
      " |    |    |    |    |    |    |    |-- sidstOpdateret: string (nullable = true)\n",
      " |    |    |    |-- virksomhed: struct (nullable = true)\n",
      " |    |    |    |    |-- cvrNummer: long (nullable = true)\n",
      " |    |    |    |    |-- enhedsNummer: long (nullable = true)\n",
      " |    |    |    |    |-- enhedstype: string (nullable = true)\n",
      " |    |    |    |    |-- fejlRegistreret: boolean (nullable = true)\n",
      " |    |    |    |    |-- livsforloeb: array (nullable = true)\n",
      " |    |    |    |    |    |-- element: struct (containsNull = true)\n",
      " |    |    |    |    |    |    |-- periode: struct (nullable = true)\n",
      " |    |    |    |    |    |    |    |-- gyldigFra: string (nullable = true)\n",
      " |    |    |    |    |    |    |    |-- gyldigTil: string (nullable = true)\n",
      " |    |    |    |    |    |    |-- sidstOpdateret: string (nullable = true)\n",
      " |    |    |    |    |-- navne: array (nullable = true)\n",
      " |    |    |    |    |    |-- element: struct (containsNull = true)\n",
      " |    |    |    |    |    |    |-- navn: string (nullable = true)\n",
      " |    |    |    |    |    |    |-- periode: struct (nullable = true)\n",
      " |    |    |    |    |    |    |    |-- gyldigFra: string (nullable = true)\n",
      " |    |    |    |    |    |    |    |-- gyldigTil: string (nullable = true)\n",
      " |    |    |    |    |    |    |-- sidstOpdateret: string (nullable = true)\n",
      " |    |    |    |    |-- regNummer: array (nullable = true)\n",
      " |    |    |    |    |    |-- element: struct (containsNull = true)\n",
      " |    |    |    |    |    |    |-- periode: struct (nullable = true)\n",
      " |    |    |    |    |    |    |    |-- gyldigFra: string (nullable = true)\n",
      " |    |    |    |    |    |    |    |-- gyldigTil: string (nullable = true)\n",
      " |    |    |    |    |    |    |-- regnummer: string (nullable = true)\n",
      " |    |    |    |    |    |    |-- sidstOpdateret: string (nullable = true)\n",
      " |    |    |    |    |-- sidstIndlaest: string (nullable = true)\n",
      " |    |    |    |    |-- status: array (nullable = true)\n",
      " |    |    |    |    |    |-- element: struct (containsNull = true)\n",
      " |    |    |    |    |    |    |-- kreditoplysningkode: long (nullable = true)\n",
      " |    |    |    |    |    |    |-- periode: struct (nullable = true)\n",
      " |    |    |    |    |    |    |    |-- gyldigFra: string (nullable = true)\n",
      " |    |    |    |    |    |    |    |-- gyldigTil: string (nullable = true)\n",
      " |    |    |    |    |    |    |-- sidstOpdateret: string (nullable = true)\n",
      " |    |    |    |    |    |    |-- statuskode: long (nullable = true)\n",
      " |    |    |    |    |-- virksomhedsform: array (nullable = true)\n",
      " |    |    |    |    |    |-- element: struct (containsNull = true)\n",
      " |    |    |    |    |    |    |-- ansvarligDataleverandoer: string (nullable = true)\n",
      " |    |    |    |    |    |    |-- kortBeskrivelse: string (nullable = true)\n",
      " |    |    |    |    |    |    |-- langBeskrivelse: string (nullable = true)\n",
      " |    |    |    |    |    |    |-- periode: struct (nullable = true)\n",
      " |    |    |    |    |    |    |    |-- gyldigFra: string (nullable = true)\n",
      " |    |    |    |    |    |    |    |-- gyldigTil: string (nullable = true)\n",
      " |    |    |    |    |    |    |-- sidstOpdateret: string (nullable = true)\n",
      " |    |    |    |    |    |    |-- virksomhedsformkode: long (nullable = true)\n",
      " |    |    |    |    |-- virksomhedsstatus: array (nullable = true)\n",
      " |    |    |    |    |    |-- element: struct (containsNull = true)\n",
      " |    |    |    |    |    |    |-- periode: struct (nullable = true)\n",
      " |    |    |    |    |    |    |    |-- gyldigFra: string (nullable = true)\n",
      " |    |    |    |    |    |    |    |-- gyldigTil: string (nullable = true)\n",
      " |    |    |    |    |    |    |-- sidstOpdateret: string (nullable = true)\n",
      " |    |    |    |    |    |    |-- status: string (nullable = true)\n",
      "\n"
     ]
    }
   ],
   "source": [
    "deltagerCols\n",
    "df.printSchema()"
   ]
  },
  {
   "cell_type": "code",
   "execution_count": 5,
   "metadata": {
    "collapsed": false
   },
   "outputs": [],
   "source": [
    "deltagerAttributterDf = GetNextJsonLayer.createNextLayerTable(df,[\"enhedsNummer\",\"enhedstype\",\"navne\"],\"attributter\",\"deltager\")\n",
    "holdOutCol = [\"vaerdier\"]\n",
    "vaerdiCols = [i for i in deltagerAttributterDf.columns if i not in holdOutCol]\n",
    "\n",
    "deltagerAttributterWithValuesDf = (GetNextJsonLayer\n",
    "                                   .createNextLayerTable(deltagerAttributterDf,vaerdiCols,holdOutCol[0])\n",
    "                                   .drop(\"periode\")\n",
    "                                   .drop(\"sidstOpdateret\")\n",
    "                                  )\n",
    "del holdOutCol[0]\n",
    "holdOutCol.append(\"navne\")\n",
    "del vaerdiCols\n",
    "vaerdiCols = [i for i in deltagerAttributterWithValuesDf.columns if i not in holdOutCol]\n",
    "withNamesAttributsDf = (GetNextJsonLayer\n",
    "                        .createNextLayerTable(deltagerAttributterWithValuesDf,vaerdiCols,holdOutCol[0])\n",
    "                        .drop(\"sidstOpdateret\")\n",
    "                       )\n",
    "#deltagerAttWithValsAndPeriodDf = GetNextJsonLayer.expandSubCols(df=deltagerAttributterWithValuesDf,mainColumn=\"periode\")\n",
    "#deltagerAttributterDf.columns\n"
   ]
  },
  {
   "cell_type": "code",
   "execution_count": 6,
   "metadata": {
    "collapsed": false,
    "scrolled": true
   },
   "outputs": [],
   "source": [
    "#withNamesAttributsDf.show(truncate=False)"
   ]
  },
  {
   "cell_type": "code",
   "execution_count": 95,
   "metadata": {
    "collapsed": false
   },
   "outputs": [],
   "source": [
    "holdtoCols = [\"enhedsNummer\",\"enhedstype\",\"navne\",\"stilling\"]\n",
    "delVirkRelDf = (GetNextJsonLayer\n",
    "                .createNextLayerTable(df,holdtoCols,\"virksomhedSummariskRelation\",\"deltager\")\n",
    "                .withColumnRenamed(existing=\"enhedsNummer\",new=\"personEnhedsNummer\")\n",
    "                .withColumnRenamed(existing=\"enhedstype\",new=\"personEnhedstype\")\n",
    "                .withColumnRenamed(existing=\"stilling\",new=\"personStilling\")\n",
    "                .withColumnRenamed(existing=\"navne\",new=\"personNavne\")\n",
    "                .drop(\"organisationer\")\n",
    "               )"
   ]
  },
  {
   "cell_type": "code",
   "execution_count": 96,
   "metadata": {
    "collapsed": false,
    "scrolled": true
   },
   "outputs": [
    {
     "name": "stdout",
     "output_type": "stream",
     "text": [
      "+------------------+----------------+--------------------+--------------+--------------------+\n",
      "|personEnhedsNummer|personEnhedstype|         personNavne|personStilling|          virksomhed|\n",
      "+------------------+----------------+--------------------+--------------+--------------------+\n",
      "|        4000201845|          PERSON|[[Ulrik Sindal Sø...|          null|[14222979,4000873...|\n",
      "|        4004119836|          PERSON|[[Munte Malou Tin...|      Kasserer|[27733123,4001457...|\n",
      "|        4000562568|          PERSON|[[Mette Bruun Chr...|       Pædagog|[29552932,4001580...|\n",
      "|        4000078388|          PERSON|[[Kim Bergensol C...|          null|[20083670,4001021...|\n",
      "|        4000560418|          PERSON|[[Trine Byrgesen ...|          null|[29485232,4001565...|\n",
      "|        4000103042|          PERSON|[[Lissi Marthin,n...|          null|[13607400,4000856...|\n",
      "|        4003996076|          PERSON|[[Arne Kirkeby,nu...|     Afd fuldm|[17172212,4000945...|\n",
      "|        4003996076|          PERSON|[[Arne Kirkeby,nu...|     Afd fuldm|[12669216,4000842...|\n",
      "|        4000696805|          PERSON|[[Christina Irmga...|          null|[33411847,4001835...|\n",
      "|        4004156000|          PERSON|[[Dan Klein Jense...|          null|[29415455,4001560...|\n",
      "|        4000709918|          PERSON|[[Jacob Pilegaard...|          null|[33808577,4001863...|\n",
      "|        4004092700|          PERSON|[[Jeanne le Sage ...|  Musikpædagog|[26498201,4001370...|\n",
      "|        4000457798|          PERSON|[[Lene Schonnings...|          null|[27014097,4001393...|\n",
      "|        4000457798|          PERSON|[[Lene Schonnings...|          null|[29743797,4001595...|\n",
      "|        4000408635|          PERSON|[[Ragnhild Vester...|  Smørrebr jfr|[26299632,4001342...|\n",
      "|        4000611422|          PERSON|[[Dagmar Renate U...|          null|[30950755,4001686...|\n",
      "|        4000269638|          PERSON|[[Brian Mortensen...|          null|[21531499,4001088...|\n",
      "|        4004131896|          PERSON|[[Tove Cortnum Po...|     Dekoratør|[31070392,4001676...|\n",
      "|        4004020600|          PERSON|[[Annette Præstma...|  Ergoterapeut|[26269075,4001338...|\n",
      "|        4004020600|          PERSON|[[Annette Præstma...|  Ergoterapeut|[17379038,4000944...|\n",
      "+------------------+----------------+--------------------+--------------+--------------------+\n",
      "only showing top 20 rows\n",
      "\n",
      "root\n",
      " |-- personEnhedsNummer: long (nullable = true)\n",
      " |-- personEnhedstype: string (nullable = true)\n",
      " |-- personNavne: array (nullable = true)\n",
      " |    |-- element: struct (containsNull = true)\n",
      " |    |    |-- navn: string (nullable = true)\n",
      " |    |    |-- sidstOpdateret: string (nullable = true)\n",
      " |-- personStilling: string (nullable = true)\n",
      " |-- virksomhed: struct (nullable = true)\n",
      " |    |-- cvrNummer: long (nullable = true)\n",
      " |    |-- enhedsNummer: long (nullable = true)\n",
      " |    |-- enhedstype: string (nullable = true)\n",
      " |    |-- fejlRegistreret: boolean (nullable = true)\n",
      " |    |-- livsforloeb: array (nullable = true)\n",
      " |    |    |-- element: struct (containsNull = true)\n",
      " |    |    |    |-- periode: struct (nullable = true)\n",
      " |    |    |    |    |-- gyldigFra: string (nullable = true)\n",
      " |    |    |    |    |-- gyldigTil: string (nullable = true)\n",
      " |    |    |    |-- sidstOpdateret: string (nullable = true)\n",
      " |    |-- navne: array (nullable = true)\n",
      " |    |    |-- element: struct (containsNull = true)\n",
      " |    |    |    |-- navn: string (nullable = true)\n",
      " |    |    |    |-- periode: struct (nullable = true)\n",
      " |    |    |    |    |-- gyldigFra: string (nullable = true)\n",
      " |    |    |    |    |-- gyldigTil: string (nullable = true)\n",
      " |    |    |    |-- sidstOpdateret: string (nullable = true)\n",
      " |    |-- regNummer: array (nullable = true)\n",
      " |    |    |-- element: struct (containsNull = true)\n",
      " |    |    |    |-- periode: struct (nullable = true)\n",
      " |    |    |    |    |-- gyldigFra: string (nullable = true)\n",
      " |    |    |    |    |-- gyldigTil: string (nullable = true)\n",
      " |    |    |    |-- regnummer: string (nullable = true)\n",
      " |    |    |    |-- sidstOpdateret: string (nullable = true)\n",
      " |    |-- sidstIndlaest: string (nullable = true)\n",
      " |    |-- status: array (nullable = true)\n",
      " |    |    |-- element: struct (containsNull = true)\n",
      " |    |    |    |-- kreditoplysningkode: long (nullable = true)\n",
      " |    |    |    |-- periode: struct (nullable = true)\n",
      " |    |    |    |    |-- gyldigFra: string (nullable = true)\n",
      " |    |    |    |    |-- gyldigTil: string (nullable = true)\n",
      " |    |    |    |-- sidstOpdateret: string (nullable = true)\n",
      " |    |    |    |-- statuskode: long (nullable = true)\n",
      " |    |-- virksomhedsform: array (nullable = true)\n",
      " |    |    |-- element: struct (containsNull = true)\n",
      " |    |    |    |-- ansvarligDataleverandoer: string (nullable = true)\n",
      " |    |    |    |-- kortBeskrivelse: string (nullable = true)\n",
      " |    |    |    |-- langBeskrivelse: string (nullable = true)\n",
      " |    |    |    |-- periode: struct (nullable = true)\n",
      " |    |    |    |    |-- gyldigFra: string (nullable = true)\n",
      " |    |    |    |    |-- gyldigTil: string (nullable = true)\n",
      " |    |    |    |-- sidstOpdateret: string (nullable = true)\n",
      " |    |    |    |-- virksomhedsformkode: long (nullable = true)\n",
      " |    |-- virksomhedsstatus: array (nullable = true)\n",
      " |    |    |-- element: struct (containsNull = true)\n",
      " |    |    |    |-- periode: struct (nullable = true)\n",
      " |    |    |    |    |-- gyldigFra: string (nullable = true)\n",
      " |    |    |    |    |-- gyldigTil: string (nullable = true)\n",
      " |    |    |    |-- sidstOpdateret: string (nullable = true)\n",
      " |    |    |    |-- status: string (nullable = true)\n",
      "\n"
     ]
    }
   ],
   "source": [
    "delVirkRelDf.show()\n",
    "delVirkRelDf.printSchema()"
   ]
  },
  {
   "cell_type": "code",
   "execution_count": 106,
   "metadata": {
    "collapsed": false
   },
   "outputs": [
    {
     "name": "stdout",
     "output_type": "stream",
     "text": [
      "+------------------+----------------+--------------+---------+-----------------+---------------+--------------------+--------------------+\n",
      "|personEnhedsNummer|personEnhedstype|personStilling|cvrNummer|firmaEnhedsNummer|firmaEnhedstype|          personNavn|           firmaNavn|\n",
      "+------------------+----------------+--------------+---------+-----------------+---------------+--------------------+--------------------+\n",
      "|        4000201845|          PERSON|          null| 14222979|       4000873375|     VIRKSOMHED|Ulrik Sindal Søre...|ULRIKS VINDUESPOL...|\n",
      "|        4004119836|          PERSON|      Kasserer| 27733123|       4001457636|     VIRKSOMHED|Munte Malou Tina ...|          AMPU 1 ApS|\n",
      "|        4004119836|          PERSON|      Kasserer| 27733123|       4001457636|     VIRKSOMHED|Munte Malou Tina ...|ApS KBIL 17 NR. 1826|\n",
      "|        4000562568|          PERSON|       Pædagog| 29552932|       4001580288|     VIRKSOMHED|Mette Bruun Chris...|Terapien v/Mette ...|\n",
      "|        4000078388|          PERSON|          null| 20083670|       4001021649|     VIRKSOMHED|Kim Bergensol Cor...|        KIM ANDERSEN|\n",
      "|        4000078388|          PERSON|          null| 20083670|       4001021649|     VIRKSOMHED|Kim Bergensol Cor...|Lyset i Livet v/K...|\n",
      "|        4000078388|          PERSON|          null| 20083670|       4001021649|     VIRKSOMHED|Kim Bergensol Cor...|           Bergensol|\n",
      "|        4000560418|          PERSON|          null| 29485232|       4001565256|     VIRKSOMHED|Trine Byrgesen Ni...|Byens-Rengøringss...|\n",
      "|        4000103042|          PERSON|          null| 13607400|       4000856627|     VIRKSOMHED|       Lissi Marthin|Marthin Pels Desi...|\n",
      "|        4000103042|          PERSON|          null| 13607400|       4000856627|     VIRKSOMHED|       Lissi Marthin|Skindstudiet Mart...|\n",
      "|        4000103042|          PERSON|          null| 13607400|       4000856627|     VIRKSOMHED|       Lissi Marthin|Marthin Pels Desi...|\n",
      "|        4000103042|          PERSON|          null| 13607400|       4000856627|     VIRKSOMHED|       Lissi Marthin|Marthin Pels Desi...|\n",
      "|        4003996076|          PERSON|     Afd fuldm| 17172212|       4000945369|     VIRKSOMHED|        Arne Kirkeby|  DFDS PENSIONSKASSE|\n",
      "|        4003996076|          PERSON|     Afd fuldm| 12669216|       4000842325|     VIRKSOMHED|        Arne Kirkeby|J. LAURITZEN A/S'...|\n",
      "|        4000696805|          PERSON|          null| 33411847|       4001835473|     VIRKSOMHED|Christina Irmgard...|Klinik Kamille v/...|\n",
      "|        4004156000|          PERSON|          null| 29415455|       4001560713|     VIRKSOMHED|    Dan Klein Jensen|           ZITRO ApS|\n",
      "|        4000709918|          PERSON|          null| 33808577|       4001863635|     VIRKSOMHED|     Jacob Pilegaard|pilegaardconsulti...|\n",
      "|        4004092700|          PERSON|  Musikpædagog| 26498201|       4001370180|     VIRKSOMHED|Jeanne le Sage de...|AFVIKLINGSSELSKAB...|\n",
      "|        4004092700|          PERSON|  Musikpædagog| 26498201|       4001370180|     VIRKSOMHED|Jeanne le Sage de...|SØNDERJYSK SKOLEF...|\n",
      "|        4000457798|          PERSON|          null| 27014097|       4001393755|     VIRKSOMHED|     Lene Schonnings|Lene Schonnings/ ...|\n",
      "+------------------+----------------+--------------+---------+-----------------+---------------+--------------------+--------------------+\n",
      "only showing top 20 rows\n",
      "\n"
     ]
    }
   ],
   "source": [
    "delCols = [i for i in delVirkRelDf.columns if i not in [\"organisationer\",\"virksomhed\"]]\n",
    "delVirkRelOrgDf =  (GetNextJsonLayer\n",
    "                    .expandSubCols(delVirkRelDf,\"virksomhed\")\n",
    "                    .drop(\"livsforloeb\")\n",
    "                    .drop(F.col(\"fejlRegistreret\"))\n",
    "                    .drop(\"virksomhedsstatus\")\n",
    "                    .drop(\"virksomhedsform\")\n",
    "                    .drop(\"sidstIndlaest\")\n",
    "                    .drop(\"status\")\n",
    "                    .drop(\"regNummer\")\n",
    "                    .withColumnRenamed(existing=\"enhedsNummer\",new=\"firmaEnhedsNummer\")\n",
    "                    .withColumnRenamed(existing=\"navne\",new=\"firmaNavne\")\n",
    "                    .withColumnRenamed(existing=\"enhedstype\",new=\"firmaEnhedstype\")\n",
    "                    .cache()\n",
    "                   )\n",
    "\n",
    "holdOutCol = [\"personNavne\"]\n",
    "namesCol = [i for i in delVirkRelOrgDf.columns if i not in holdOutCol]\n",
    "delVirkRelWithPerNamDf = (GetNextJsonLayer\n",
    "                          .createNextLayerTable(delVirkRelOrgDf,namesCol,holdOutCol[0])\n",
    "                          .drop(\"sidstOpdateret\")\n",
    "                          .withColumnRenamed(existing=\"navn\",new=\"personNavn\")\n",
    "                         )\n",
    "del holdOutCol\n",
    "del namesCol\n",
    "holdOutCol = [\"firmaNavne\"]\n",
    "namesCol = [i for i in delVirkRelWithPerNamDf.columns if i not in holdOutCol]\n",
    "delVirkRelWithVirkNamDf = (GetNextJsonLayer\n",
    "                           .createNextLayerTable(delVirkRelWithPerNamDf,namesCol,holdOutCol[0])\n",
    "                           .drop(\"sidstOpdateret\")\n",
    "                           .drop(\"periode\")\n",
    "                           .withColumnRenamed(existing=\"navn\",new=\"firmaNavn\")\n",
    "                          )\n",
    "\n",
    "delVirkRelWithVirkNamDf.show()"
   ]
  },
  {
   "cell_type": "code",
   "execution_count": 108,
   "metadata": {
    "collapsed": false
   },
   "outputs": [],
   "source": [
    "#create person to oraganisation edge \n",
    "personFirmaEdgeDf = (delVirkRelWithVirkNamDf.select(F.col(\"personEnhedsNummer\").alias(\"src\"),F.col(\"firmaEnhedsNummer\").alias(\"dst\")))"
   ]
  },
  {
   "cell_type": "code",
   "execution_count": 109,
   "metadata": {
    "collapsed": false
   },
   "outputs": [
    {
     "name": "stdout",
     "output_type": "stream",
     "text": [
      "+----------+----------+\n",
      "|       src|       dst|\n",
      "+----------+----------+\n",
      "|4000201845|4000873375|\n",
      "|4004119836|4001457636|\n",
      "|4004119836|4001457636|\n",
      "|4000562568|4001580288|\n",
      "|4000078388|4001021649|\n",
      "|4000078388|4001021649|\n",
      "|4000078388|4001021649|\n",
      "|4000560418|4001565256|\n",
      "|4000103042|4000856627|\n",
      "|4000103042|4000856627|\n",
      "|4000103042|4000856627|\n",
      "|4000103042|4000856627|\n",
      "|4003996076|4000945369|\n",
      "|4003996076|4000842325|\n",
      "|4000696805|4001835473|\n",
      "|4004156000|4001560713|\n",
      "|4000709918|4001863635|\n",
      "|4004092700|4001370180|\n",
      "|4004092700|4001370180|\n",
      "|4000457798|4001393755|\n",
      "+----------+----------+\n",
      "only showing top 20 rows\n",
      "\n"
     ]
    }
   ],
   "source": [
    "personFirmaEdgeDf.show()\n",
    "\n"
   ]
  },
  {
   "cell_type": "code",
   "execution_count": null,
   "metadata": {
    "collapsed": true
   },
   "outputs": [],
   "source": []
  },
  {
   "cell_type": "code",
   "execution_count": 20,
   "metadata": {
    "collapsed": false
   },
   "outputs": [],
   "source": []
  },
  {
   "cell_type": "code",
   "execution_count": 21,
   "metadata": {
    "collapsed": false
   },
   "outputs": [
    {
     "name": "stdout",
     "output_type": "stream",
     "text": [
      "+----------+----------+-------------+\n",
      "|       src|       dst| relationship|\n",
      "+----------+----------+-------------+\n",
      "|4000201845|         0|Interessenter|\n",
      "|4004119836|4004954366|   Bestyrelse|\n",
      "|4000562568|         0|Interessenter|\n",
      "|4000078388|         0|Interessenter|\n",
      "|4000560418|         0|Interessenter|\n",
      "|4000103042|         0|Interessenter|\n",
      "|4003996076|4004503102|    Direktion|\n",
      "|4003996076|4004411703|    Direktion|\n",
      "|4000696805|         0|Interessenter|\n",
      "|4004156000|4005087331|     Stiftere|\n",
      "|4004156000|4005087332|   Bestyrelse|\n",
      "|4000709918|         0|Interessenter|\n",
      "|4004092700|4004857561|   Bestyrelse|\n",
      "|4000457798|         0|Interessenter|\n",
      "|4000457798|         0|Interessenter|\n",
      "|4000408635|         0|Interessenter|\n",
      "|4000611422|         0|Interessenter|\n",
      "|4000269638|         0|Interessenter|\n",
      "|4004131896|4005243831|     Stiftere|\n",
      "|4004131896|4005243832|    Direktion|\n",
      "+----------+----------+-------------+\n",
      "only showing top 20 rows\n",
      "\n"
     ]
    }
   ],
   "source": []
  },
  {
   "cell_type": "code",
   "execution_count": 60,
   "metadata": {
    "collapsed": false
   },
   "outputs": [],
   "source": [
    "allPersons = (virkSumRelationWithNamesDf\n",
    "                  .select(F.col(\"enhedsNummer\").alias(\"id\")\n",
    "                          ,F.col(\"navne_navn\").alias(\"navn\")\n",
    "                          ,F.lit(\"Person\").alias(\"type\"))\n",
    "                  .distinct()\n",
    "                  .cache()\n",
    "                 )\n",
    "allOrgs = (virkSumRelationWithNamesDf\n",
    "           .select(F.col(\"enhedsNummerOrganisation\").alias(\"id\")\n",
    "                   ,F.col(\"orgNavn_navn\").alias(\"navn\")\n",
    "                   ,F.lit(\"Organisation\").alias(\"type\"))\n",
    "           .filter(F.col(\"id\") !=0)\n",
    "           .cache()\n",
    "          )\n",
    "allVerticesDf = allOrgs.unionAll(allPersons)"
   ]
  },
  {
   "cell_type": "code",
   "execution_count": 61,
   "metadata": {
    "collapsed": false
   },
   "outputs": [
    {
     "data": {
      "text/plain": [
       "2820218"
      ]
     },
     "execution_count": 61,
     "metadata": {},
     "output_type": "execute_result"
    }
   ],
   "source": [
    "allPersons.count()\n",
    "allOrgs.count()"
   ]
  },
  {
   "cell_type": "code",
   "execution_count": 56,
   "metadata": {
    "collapsed": false
   },
   "outputs": [
    {
     "name": "stdout",
     "output_type": "stream",
     "text": [
      "+------------+-------+\n",
      "|        type|  count|\n",
      "+------------+-------+\n",
      "|      Person|3773220|\n",
      "|Organisation|3773220|\n",
      "+------------+-------+\n",
      "\n"
     ]
    }
   ],
   "source": [
    "personOrgGrsaphDf = graphframe.GraphFrame(allVerticesDf,personTilFirmaEdgeDf).cache()\n",
    "groupedCols = [F.col(\"type\")]\n",
    "personOrgGraphDf.vertices.groupby(*groupedCols).count().show()"
   ]
  },
  {
   "cell_type": "code",
   "execution_count": 27,
   "metadata": {
    "collapsed": false
   },
   "outputs": [
    {
     "name": "stdout",
     "output_type": "stream",
     "text": [
      "+----------+------+\n",
      "|        id|degree|\n",
      "+----------+------+\n",
      "|4004163266|     3|\n",
      "|4004383649|    14|\n",
      "|4005812438|     4|\n",
      "|4004826402|     4|\n",
      "|4004831974|     3|\n",
      "|4004203683|     1|\n",
      "|4004821174|    13|\n",
      "|4004712825|    28|\n",
      "|4000219055|     2|\n",
      "|4005813839|     2|\n",
      "|4005782118|     3|\n",
      "|4004274696|     1|\n",
      "|4004746497|     1|\n",
      "|4005809630|     6|\n",
      "|4005806416|     1|\n",
      "|4004702564|    10|\n",
      "|4005810208|     1|\n",
      "|4005811904|     2|\n",
      "|4005813403|     4|\n",
      "|4004382609|     9|\n",
      "+----------+------+\n",
      "only showing top 20 rows\n",
      "\n"
     ]
    }
   ],
   "source": [
    "personOrgGraphDf.degrees.show()"
   ]
  },
  {
   "cell_type": "code",
   "execution_count": 30,
   "metadata": {
    "collapsed": false
   },
   "outputs": [
    {
     "name": "stdout",
     "output_type": "stream",
     "text": [
      "+----------+---------+\n",
      "|        id|outDegree|\n",
      "+----------+---------+\n",
      "|4004163266|        3|\n",
      "|4004203683|        1|\n",
      "|4000219055|        2|\n",
      "|4004274696|        1|\n",
      "|4000238588|        2|\n",
      "|4004072379|        1|\n",
      "|4000349745|        2|\n",
      "|4004146496|        1|\n",
      "|4000052652|        2|\n",
      "|4004248640|        1|\n",
      "|4004212823|        2|\n",
      "|4000312242|        4|\n",
      "|4004262639|        1|\n",
      "|4004205560|        1|\n",
      "|4000338938|        1|\n",
      "|4000305565|        1|\n",
      "|4003946989|        1|\n",
      "|4000394288|        3|\n",
      "|4000394312|        1|\n",
      "|4000000978|        2|\n",
      "+----------+---------+\n",
      "only showing top 20 rows\n",
      "\n"
     ]
    }
   ],
   "source": [
    "personOrgGraphDf.outDegrees"
   ]
  },
  {
   "cell_type": "code",
   "execution_count": 34,
   "metadata": {
    "collapsed": false
   },
   "outputs": [],
   "source": [
    "personOrgGraphDegreesDf = personOrgGraphDf.vertices.join(personOrgGraphDf.outDegrees,(personOrgGraphDf.vertices[\"id\"]==personOrgGraphDf.outDegrees[\"id\"]),\"inner\")"
   ]
  },
  {
   "cell_type": "code",
   "execution_count": 35,
   "metadata": {
    "collapsed": false
   },
   "outputs": [
    {
     "name": "stdout",
     "output_type": "stream",
     "text": [
      "+-------+--------------------+------+-------+---------+\n",
      "|     id|                navn|  type|     id|outDegree|\n",
      "+-------+--------------------+------+-------+---------+\n",
      "|1859433| Lars Stampe Nielsen|Person|1859433|        3|\n",
      "|1859433| Lars Stampe Nielsen|Person|1859433|        3|\n",
      "|1859433| Lars Stampe Nielsen|Person|1859433|        3|\n",
      "|2164870|Jørgen Herman Jan...|Person|2164870|        2|\n",
      "|2164870|Jørgen Herman Jan...|Person|2164870|        2|\n",
      "|2249965|    Jakob Lee Jensen|Person|2249965|       19|\n",
      "|2249965|    Jakob Lee Jensen|Person|2249965|       19|\n",
      "|2249965|    Jakob Lee Jensen|Person|2249965|       19|\n",
      "|2249965|    Jakob Lee Jensen|Person|2249965|       19|\n",
      "|2249965|    Jakob Lee Jensen|Person|2249965|       19|\n",
      "|2249965|    Jakob Lee Jensen|Person|2249965|       19|\n",
      "|2249965|    Jakob Lee Jensen|Person|2249965|       19|\n",
      "|2249965|    Jakob Lee Jensen|Person|2249965|       19|\n",
      "|2249965|    Jakob Lee Jensen|Person|2249965|       19|\n",
      "|2249965|    Jakob Lee Jensen|Person|2249965|       19|\n",
      "|2249965|    Jakob Lee Jensen|Person|2249965|       19|\n",
      "|2249965|    Jakob Lee Jensen|Person|2249965|       19|\n",
      "|2249965|    Jakob Lee Jensen|Person|2249965|       19|\n",
      "|2249965|    Jakob Lee Jensen|Person|2249965|       19|\n",
      "|2249965|    Jakob Lee Jensen|Person|2249965|       19|\n",
      "+-------+--------------------+------+-------+---------+\n",
      "only showing top 20 rows\n",
      "\n"
     ]
    }
   ],
   "source": [
    "personOrgGraphDegreesDf.show()"
   ]
  },
  {
   "cell_type": "code",
   "execution_count": null,
   "metadata": {
    "collapsed": true
   },
   "outputs": [],
   "source": []
  }
 ],
 "metadata": {
  "kernelspec": {
   "display_name": "Python 3",
   "language": "python",
   "name": "python3"
  },
  "language_info": {
   "codemirror_mode": {
    "name": "ipython",
    "version": 3
   },
   "file_extension": ".py",
   "mimetype": "text/x-python",
   "name": "python",
   "nbconvert_exporter": "python",
   "pygments_lexer": "ipython3",
   "version": "3.5.2"
  }
 },
 "nbformat": 4,
 "nbformat_minor": 2
}
