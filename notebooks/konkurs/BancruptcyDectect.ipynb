{
 "cells": [
  {
   "cell_type": "code",
   "execution_count": 97,
   "metadata": {
    "collapsed": false
   },
   "outputs": [],
   "source": [
    "SQLContext.newSession(sqlContext)\n",
    "from pyspark.sql import functions as F\n",
    "from pyspark.ml.feature import VectorAssembler,StandardScaler,RFormula\n",
    "from pyspark.ml.classification import LogisticRegression\n",
    "from pyspark.ml.tuning import CrossValidator, ParamGridBuilder, TrainValidationSplit\n",
    "from pyspark.ml.linalg import VectorUDT,Vectors\n",
    "from pyspark.ml.evaluation import BinaryClassificationEvaluator\n",
    "from pyspark.sql import Window\n",
    "from pyspark.ml import Pipeline\n",
    "from pyspark.ml.regression import GeneralizedLinearRegression\n",
    "\n",
    "import pandas as pd\n",
    "import re\n",
    "from tabulate import tabulate\n",
    "import random\n",
    "import sys\n",
    "import matplotlib.pyplot as plt\n",
    "import numpy as np"
   ]
  },
  {
   "cell_type": "code",
   "execution_count": 39,
   "metadata": {
    "collapsed": false,
    "scrolled": true
   },
   "outputs": [
    {
     "name": "stdout",
     "output_type": "stream",
     "text": [
      "+---------+--------------------+-----+-----------+-----------+-----------+-----------+-----------+-----------+-----------+-----------+-----------+------------+------------+------------+------------+------------+------------+-----------+-----------------+------------------+------------------+------------------+------------------+-------------+-------------+-------------+-------------+----------------+---------------+\n",
      "|cvrNummer|              status|label|AarsVaerk_1|AarsVaerk_2|AarsVaerk_3|AarsVaerk_4|AarsVaerk_5|AarsVaerk_6|AarsVaerk_7|AarsVaerk_8|AarsVaerk_9|AarsVaerk_10|AarsVaerk_11|AarsVaerk_12|AarsVaerk_13|AarsVaerk_14|AarsVaerk_15|avgVarighed|totalAabneEnheder|totalLukketEnheder|     vaerdiSlope_1|     vaerdiSlope_2|     vaerdiSlope_3|vaerdiSlope_4|vaerdiSlope_5|vaerdiSlope_6|vaerdiSlope_7|reklamebeskyttet|kortBeskrivelse|\n",
      "+---------+--------------------+-----+-----------+-----------+-----------+-----------+-----------+-----------+-----------+-----------+-----------+------------+------------+------------+------------+------------+------------+-----------+-----------------+------------------+------------------+------------------+------------------+-------------+-------------+-------------+-------------+----------------+---------------+\n",
      "| 10043271|            [NORMAL]|  0.0|        2.0|        5.0|        5.0|        5.0|        5.0|        5.0|        5.0|        5.0|        5.0|         5.0|         5.0|         5.0|         5.0|         2.0|         5.0|       null|              0.0|               1.0|  36.8437212158428|              null|              null|         null|         null|         null|         null|             0.0|            APS|\n",
      "| 10058511|[OPLØST EFTER ERK...|  0.0|        1.0|        2.0|        2.0|        2.0|        1.0|       null|       null|       null|       null|        null|        null|        null|        null|        null|        null|    1281.25|              4.0|               0.0|              null|              null|              null|         null|         null|         null|         null|             0.0|            APS|\n",
      "| 10058511|[OPLØST EFTER ERK...|  0.0|        1.0|        2.0|        2.0|        2.0|        1.0|       null|       null|       null|       null|        null|        null|        null|        null|        null|        null|    1281.25|              4.0|               0.0|              null|              null|              null|         null|         null|         null|         null|             0.0|            APS|\n",
      "| 10063027|[TVANGSOPLØST, UN...|  0.0|        1.0|        1.0|       null|       null|       null|       null|       null|       null|       null|        null|        null|        null|        null|        null|        null|     1356.0|              1.0|               0.0|105.02173913043478|301.92857142857144|              null|         null|         null|         null|         null|             0.0|            APS|\n",
      "| 10063027|[TVANGSOPLØST, UN...|  0.0|        1.0|        1.0|       null|       null|       null|       null|       null|       null|       null|        null|        null|        null|        null|        null|        null|     1356.0|              1.0|               0.0|105.02173913043478|301.92857142857144|              null|         null|         null|         null|         null|             0.0|            APS|\n",
      "| 10063027|[TVANGSOPLØST, UN...|  0.0|        1.0|        1.0|       null|       null|       null|       null|       null|       null|       null|        null|        null|        null|        null|        null|        null|     1356.0|              1.0|               0.0|105.02173913043478|301.92857142857144|              null|         null|         null|         null|         null|             0.0|            APS|\n",
      "| 10063310|[TVANGSOPLØST, UN...|  0.0|        1.0|       null|       null|       null|       null|       null|       null|       null|       null|        null|        null|        null|        null|        null|        null|      712.0|              2.0|               0.0|              null|              null|              null|         null|         null|         null|         null|             0.0|            APS|\n",
      "| 10063310|[TVANGSOPLØST, UN...|  0.0|        1.0|       null|       null|       null|       null|       null|       null|       null|       null|        null|        null|        null|        null|        null|        null|      712.0|              2.0|               0.0|              null|              null|              null|         null|         null|         null|         null|             0.0|            APS|\n",
      "| 10063310|[TVANGSOPLØST, UN...|  0.0|        1.0|       null|       null|       null|       null|       null|       null|       null|       null|        null|        null|        null|        null|        null|        null|      712.0|              2.0|               0.0|              null|              null|              null|         null|         null|         null|         null|             0.0|            APS|\n",
      "| 10065615|            [NORMAL]|  0.0|        1.0|        1.0|        1.0|        1.0|       null|       null|       null|       null|       null|        null|        null|        null|        null|        null|        null|       null|              0.0|               1.0|-612.4527363184079|               0.0|              null|         null|         null|         null|         null|             0.0|            APS|\n",
      "| 10083869|[OPLØST EFTER FRI...|  0.0|        1.0|       10.0|       10.0|        5.0|        5.0|        5.0|        5.0|       null|       null|        null|        null|        null|        null|        null|        null|     3023.0|              1.0|               0.0|              null|              null|              null|         null|         null|         null|         null|             0.0|            APS|\n",
      "| 10083869|[OPLØST EFTER FRI...|  0.0|        1.0|       10.0|       10.0|        5.0|        5.0|        5.0|        5.0|       null|       null|        null|        null|        null|        null|        null|        null|     3023.0|              1.0|               0.0|              null|              null|              null|         null|         null|         null|         null|             0.0|            APS|\n",
      "| 10083869|[OPLØST EFTER FRI...|  0.0|        1.0|       10.0|       10.0|        5.0|        5.0|        5.0|        5.0|       null|       null|        null|        null|        null|        null|        null|        null|     3023.0|              1.0|               0.0|              null|              null|              null|         null|         null|         null|         null|             0.0|            APS|\n",
      "| 10097924|            [NORMAL]|  0.0|       50.0|       50.0|       20.0|       20.0|       10.0|       10.0|       10.0|       10.0|       10.0|        10.0|        null|        null|        null|        null|        null|        0.0|              1.0|               1.0|3214.7017543859647| 2.399234693877551|1.5797788309636651|         null|         null|         null|         null|             0.0|            APS|\n",
      "| 10117305|            [NORMAL]|  0.0|        2.0|        2.0|        2.0|        5.0|        2.0|        2.0|        2.0|        2.0|        5.0|         5.0|         5.0|         5.0|         5.0|         5.0|         5.0|       null|              0.0|               1.0| 38.47386983007374|              null|              null|         null|         null|         null|         null|             0.0|            APS|\n",
      "| 10118859|[OPLØST EFTER FRI...|  0.0|        1.0|        2.0|        2.0|        1.0|        1.0|        1.0|       null|       null|       null|        null|        null|        null|        null|        null|        null|     4051.0|              1.0|               0.0| 897.1291866028708|              null|              null|         null|         null|         null|         null|             0.0|            APS|\n",
      "| 10118859|[OPLØST EFTER FRI...|  0.0|        1.0|        2.0|        2.0|        1.0|        1.0|        1.0|       null|       null|       null|        null|        null|        null|        null|        null|        null|     4051.0|              1.0|               0.0| 897.1291866028708|              null|              null|         null|         null|         null|         null|             0.0|            APS|\n",
      "| 10118859|[OPLØST EFTER FRI...|  0.0|        1.0|        2.0|        2.0|        1.0|        1.0|        1.0|       null|       null|       null|        null|        null|        null|        null|        null|        null|     4051.0|              1.0|               0.0| 897.1291866028708|              null|              null|         null|         null|         null|         null|             0.0|            APS|\n",
      "| 10127467|            [NORMAL]|  0.0|        1.0|        1.0|        1.0|        1.0|        1.0|        1.0|        1.0|        1.0|        1.0|        null|        null|        null|        null|        null|        null|       null|              0.0|               1.0|              null|              null|              null|         null|         null|         null|         null|             0.0|            APS|\n",
      "| 10144213|[UNDER KONKURS, N...|  1.0|        1.0|       50.0|      100.0|      100.0|      100.0|       null|       null|       null|       null|        null|        null|        null|        null|        null|        null|      593.5|              2.0|               1.0| 833333.3333333334| 17574.69244288225|17055.267702936097|         null|         null|         null|         null|             0.0|            APS|\n",
      "+---------+--------------------+-----+-----------+-----------+-----------+-----------+-----------+-----------+-----------+-----------+-----------+------------+------------+------------+------------+------------+------------+-----------+-----------------+------------------+------------------+------------------+------------------+-------------+-------------+-------------+-------------+----------------+---------------+\n",
      "only showing top 20 rows\n",
      "\n"
     ]
    }
   ],
   "source": [
    "#import data and rename bad name rank into vaerdiSlope\n",
    "#RAW DATA!!! \n",
    "\n",
    "\n",
    "#exclude some of the variables, and cast all variables to double\n",
    "excludeCols = [\"medArb_\"+str(i) for i in range(1,16)] # we don't need the medarbejders \n",
    "includeCols = [i for i in df.columns if i not in excludeCols]\n",
    "\n",
    "rankCols = [re.sub(pattern=\"rank_\",repl=\"vaerdiSlope_\",string=i) for i in includeCols]\n",
    "finalCols = [F.col(i) for i in includeCols[:2]]+[\"kortBeskrivelse\"]+[F.col(i).cast(\"double\") for i in includeCols[2:] if i not in [\"kortBeskrivelse\"]]\n",
    "\n",
    "\n",
    "df = sqlContext.read.parquet(\"/home/svanhmic/workspace/Python/Erhvervs/data/cdata/featureDataCvr\")\n",
    "df.select([\"cvrNummer\"])\n",
    "rankCols = [re.sub(pattern=\"rank_\",repl=\"vaerdiSlope_\",string=i) for i in includeCols ]\n",
    "renamedDf = (df\n",
    "             .select(*finalCols)\n",
    "             .select([F.col(val).alias(rankCols[idx]) for idx,val in enumerate(includeCols)])\n",
    "             .filter((F.col(\"kortBeskrivelse\") == \"APS\") | (F.col(\"kortBeskrivelse\") == \"AS\"))\n",
    "             )\n",
    "renamedDf.show()"
   ]
  },
  {
   "cell_type": "code",
   "execution_count": 40,
   "metadata": {
    "collapsed": true
   },
   "outputs": [],
   "source": [
    "windowSpecRank =(Window.partitionBy(F.col(\"cvrNummer\"))).orderBy(F.col(\"periode_gyldigFra\").desc())\n",
    "groupCols = [\"cvrNummer\",\"vaerdi\"]\n",
    "\n",
    "companyNameDf = (sqlContext\n",
    "                 .read\n",
    "                 .parquet(\"/home/svanhmic/workspace/Python/Erhvervs/data/cdata/companyCvrData\")\n",
    "                 .withColumn(colName=\"rank\",col=F.rank().over(windowSpecRank))\n",
    "                 .filter((F.col(\"rank\")==1) & (F.col(\"sekvensnr\")==0))\n",
    "                 .select([F.col(i) for i in groupCols])\n",
    "                 .withColumnRenamed(existing=\"vaerdi\",new=\"navn\")\n",
    "                 .orderBy(F.col(\"cvrNummer\"))\n",
    "                 .cache()\n",
    "                )"
   ]
  },
  {
   "cell_type": "code",
   "execution_count": 41,
   "metadata": {
    "collapsed": false
   },
   "outputs": [
    {
     "name": "stdout",
     "output_type": "stream",
     "text": [
      "+--------------------+---------+-----+--------------------+---------------+-----------+-----------+-----------+-----------+-----------+-----------+-----------+-----------+-----------+------------+------------+------------+------------+------------+------------+-----------+-----------------+------------------+--------------------+-------------+-------------+-------------+-------------+-------------+-------------+----------------+\n",
      "|                navn|cvrNummer|label|              status|kortBeskrivelse|AarsVaerk_1|AarsVaerk_2|AarsVaerk_3|AarsVaerk_4|AarsVaerk_5|AarsVaerk_6|AarsVaerk_7|AarsVaerk_8|AarsVaerk_9|AarsVaerk_10|AarsVaerk_11|AarsVaerk_12|AarsVaerk_13|AarsVaerk_14|AarsVaerk_15|avgVarighed|totalAabneEnheder|totalLukketEnheder|       vaerdiSlope_1|vaerdiSlope_2|vaerdiSlope_3|vaerdiSlope_4|vaerdiSlope_5|vaerdiSlope_6|vaerdiSlope_7|reklamebeskyttet|\n",
      "+--------------------+---------+-----+--------------------+---------------+-----------+-----------+-----------+-----------+-----------+-----------+-----------+-----------+-----------+------------+------------+------------+------------+------------+------------+-----------+-----------------+------------------+--------------------+-------------+-------------+-------------+-------------+-------------+-------------+----------------+\n",
      "|KØBMANDSSELSKABET...| 10033764|  0.0|            [NORMAL]|            APS|        5.0|        5.0|        5.0|        5.0|        5.0|        2.0|        1.0|        0.0|        0.0|         0.0|         0.0|         0.0|         0.0|         0.0|         0.0|      276.0|              2.0|               1.0|1.0000002802690583E8|          0.0|          0.0|          0.0|          0.0|          0.0|          0.0|             0.0|\n",
      "|JB PROFESSIONEL B...| 10045126|  1.0|[OPLØST EFTER KON...|            APS|        1.0|        5.0|        1.0|        2.0|        2.0|        2.0|        2.0|        2.0|        1.0|         0.0|         0.0|         0.0|         0.0|         0.0|         0.0|     2577.5|              2.0|               0.0|                 0.0|          0.0|          0.0|          0.0|          0.0|          0.0|          0.0|             1.0|\n",
      "|AGENDA MANAGEMENT...| 10052262|  1.0|[OPLØST EFTER KON...|            APS|        1.0|        5.0|        5.0|        5.0|       10.0|       10.0|       10.0|       10.0|       10.0|         2.0|         0.0|         0.0|         0.0|         0.0|         0.0|     4928.0|              1.0|               0.0|                 0.0|          0.0|          0.0|          0.0|          0.0|          0.0|          0.0|             0.0|\n",
      "|TORNUM SNEDKER- O...| 10059968|  0.0|            [NORMAL]|            APS|        2.0|        2.0|        2.0|        5.0|        5.0|        5.0|        5.0|        5.0|        5.0|         5.0|         5.0|         0.0|         0.0|         0.0|         0.0|        0.0|              0.0|               1.0|                 0.0|          0.0|          0.0|          0.0|          0.0|          0.0|          0.0|             0.0|\n",
      "+--------------------+---------+-----+--------------------+---------------+-----------+-----------+-----------+-----------+-----------+-----------+-----------+-----------+-----------+------------+------------+------------+------------+------------+------------+-----------+-----------------+------------------+--------------------+-------------+-------------+-------------+-------------+-------------+-------------+----------------+\n",
      "only showing top 4 rows\n",
      "\n"
     ]
    }
   ],
   "source": [
    "labelCols = [\"navn\",\"cvrNummer\",\"label\",\"status\",\"kortBeskrivelse\"]\n",
    "featCols = [i for i in companyNameDf.columns+renamedDf.columns if i not in labelCols]\n",
    "\n",
    "#get minimum values from each column\n",
    "minCols = [F.min(i).alias(i) for i in featCols]\n",
    "minValsRdd = renamedDf.groupby().agg(*minCols).rdd\n",
    "broadcastedmin = sc.broadcast(minValsRdd.first().asDict())\n",
    "\n",
    "#create array that subtracts minimum value in the numeric columns.\n",
    "logColsSelected = [F.col(i).alias(i) for i in labelCols]+[(F.col(i)-F.lit(broadcastedmin.value[i])).alias(i) for i in featCols]\n",
    "\n",
    "#takes log(x+1) to the numeric columns and fills the blanks with 0.0 \n",
    "logDf = (renamedDf\n",
    "         .join(companyNameDf,(companyNameDf[\"cvrNummer\"]==renamedDf[\"cvrNummer\"]),\"inner\")\n",
    "         .drop(companyNameDf[\"cvrNummer\"])\n",
    "         .select(*logColsSelected)\n",
    "         #.select([F.col(i).alias(i) for i in labelCols]+[F.log1p(F.col(i)).alias(i) for i in featCols])\n",
    "         .distinct()\n",
    "         .na\n",
    "         .fill(0.0,featCols)\n",
    "         .cache()\n",
    "        )\n",
    "logDf.show(4)"
   ]
  },
  {
   "cell_type": "code",
   "execution_count": 56,
   "metadata": {
    "collapsed": false
   },
   "outputs": [],
   "source": [
    "strs = \"\"\n",
    "excludedCols = [\"cvrNummer\",\"label\",\"status\",\"navn\",\"kortBeskrivelse\"]\n",
    "for i in logDf.columns:\n",
    "    if i not in excludedCols:\n",
    "        strs += i+\" + \"\n",
    "\n",
    "#excludedCols    \n",
    "imputedDf = logDf.fillna(value=0.0)\n",
    "formula = RFormula(formula=\"label ~ \"+strs[:-3],labelCol=\"label\")\n",
    "\n",
    "glr = GeneralizedLinearRegression(family=\"binomial\", link=\"logit\", maxIter=10, regParam=0.3)\n",
    "standardScale = StandardScaler(withMean=True,withStd=True,inputCol=glr.getFeaturesCol(),outputCol=\"scaledFeatures\")\n",
    "\n",
    "\n",
    "pipeline = Pipeline(stages=[formula,standardScale,glr])\n",
    "\n",
    "grid = (ParamGridBuilder()\n",
    "        .baseOn({lr.predictionCol:\"prediction\"})\n",
    "        .baseOn({lr.rawPredictionCol:\"rawPrediction\"})\n",
    "        .baseOn({lr.probabilityCol:\"probability\"})\n",
    "        .baseOn({lr.labelCol:\"label\"})\n",
    "        .baseOn({lr.featuresCol:\"features\"})\n",
    "        .addGrid(param=lr.elasticNetParam,values=[0.1,1.0])\n",
    "        .addGrid(param=lr.getMaxIter,values=[10])\n",
    "        .build()\n",
    "       )\n",
    "\n",
    "evaluate = BinaryClassificationEvaluator()\n",
    "\n",
    "trainEvalModel = TrainValidationSplit(estimator=pipeline,estimatorParamMaps=grid,evaluator=evaluate,trainRatio=0.8)"
   ]
  },
  {
   "cell_type": "code",
   "execution_count": 71,
   "metadata": {
    "collapsed": false
   },
   "outputs": [],
   "source": [
    "cols = [i for i in logDf.columns if i not in excludedCols]+[\"label\"]\n",
    "\n",
    "model = pipeline.fit(imputedDf.filter(F.col(\"label\") <= 1).select(*cols))"
   ]
  },
  {
   "cell_type": "code",
   "execution_count": 80,
   "metadata": {
    "collapsed": false
   },
   "outputs": [
    {
     "data": {
      "text/plain": [
       "DenseVector([-0.0302, 0.0647, -0.0222, 0.0033, -0.0118, -0.0069, -0.0114, -0.0141, -0.0237, 0.0026, 0.0059, -0.0114, 0.0228, -0.0217, -0.0318, 0.0001, 0.3422, -0.7792, -0.0, -0.0, 0.0, -0.0, -0.0, 0.0, -0.0, -0.1246])"
      ]
     },
     "execution_count": 80,
     "metadata": {},
     "output_type": "execute_result"
    }
   ],
   "source": [
    "predict = model.transform(imputedDf.select(*cols).filter(F.col(\"label\") <= 1))\n",
    "coef = model.stages[-1]\n"
   ]
  },
  {
   "cell_type": "code",
   "execution_count": 59,
   "metadata": {
    "collapsed": false
   },
   "outputs": [
    {
     "name": "stdout",
     "output_type": "stream",
     "text": [
      "Coefficient Standard Errors: [0.002715365786167704, 0.0033576183070386156, 0.0036618804887292387, 0.003575453149894902, 0.0048004424800104665, 0.005307034626833281, 0.006044648209200046, 0.006661858012195801, 0.007406240336102588, 0.007567900680939736, 0.008093150133059149, 0.008512938676244104, 0.008348498511501061, 0.009076922598213254, 0.009345658737006966, 3.570481466497788e-06, 0.007713032831503935, 0.011306086099506183, 2.216392818255699e-10, 4.2738460918044474e-08, 1.7226360583964903e-08, 1.5410312395327645e-09, 1.1484656996653036e-07, 1.2769605473113263e-07, 3.590073080014067e-07, 0.012775368232153422, 0.01384685535599953]\n",
      "T Values: [-11.13953124016808, 19.273340427415835, -6.059268404920775, 0.9099659049882868, -2.4512213897007147, -1.309316768159207, -1.891499436869883, -2.1100010055623186, -3.1957062897626076, 0.34554268948276695, 0.7313830924481778, -1.3424645212472799, 2.734757516096776, -2.3952850139227797, -3.3976150832275978, 19.491283138791598, 44.3648814342137, -68.92167133560658, -31.85290213392818, -0.2222128572690214, 1.599173093762084, -0.42874300690912126, -0.6585598419860196, 0.34954974901356717, -0.8366288434819105, -9.752079731824592, -87.10633918581523]\n",
      "P Values: [0.0, 0.0, 1.3674203991342893e-09, 0.3628404909563048, 0.014237235633006273, 0.19042707194485153, 0.058557706085737404, 0.03485826926146096, 0.001394890275855376, 0.7296864227022646, 0.46454518959528035, 0.17944542654006446, 0.006242624418353326, 0.01660745022866683, 0.0006797599000241128, 0.0, 0.0, 0.0, 0.0, 0.8241481856625885, 0.1097821470435878, 0.6681102590719803, 0.5101784575418422, 0.7266766289362745, 0.4028012274502091, 0.0, 0.0]\n",
      "Dispersion: 1.0\n",
      "Null Deviance: 121055.9856827605\n",
      "Residual Degree Of Freedom Null: 120237\n",
      "Deviance: 101184.79185549381\n",
      "Residual Degree Of Freedom: 120211\n",
      "AIC: 101238.7918554938\n",
      "Deviance Residuals: \n",
      "+--------------------+\n",
      "|   devianceResiduals|\n",
      "+--------------------+\n",
      "| -0.5051909979069262|\n",
      "|  1.3078044644641424|\n",
      "|     1.6187928357392|\n",
      "| -0.4495402012605015|\n",
      "|-0.33229486966967725|\n",
      "|  1.8426902937742193|\n",
      "|  1.5254278324294122|\n",
      "|  -0.471613616639455|\n",
      "| -0.4950018560652388|\n",
      "|  -0.864058270749363|\n",
      "|  1.5853489569577375|\n",
      "| -0.3596145924414485|\n",
      "| -0.7359717752958044|\n",
      "| -0.3084233539140565|\n",
      "| -0.7722726367062537|\n",
      "| -0.3493557842750047|\n",
      "| -0.4483736687291667|\n",
      "| -0.8236446082029225|\n",
      "| -0.7976553154273769|\n",
      "| -0.3346202882235229|\n",
      "+--------------------+\n",
      "only showing top 20 rows\n",
      "\n"
     ]
    }
   ],
   "source": [
    "p = model.stages[-1].summary\n",
    "\n",
    "print(\"Coefficient Standard Errors: \" + str(p.coefficientStandardErrors))\n",
    "print(\"T Values: \" + str(p.tValues))\n",
    "print(\"P Values: \" + str(p.pValues))\n",
    "print(\"Dispersion: \" + str(p.dispersion))\n",
    "print(\"Null Deviance: \" + str(p.nullDeviance))\n",
    "print(\"Residual Degree Of Freedom Null: \" + str(p.residualDegreeOfFreedomNull))\n",
    "print(\"Deviance: \" + str(p.deviance))\n",
    "print(\"Residual Degree Of Freedom: \" + str(p.residualDegreeOfFreedom))\n",
    "print(\"AIC: \" + str(p.aic))\n",
    "print(\"Deviance Residuals: \")\n",
    "p.residuals().show()"
   ]
  },
  {
   "cell_type": "code",
   "execution_count": 105,
   "metadata": {
    "collapsed": false
   },
   "outputs": [
    {
     "name": "stdout",
     "output_type": "stream",
     "text": [
      "27\n",
      "<class 'numpy.ndarray'>\n",
      "\n"
     ]
    }
   ],
   "source": [
    "print(len(cols))\n",
    "print(type(coef.coefficients.toArray()))\n",
    "print()\n",
    "      \n",
    "      \n",
    "summary = {\"Labels\":cols[:-1]+[\"intercept\"],\"Coefficients\":np.insert(coef.coefficients.toArray(),0,coef.intercept),\"coefficient Std Err\":p.coefficientStandardErrors,\"T Values\":p.tValues,\"P Values\":p.pValues}"
   ]
  },
  {
   "cell_type": "code",
   "execution_count": 116,
   "metadata": {
    "collapsed": false,
    "scrolled": false
   },
   "outputs": [],
   "source": [
    "pd.options.display.float_format = '{:,.4f}'.format\n",
    "df = pd.DataFrame(summary,columns=[\"Labels\",\"Coefficients\",\"coefficient Std Err\",\"T Values\",\"P Values\"])\n",
    "import subprocess\n",
    "\n",
    "HEADER = '''\n",
    "<html>\n",
    "    <head>\n",
    "        <style>\n",
    "            .df tbody \n",
    "        </style>\n",
    "    </head>\n",
    "    <body>\n",
    "'''\n",
    "FOOTER = '''\n",
    "    </body>\n",
    "</html>\n",
    "'''\n",
    "\n",
    "#df = pd.DataFrame({'a': np.arange(10), 'b': np.random.randn(10)})\n",
    "with open('test.html', 'w') as f:\n",
    "    f.write(HEADER)\n",
    "    f.write(df.to_html(classes='df'))\n",
    "    f.write(FOOTER)"
   ]
  },
  {
   "cell_type": "code",
   "execution_count": 122,
   "metadata": {
    "collapsed": false
   },
   "outputs": [
    {
     "data": {
      "text/html": [
       "<div>\n",
       "<table border=\"1\" class=\"dataframe\">\n",
       "  <thead>\n",
       "    <tr style=\"text-align: right;\">\n",
       "      <th></th>\n",
       "      <th>Labels</th>\n",
       "      <th>Coefficients</th>\n",
       "      <th>coefficient Std Err</th>\n",
       "      <th>T Values</th>\n",
       "      <th>P Values</th>\n",
       "    </tr>\n",
       "  </thead>\n",
       "  <tbody>\n",
       "    <tr>\n",
       "      <th>0</th>\n",
       "      <td>AarsVaerk_1</td>\n",
       "      <td>-1.2061</td>\n",
       "      <td>0.0027</td>\n",
       "      <td>-11.1395</td>\n",
       "      <td>0.0000</td>\n",
       "    </tr>\n",
       "    <tr>\n",
       "      <th>1</th>\n",
       "      <td>AarsVaerk_2</td>\n",
       "      <td>-0.0302</td>\n",
       "      <td>0.0034</td>\n",
       "      <td>19.2733</td>\n",
       "      <td>0.0000</td>\n",
       "    </tr>\n",
       "    <tr>\n",
       "      <th>2</th>\n",
       "      <td>AarsVaerk_3</td>\n",
       "      <td>0.0647</td>\n",
       "      <td>0.0037</td>\n",
       "      <td>-6.0593</td>\n",
       "      <td>0.0000</td>\n",
       "    </tr>\n",
       "    <tr>\n",
       "      <th>3</th>\n",
       "      <td>AarsVaerk_4</td>\n",
       "      <td>-0.0222</td>\n",
       "      <td>0.0036</td>\n",
       "      <td>0.9100</td>\n",
       "      <td>0.3628</td>\n",
       "    </tr>\n",
       "    <tr>\n",
       "      <th>4</th>\n",
       "      <td>AarsVaerk_5</td>\n",
       "      <td>0.0033</td>\n",
       "      <td>0.0048</td>\n",
       "      <td>-2.4512</td>\n",
       "      <td>0.0142</td>\n",
       "    </tr>\n",
       "    <tr>\n",
       "      <th>5</th>\n",
       "      <td>AarsVaerk_6</td>\n",
       "      <td>-0.0118</td>\n",
       "      <td>0.0053</td>\n",
       "      <td>-1.3093</td>\n",
       "      <td>0.1904</td>\n",
       "    </tr>\n",
       "    <tr>\n",
       "      <th>6</th>\n",
       "      <td>AarsVaerk_7</td>\n",
       "      <td>-0.0069</td>\n",
       "      <td>0.0060</td>\n",
       "      <td>-1.8915</td>\n",
       "      <td>0.0586</td>\n",
       "    </tr>\n",
       "    <tr>\n",
       "      <th>7</th>\n",
       "      <td>AarsVaerk_8</td>\n",
       "      <td>-0.0114</td>\n",
       "      <td>0.0067</td>\n",
       "      <td>-2.1100</td>\n",
       "      <td>0.0349</td>\n",
       "    </tr>\n",
       "    <tr>\n",
       "      <th>8</th>\n",
       "      <td>AarsVaerk_9</td>\n",
       "      <td>-0.0141</td>\n",
       "      <td>0.0074</td>\n",
       "      <td>-3.1957</td>\n",
       "      <td>0.0014</td>\n",
       "    </tr>\n",
       "    <tr>\n",
       "      <th>9</th>\n",
       "      <td>AarsVaerk_10</td>\n",
       "      <td>-0.0237</td>\n",
       "      <td>0.0076</td>\n",
       "      <td>0.3455</td>\n",
       "      <td>0.7297</td>\n",
       "    </tr>\n",
       "    <tr>\n",
       "      <th>10</th>\n",
       "      <td>AarsVaerk_11</td>\n",
       "      <td>0.0026</td>\n",
       "      <td>0.0081</td>\n",
       "      <td>0.7314</td>\n",
       "      <td>0.4645</td>\n",
       "    </tr>\n",
       "    <tr>\n",
       "      <th>11</th>\n",
       "      <td>AarsVaerk_12</td>\n",
       "      <td>0.0059</td>\n",
       "      <td>0.0085</td>\n",
       "      <td>-1.3425</td>\n",
       "      <td>0.1794</td>\n",
       "    </tr>\n",
       "    <tr>\n",
       "      <th>12</th>\n",
       "      <td>AarsVaerk_13</td>\n",
       "      <td>-0.0114</td>\n",
       "      <td>0.0083</td>\n",
       "      <td>2.7348</td>\n",
       "      <td>0.0062</td>\n",
       "    </tr>\n",
       "    <tr>\n",
       "      <th>13</th>\n",
       "      <td>AarsVaerk_14</td>\n",
       "      <td>0.0228</td>\n",
       "      <td>0.0091</td>\n",
       "      <td>-2.3953</td>\n",
       "      <td>0.0166</td>\n",
       "    </tr>\n",
       "    <tr>\n",
       "      <th>14</th>\n",
       "      <td>AarsVaerk_15</td>\n",
       "      <td>-0.0217</td>\n",
       "      <td>0.0093</td>\n",
       "      <td>-3.3976</td>\n",
       "      <td>0.0007</td>\n",
       "    </tr>\n",
       "    <tr>\n",
       "      <th>15</th>\n",
       "      <td>avgVarighed</td>\n",
       "      <td>-0.0318</td>\n",
       "      <td>0.0000</td>\n",
       "      <td>19.4913</td>\n",
       "      <td>0.0000</td>\n",
       "    </tr>\n",
       "    <tr>\n",
       "      <th>16</th>\n",
       "      <td>totalAabneEnheder</td>\n",
       "      <td>0.0001</td>\n",
       "      <td>0.0077</td>\n",
       "      <td>44.3649</td>\n",
       "      <td>0.0000</td>\n",
       "    </tr>\n",
       "    <tr>\n",
       "      <th>17</th>\n",
       "      <td>totalLukketEnheder</td>\n",
       "      <td>0.3422</td>\n",
       "      <td>0.0113</td>\n",
       "      <td>-68.9217</td>\n",
       "      <td>0.0000</td>\n",
       "    </tr>\n",
       "    <tr>\n",
       "      <th>18</th>\n",
       "      <td>vaerdiSlope_1</td>\n",
       "      <td>-0.7792</td>\n",
       "      <td>0.0000</td>\n",
       "      <td>-31.8529</td>\n",
       "      <td>0.0000</td>\n",
       "    </tr>\n",
       "    <tr>\n",
       "      <th>19</th>\n",
       "      <td>vaerdiSlope_2</td>\n",
       "      <td>-0.0000</td>\n",
       "      <td>0.0000</td>\n",
       "      <td>-0.2222</td>\n",
       "      <td>0.8241</td>\n",
       "    </tr>\n",
       "    <tr>\n",
       "      <th>20</th>\n",
       "      <td>vaerdiSlope_3</td>\n",
       "      <td>-0.0000</td>\n",
       "      <td>0.0000</td>\n",
       "      <td>1.5992</td>\n",
       "      <td>0.1098</td>\n",
       "    </tr>\n",
       "    <tr>\n",
       "      <th>21</th>\n",
       "      <td>vaerdiSlope_4</td>\n",
       "      <td>0.0000</td>\n",
       "      <td>0.0000</td>\n",
       "      <td>-0.4287</td>\n",
       "      <td>0.6681</td>\n",
       "    </tr>\n",
       "    <tr>\n",
       "      <th>22</th>\n",
       "      <td>vaerdiSlope_5</td>\n",
       "      <td>-0.0000</td>\n",
       "      <td>0.0000</td>\n",
       "      <td>-0.6586</td>\n",
       "      <td>0.5102</td>\n",
       "    </tr>\n",
       "    <tr>\n",
       "      <th>23</th>\n",
       "      <td>vaerdiSlope_6</td>\n",
       "      <td>-0.0000</td>\n",
       "      <td>0.0000</td>\n",
       "      <td>0.3495</td>\n",
       "      <td>0.7267</td>\n",
       "    </tr>\n",
       "    <tr>\n",
       "      <th>24</th>\n",
       "      <td>vaerdiSlope_7</td>\n",
       "      <td>0.0000</td>\n",
       "      <td>0.0000</td>\n",
       "      <td>-0.8366</td>\n",
       "      <td>0.4028</td>\n",
       "    </tr>\n",
       "    <tr>\n",
       "      <th>25</th>\n",
       "      <td>reklamebeskyttet</td>\n",
       "      <td>-0.0000</td>\n",
       "      <td>0.0128</td>\n",
       "      <td>-9.7521</td>\n",
       "      <td>0.0000</td>\n",
       "    </tr>\n",
       "    <tr>\n",
       "      <th>26</th>\n",
       "      <td>intercept</td>\n",
       "      <td>-0.1246</td>\n",
       "      <td>0.0138</td>\n",
       "      <td>-87.1063</td>\n",
       "      <td>0.0000</td>\n",
       "    </tr>\n",
       "  </tbody>\n",
       "</table>\n",
       "</div>"
      ],
      "text/plain": [
       "                Labels  Coefficients  coefficient Std Err  T Values  P Values\n",
       "0          AarsVaerk_1       -1.2061               0.0027  -11.1395    0.0000\n",
       "1          AarsVaerk_2       -0.0302               0.0034   19.2733    0.0000\n",
       "2          AarsVaerk_3        0.0647               0.0037   -6.0593    0.0000\n",
       "3          AarsVaerk_4       -0.0222               0.0036    0.9100    0.3628\n",
       "4          AarsVaerk_5        0.0033               0.0048   -2.4512    0.0142\n",
       "5          AarsVaerk_6       -0.0118               0.0053   -1.3093    0.1904\n",
       "6          AarsVaerk_7       -0.0069               0.0060   -1.8915    0.0586\n",
       "7          AarsVaerk_8       -0.0114               0.0067   -2.1100    0.0349\n",
       "8          AarsVaerk_9       -0.0141               0.0074   -3.1957    0.0014\n",
       "9         AarsVaerk_10       -0.0237               0.0076    0.3455    0.7297\n",
       "10        AarsVaerk_11        0.0026               0.0081    0.7314    0.4645\n",
       "11        AarsVaerk_12        0.0059               0.0085   -1.3425    0.1794\n",
       "12        AarsVaerk_13       -0.0114               0.0083    2.7348    0.0062\n",
       "13        AarsVaerk_14        0.0228               0.0091   -2.3953    0.0166\n",
       "14        AarsVaerk_15       -0.0217               0.0093   -3.3976    0.0007\n",
       "15         avgVarighed       -0.0318               0.0000   19.4913    0.0000\n",
       "16   totalAabneEnheder        0.0001               0.0077   44.3649    0.0000\n",
       "17  totalLukketEnheder        0.3422               0.0113  -68.9217    0.0000\n",
       "18       vaerdiSlope_1       -0.7792               0.0000  -31.8529    0.0000\n",
       "19       vaerdiSlope_2       -0.0000               0.0000   -0.2222    0.8241\n",
       "20       vaerdiSlope_3       -0.0000               0.0000    1.5992    0.1098\n",
       "21       vaerdiSlope_4        0.0000               0.0000   -0.4287    0.6681\n",
       "22       vaerdiSlope_5       -0.0000               0.0000   -0.6586    0.5102\n",
       "23       vaerdiSlope_6       -0.0000               0.0000    0.3495    0.7267\n",
       "24       vaerdiSlope_7        0.0000               0.0000   -0.8366    0.4028\n",
       "25    reklamebeskyttet       -0.0000               0.0128   -9.7521    0.0000\n",
       "26           intercept       -0.1246               0.0138  -87.1063    0.0000"
      ]
     },
     "execution_count": 122,
     "metadata": {},
     "output_type": "execute_result"
    }
   ],
   "source": [
    "#check mean and stddev\n",
    "df\n",
    "#descriptionCVR.filter((F.col(\"summary\") ==\"mean\") | (F.col(\"summary\") ==\"stddev\")).show()"
   ]
  },
  {
   "cell_type": "code",
   "execution_count": 119,
   "metadata": {
    "collapsed": false
   },
   "outputs": [
    {
     "name": "stdout",
     "output_type": "stream",
     "text": [
      "+---------+--------------------+\n",
      "|cvrNummer|                navn|\n",
      "+---------+--------------------+\n",
      "| 10000009|              YELLOW|\n",
      "| 10000025|WATERFRONT CONNEC...|\n",
      "+---------+--------------------+\n",
      "only showing top 2 rows\n",
      "\n"
     ]
    }
   ],
   "source": [
    "windowSpecRank =(Window.partitionBy(F.col(\"cvrNummer\"))).orderBy(F.col(\"periode_gyldigFra\").desc())\n",
    "\n",
    "groupCols = [\"cvrNummer\",\"vaerdi\"]\n",
    "\n",
    "companyNameDf = (sqlContext\n",
    "                 .read\n",
    "                 .parquet(\"/home/svanhmic/workspace/Python/Erhvervs/data/cdata/\"+\"companyCvrData\")\n",
    "                 .withColumn(colName=\"rank\",col=F.rank().over(windowSpecRank))\n",
    "                 .filter((F.col(\"rank\")==1) & (F.col(\"sekvensnr\")==0))\n",
    "                 .select([F.col(i) for i in groupCols])\n",
    "                 .withColumnRenamed(existing=\"vaerdi\",new=\"navn\")\n",
    "                 .orderBy(F.col(\"cvrNummer\"))\n",
    "                 .cache()\n",
    "                )\n",
    "companyNameDf.show(2)"
   ]
  },
  {
   "cell_type": "code",
   "execution_count": 128,
   "metadata": {
    "collapsed": false
   },
   "outputs": [
    {
     "name": "stdout",
     "output_type": "stream",
     "text": [
      "+--------------------+---------+-----+--------------------+---------------+-----------+-----------+-----------+-----------+-----------+-----------+-----------+-----------+-----------+------------+------------+------------+------------+------------+------------+-----------+-----------------+------------------+--------------------+-----------------+------------------+-------------+-------------+-------------+-------------+----------------+\n",
      "|                navn|cvrNummer|label|              status|kortBeskrivelse|AarsVaerk_1|AarsVaerk_2|AarsVaerk_3|AarsVaerk_4|AarsVaerk_5|AarsVaerk_6|AarsVaerk_7|AarsVaerk_8|AarsVaerk_9|AarsVaerk_10|AarsVaerk_11|AarsVaerk_12|AarsVaerk_13|AarsVaerk_14|AarsVaerk_15|avgVarighed|totalAabneEnheder|totalLukketEnheder|       vaerdiSlope_1|    vaerdiSlope_2|     vaerdiSlope_3|vaerdiSlope_4|vaerdiSlope_5|vaerdiSlope_6|vaerdiSlope_7|reklamebeskyttet|\n",
      "+--------------------+---------+-----+--------------------+---------------+-----------+-----------+-----------+-----------+-----------+-----------+-----------+-----------+-----------+------------+------------+------------+------------+------------+------------+-----------+-----------------+------------------+--------------------+-----------------+------------------+-------------+-------------+-------------+-------------+----------------+\n",
      "|KØBMANDSSELSKABET...| 10033764|  0.0|            [NORMAL]|            APS|        5.0|        5.0|        5.0|        5.0|        5.0|        2.0|        1.0|        0.0|        0.0|         0.0|         0.0|         0.0|         0.0|         0.0|         0.0|      276.0|              2.0|               1.0|1.0000002802690583E8|              0.0|               0.0|          0.0|          0.0|          0.0|          0.0|             0.0|\n",
      "|JB PROFESSIONEL B...| 10045126|  1.0|[OPLØST EFTER KON...|            APS|        1.0|        5.0|        1.0|        2.0|        2.0|        2.0|        2.0|        2.0|        1.0|         0.0|         0.0|         0.0|         0.0|         0.0|         0.0|     2577.5|              2.0|               0.0|                 0.0|              0.0|               0.0|          0.0|          0.0|          0.0|          0.0|             1.0|\n",
      "|AGENDA MANAGEMENT...| 10052262|  1.0|[OPLØST EFTER KON...|            APS|        1.0|        5.0|        5.0|        5.0|       10.0|       10.0|       10.0|       10.0|       10.0|         2.0|         0.0|         0.0|         0.0|         0.0|         0.0|     4928.0|              1.0|               0.0|                 0.0|              0.0|               0.0|          0.0|          0.0|          0.0|          0.0|             0.0|\n",
      "|TORNUM SNEDKER- O...| 10059968|  0.0|            [NORMAL]|            APS|        2.0|        2.0|        2.0|        5.0|        5.0|        5.0|        5.0|        5.0|        5.0|         5.0|         5.0|         0.0|         0.0|         0.0|         0.0|        0.0|              0.0|               1.0|                 0.0|              0.0|               0.0|          0.0|          0.0|          0.0|          0.0|             0.0|\n",
      "|     RESEARCHGRUPPEN| 10069122|  0.0|            [NORMAL]|            APS|        2.0|        2.0|        2.0|        2.0|        2.0|        2.0|        1.0|        1.0|        1.0|         1.0|         0.0|         0.0|         0.0|         0.0|         0.0|        0.0|              0.0|               1.0|1.0000151818181819E8|              0.0|               0.0|          0.0|          0.0|          0.0|          0.0|             1.0|\n",
      "|            WELLWARE| 10085357|  1.0|[OPLØST EFTER KON...|            APS|        5.0|        2.0|        2.0|        2.0|        2.0|        2.0|        2.0|        1.0|        0.0|         0.0|         0.0|         0.0|         0.0|         0.0|         0.0|     3126.0|              1.0|               0.0|1.0000035051396649E8|956417.1335436383|               0.0|          0.0|          0.0|          0.0|          0.0|             0.0|\n",
      "|     EJUP ZEKIROVSKI| 10093767|  1.0|[OPLØST EFTER KON...|            APS|        1.0|        0.0|        0.0|        0.0|        0.0|        0.0|        0.0|        0.0|        0.0|         0.0|         0.0|         0.0|         0.0|         0.0|         0.0|     1513.0|              1.0|               0.0|                 0.0|              0.0|               0.0|          0.0|          0.0|          0.0|          0.0|             0.0|\n",
      "|  PROJEKT DEVELOPING| 10107229|  0.0|            [NORMAL]|            APS|        1.0|        0.0|        0.0|        0.0|        0.0|        0.0|        0.0|        0.0|        0.0|         0.0|         0.0|         0.0|         0.0|         0.0|         0.0|        0.0|              0.0|               1.0|                 0.0|              0.0|               0.0|          0.0|          0.0|          0.0|          0.0|             1.0|\n",
      "|UNIQUE SERVICE PA...| 10133459|  0.0|            [NORMAL]|            APS|        1.0|        1.0|        2.0|        2.0|        2.0|        2.0|        1.0|        0.0|        0.0|         0.0|         0.0|         0.0|         0.0|         0.0|         0.0|        0.0|              0.0|               1.0|                 0.0|              0.0|               0.0|          0.0|          0.0|          0.0|          0.0|             0.0|\n",
      "|LAURA & VURAL INT...| 10175178|  0.0|[TVANGSOPLØST, UN...|            APS|        1.0|        1.0|        2.0|        0.0|        0.0|        0.0|        0.0|        0.0|        0.0|         0.0|         0.0|         0.0|         0.0|         0.0|         0.0|     5059.0|              2.0|               0.0|1.0000000019805902E8|878085.7640238053|3666666.6666666665|          0.0|          0.0|          0.0|          0.0|             0.0|\n",
      "|HNH KØBENHAVNSKE ...| 10204984|  1.0|[OPLØST EFTER KON...|            APS|        1.0|        1.0|        1.0|        1.0|        1.0|        0.0|        0.0|        0.0|        0.0|         0.0|         0.0|         0.0|         0.0|         0.0|         0.0|     9260.0|              1.0|               0.0|1.0000003475238922E8|              0.0|               0.0|          0.0|          0.0|          0.0|          0.0|             0.0|\n",
      "|IPU, INDIVIDUEL P...| 10209501|  0.0|            [NORMAL]|            APS|        2.0|        1.0|        1.0|        1.0|        0.0|        0.0|        0.0|        0.0|        0.0|         0.0|         0.0|         0.0|         0.0|         0.0|         0.0|        0.0|              0.0|               1.0| 1.000000540417802E8|              0.0|               0.0|          0.0|          0.0|          0.0|          0.0|             0.0|\n",
      "|        SKIBSSKAARUP| 10294290|  0.0|[OPLØST EFTER FRI...|            APS|        1.0|        2.0|        2.0|        0.0|        0.0|        0.0|        0.0|        0.0|        0.0|         0.0|         0.0|         0.0|         0.0|         0.0|         0.0|     4991.0|              1.0|               0.0|1.0000003912618193E8|              0.0|               0.0|          0.0|          0.0|          0.0|          0.0|             0.0|\n",
      "|BRAMO BOLTSVEJSET...| 10322383|  0.0|            [NORMAL]|            APS|        1.0|        1.0|        2.0|        2.0|        2.0|        2.0|        2.0|        2.0|        2.0|         1.0|         1.0|         2.0|         1.0|         2.0|         1.0|        0.0|              0.0|               1.0|1.0000003747657713E8|              0.0|               0.0|          0.0|          0.0|          0.0|          0.0|             1.0|\n",
      "|          AM SERVICE| 10562473|  0.0|[OPLØST EFTER SPA...|            APS|        1.0|        1.0|        1.0|        1.0|        1.0|        0.0|        0.0|        0.0|        0.0|         0.0|         0.0|         0.0|         0.0|         0.0|         0.0|     7314.0|              1.0|               0.0|1.0000003509289294E8|              0.0|               0.0|          0.0|          0.0|          0.0|          0.0|             0.0|\n",
      "|S.F.A. - SPEDITIO...| 10628806|  0.0|            [NORMAL]|            APS|        1.0|        2.0|        2.0|        2.0|        2.0|        2.0|        2.0|        2.0|        2.0|         0.0|         0.0|         0.0|         0.0|         0.0|         0.0|        0.0|              0.0|               1.0|1.0000001203208557E8|              0.0|               0.0|          0.0|          0.0|          0.0|          0.0|             0.0|\n",
      "|               AXIUS| 10645786|  0.0|            [NORMAL]|            APS|        1.0|        1.0|        2.0|        1.0|        1.0|        1.0|        1.0|        1.0|        1.0|         1.0|         1.0|         1.0|         0.0|         0.0|         0.0|     4375.0|              1.0|               1.0|1.0000001372369625E8|              0.0|               0.0|          0.0|          0.0|          0.0|          0.0|             1.0|\n",
      "|           ASX 11485| 10664799|  0.0|[OPLØST EFTER ERK...|            APS|        0.0|        0.0|        0.0|        0.0|        0.0|        0.0|        0.0|        0.0|        0.0|         0.0|         0.0|         0.0|         0.0|         0.0|         0.0|     9529.0|              1.0|               0.0|1.0000003527336861E8|              0.0|               0.0|          0.0|          0.0|          0.0|          0.0|             0.0|\n",
      "|MICHAN STAINLESS ...| 10720176|  0.0|[OPLØST EFTER FRI...|            APS|        1.0|        1.0|        1.0|        1.0|        1.0|        1.0|        1.0|        1.0|        1.0|         1.0|         1.0|         1.0|         1.0|         1.0|         0.0|     9226.0|              1.0|               0.0|1.0000001327825317E8|              0.0|               0.0|          0.0|          0.0|          0.0|          0.0|             0.0|\n",
      "|           ASX 11469| 10737745|  0.0|[NORMAL, UNDER TV...|            APS|        1.0|        0.0|        0.0|        0.0|        0.0|        0.0|        0.0|        0.0|        0.0|         0.0|         0.0|         0.0|         0.0|         0.0|         0.0|        0.0|              0.0|               1.0|  9.99999875477337E7|878034.9105653603|               0.0|          0.0|          0.0|          0.0|          0.0|             1.0|\n",
      "+--------------------+---------+-----+--------------------+---------------+-----------+-----------+-----------+-----------+-----------+-----------+-----------+-----------+-----------+------------+------------+------------+------------+------------+------------+-----------+-----------------+------------------+--------------------+-----------------+------------------+-------------+-------------+-------------+-------------+----------------+\n",
      "only showing top 20 rows\n",
      "\n"
     ]
    }
   ],
   "source": [
    "logDf.show()"
   ]
  },
  {
   "cell_type": "code",
   "execution_count": 131,
   "metadata": {
    "collapsed": false,
    "scrolled": false
   },
   "outputs": [
    {
     "name": "stdout",
     "output_type": "stream",
     "text": [
      "+--------------------+---------+-----+--------------------+---------------+--------------------+\n",
      "|                navn|cvrNummer|label|              status|kortBeskrivelse|            features|\n",
      "+--------------------+---------+-----+--------------------+---------------+--------------------+\n",
      "|KØBMANDSSELSKABET...| 10033764|  0.0|            [NORMAL]|            APS|[0.21869966056626...|\n",
      "|JB PROFESSIONEL B...| 10045126|  1.0|[OPLØST EFTER KON...|            APS|[-0.1557084560789...|\n",
      "|AGENDA MANAGEMENT...| 10052262|  1.0|[OPLØST EFTER KON...|            APS|[-0.1557084560789...|\n",
      "|TORNUM SNEDKER- O...| 10059968|  0.0|            [NORMAL]|            APS|[-0.0621064269176...|\n",
      "|     RESEARCHGRUPPEN| 10069122|  0.0|            [NORMAL]|            APS|[-0.0621064269176...|\n",
      "|            WELLWARE| 10085357|  1.0|[OPLØST EFTER KON...|            APS|[0.21869966056626...|\n",
      "|     EJUP ZEKIROVSKI| 10093767|  1.0|[OPLØST EFTER KON...|            APS|[-0.1557084560789...|\n",
      "|  PROJEKT DEVELOPING| 10107229|  0.0|            [NORMAL]|            APS|[-0.1557084560789...|\n",
      "|UNIQUE SERVICE PA...| 10133459|  0.0|            [NORMAL]|            APS|[-0.1557084560789...|\n",
      "|LAURA & VURAL INT...| 10175178|  0.0|[TVANGSOPLØST, UN...|            APS|[-0.1557084560789...|\n",
      "|HNH KØBENHAVNSKE ...| 10204984|  1.0|[OPLØST EFTER KON...|            APS|[-0.1557084560789...|\n",
      "|IPU, INDIVIDUEL P...| 10209501|  0.0|            [NORMAL]|            APS|[-0.0621064269176...|\n",
      "|        SKIBSSKAARUP| 10294290|  0.0|[OPLØST EFTER FRI...|            APS|[-0.1557084560789...|\n",
      "|BRAMO BOLTSVEJSET...| 10322383|  0.0|            [NORMAL]|            APS|[-0.1557084560789...|\n",
      "|          AM SERVICE| 10562473|  0.0|[OPLØST EFTER SPA...|            APS|[-0.1557084560789...|\n",
      "|S.F.A. - SPEDITIO...| 10628806|  0.0|            [NORMAL]|            APS|[-0.1557084560789...|\n",
      "|               AXIUS| 10645786|  0.0|            [NORMAL]|            APS|[-0.1557084560789...|\n",
      "|           ASX 11485| 10664799|  0.0|[OPLØST EFTER ERK...|            APS|[-0.2493104852402...|\n",
      "|MICHAN STAINLESS ...| 10720176|  0.0|[OPLØST EFTER FRI...|            APS|[-0.1557084560789...|\n",
      "|           ASX 11469| 10737745|  0.0|[NORMAL, UNDER TV...|            APS|[-0.1557084560789...|\n",
      "+--------------------+---------+-----+--------------------+---------------+--------------------+\n",
      "only showing top 20 rows\n",
      "\n"
     ]
    }
   ],
   "source": [
    "#take ln(x+1) of features\n",
    "#First convert features to vetor\n",
    "toDenseUDf = F.udf(lambda x: Vectors.dense(x.toArray()),VectorUDT())\n",
    "vectorizer = VectorAssembler(inputCols=logFeatCols,outputCol=\"features\")\n",
    "\n",
    "labelCols = [\"cvrNummer\",\"label\",\"status\",\"kortBeskrivelse\"]\n",
    "logFeatCols = [i for i in logDf.columns if i not in labelCols]\n",
    "#print(logFeatCols)\n",
    "\n",
    "rawVectorDataDf = (vectorizer.transform(logDf)\n",
    "                   .select([\"navn\"]+labelCols+[toDenseUDf(vectorizer.getOutputCol()).alias(vectorizer.getOutputCol())])\n",
    "                  )\n",
    "\n",
    "standardScale = StandardScaler(withMean=True,withStd=True,inputCol=vectorizer.getOutputCol(),outputCol=\"scaledFeatures\")\n",
    "standardScaleModel = standardScale.fit(rawVectorDataDf)\n",
    "scaledFeaturesDf = (standardScaleModel\n",
    "                    .transform(rawVectorDataDf)\n",
    "                    .drop(\"features\")\n",
    "                    .withColumnRenamed(existing=\"scaledFeatures\",new=\"features\")\n",
    "                   )\n",
    "\n",
    "scaledFeaturesDf.show()"
   ]
  },
  {
   "cell_type": "code",
   "execution_count": 132,
   "metadata": {
    "collapsed": false
   },
   "outputs": [
    {
     "name": "stdout",
     "output_type": "stream",
     "text": [
      "+-----+-----+\n",
      "|label|count|\n",
      "+-----+-----+\n",
      "|  0.0|19107|\n",
      "|  1.0| 4873|\n",
      "+-----+-----+\n",
      "\n",
      "+-----+-----+\n",
      "|label|count|\n",
      "+-----+-----+\n",
      "|  0.0|76822|\n",
      "|  1.0|19436|\n",
      "+-----+-----+\n",
      "\n",
      "Number of data points: 120814\n",
      "Number of data points train: 96258\n",
      "Number of data points test: 23980\n"
     ]
    }
   ],
   "source": [
    "#put them into a feature vecto\n",
    "vectorizedTestDf = scaledFeaturesDf.filter(F.col(\"label\") <= 1).sampleBy(\"label\", fractions={0: 0.2, 1: 0.2}, seed=42)\n",
    "vectorizedTestDf.groupBy(\"label\").count().show()\n",
    "\n",
    "scaledCvrDf = scaledFeaturesDf.select(F.col(\"cvrNummer\"))\n",
    "cvrTestDf = vectorizedTestDf.select(\"cvrNummer\")\n",
    "cvrTrainDf = scaledCvrDf.subtract(cvrTestDf) #take the other partion as training set\n",
    "\n",
    "vectorizedTrainDf = (scaledFeaturesDf\n",
    "                     .filter(F.col(\"label\") <= 1)\n",
    "                     .join(cvrTrainDf,(scaledFeaturesDf[\"cvrNummer\"] == cvrTrainDf[\"cvrNummer\"]),\"inner\")\n",
    "                     .drop(cvrTrainDf[\"cvrNummer\"])\n",
    "                    )\n",
    "vectorizedTrainDf.groupBy(\"label\").count().show()\n",
    "print(\"Number of data points: \"+str(scaledFeaturesDf.count()))\n",
    "print(\"Number of data points train: \"+str(vectorizedTrainDf.select(\"cvrNummer\").count()))\n",
    "print(\"Number of data points test: \"+str(vectorizedTestDf.select(\"cvrNummer\").count()))\n",
    "#vectorizedTrainDf.printSchema()\n",
    "#print(vectorizedTrainDf.first())"
   ]
  },
  {
   "cell_type": "code",
   "execution_count": 133,
   "metadata": {
    "collapsed": false,
    "scrolled": true
   },
   "outputs": [
    {
     "name": "stdout",
     "output_type": "stream",
     "text": [
      "+--------------------+-----+--------------------+---------------+--------------------+---------+\n",
      "|                navn|label|              status|kortBeskrivelse|            features|cvrNummer|\n",
      "+--------------------+-----+--------------------+---------------+--------------------+---------+\n",
      "|KØBMANDSSELSKABET...|  0.0|            [NORMAL]|            APS|[0.21869966056626...| 10033764|\n",
      "|JB PROFESSIONEL B...|  1.0|[OPLØST EFTER KON...|            APS|[-0.1557084560789...| 10045126|\n",
      "|AGENDA MANAGEMENT...|  1.0|[OPLØST EFTER KON...|            APS|[-0.1557084560789...| 10052262|\n",
      "|TORNUM SNEDKER- O...|  0.0|            [NORMAL]|            APS|[-0.0621064269176...| 10059968|\n",
      "|     RESEARCHGRUPPEN|  0.0|            [NORMAL]|            APS|[-0.0621064269176...| 10069122|\n",
      "|            WELLWARE|  1.0|[OPLØST EFTER KON...|            APS|[0.21869966056626...| 10085357|\n",
      "|UNIQUE SERVICE PA...|  0.0|            [NORMAL]|            APS|[-0.1557084560789...| 10133459|\n",
      "|LAURA & VURAL INT...|  0.0|[TVANGSOPLØST, UN...|            APS|[-0.1557084560789...| 10175178|\n",
      "|        SKIBSSKAARUP|  0.0|[OPLØST EFTER FRI...|            APS|[-0.1557084560789...| 10294290|\n",
      "|BRAMO BOLTSVEJSET...|  0.0|            [NORMAL]|            APS|[-0.1557084560789...| 10322383|\n",
      "|          AM SERVICE|  0.0|[OPLØST EFTER SPA...|            APS|[-0.1557084560789...| 10562473|\n",
      "|S.F.A. - SPEDITIO...|  0.0|            [NORMAL]|            APS|[-0.1557084560789...| 10628806|\n",
      "|               AXIUS|  0.0|            [NORMAL]|            APS|[-0.1557084560789...| 10645786|\n",
      "|           ASX 11485|  0.0|[OPLØST EFTER ERK...|            APS|[-0.2493104852402...| 10664799|\n",
      "|    MICHAELGROSER.DK|  0.0|            [NORMAL]|            APS|[-0.1557084560789...| 11058035|\n",
      "|     P. BUHL HOLDING|  0.0|            [NORMAL]|            APS|[-0.0621064269176...| 11758444|\n",
      "|REBRO UNDER AFVIK...|  0.0|[OPLØST EFTER FRI...|            APS|[-0.1557084560789...| 11984444|\n",
      "|VVS FIRMAET TOM B...|  0.0|[TVANGSOPLØST, UN...|            APS|[-0.0621064269176...| 12323085|\n",
      "|        ARMU AF 1990|  0.0|            [NORMAL]|            APS|[-0.1557084560789...| 12349130|\n",
      "| F.L.N. AF 1.02.1991|  0.0|[OPLØST EFTER FRI...|            APS|[-0.1557084560789...| 12359446|\n",
      "+--------------------+-----+--------------------+---------------+--------------------+---------+\n",
      "only showing top 20 rows\n",
      "\n"
     ]
    }
   ],
   "source": [
    "vectorizedTrainDf.show()"
   ]
  },
  {
   "cell_type": "code",
   "execution_count": 134,
   "metadata": {
    "collapsed": false
   },
   "outputs": [
    {
     "data": {
      "text/plain": [
       "0.8119230817933306"
      ]
     },
     "execution_count": 134,
     "metadata": {},
     "output_type": "execute_result"
    }
   ],
   "source": [
    "#Train the logistic regressionmodel\n",
    "lr = LogisticRegression()\n",
    "grid = (ParamGridBuilder()\n",
    "        .baseOn({lr.predictionCol:\"prediction\"})\n",
    "        .baseOn({lr.rawPredictionCol:\"rawPrediction\"})\n",
    "        .baseOn({lr.probabilityCol:\"probability\"})\n",
    "        .baseOn({lr.labelCol:\"label\"})\n",
    "        .baseOn({lr.featuresCol:\"features\"})\n",
    "        .addGrid(param=lr.elasticNetParam,values=[0.1,1.0])\n",
    "        .addGrid(param=lr.getMaxIter,values=[10])\n",
    "        .build()\n",
    "       )\n",
    "evaluate = BinaryClassificationEvaluator(rawPredictionCol=\"rawPrediction\")\n",
    "crossVal = CrossValidator(estimator=lr,estimatorParamMaps=grid,evaluator=evaluate,numFolds=10)\n",
    "\n",
    "crossValModel = crossVal.fit(dataset=vectorizedTrainDf)\n",
    "evaluate.evaluate(crossValModel.transform(vectorizedTestDf))\n",
    "#coef = lrModel.coefficients"
   ]
  },
  {
   "cell_type": "code",
   "execution_count": 135,
   "metadata": {
    "collapsed": false
   },
   "outputs": [],
   "source": [
    "bestModel = crossValModel.bestModel"
   ]
  },
  {
   "cell_type": "code",
   "execution_count": 136,
   "metadata": {
    "collapsed": true
   },
   "outputs": [],
   "source": [
    "#test the values\n",
    "result = bestModel.transform(vectorizedTestDf)"
   ]
  },
  {
   "cell_type": "code",
   "execution_count": 12,
   "metadata": {
    "collapsed": false
   },
   "outputs": [],
   "source": [
    "#"
   ]
  },
  {
   "cell_type": "code",
   "execution_count": 137,
   "metadata": {
    "collapsed": false
   },
   "outputs": [
    {
     "name": "stdout",
     "output_type": "stream",
     "text": [
      "+-----+-----+\n",
      "|cases|count|\n",
      "+-----+-----+\n",
      "|   TP|  329|\n",
      "|   TN|18920|\n",
      "|   FN| 4544|\n",
      "|   FP|  187|\n",
      "+-----+-----+\n",
      "\n"
     ]
    }
   ],
   "source": [
    "#result.orderBy(\"prediction\").show(100)\n",
    "confCols = [F.col(i) for i in [\"TP\",\"TN\",\"FP\",\"FN\"]]\n",
    "\n",
    "\n",
    "csCols = [F.when((F.col(\"label\")==1) & (F.col(\"difference\") == 0),\"TP\")\n",
    "          ,F.when((F.col(\"label\")==0) & (F.col(\"difference\") == 0),\"TN\")\n",
    "          ,F.when(F.col(\"difference\") == 1,\"FN\")\n",
    "          ,F.when(F.col(\"difference\") == -1,\"FP\")\n",
    "         ]\n",
    "\n",
    "confusionDf = result.select(F.col(\"label\"),F.col(\"prediction\"),(F.col(\"label\")-F.col(\"prediction\")).alias(\"difference\"))\n",
    "(confusionDf\n",
    " .select(F.coalesce(*csCols).alias(\"cases\")  \n",
    "         #,.otherwise(0).alias(\"FP\")\n",
    "         #,.otherwise(0).alias(\"FN\")\n",
    "        )\n",
    " .groupBy(\"cases\").count()\n",
    ").show()\n",
    "\n",
    " "
   ]
  },
  {
   "cell_type": "code",
   "execution_count": 164,
   "metadata": {
    "collapsed": false
   },
   "outputs": [
    {
     "ename": "AnalysisException",
     "evalue": "\"cannot resolve '`cases`' given input columns: [label, prediction, difference];\"",
     "output_type": "error",
     "traceback": [
      "\u001b[0;31m---------------------------------------------------------------------------\u001b[0m",
      "\u001b[0;31mPy4JJavaError\u001b[0m                             Traceback (most recent call last)",
      "\u001b[0;32m/usr/local/share/spark/python/pyspark/sql/utils.py\u001b[0m in \u001b[0;36mdeco\u001b[0;34m(*a, **kw)\u001b[0m\n\u001b[1;32m     62\u001b[0m         \u001b[0;32mtry\u001b[0m\u001b[0;34m:\u001b[0m\u001b[0;34m\u001b[0m\u001b[0m\n\u001b[0;32m---> 63\u001b[0;31m             \u001b[0;32mreturn\u001b[0m \u001b[0mf\u001b[0m\u001b[0;34m(\u001b[0m\u001b[0;34m*\u001b[0m\u001b[0ma\u001b[0m\u001b[0;34m,\u001b[0m \u001b[0;34m**\u001b[0m\u001b[0mkw\u001b[0m\u001b[0;34m)\u001b[0m\u001b[0;34m\u001b[0m\u001b[0m\n\u001b[0m\u001b[1;32m     64\u001b[0m         \u001b[0;32mexcept\u001b[0m \u001b[0mpy4j\u001b[0m\u001b[0;34m.\u001b[0m\u001b[0mprotocol\u001b[0m\u001b[0;34m.\u001b[0m\u001b[0mPy4JJavaError\u001b[0m \u001b[0;32mas\u001b[0m \u001b[0me\u001b[0m\u001b[0;34m:\u001b[0m\u001b[0;34m\u001b[0m\u001b[0m\n",
      "\u001b[0;32m/usr/local/share/spark/python/lib/py4j-0.10.1-src.zip/py4j/protocol.py\u001b[0m in \u001b[0;36mget_return_value\u001b[0;34m(answer, gateway_client, target_id, name)\u001b[0m\n\u001b[1;32m    311\u001b[0m                     \u001b[0;34m\"An error occurred while calling {0}{1}{2}.\\n\"\u001b[0m\u001b[0;34m.\u001b[0m\u001b[0;34m\u001b[0m\u001b[0m\n\u001b[0;32m--> 312\u001b[0;31m                     format(target_id, \".\", name), value)\n\u001b[0m\u001b[1;32m    313\u001b[0m             \u001b[0;32melse\u001b[0m\u001b[0;34m:\u001b[0m\u001b[0;34m\u001b[0m\u001b[0m\n",
      "\u001b[0;31mPy4JJavaError\u001b[0m: An error occurred while calling o4346.max.\n: org.apache.spark.sql.AnalysisException: cannot resolve '`cases`' given input columns: [label, prediction, difference];\n\tat org.apache.spark.sql.catalyst.analysis.package$AnalysisErrorAt.failAnalysis(package.scala:42)\n\tat org.apache.spark.sql.catalyst.analysis.CheckAnalysis$$anonfun$checkAnalysis$1$$anonfun$apply$2.applyOrElse(CheckAnalysis.scala:77)\n\tat org.apache.spark.sql.catalyst.analysis.CheckAnalysis$$anonfun$checkAnalysis$1$$anonfun$apply$2.applyOrElse(CheckAnalysis.scala:74)\n\tat org.apache.spark.sql.catalyst.trees.TreeNode$$anonfun$transformUp$1.apply(TreeNode.scala:301)\n\tat org.apache.spark.sql.catalyst.trees.TreeNode$$anonfun$transformUp$1.apply(TreeNode.scala:301)\n\tat org.apache.spark.sql.catalyst.trees.CurrentOrigin$.withOrigin(TreeNode.scala:69)\n\tat org.apache.spark.sql.catalyst.trees.TreeNode.transformUp(TreeNode.scala:300)\n\tat org.apache.spark.sql.catalyst.plans.QueryPlan.transformExpressionUp$1(QueryPlan.scala:190)\n\tat org.apache.spark.sql.catalyst.plans.QueryPlan.org$apache$spark$sql$catalyst$plans$QueryPlan$$recursiveTransform$2(QueryPlan.scala:200)\n\tat org.apache.spark.sql.catalyst.plans.QueryPlan$$anonfun$org$apache$spark$sql$catalyst$plans$QueryPlan$$recursiveTransform$2$1.apply(QueryPlan.scala:204)\n\tat scala.collection.TraversableLike$$anonfun$map$1.apply(TraversableLike.scala:234)\n\tat scala.collection.TraversableLike$$anonfun$map$1.apply(TraversableLike.scala:234)\n\tat scala.collection.mutable.ResizableArray$class.foreach(ResizableArray.scala:59)\n\tat scala.collection.mutable.ArrayBuffer.foreach(ArrayBuffer.scala:48)\n\tat scala.collection.TraversableLike$class.map(TraversableLike.scala:234)\n\tat scala.collection.AbstractTraversable.map(Traversable.scala:104)\n\tat org.apache.spark.sql.catalyst.plans.QueryPlan.org$apache$spark$sql$catalyst$plans$QueryPlan$$recursiveTransform$2(QueryPlan.scala:204)\n\tat org.apache.spark.sql.catalyst.plans.QueryPlan$$anonfun$5.apply(QueryPlan.scala:209)\n\tat org.apache.spark.sql.catalyst.trees.TreeNode.mapProductIterator(TreeNode.scala:179)\n\tat org.apache.spark.sql.catalyst.plans.QueryPlan.transformExpressionsUp(QueryPlan.scala:209)\n\tat org.apache.spark.sql.catalyst.analysis.CheckAnalysis$$anonfun$checkAnalysis$1.apply(CheckAnalysis.scala:74)\n\tat org.apache.spark.sql.catalyst.analysis.CheckAnalysis$$anonfun$checkAnalysis$1.apply(CheckAnalysis.scala:67)\n\tat org.apache.spark.sql.catalyst.trees.TreeNode.foreachUp(TreeNode.scala:126)\n\tat org.apache.spark.sql.catalyst.analysis.CheckAnalysis$class.checkAnalysis(CheckAnalysis.scala:67)\n\tat org.apache.spark.sql.catalyst.analysis.Analyzer.checkAnalysis(Analyzer.scala:58)\n\tat org.apache.spark.sql.execution.QueryExecution.assertAnalyzed(QueryExecution.scala:49)\n\tat org.apache.spark.sql.Dataset$.ofRows(Dataset.scala:64)\n\tat org.apache.spark.sql.RelationalGroupedDataset.toDF(RelationalGroupedDataset.scala:62)\n\tat org.apache.spark.sql.RelationalGroupedDataset.aggregateNumericColumns(RelationalGroupedDataset.scala:106)\n\tat org.apache.spark.sql.RelationalGroupedDataset.max(RelationalGroupedDataset.scala:256)\n\tat sun.reflect.NativeMethodAccessorImpl.invoke0(Native Method)\n\tat sun.reflect.NativeMethodAccessorImpl.invoke(NativeMethodAccessorImpl.java:62)\n\tat sun.reflect.DelegatingMethodAccessorImpl.invoke(DelegatingMethodAccessorImpl.java:43)\n\tat java.lang.reflect.Method.invoke(Method.java:498)\n\tat py4j.reflection.MethodInvoker.invoke(MethodInvoker.java:237)\n\tat py4j.reflection.ReflectionEngine.invoke(ReflectionEngine.java:357)\n\tat py4j.Gateway.invoke(Gateway.java:280)\n\tat py4j.commands.AbstractCommand.invokeMethod(AbstractCommand.java:128)\n\tat py4j.commands.CallCommand.execute(CallCommand.java:79)\n\tat py4j.GatewayConnection.run(GatewayConnection.java:211)\n\tat java.lang.Thread.run(Thread.java:745)\n",
      "\nDuring handling of the above exception, another exception occurred:\n",
      "\u001b[0;31mAnalysisException\u001b[0m                         Traceback (most recent call last)",
      "\u001b[0;32m<ipython-input-164-5d5ce7206403>\u001b[0m in \u001b[0;36m<module>\u001b[0;34m()\u001b[0m\n\u001b[0;32m----> 1\u001b[0;31m \u001b[0macc\u001b[0m \u001b[0;34m=\u001b[0m \u001b[0mconfusionDf\u001b[0m\u001b[0;34m.\u001b[0m\u001b[0mgroupBy\u001b[0m\u001b[0;34m(\u001b[0m\u001b[0;34m\"cases\"\u001b[0m\u001b[0;34m)\u001b[0m\u001b[0;34m.\u001b[0m\u001b[0mmax\u001b[0m\u001b[0;34m(\u001b[0m\u001b[0;34m)\u001b[0m\u001b[0;34m.\u001b[0m\u001b[0mtake\u001b[0m\u001b[0;34m(\u001b[0m\u001b[0;36m1\u001b[0m\u001b[0;34m)\u001b[0m\u001b[0;34m\u001b[0m\u001b[0m\n\u001b[0m\u001b[1;32m      2\u001b[0m \u001b[0mprint\u001b[0m\u001b[0;34m(\u001b[0m\u001b[0macc\u001b[0m\u001b[0;34m)\u001b[0m\u001b[0;34m\u001b[0m\u001b[0m\n",
      "\u001b[0;32m/usr/local/share/spark/python/pyspark/sql/group.py\u001b[0m in \u001b[0;36m_api\u001b[0;34m(self, *cols)\u001b[0m\n\u001b[1;32m     38\u001b[0m     \u001b[0;32mdef\u001b[0m \u001b[0m_api\u001b[0m\u001b[0;34m(\u001b[0m\u001b[0mself\u001b[0m\u001b[0;34m,\u001b[0m \u001b[0;34m*\u001b[0m\u001b[0mcols\u001b[0m\u001b[0;34m)\u001b[0m\u001b[0;34m:\u001b[0m\u001b[0;34m\u001b[0m\u001b[0m\n\u001b[1;32m     39\u001b[0m         \u001b[0mname\u001b[0m \u001b[0;34m=\u001b[0m \u001b[0mf\u001b[0m\u001b[0;34m.\u001b[0m\u001b[0m__name__\u001b[0m\u001b[0;34m\u001b[0m\u001b[0m\n\u001b[0;32m---> 40\u001b[0;31m         \u001b[0mjdf\u001b[0m \u001b[0;34m=\u001b[0m \u001b[0mgetattr\u001b[0m\u001b[0;34m(\u001b[0m\u001b[0mself\u001b[0m\u001b[0;34m.\u001b[0m\u001b[0m_jgd\u001b[0m\u001b[0;34m,\u001b[0m \u001b[0mname\u001b[0m\u001b[0;34m)\u001b[0m\u001b[0;34m(\u001b[0m\u001b[0m_to_seq\u001b[0m\u001b[0;34m(\u001b[0m\u001b[0mself\u001b[0m\u001b[0;34m.\u001b[0m\u001b[0msql_ctx\u001b[0m\u001b[0;34m.\u001b[0m\u001b[0m_sc\u001b[0m\u001b[0;34m,\u001b[0m \u001b[0mcols\u001b[0m\u001b[0;34m)\u001b[0m\u001b[0;34m)\u001b[0m\u001b[0;34m\u001b[0m\u001b[0m\n\u001b[0m\u001b[1;32m     41\u001b[0m         \u001b[0;32mreturn\u001b[0m \u001b[0mDataFrame\u001b[0m\u001b[0;34m(\u001b[0m\u001b[0mjdf\u001b[0m\u001b[0;34m,\u001b[0m \u001b[0mself\u001b[0m\u001b[0;34m.\u001b[0m\u001b[0msql_ctx\u001b[0m\u001b[0;34m)\u001b[0m\u001b[0;34m\u001b[0m\u001b[0m\n\u001b[1;32m     42\u001b[0m     \u001b[0m_api\u001b[0m\u001b[0;34m.\u001b[0m\u001b[0m__name__\u001b[0m \u001b[0;34m=\u001b[0m \u001b[0mf\u001b[0m\u001b[0;34m.\u001b[0m\u001b[0m__name__\u001b[0m\u001b[0;34m\u001b[0m\u001b[0m\n",
      "\u001b[0;32m/usr/local/share/spark/python/lib/py4j-0.10.1-src.zip/py4j/java_gateway.py\u001b[0m in \u001b[0;36m__call__\u001b[0;34m(self, *args)\u001b[0m\n\u001b[1;32m    931\u001b[0m         \u001b[0manswer\u001b[0m \u001b[0;34m=\u001b[0m \u001b[0mself\u001b[0m\u001b[0;34m.\u001b[0m\u001b[0mgateway_client\u001b[0m\u001b[0;34m.\u001b[0m\u001b[0msend_command\u001b[0m\u001b[0;34m(\u001b[0m\u001b[0mcommand\u001b[0m\u001b[0;34m)\u001b[0m\u001b[0;34m\u001b[0m\u001b[0m\n\u001b[1;32m    932\u001b[0m         return_value = get_return_value(\n\u001b[0;32m--> 933\u001b[0;31m             answer, self.gateway_client, self.target_id, self.name)\n\u001b[0m\u001b[1;32m    934\u001b[0m \u001b[0;34m\u001b[0m\u001b[0m\n\u001b[1;32m    935\u001b[0m         \u001b[0;32mfor\u001b[0m \u001b[0mtemp_arg\u001b[0m \u001b[0;32min\u001b[0m \u001b[0mtemp_args\u001b[0m\u001b[0;34m:\u001b[0m\u001b[0;34m\u001b[0m\u001b[0m\n",
      "\u001b[0;32m/usr/local/share/spark/python/pyspark/sql/utils.py\u001b[0m in \u001b[0;36mdeco\u001b[0;34m(*a, **kw)\u001b[0m\n\u001b[1;32m     67\u001b[0m                                              e.java_exception.getStackTrace()))\n\u001b[1;32m     68\u001b[0m             \u001b[0;32mif\u001b[0m \u001b[0ms\u001b[0m\u001b[0;34m.\u001b[0m\u001b[0mstartswith\u001b[0m\u001b[0;34m(\u001b[0m\u001b[0;34m'org.apache.spark.sql.AnalysisException: '\u001b[0m\u001b[0;34m)\u001b[0m\u001b[0;34m:\u001b[0m\u001b[0;34m\u001b[0m\u001b[0m\n\u001b[0;32m---> 69\u001b[0;31m                 \u001b[0;32mraise\u001b[0m \u001b[0mAnalysisException\u001b[0m\u001b[0;34m(\u001b[0m\u001b[0ms\u001b[0m\u001b[0;34m.\u001b[0m\u001b[0msplit\u001b[0m\u001b[0;34m(\u001b[0m\u001b[0;34m': '\u001b[0m\u001b[0;34m,\u001b[0m \u001b[0;36m1\u001b[0m\u001b[0;34m)\u001b[0m\u001b[0;34m[\u001b[0m\u001b[0;36m1\u001b[0m\u001b[0;34m]\u001b[0m\u001b[0;34m,\u001b[0m \u001b[0mstackTrace\u001b[0m\u001b[0;34m)\u001b[0m\u001b[0;34m\u001b[0m\u001b[0m\n\u001b[0m\u001b[1;32m     70\u001b[0m             \u001b[0;32mif\u001b[0m \u001b[0ms\u001b[0m\u001b[0;34m.\u001b[0m\u001b[0mstartswith\u001b[0m\u001b[0;34m(\u001b[0m\u001b[0;34m'org.apache.spark.sql.catalyst.analysis'\u001b[0m\u001b[0;34m)\u001b[0m\u001b[0;34m:\u001b[0m\u001b[0;34m\u001b[0m\u001b[0m\n\u001b[1;32m     71\u001b[0m                 \u001b[0;32mraise\u001b[0m \u001b[0mAnalysisException\u001b[0m\u001b[0;34m(\u001b[0m\u001b[0ms\u001b[0m\u001b[0;34m.\u001b[0m\u001b[0msplit\u001b[0m\u001b[0;34m(\u001b[0m\u001b[0;34m': '\u001b[0m\u001b[0;34m,\u001b[0m \u001b[0;36m1\u001b[0m\u001b[0;34m)\u001b[0m\u001b[0;34m[\u001b[0m\u001b[0;36m1\u001b[0m\u001b[0;34m]\u001b[0m\u001b[0;34m,\u001b[0m \u001b[0mstackTrace\u001b[0m\u001b[0;34m)\u001b[0m\u001b[0;34m\u001b[0m\u001b[0m\n",
      "\u001b[0;31mAnalysisException\u001b[0m: \"cannot resolve '`cases`' given input columns: [label, prediction, difference];\""
     ]
    }
   ],
   "source": [
    "acc = confusionDf.groupBy(\"cases\").max().take(1)\n",
    "print(acc)"
   ]
  },
  {
   "cell_type": "code",
   "execution_count": 144,
   "metadata": {
    "collapsed": false
   },
   "outputs": [
    {
     "data": {
      "text/plain": [
       "True"
      ]
     },
     "execution_count": 144,
     "metadata": {},
     "output_type": "execute_result"
    }
   ],
   "source": [
    "crossValModel.bestModel.hasSummary"
   ]
  },
  {
   "cell_type": "code",
   "execution_count": 145,
   "metadata": {
    "collapsed": false
   },
   "outputs": [],
   "source": [
    "summary = crossValModel.bestModel.summary"
   ]
  },
  {
   "cell_type": "code",
   "execution_count": 163,
   "metadata": {
    "collapsed": false
   },
   "outputs": [
    {
     "name": "stdout",
     "output_type": "stream",
     "text": [
      "+-------------------+--------------------+\n",
      "|          threshold|           F-Measure|\n",
      "+-------------------+--------------------+\n",
      "| 0.9999999998262108|0.018052738336713996|\n",
      "| 0.6029720467816753| 0.04342845759250959|\n",
      "| 0.5548895764816145|0.058415695530314206|\n",
      "| 0.5352922194681604| 0.07590887057682986|\n",
      "| 0.5226281290191139| 0.09642227621361536|\n",
      "| 0.5104669745067404| 0.11305530797016466|\n",
      "| 0.5027036316785367| 0.12816842882866245|\n",
      "|0.49702833276414865|   0.140203932993445|\n",
      "|0.49345764045064777| 0.15536496024300903|\n",
      "|0.48963009953953224|  0.1670701113507328|\n",
      "|  0.487418026345812| 0.17703100640914604|\n",
      "| 0.4851876507384984| 0.18672464509528072|\n",
      "| 0.4830943564912248| 0.19793452356064722|\n",
      "| 0.4811206606975969| 0.21139675781889636|\n",
      "| 0.4792802930278031| 0.22196289887730875|\n",
      "| 0.4778307111343987|  0.2357077950298289|\n",
      "|0.47643159133543633| 0.24835232999922463|\n",
      "| 0.4750421306102541|  0.2579611761565158|\n",
      "| 0.4739300653336836|  0.2701529944263644|\n",
      "| 0.4725752166604857| 0.27834291611381395|\n",
      "+-------------------+--------------------+\n",
      "only showing top 20 rows\n",
      "\n",
      "+--------------------+------------------+\n",
      "|              recall|         precision|\n",
      "+--------------------+------------------+\n",
      "|                 0.0|               1.0|\n",
      "|0.009158263017081704|0.6267605633802817|\n",
      "|0.022432599300267544|0.6780715396578538|\n",
      "|0.030561844000823214|0.6592674805771365|\n",
      "| 0.04028606709199424|0.6557788944723618|\n",
      "| 0.05206832681621733|0.6508038585209003|\n",
      "| 0.06199835357069356|0.6406166932482722|\n",
      "| 0.07141387116690677|0.6243814664867297|\n",
      "| 0.07923441037250463| 0.608214849921011|\n",
      "| 0.08947314262193867|0.5894915254237288|\n",
      "| 0.09765383823832065|0.5777777777777777|\n",
      "| 0.10516567194896069|0.5590809628008753|\n",
      "| 0.11267750565960075|0.5446406366575479|\n",
      "| 0.12178431776085615|0.5282303057353269|\n",
      "| 0.13284626466351102|0.5172275641025641|\n",
      "| 0.14190162584894012|  0.50932594644506|\n",
      "| 0.15347808190985798|0.5077446808510638|\n",
      "| 0.16479728339164437| 0.503774771940862|\n",
      "| 0.17400699732455238|0.4984524686809138|\n",
      "| 0.18578925704877547|0.4948609017404413|\n",
      "+--------------------+------------------+\n",
      "only showing top 20 rows\n",
      "\n",
      "+-------------------+-------------------+\n",
      "|          threshold|          precision|\n",
      "+-------------------+-------------------+\n",
      "| 0.9999999998262108| 0.6267605633802817|\n",
      "| 0.6029720467816753| 0.6780715396578538|\n",
      "| 0.5548895764816145| 0.6592674805771365|\n",
      "| 0.5352922194681604| 0.6557788944723618|\n",
      "| 0.5226281290191139| 0.6508038585209003|\n",
      "| 0.5104669745067404| 0.6406166932482722|\n",
      "| 0.5027036316785367| 0.6243814664867297|\n",
      "|0.49702833276414865|  0.608214849921011|\n",
      "|0.49345764045064777| 0.5894915254237288|\n",
      "|0.48963009953953224| 0.5777777777777777|\n",
      "|  0.487418026345812| 0.5590809628008753|\n",
      "| 0.4851876507384984| 0.5446406366575479|\n",
      "| 0.4830943564912248| 0.5282303057353269|\n",
      "| 0.4811206606975969| 0.5172275641025641|\n",
      "| 0.4792802930278031|   0.50932594644506|\n",
      "| 0.4778307111343987| 0.5077446808510638|\n",
      "|0.47643159133543633|  0.503774771940862|\n",
      "| 0.4750421306102541| 0.4984524686809138|\n",
      "| 0.4739300653336836| 0.4948609017404413|\n",
      "| 0.4725752166604857|0.49064449064449067|\n",
      "+-------------------+-------------------+\n",
      "only showing top 20 rows\n",
      "\n",
      "+--------------------+--------------------+\n",
      "|                 FPR|                 TPR|\n",
      "+--------------------+--------------------+\n",
      "|                 0.0|                 0.0|\n",
      "|0.001379813074379735|0.009158263017081704|\n",
      "|0.002694540626383...|0.022432599300267544|\n",
      "|0.003996251073911...|0.030561844000823214|\n",
      "|0.005350029939340293| 0.04028606709199424|\n",
      "|0.007068287730077322| 0.05206832681621733|\n",
      "|0.008799562625289631| 0.06199835357069356|\n",
      "|0.010869282236859233| 0.07141387116690677|\n",
      "|0.012912967639478275| 0.07923441037250463|\n",
      "| 0.01576371351956471| 0.08947314262193867|\n",
      "| 0.01805472390721408| 0.09765383823832065|\n",
      "|0.020983572414152198| 0.10516567194896069|\n",
      "| 0.02383431829423863| 0.11267750565960075|\n",
      "|0.027518158860743016| 0.12178431776085615|\n",
      "| 0.03137122178542605| 0.13284626466351102|\n",
      "| 0.03458644659082034| 0.14190162584894012|\n",
      "| 0.03764546614251126| 0.15347808190985798|\n",
      "| 0.04106896461951003| 0.16479728339164437|\n",
      "|  0.0442972065293796| 0.17400699732455238|\n",
      "|0.047981047095883994| 0.18578925704877547|\n",
      "+--------------------+--------------------+\n",
      "only showing top 20 rows\n",
      "\n",
      "+-------------------+--------------------+\n",
      "|          threshold|              recall|\n",
      "+-------------------+--------------------+\n",
      "| 0.9999999998262108|0.009158263017081704|\n",
      "| 0.6029720467816753|0.022432599300267544|\n",
      "| 0.5548895764816145|0.030561844000823214|\n",
      "| 0.5352922194681604| 0.04028606709199424|\n",
      "| 0.5226281290191139| 0.05206832681621733|\n",
      "| 0.5104669745067404| 0.06199835357069356|\n",
      "| 0.5027036316785367| 0.07141387116690677|\n",
      "|0.49702833276414865| 0.07923441037250463|\n",
      "|0.49345764045064777| 0.08947314262193867|\n",
      "|0.48963009953953224| 0.09765383823832065|\n",
      "|  0.487418026345812| 0.10516567194896069|\n",
      "| 0.4851876507384984| 0.11267750565960075|\n",
      "| 0.4830943564912248| 0.12178431776085615|\n",
      "| 0.4811206606975969| 0.13284626466351102|\n",
      "| 0.4792802930278031| 0.14190162584894012|\n",
      "| 0.4778307111343987| 0.15347808190985798|\n",
      "|0.47643159133543633| 0.16479728339164437|\n",
      "| 0.4750421306102541| 0.17400699732455238|\n",
      "| 0.4739300653336836| 0.18578925704877547|\n",
      "| 0.4725752166604857| 0.19427865816011525|\n",
      "+-------------------+--------------------+\n",
      "only showing top 20 rows\n",
      "\n"
     ]
    },
    {
     "data": {
      "text/plain": [
       "46"
      ]
     },
     "execution_count": 163,
     "metadata": {},
     "output_type": "execute_result"
    }
   ],
   "source": [
    "summary.areaUnderROC\n",
    "summary.fMeasureByThreshold.show()\n",
    "summary.pr.show()\n",
    "summary.precisionByThreshold.show()\n",
    "summary.roc.show()\n",
    "summary.recallByThreshold.show()\n",
    "summary.totalIterations\n",
    "summary.\n",
    "\n",
    "#for s in summary:\n",
    "#    print(s + str(summary[s])+\"\\n\")"
   ]
  },
  {
   "cell_type": "code",
   "execution_count": 24,
   "metadata": {
    "collapsed": false
   },
   "outputs": [
    {
     "name": "stdout",
     "output_type": "stream",
     "text": [
      "+--------------------+-----+--------------------+--------------------+---------+--------------------+--------------------+----------+\n",
      "|                navn|label|              status|            features|cvrNummer|       rawPrediction|         probability|prediction|\n",
      "+--------------------+-----+--------------------+--------------------+---------+--------------------+--------------------+----------+\n",
      "|SKYTTENS HANDEL O...|    1|[OPLØST EFTER FUS...|[-0.1483813281958...| 10019052|[-0.1436615979228...|[0.46414624375980...|       1.0|\n",
      "|            DIKI.NET|    0|[OPLØST EFTER KON...|[-0.1483813281958...| 10026113|[-0.2470744652013...|[0.43854370342953...|       1.0|\n",
      "|                CTEK|    1|[OPLØST EFTER FUS...|[-0.1177596186074...| 10040523|[-0.6803097893868...|[0.33619216432178...|       1.0|\n",
      "|      VG ENTREPRENØR|    1|            [NORMAL]|[0.43343115398404...| 10057426|[-3.7227933151943...|[0.02359613625108...|       1.0|\n",
      "|NORDBYENS OLIEFYR...|    1|            [NORMAL]|[-0.1483813281958...| 10089514|[-2.8801667669252...|[0.05314274429565...|       1.0|\n",
      "|EXPRESS LABELLING...|    1|[TVANGSOPLØST, UN...|[-0.1483813281958...| 10091713|[-0.1715003567869...|[0.45722969080531...|       1.0|\n",
      "|PSYKOLOGERNE VED ...|    1|[OPLØST EFTER FUS...|[-0.1790030377842...| 10108624|[-0.6485674484631...|[0.34331243211346...|       1.0|\n",
      "|         RAH HOLDING|    1|            [NORMAL]|[-0.1483813281958...| 10127351|[-2.8804422421872...|[0.05312888447426...|       1.0|\n",
      "|AMAGER BROLÆGGERF...|    0|[OPLØST EFTER KON...|[-0.1177596186074...| 10128587|[-1.1369952588026...|[0.24287246215155...|       1.0|\n",
      "|        ART OF JEWEL|    1|            [NORMAL]|[-0.1177596186074...| 10145619|[-6.3724232788323...|[0.00170510286780...|       1.0|\n",
      "|    FRONT FREDERICIA|    1|[OPLØST EFTER FUS...|[0.12721405809989...| 10156521|[-0.3793527083137...|[0.40628302543127...|       1.0|\n",
      "|M.L.R. AF 16. APR...|    1|[OPLØST EFTER ERK...|[-0.1177596186074...| 10200288|[-1.4990290785923...|[0.18257037794247...|       1.0|\n",
      "| FOLKE LARSENS EFTF.|    1|            [NORMAL]|[-0.0258944898421...| 10351235|[-3.6327245272056...|[0.02576276706084...|       1.0|\n",
      "|               TAORA|    1|[OPLØST EFTER FUS...|[-0.1790030377842...| 10366380|[-0.9451119361175...|[0.27986891278054...|       1.0|\n",
      "|     CH AF 24/8 2000|    1|[OPLØST EFTER FRI...|[0.12721405809989...| 10412986|[-0.5220910962423...|[0.37236339559707...|       1.0|\n",
      "|            SIBA-ØST|    1|[OPLØST EFTER FRI...|[-0.1483813281958...| 10481171|[-0.6766429736895...|[0.33701096745397...|       1.0|\n",
      "|         STEVNS TRYK|    1|[OPLØST EFTER ERK...|[-0.1483813281958...| 10577675|[-0.9080179077065...|[0.28740560581535...|       1.0|\n",
      "|  PERSPEKTIV HOLDING|    1|            [NORMAL]|[-0.1483813281958...| 10606683|[-4.1379135688213...|[0.01570550931538...|       1.0|\n",
      "|     INTRUM JUSTITIA|    1|            [NORMAL]|[1.35208244163648...| 10613779|[-2.8641158595488...|[0.05395622053629...|       1.0|\n",
      "|         LOBO MØBLER|    1|            [NORMAL]|[-0.1177596186074...| 10629098|[-3.4536192522129...|[0.03066110863007...|       1.0|\n",
      "+--------------------+-----+--------------------+--------------------+---------+--------------------+--------------------+----------+\n",
      "only showing top 20 rows\n",
      "\n"
     ]
    }
   ],
   "source": [
    "summary.predictions.show()"
   ]
  },
  {
   "cell_type": "code",
   "execution_count": null,
   "metadata": {
    "collapsed": false
   },
   "outputs": [],
   "source": []
  },
  {
   "cell_type": "code",
   "execution_count": null,
   "metadata": {
    "collapsed": true
   },
   "outputs": [],
   "source": []
  }
 ],
 "metadata": {
  "kernelspec": {
   "display_name": "Python 3",
   "language": "python",
   "name": "python3"
  },
  "language_info": {
   "codemirror_mode": {
    "name": "ipython",
    "version": 3
   },
   "file_extension": ".py",
   "mimetype": "text/x-python",
   "name": "python",
   "nbconvert_exporter": "python",
   "pygments_lexer": "ipython3",
   "version": "3.5.2"
  }
 },
 "nbformat": 4,
 "nbformat_minor": 2
}
