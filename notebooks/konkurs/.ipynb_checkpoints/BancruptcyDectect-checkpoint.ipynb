{
 "cells": [
  {
   "cell_type": "code",
   "execution_count": 15,
   "metadata": {
    "collapsed": false
   },
   "outputs": [],
   "source": [
    "SQLContext.newSession(sqlContext)\n",
    "from pyspark.sql import functions as F\n",
    "from pyspark.ml.feature import VectorAssembler,StandardScaler,RFormula\n",
    "from pyspark.ml.classification import LogisticRegression\n",
    "from pyspark.ml.tuning import CrossValidator, ParamGridBuilder, TrainValidationSplit\n",
    "from pyspark.ml.linalg import VectorUDT,Vectors\n",
    "from pyspark.ml.evaluation import BinaryClassificationEvaluator\n",
    "from pyspark.sql import Window\n",
    "from pyspark.ml import Pipeline\n",
    "from pyspark.ml.regression import GeneralizedLinearRegression\n",
    "\n",
    "import pandas as pd\n",
    "import re\n",
    "from tabulate import tabulate\n",
    "import random\n",
    "import sys\n",
    "import numpy as np"
   ]
  },
  {
   "cell_type": "code",
   "execution_count": 39,
   "metadata": {
    "collapsed": false,
    "scrolled": true
   },
   "outputs": [
    {
     "name": "stdout",
     "output_type": "stream",
     "text": [
      "+---------+--------------------+-----+-----------+-----------+-----------+-----------+-----------+-----------+-----------+-----------+-----------+------------+------------+------------+------------+------------+------------+-----------+-----------------+------------------+------------------+------------------+------------------+-------------+-------------+-------------+-------------+----------------+---------------+\n",
      "|cvrNummer|              status|label|AarsVaerk_1|AarsVaerk_2|AarsVaerk_3|AarsVaerk_4|AarsVaerk_5|AarsVaerk_6|AarsVaerk_7|AarsVaerk_8|AarsVaerk_9|AarsVaerk_10|AarsVaerk_11|AarsVaerk_12|AarsVaerk_13|AarsVaerk_14|AarsVaerk_15|avgVarighed|totalAabneEnheder|totalLukketEnheder|     vaerdiSlope_1|     vaerdiSlope_2|     vaerdiSlope_3|vaerdiSlope_4|vaerdiSlope_5|vaerdiSlope_6|vaerdiSlope_7|reklamebeskyttet|kortBeskrivelse|\n",
      "+---------+--------------------+-----+-----------+-----------+-----------+-----------+-----------+-----------+-----------+-----------+-----------+------------+------------+------------+------------+------------+------------+-----------+-----------------+------------------+------------------+------------------+------------------+-------------+-------------+-------------+-------------+----------------+---------------+\n",
      "| 10043271|            [NORMAL]|  0.0|        2.0|        5.0|        5.0|        5.0|        5.0|        5.0|        5.0|        5.0|        5.0|         5.0|         5.0|         5.0|         5.0|         2.0|         5.0|       null|              0.0|               1.0|  36.8437212158428|              null|              null|         null|         null|         null|         null|             0.0|            APS|\n",
      "| 10058511|[OPLØST EFTER ERK...|  0.0|        1.0|        2.0|        2.0|        2.0|        1.0|       null|       null|       null|       null|        null|        null|        null|        null|        null|        null|    1281.25|              4.0|               0.0|              null|              null|              null|         null|         null|         null|         null|             0.0|            APS|\n",
      "| 10058511|[OPLØST EFTER ERK...|  0.0|        1.0|        2.0|        2.0|        2.0|        1.0|       null|       null|       null|       null|        null|        null|        null|        null|        null|        null|    1281.25|              4.0|               0.0|              null|              null|              null|         null|         null|         null|         null|             0.0|            APS|\n",
      "| 10063027|[TVANGSOPLØST, UN...|  0.0|        1.0|        1.0|       null|       null|       null|       null|       null|       null|       null|        null|        null|        null|        null|        null|        null|     1356.0|              1.0|               0.0|105.02173913043478|301.92857142857144|              null|         null|         null|         null|         null|             0.0|            APS|\n",
      "| 10063027|[TVANGSOPLØST, UN...|  0.0|        1.0|        1.0|       null|       null|       null|       null|       null|       null|       null|        null|        null|        null|        null|        null|        null|     1356.0|              1.0|               0.0|105.02173913043478|301.92857142857144|              null|         null|         null|         null|         null|             0.0|            APS|\n",
      "| 10063027|[TVANGSOPLØST, UN...|  0.0|        1.0|        1.0|       null|       null|       null|       null|       null|       null|       null|        null|        null|        null|        null|        null|        null|     1356.0|              1.0|               0.0|105.02173913043478|301.92857142857144|              null|         null|         null|         null|         null|             0.0|            APS|\n",
      "| 10063310|[TVANGSOPLØST, UN...|  0.0|        1.0|       null|       null|       null|       null|       null|       null|       null|       null|        null|        null|        null|        null|        null|        null|      712.0|              2.0|               0.0|              null|              null|              null|         null|         null|         null|         null|             0.0|            APS|\n",
      "| 10063310|[TVANGSOPLØST, UN...|  0.0|        1.0|       null|       null|       null|       null|       null|       null|       null|       null|        null|        null|        null|        null|        null|        null|      712.0|              2.0|               0.0|              null|              null|              null|         null|         null|         null|         null|             0.0|            APS|\n",
      "| 10063310|[TVANGSOPLØST, UN...|  0.0|        1.0|       null|       null|       null|       null|       null|       null|       null|       null|        null|        null|        null|        null|        null|        null|      712.0|              2.0|               0.0|              null|              null|              null|         null|         null|         null|         null|             0.0|            APS|\n",
      "| 10065615|            [NORMAL]|  0.0|        1.0|        1.0|        1.0|        1.0|       null|       null|       null|       null|       null|        null|        null|        null|        null|        null|        null|       null|              0.0|               1.0|-612.4527363184079|               0.0|              null|         null|         null|         null|         null|             0.0|            APS|\n",
      "| 10083869|[OPLØST EFTER FRI...|  0.0|        1.0|       10.0|       10.0|        5.0|        5.0|        5.0|        5.0|       null|       null|        null|        null|        null|        null|        null|        null|     3023.0|              1.0|               0.0|              null|              null|              null|         null|         null|         null|         null|             0.0|            APS|\n",
      "| 10083869|[OPLØST EFTER FRI...|  0.0|        1.0|       10.0|       10.0|        5.0|        5.0|        5.0|        5.0|       null|       null|        null|        null|        null|        null|        null|        null|     3023.0|              1.0|               0.0|              null|              null|              null|         null|         null|         null|         null|             0.0|            APS|\n",
      "| 10083869|[OPLØST EFTER FRI...|  0.0|        1.0|       10.0|       10.0|        5.0|        5.0|        5.0|        5.0|       null|       null|        null|        null|        null|        null|        null|        null|     3023.0|              1.0|               0.0|              null|              null|              null|         null|         null|         null|         null|             0.0|            APS|\n",
      "| 10097924|            [NORMAL]|  0.0|       50.0|       50.0|       20.0|       20.0|       10.0|       10.0|       10.0|       10.0|       10.0|        10.0|        null|        null|        null|        null|        null|        0.0|              1.0|               1.0|3214.7017543859647| 2.399234693877551|1.5797788309636651|         null|         null|         null|         null|             0.0|            APS|\n",
      "| 10117305|            [NORMAL]|  0.0|        2.0|        2.0|        2.0|        5.0|        2.0|        2.0|        2.0|        2.0|        5.0|         5.0|         5.0|         5.0|         5.0|         5.0|         5.0|       null|              0.0|               1.0| 38.47386983007374|              null|              null|         null|         null|         null|         null|             0.0|            APS|\n",
      "| 10118859|[OPLØST EFTER FRI...|  0.0|        1.0|        2.0|        2.0|        1.0|        1.0|        1.0|       null|       null|       null|        null|        null|        null|        null|        null|        null|     4051.0|              1.0|               0.0| 897.1291866028708|              null|              null|         null|         null|         null|         null|             0.0|            APS|\n",
      "| 10118859|[OPLØST EFTER FRI...|  0.0|        1.0|        2.0|        2.0|        1.0|        1.0|        1.0|       null|       null|       null|        null|        null|        null|        null|        null|        null|     4051.0|              1.0|               0.0| 897.1291866028708|              null|              null|         null|         null|         null|         null|             0.0|            APS|\n",
      "| 10118859|[OPLØST EFTER FRI...|  0.0|        1.0|        2.0|        2.0|        1.0|        1.0|        1.0|       null|       null|       null|        null|        null|        null|        null|        null|        null|     4051.0|              1.0|               0.0| 897.1291866028708|              null|              null|         null|         null|         null|         null|             0.0|            APS|\n",
      "| 10127467|            [NORMAL]|  0.0|        1.0|        1.0|        1.0|        1.0|        1.0|        1.0|        1.0|        1.0|        1.0|        null|        null|        null|        null|        null|        null|       null|              0.0|               1.0|              null|              null|              null|         null|         null|         null|         null|             0.0|            APS|\n",
      "| 10144213|[UNDER KONKURS, N...|  1.0|        1.0|       50.0|      100.0|      100.0|      100.0|       null|       null|       null|       null|        null|        null|        null|        null|        null|        null|      593.5|              2.0|               1.0| 833333.3333333334| 17574.69244288225|17055.267702936097|         null|         null|         null|         null|             0.0|            APS|\n",
      "+---------+--------------------+-----+-----------+-----------+-----------+-----------+-----------+-----------+-----------+-----------+-----------+------------+------------+------------+------------+------------+------------+-----------+-----------------+------------------+------------------+------------------+------------------+-------------+-------------+-------------+-------------+----------------+---------------+\n",
      "only showing top 20 rows\n",
      "\n"
     ]
    }
   ],
   "source": [
    "#import data and rename bad name rank into vaerdiSlope\n",
    "#RAW DATA!!! \n",
    "\n",
    "\n",
    "#exclude some of the variables, and cast all variables to double\n",
    "excludeCols = [\"medArb_\"+str(i) for i in range(1,16)] # we don't need the medarbejders \n",
    "includeCols = [i for i in df.columns if i not in excludeCols]\n",
    "\n",
    "rankCols = [re.sub(pattern=\"rank_\",repl=\"vaerdiSlope_\",string=i) for i in includeCols]\n",
    "finalCols = [F.col(i) for i in includeCols[:2]]+[\"kortBeskrivelse\"]+[F.col(i).cast(\"double\") for i in includeCols[2:] if i not in [\"kortBeskrivelse\"]]\n",
    "\n",
    "\n",
    "df = sqlContext.read.parquet(\"/home/svanhmic/workspace/Python/Erhvervs/data/cdata/featureDataCvr\")\n",
    "df.select([\"cvrNummer\"])\n",
    "rankCols = [re.sub(pattern=\"rank_\",repl=\"vaerdiSlope_\",string=i) for i in includeCols ]\n",
    "renamedDf = (df\n",
    "             .select(*finalCols)\n",
    "             .select([F.col(val).alias(rankCols[idx]) for idx,val in enumerate(includeCols)])\n",
    "             .filter((F.col(\"kortBeskrivelse\") == \"APS\") | (F.col(\"kortBeskrivelse\") == \"AS\"))\n",
    "             )\n",
    "renamedDf.show()"
   ]
  },
  {
   "cell_type": "code",
   "execution_count": 40,
   "metadata": {
    "collapsed": true
   },
   "outputs": [],
   "source": [
    "windowSpecRank =(Window.partitionBy(F.col(\"cvrNummer\"))).orderBy(F.col(\"periode_gyldigFra\").desc())\n",
    "groupCols = [\"cvrNummer\",\"vaerdi\"]\n",
    "\n",
    "companyNameDf = (sqlContext\n",
    "                 .read\n",
    "                 .parquet(\"/home/svanhmic/workspace/Python/Erhvervs/data/cdata/companyCvrData\")\n",
    "                 .withColumn(colName=\"rank\",col=F.rank().over(windowSpecRank))\n",
    "                 .filter((F.col(\"rank\")==1) & (F.col(\"sekvensnr\")==0))\n",
    "                 .select([F.col(i) for i in groupCols])\n",
    "                 .withColumnRenamed(existing=\"vaerdi\",new=\"navn\")\n",
    "                 .orderBy(F.col(\"cvrNummer\"))\n",
    "                 .cache()\n",
    "                )"
   ]
  },
  {
   "cell_type": "code",
   "execution_count": 41,
   "metadata": {
    "collapsed": false
   },
   "outputs": [
    {
     "name": "stdout",
     "output_type": "stream",
     "text": [
      "+--------------------+---------+-----+--------------------+---------------+-----------+-----------+-----------+-----------+-----------+-----------+-----------+-----------+-----------+------------+------------+------------+------------+------------+------------+-----------+-----------------+------------------+--------------------+-------------+-------------+-------------+-------------+-------------+-------------+----------------+\n",
      "|                navn|cvrNummer|label|              status|kortBeskrivelse|AarsVaerk_1|AarsVaerk_2|AarsVaerk_3|AarsVaerk_4|AarsVaerk_5|AarsVaerk_6|AarsVaerk_7|AarsVaerk_8|AarsVaerk_9|AarsVaerk_10|AarsVaerk_11|AarsVaerk_12|AarsVaerk_13|AarsVaerk_14|AarsVaerk_15|avgVarighed|totalAabneEnheder|totalLukketEnheder|       vaerdiSlope_1|vaerdiSlope_2|vaerdiSlope_3|vaerdiSlope_4|vaerdiSlope_5|vaerdiSlope_6|vaerdiSlope_7|reklamebeskyttet|\n",
      "+--------------------+---------+-----+--------------------+---------------+-----------+-----------+-----------+-----------+-----------+-----------+-----------+-----------+-----------+------------+------------+------------+------------+------------+------------+-----------+-----------------+------------------+--------------------+-------------+-------------+-------------+-------------+-------------+-------------+----------------+\n",
      "|KØBMANDSSELSKABET...| 10033764|  0.0|            [NORMAL]|            APS|        5.0|        5.0|        5.0|        5.0|        5.0|        2.0|        1.0|        0.0|        0.0|         0.0|         0.0|         0.0|         0.0|         0.0|         0.0|      276.0|              2.0|               1.0|1.0000002802690583E8|          0.0|          0.0|          0.0|          0.0|          0.0|          0.0|             0.0|\n",
      "|JB PROFESSIONEL B...| 10045126|  1.0|[OPLØST EFTER KON...|            APS|        1.0|        5.0|        1.0|        2.0|        2.0|        2.0|        2.0|        2.0|        1.0|         0.0|         0.0|         0.0|         0.0|         0.0|         0.0|     2577.5|              2.0|               0.0|                 0.0|          0.0|          0.0|          0.0|          0.0|          0.0|          0.0|             1.0|\n",
      "|AGENDA MANAGEMENT...| 10052262|  1.0|[OPLØST EFTER KON...|            APS|        1.0|        5.0|        5.0|        5.0|       10.0|       10.0|       10.0|       10.0|       10.0|         2.0|         0.0|         0.0|         0.0|         0.0|         0.0|     4928.0|              1.0|               0.0|                 0.0|          0.0|          0.0|          0.0|          0.0|          0.0|          0.0|             0.0|\n",
      "|TORNUM SNEDKER- O...| 10059968|  0.0|            [NORMAL]|            APS|        2.0|        2.0|        2.0|        5.0|        5.0|        5.0|        5.0|        5.0|        5.0|         5.0|         5.0|         0.0|         0.0|         0.0|         0.0|        0.0|              0.0|               1.0|                 0.0|          0.0|          0.0|          0.0|          0.0|          0.0|          0.0|             0.0|\n",
      "+--------------------+---------+-----+--------------------+---------------+-----------+-----------+-----------+-----------+-----------+-----------+-----------+-----------+-----------+------------+------------+------------+------------+------------+------------+-----------+-----------------+------------------+--------------------+-------------+-------------+-------------+-------------+-------------+-------------+----------------+\n",
      "only showing top 4 rows\n",
      "\n"
     ]
    }
   ],
   "source": [
    "labelCols = [\"navn\",\"cvrNummer\",\"label\",\"status\",\"kortBeskrivelse\"]\n",
    "featCols = [i for i in companyNameDf.columns+renamedDf.columns if i not in labelCols]\n",
    "\n",
    "#get minimum values from each column\n",
    "minCols = [F.min(i).alias(i) for i in featCols]\n",
    "minValsRdd = renamedDf.groupby().agg(*minCols).rdd\n",
    "broadcastedmin = sc.broadcast(minValsRdd.first().asDict())\n",
    "\n",
    "#create array that subtracts minimum value in the numeric columns.\n",
    "logColsSelected = [F.col(i).alias(i) for i in labelCols]+[(F.col(i)-F.lit(broadcastedmin.value[i])).alias(i) for i in featCols]\n",
    "\n",
    "#takes log(x+1) to the numeric columns and fills the blanks with 0.0 \n",
    "logDf = (renamedDf\n",
    "         .join(companyNameDf,(companyNameDf[\"cvrNummer\"]==renamedDf[\"cvrNummer\"]),\"inner\")\n",
    "         .drop(companyNameDf[\"cvrNummer\"])\n",
    "         .select(*logColsSelected)\n",
    "         #.select([F.col(i).alias(i) for i in labelCols]+[F.log1p(F.col(i)).alias(i) for i in featCols])\n",
    "         .distinct()\n",
    "         .na\n",
    "         .fill(0.0,featCols)\n",
    "         .cache()\n",
    "        )\n",
    "logDf.show(4)"
   ]
  },
  {
   "cell_type": "code",
   "execution_count": 47,
   "metadata": {
    "collapsed": false
   },
   "outputs": [],
   "source": [
    "strs = \"\"\n",
    "excludedCols = [\"medArb_\"+str(i) for i in range(1,16)]+[\"cvrNummer\",\"label\",\"status\",\"navn\",\"kortBeskrivelse\"]\n",
    "for i in logDf.columns:\n",
    "    if i not in excludedCols:\n",
    "        strs += i+\" + \"\n",
    "\n",
    "#excludedCols    \n",
    "imputedDf = logDf.fillna(value=0.0)\n",
    "formula = RFormula(formula=\"label ~ \"+strs[:-3],labelCol=\"label\")\n",
    "\n",
    "glr = GeneralizedLinearRegression(family=\"binomial\", link=\"logit\", maxIter=10, regParam=0.3)\n",
    "standardScale = StandardScaler(withMean=True,withStd=True,inputCol=glr.getFeaturesCol(),outputCol=\"scaledFeatures\")\n",
    "\n",
    "\n",
    "pipeline = Pipeline(stages=[formula,standardScale,glr])\n",
    "\n",
    "grid = (ParamGridBuilder()\n",
    "        .baseOn({lr.predictionCol:\"prediction\"})\n",
    "        .baseOn({lr.rawPredictionCol:\"rawPrediction\"})\n",
    "        .baseOn({lr.probabilityCol:\"probability\"})\n",
    "        .baseOn({lr.labelCol:\"label\"})\n",
    "        .baseOn({lr.featuresCol:\"features\"})\n",
    "        .addGrid(param=lr.elasticNetParam,values=[0.1,1.0])\n",
    "        .addGrid(param=lr.getMaxIter,values=[10])\n",
    "        .build()\n",
    "       )\n",
    "\n",
    "evaluate = BinaryClassificationEvaluator()\n",
    "\n",
    "trainEvalModel = TrainValidationSplit(estimator=pipeline,estimatorParamMaps=grid,evaluator=evaluate,trainRatio=0.8)"
   ]
  },
  {
   "cell_type": "code",
   "execution_count": 48,
   "metadata": {
    "collapsed": false
   },
   "outputs": [],
   "source": [
    "cols = [i for i in logDf.columns if i not in excludedCols]+[\"label\"]\n",
    "\n",
    "model = pipeline.fit(imputedDf.select(*cols).filter(F.col(\"label\") <= 1))"
   ]
  },
  {
   "cell_type": "code",
   "execution_count": 49,
   "metadata": {
    "collapsed": false
   },
   "outputs": [],
   "source": [
    "predict = model.transform(imputedDf.select(*cols).filter(F.col(\"label\") <= 1))\n"
   ]
  },
  {
   "cell_type": "code",
   "execution_count": 50,
   "metadata": {
    "collapsed": false
   },
   "outputs": [
    {
     "name": "stdout",
     "output_type": "stream",
     "text": [
      "Coefficient Standard Errors: [0.0027153657861677017, 0.0033576183070386195, 0.0036618804887292426, 0.0035754531498949087, 0.004800442480010473, 0.0053070346268332775, 0.006044648209200047, 0.006661858012195807, 0.007406240336102599, 0.007567900680939748, 0.008093150133059149, 0.008512938676244109, 0.008348498511501063, 0.009076922598213258, 0.009345658737006969, 3.570481466497785e-06, 0.0077130328315039385, 0.01130608609950618, 2.2163928182556967e-10, 4.2738460918044414e-08, 1.7226360583964896e-08, 1.5410312395327676e-09, 1.1484656996653029e-07, 1.2769605473113265e-07, 3.5900730800140656e-07, 0.012775368232153424, 0.013846855355999527]\n",
      "T Values: [-11.13953124016816, 19.273340427415945, -6.0592684049208865, 0.9099659049882795, -2.4512213897006436, -1.3093167681591893, -1.8914994368699147, -2.1100010055623724, -3.195706289762549, 0.34554268948276684, 0.7313830924481478, -1.3424645212472244, 2.7347575160967175, -2.395285013922758, -3.397615083227601, 19.49128313879151, 44.36488143421366, -68.92167133560662, -31.8529021339281, -0.2222128572690277, 1.5991730937620523, -0.4287430069091245, -0.6585598419860235, 0.34954974901357716, -0.8366288434819199, -9.752079731824601, -87.10633918581522]\n",
      "P Values: [0.0, 0.0, 1.3674203991342893e-09, 0.36284049095630877, 0.01423723563300916, 0.1904270719448573, 0.058557706085733185, 0.0348582692614563, 0.001394890275855598, 0.7296864227022648, 0.4645451895952988, 0.1794454265400829, 0.006242624418354437, 0.01660745022866772, 0.0006797599000241128, 0.0, 0.0, 0.0, 0.0, 0.8241481856625836, 0.10978214704359468, 0.6681102590719781, 0.5101784575418398, 0.7266766289362669, 0.40280122745020397, 0.0, 0.0]\n",
      "Dispersion: 1.0\n",
      "Null Deviance: 121055.98568276048\n",
      "Residual Degree Of Freedom Null: 120237\n",
      "Deviance: 101184.7918554938\n",
      "Residual Degree Of Freedom: 120211\n",
      "AIC: 101238.79185549381\n",
      "Deviance Residuals: \n",
      "+--------------------+\n",
      "|   devianceResiduals|\n",
      "+--------------------+\n",
      "|  -0.505190997906927|\n",
      "|  1.3078044644641424|\n",
      "|  1.6187928357391999|\n",
      "| -0.4495402012605015|\n",
      "|-0.33229486966967725|\n",
      "|  1.8426902937742191|\n",
      "|  1.5254278324294124|\n",
      "|  -0.471613616639455|\n",
      "| -0.4950018560652388|\n",
      "| -0.8640582707493624|\n",
      "|  1.5853489569577377|\n",
      "|-0.35961459244144967|\n",
      "| -0.7359717752958044|\n",
      "|-0.30842335391405723|\n",
      "| -0.7722726367062537|\n",
      "| -0.3493557842750053|\n",
      "| -0.4483736687291667|\n",
      "| -0.8236446082029221|\n",
      "| -0.7976553154273766|\n",
      "| -0.3346202882235235|\n",
      "+--------------------+\n",
      "only showing top 20 rows\n",
      "\n"
     ]
    }
   ],
   "source": [
    "p = model.stages[-1].summary\n",
    "\n",
    "print(\"Coefficient Standard Errors: \" + str(p.coefficientStandardErrors))\n",
    "print(\"T Values: \" + str(p.tValues))\n",
    "print(\"P Values: \" + str(p.pValues))\n",
    "print(\"Dispersion: \" + str(p.dispersion))\n",
    "print(\"Null Deviance: \" + str(p.nullDeviance))\n",
    "print(\"Residual Degree Of Freedom Null: \" + str(p.residualDegreeOfFreedomNull))\n",
    "print(\"Deviance: \" + str(p.deviance))\n",
    "print(\"Residual Degree Of Freedom: \" + str(p.residualDegreeOfFreedom))\n",
    "print(\"AIC: \" + str(p.aic))\n",
    "print(\"Deviance Residuals: \")\n",
    "p.residuals().show()"
   ]
  },
  {
   "cell_type": "code",
   "execution_count": 46,
   "metadata": {
    "collapsed": false
   },
   "outputs": [
    {
     "ename": "SyntaxError",
     "evalue": "invalid syntax (<ipython-input-46-f97013934ad1>, line 1)",
     "output_type": "error",
     "traceback": [
      "\u001b[0;36m  File \u001b[0;32m\"<ipython-input-46-f97013934ad1>\"\u001b[0;36m, line \u001b[0;32m1\u001b[0m\n\u001b[0;31m    summary = {\"Labels\":imputedDf.columns[3:,\"coefficient Std Err\":p.coefficientStandardErrors,\"T Values\":p.tValues,\"P Values\":p.pValues}\u001b[0m\n\u001b[0m                                                                                                                                        ^\u001b[0m\n\u001b[0;31mSyntaxError\u001b[0m\u001b[0;31m:\u001b[0m invalid syntax\n"
     ]
    }
   ],
   "source": [
    "summary = {\"Labels\":cols,\"coefficient Std Err\":p.coefficientStandardErrors,\"T Values\":p.tValues,\"P Values\":p.pValues}"
   ]
  },
  {
   "cell_type": "code",
   "execution_count": null,
   "metadata": {
    "collapsed": false,
    "scrolled": true
   },
   "outputs": [],
   "source": [
    "pd.DataFrame(summary,columns=[\"Labels\",\"coefficient Std Err\",\"T Values\",\"P Values\"])\n",
    "\n"
   ]
  },
  {
   "cell_type": "code",
   "execution_count": 4,
   "metadata": {
    "collapsed": false
   },
   "outputs": [
    {
     "name": "stdout",
     "output_type": "stream",
     "text": [
      "+-------+-------------------+------------------+------------------+------------------+-----------------+-----------------+------------------+------------------+-----------------+------------------+------------------+------------------+------------------+------------------+------------------+------------------+------------------+------------------+-----------------+-----------------+-----------------+------------------+------------------+------------------+------------------+------------------+------------------+------------------+-----------------+------------------+------------------+-----------------+------------------+------------------+-------------------+-----------------+------------------+-----------------+-------------------+------------------+------------------+------------------+-------------------+\n",
      "|summary|          cvrNummer|             label|       AarsVaerk_1|       AarsVaerk_2|      AarsVaerk_3|      AarsVaerk_4|       AarsVaerk_5|       AarsVaerk_6|      AarsVaerk_7|       AarsVaerk_8|       AarsVaerk_9|      AarsVaerk_10|      AarsVaerk_11|      AarsVaerk_12|      AarsVaerk_13|      AarsVaerk_14|      AarsVaerk_15|          medArb_1|         medArb_2|         medArb_3|         medArb_4|          medArb_5|          medArb_6|          medArb_7|          medArb_8|          medArb_9|         medArb_10|         medArb_11|        medArb_12|         medArb_13|         medArb_14|        medArb_15|       avgVarighed| totalAabneEnheder| totalLukketEnheder|    vaerdiSlope_1|     vaerdiSlope_2|    vaerdiSlope_3|      vaerdiSlope_4|     vaerdiSlope_5|     vaerdiSlope_6|     vaerdiSlope_7|   reklamebeskyttet|\n",
      "+-------+-------------------+------------------+------------------+------------------+-----------------+-----------------+------------------+------------------+-----------------+------------------+------------------+------------------+------------------+------------------+------------------+------------------+------------------+------------------+-----------------+-----------------+-----------------+------------------+------------------+------------------+------------------+------------------+------------------+------------------+-----------------+------------------+------------------+-----------------+------------------+------------------+-------------------+-----------------+------------------+-----------------+-------------------+------------------+------------------+------------------+-------------------+\n",
      "|   mean|2.992587977176892E7|0.6770318443681625| 4.963124592938926| 6.599220488736471|7.883416689601503|9.083146093176817| 9.771213165424054|10.298917308714694|10.77020146114678|11.333662682729393|11.979418607991267|12.565540744720142|13.190747344984533|13.685712327515306|14.092008168822328|15.306301524961965|15.918722786647315| 5.503519210136332|8.213265810368465|9.818617076804813|11.16323711482025|12.375860604668324|12.991983190015274|13.533087125405036|13.999154802152278|14.809654439433546|15.498606587650674| 16.10517604870648|16.86322306497304|17.443267528931244|18.770017337154584|19.24664643532568|3104.0394283223163|1.1975634543320737|0.42037334776466445|9367.222088225697|14773.935940526042|37270.54804289701|  534722.7367923224| 69479.75111113006| 79309.96883183606|246815.61845150983|0.05565606446274231|\n",
      "| stddev|1.595872029695645E7|0.4815407404508707|28.219409782015937|31.349174803319965|36.38636236195736|40.84287153372559|43.053166612742295| 43.50716762822306|44.69115651768418| 46.24885171030284| 48.03721081702004|49.663482624596746|   50.952745810432|51.757992157941516| 51.79592907581495|57.952550432313735|59.896979275308205|31.469466071930402| 35.7271436211818|40.94583736584511| 45.5828092120186| 48.68024770176678| 49.50427185113245|50.816539411344706| 52.01619572491007|54.732773025784745|  56.2466055958348|56.478429021321915|58.18250553629226| 59.22942233650709| 64.22850620145455|64.30084551221002| 2826.832782887831| 4.297482547820878|  2.316930888416194|1104747.513966895|485532.34538503713|947528.7880333586|4.535843433554792E7|1192985.3794908465|1020811.2995945786| 4224380.725125994|0.22925669525652828|\n",
      "+-------+-------------------+------------------+------------------+------------------+-----------------+-----------------+------------------+------------------+-----------------+------------------+------------------+------------------+------------------+------------------+------------------+------------------+------------------+------------------+-----------------+-----------------+-----------------+------------------+------------------+------------------+------------------+------------------+------------------+------------------+-----------------+------------------+------------------+-----------------+------------------+------------------+-------------------+-----------------+------------------+-----------------+-------------------+------------------+------------------+------------------+-------------------+\n",
      "\n"
     ]
    }
   ],
   "source": [
    "#check mean and stddev\n",
    "descriptionCVR.filter((F.col(\"summary\") ==\"mean\") | (F.col(\"summary\") ==\"stddev\")).show()"
   ]
  },
  {
   "cell_type": "code",
   "execution_count": 5,
   "metadata": {
    "collapsed": false
   },
   "outputs": [
    {
     "name": "stdout",
     "output_type": "stream",
     "text": [
      "+---------+--------------------+\n",
      "|cvrNummer|                navn|\n",
      "+---------+--------------------+\n",
      "| 10000009|              YELLOW|\n",
      "| 10000025|WATERFRONT CONNEC...|\n",
      "+---------+--------------------+\n",
      "only showing top 2 rows\n",
      "\n"
     ]
    }
   ],
   "source": [
    "windowSpecRank =(Window.partitionBy(F.col(\"cvrNummer\"))).orderBy(F.col(\"gyldigFra\").desc())\n",
    "\n",
    "groupCols = [\"cvrNummer\",\"vaerdi\"]\n",
    "\n",
    "companyNameDf = (sqlContext\n",
    "                 .read\n",
    "                 .parquet(\"/home/svanhmic/workspace/Python/Erhvervs/data/cdata/\"+\"companyCvrData\")\n",
    "                 .withColumn(colName=\"rank\",col=F.rank().over(windowSpecRank))\n",
    "                 .filter((F.col(\"rank\")==1) & (F.col(\"sekvensnr\")==0))\n",
    "                 .select([F.col(i) for i in groupCols])\n",
    "                 .withColumnRenamed(existing=\"vaerdi\",new=\"navn\")\n",
    "                 .orderBy(F.col(\"cvrNummer\"))\n",
    "                 .cache()\n",
    "                )\n",
    "companyNameDf.show(2)"
   ]
  },
  {
   "cell_type": "code",
   "execution_count": 6,
   "metadata": {
    "collapsed": false,
    "scrolled": false
   },
   "outputs": [
    {
     "name": "stdout",
     "output_type": "stream",
     "text": [
      "+--------------------+---------+-----+--------------------+--------------------+\n",
      "|                navn|cvrNummer|label|              status|            features|\n",
      "+--------------------+---------+-----+--------------------+--------------------+\n",
      "|   EMPAKA KARTONNAGE| 10016533|    1|            [NORMAL]|[0.12721405809989...|\n",
      "|      DET GAMLE GODS| 10016606|    1|            [NORMAL]|[-0.1483813281958...|\n",
      "|               DIXEN| 10018064|    0|[OPLØST EFTER KON...|[-0.1483813281958...|\n",
      "|        TRELBORG VVS| 10063760|    1|            [NORMAL]|[-0.1483813281958...|\n",
      "|            CYBERSUN| 10065917|    0|[OPLØST EFTER KON...|[-0.0258944898421...|\n",
      "|                HME2| 10080207|    1|            [NORMAL]|[-0.1483813281958...|\n",
      "|TØMRERFIRMAET HER...| 10082528|    1|            [NORMAL]|[-0.1177596186074...|\n",
      "|    MØRKHOLT VINDUER| 10096227|    1|            [NORMAL]|[-0.1483813281958...|\n",
      "|                KISØ| 10108993|    1|            [NORMAL]|[-0.1177596186074...|\n",
      "|               C-CUT| 10117267|    1|[OPLØST EFTER ERK...|[-0.1483813281958...|\n",
      "|          HLS INVEST| 10120829|    0|[OPLØST EFTER KON...|[-0.1483813281958...|\n",
      "|       ELKA RAINWEAR| 10138698|    1|            [NORMAL]|[0.12721405809989...|\n",
      "|              BØMLER| 10142539|    0|[OPLØST EFTER KON...|[-0.1483813281958...|\n",
      "|     NORDISKE MEDIER| 10150825|    1|            [NORMAL]|[-0.1177596186074...|\n",
      "|  SBR POUL-ERIK KJÆR| 10178509|    0|[OPLØST EFTER KON...|[-0.1483813281958...|\n",
      "|         SCAN ORIENT| 10228476|    1|[TVANGSOPLØST, UN...|[-0.1483813281958...|\n",
      "|           AQUA-NORD| 10310989|    1|[OPLØST EFTER FRI...|[-0.1177596186074...|\n",
      "|        IKAST ETIKET| 10402980|    1|            [NORMAL]|[-0.1177596186074...|\n",
      "|BRDR. JØRGENSEN C...| 10518431|    1|            [NORMAL]|[0.43343115398404...|\n",
      "|         AXEL MADSEN| 10553490|    1|            [NORMAL]|[-0.0258944898421...|\n",
      "+--------------------+---------+-----+--------------------+--------------------+\n",
      "only showing top 20 rows\n",
      "\n"
     ]
    }
   ],
   "source": [
    "#take ln(x+1) of features\n",
    "\n",
    "labelCols = [\"cvrNummer\",\"label\",\"status\"]\n",
    "logFeatCols = [i for i in renamedDf.columns if i not in labelCols]\n",
    "#print(logFeatCols)\n",
    "mininum = descriptionCVR.filter(F.col(\"summary\")==\"min\").collect()[0]\n",
    "#print(mininum)\n",
    "\n",
    "\n",
    "logDf = (renamedDf\n",
    "         .select([F.col(\"cvrNummer\"),F.col(\"label\")]+[F.log1p(F.col(i)-F.lit(mininum[i])).alias(i) for i in logFeatCols])\n",
    "         .na\n",
    "         .fill(0.0,logFeatCols)\n",
    "         \n",
    "        )\n",
    "#logDf.show(2)\n",
    "\n",
    "\n",
    "#First convert features to vetor\n",
    "toDenseUDf = F.udf(lambda x: Vectors.dense(x.toArray()),VectorUDT())\n",
    "vectorizer = VectorAssembler(inputCols=logFeatCols,outputCol=\"features\")\n",
    "\n",
    "rawVectorDataDf = (vectorizer.transform(renamedDf                                                                               \n",
    "                                        .join(companyNameDf,(companyNameDf[\"cvrNummer\"]==renamedDf[\"cvrNummer\"]),\"inner\")\n",
    "                                        .drop(companyNameDf[\"cvrNummer\"])\n",
    "                                        #.select(*logColsSelected) \n",
    "                                        .na\n",
    "                                        .fill(0.0,logFeatCols)\n",
    "                                        .distinct()\n",
    "                                       )\n",
    "                   .select([\"navn\"]+labelCols+[toDenseUDf(vectorizer.getOutputCol()).alias(vectorizer.getOutputCol())])\n",
    "                  )\n",
    "\n",
    "standardScale = StandardScaler(withMean=True,withStd=True,inputCol=vectorizer.getOutputCol(),outputCol=\"scaledFeatures\")\n",
    "standardScaleModel = standardScale.fit(rawVectorDataDf)\n",
    "scaledFeaturesDf = (standardScaleModel\n",
    "                    .transform(rawVectorDataDf)\n",
    "                    .drop(\"features\")\n",
    "                    .withColumnRenamed(existing=\"scaledFeatures\",new=\"features\")\n",
    "                   )\n",
    "\n",
    "scaledFeaturesDf.show()"
   ]
  },
  {
   "cell_type": "code",
   "execution_count": 14,
   "metadata": {
    "collapsed": false
   },
   "outputs": [
    {
     "name": "stdout",
     "output_type": "stream",
     "text": [
      "+-----+-----+\n",
      "|label|count|\n",
      "+-----+-----+\n",
      "|    0| 6078|\n",
      "|    1|25756|\n",
      "+-----+-----+\n",
      "\n",
      "+-----+------+\n",
      "|label| count|\n",
      "+-----+------+\n",
      "|    0| 24465|\n",
      "|    1|103472|\n",
      "+-----+------+\n",
      "\n",
      "Number of data points: 160648\n",
      "Number of data points train: 127937\n",
      "Number of data points test: 31834\n"
     ]
    }
   ],
   "source": [
    "#put them into a feature vecto\n",
    "vectorizedTestDf = scaledFeaturesDf.filter(F.col(\"label\") <= 1).sampleBy(\"label\", fractions={0: 0.2, 1: 0.2}, seed=42)\n",
    "vectorizedTestDf.groupBy(\"label\").count().show()\n",
    "\n",
    "scaledCvrDf = scaledFeaturesDf.select(F.col(\"cvrNummer\"))\n",
    "cvrTestDf = vectorizedTestDf.select(\"cvrNummer\")\n",
    "cvrTrainDf = scaledCvrDf.subtract(cvrTestDf) #take the other partion as training set\n",
    "\n",
    "vectorizedTrainDf = (scaledFeaturesDf\n",
    "                     .filter(F.col(\"label\") <= 1)\n",
    "                     .join(cvrTrainDf,(scaledFeaturesDf[\"cvrNummer\"] == cvrTrainDf[\"cvrNummer\"]),\"inner\")\n",
    "                     .drop(cvrTrainDf[\"cvrNummer\"])\n",
    "                    )\n",
    "vectorizedTrainDf.groupBy(\"label\").count().show()\n",
    "print(\"Number of data points: \"+str(scaledFeaturesDf.count()))\n",
    "print(\"Number of data points train: \"+str(vectorizedTrainDf.select(\"cvrNummer\").count()))\n",
    "print(\"Number of data points test: \"+str(vectorizedTestDf.select(\"cvrNummer\").count()))\n",
    "#vectorizedTrainDf.printSchema()\n",
    "#print(vectorizedTrainDf.first())"
   ]
  },
  {
   "cell_type": "code",
   "execution_count": 15,
   "metadata": {
    "collapsed": false,
    "scrolled": true
   },
   "outputs": [
    {
     "name": "stdout",
     "output_type": "stream",
     "text": [
      "+--------------------+-----+--------------------+--------------------+---------+\n",
      "|                navn|label|              status|            features|cvrNummer|\n",
      "+--------------------+-----+--------------------+--------------------+---------+\n",
      "|SKYTTENS HANDEL O...|    1|[OPLØST EFTER FUS...|[-0.1483813281958...| 10019052|\n",
      "|            DIKI.NET|    0|[OPLØST EFTER KON...|[-0.1483813281958...| 10026113|\n",
      "|                CTEK|    1|[OPLØST EFTER FUS...|[-0.1177596186074...| 10040523|\n",
      "|      VG ENTREPRENØR|    1|            [NORMAL]|[0.43343115398404...| 10057426|\n",
      "|NORDBYENS OLIEFYR...|    1|            [NORMAL]|[-0.1483813281958...| 10089514|\n",
      "|EXPRESS LABELLING...|    1|[TVANGSOPLØST, UN...|[-0.1483813281958...| 10091713|\n",
      "|PSYKOLOGERNE VED ...|    1|[OPLØST EFTER FUS...|[-0.1790030377842...| 10108624|\n",
      "|         RAH HOLDING|    1|            [NORMAL]|[-0.1483813281958...| 10127351|\n",
      "|AMAGER BROLÆGGERF...|    0|[OPLØST EFTER KON...|[-0.1177596186074...| 10128587|\n",
      "|        ART OF JEWEL|    1|            [NORMAL]|[-0.1177596186074...| 10145619|\n",
      "|    FRONT FREDERICIA|    1|[OPLØST EFTER FUS...|[0.12721405809989...| 10156521|\n",
      "|M.L.R. AF 16. APR...|    1|[OPLØST EFTER ERK...|[-0.1177596186074...| 10200288|\n",
      "| FOLKE LARSENS EFTF.|    1|            [NORMAL]|[-0.0258944898421...| 10351235|\n",
      "|               TAORA|    1|[OPLØST EFTER FUS...|[-0.1790030377842...| 10366380|\n",
      "|     CH AF 24/8 2000|    1|[OPLØST EFTER FRI...|[0.12721405809989...| 10412986|\n",
      "|            SIBA-ØST|    1|[OPLØST EFTER FRI...|[-0.1483813281958...| 10481171|\n",
      "|         STEVNS TRYK|    1|[OPLØST EFTER ERK...|[-0.1483813281958...| 10577675|\n",
      "|  PERSPEKTIV HOLDING|    1|            [NORMAL]|[-0.1483813281958...| 10606683|\n",
      "|     INTRUM JUSTITIA|    1|            [NORMAL]|[1.35208244163648...| 10613779|\n",
      "|         LOBO MØBLER|    1|            [NORMAL]|[-0.1177596186074...| 10629098|\n",
      "+--------------------+-----+--------------------+--------------------+---------+\n",
      "only showing top 20 rows\n",
      "\n"
     ]
    }
   ],
   "source": [
    "vectorizedTrainDf.show()"
   ]
  },
  {
   "cell_type": "code",
   "execution_count": 16,
   "metadata": {
    "collapsed": false
   },
   "outputs": [
    {
     "data": {
      "text/plain": [
       "0.8090805096973791"
      ]
     },
     "execution_count": 16,
     "metadata": {},
     "output_type": "execute_result"
    }
   ],
   "source": [
    "#Train the logistic regressionmodel\n",
    "lr = LogisticRegression()\n",
    "grid = (ParamGridBuilder()\n",
    "        .baseOn({lr.predictionCol:\"prediction\"})\n",
    "        .baseOn({lr.rawPredictionCol:\"rawPrediction\"})\n",
    "        .baseOn({lr.probabilityCol:\"probability\"})\n",
    "        .baseOn({lr.labelCol:\"label\"})\n",
    "        .baseOn({lr.featuresCol:\"features\"})\n",
    "        .addGrid(param=lr.elasticNetParam,values=[0.1,1.0])\n",
    "        .addGrid(param=lr.getMaxIter,values=[10])\n",
    "        .build()\n",
    "       )\n",
    "evaluate = BinaryClassificationEvaluator(rawPredictionCol=\"rawPrediction\")\n",
    "crossVal = CrossValidator(estimator=lr,estimatorParamMaps=grid,evaluator=evaluate,numFolds=10)\n",
    "\n",
    "crossValModel = crossVal.fit(dataset=vectorizedTrainDf)\n",
    "evaluate.evaluate(crossValModel.transform(vectorizedTestDf))\n",
    "#coef = lrModel.coefficients"
   ]
  },
  {
   "cell_type": "code",
   "execution_count": 17,
   "metadata": {
    "collapsed": false
   },
   "outputs": [],
   "source": [
    "bestModel = crossValModel.bestModel"
   ]
  },
  {
   "cell_type": "code",
   "execution_count": 18,
   "metadata": {
    "collapsed": true
   },
   "outputs": [],
   "source": [
    "#test the values\n",
    "result = bestModel.transform(vectorizedTestDf)"
   ]
  },
  {
   "cell_type": "code",
   "execution_count": 12,
   "metadata": {
    "collapsed": false
   },
   "outputs": [],
   "source": [
    "#"
   ]
  },
  {
   "cell_type": "code",
   "execution_count": 19,
   "metadata": {
    "collapsed": false
   },
   "outputs": [
    {
     "name": "stdout",
     "output_type": "stream",
     "text": [
      "+-----+-----+\n",
      "|cases|count|\n",
      "+-----+-----+\n",
      "|   TP|25710|\n",
      "|   TN|   36|\n",
      "|   FN|   46|\n",
      "|   FP| 6042|\n",
      "+-----+-----+\n",
      "\n"
     ]
    }
   ],
   "source": [
    "#result.orderBy(\"prediction\").show(100)\n",
    "confCols = [F.col(i) for i in [\"TP\",\"TN\",\"FP\",\"FN\"]]\n",
    "\n",
    "\n",
    "csCols = [F.when((F.col(\"label\")==1) & (F.col(\"difference\") == 0),\"TP\")\n",
    "          ,F.when((F.col(\"label\")==0) & (F.col(\"difference\") == 0),\"TN\")\n",
    "          ,F.when(F.col(\"difference\") == 1,\"FN\")\n",
    "          ,F.when(F.col(\"difference\") == -1,\"FP\")\n",
    "         ]\n",
    "\n",
    "confusionDf = result.select(F.col(\"label\"),F.col(\"prediction\"),(F.col(\"label\")-F.col(\"prediction\")).alias(\"difference\"))\n",
    "(confusionDf\n",
    " .select(F.coalesce(*csCols).alias(\"cases\")  \n",
    "         #,.otherwise(0).alias(\"FP\")\n",
    "         #,.otherwise(0).alias(\"FN\")\n",
    "        )\n",
    " .groupBy(\"cases\").count()\n",
    ").show()\n",
    "\n",
    " "
   ]
  },
  {
   "cell_type": "code",
   "execution_count": 17,
   "metadata": {
    "collapsed": false
   },
   "outputs": [
    {
     "data": {
      "text/plain": [
       "True"
      ]
     },
     "execution_count": 17,
     "metadata": {},
     "output_type": "execute_result"
    }
   ],
   "source": [
    "crossValModel.bestModel.hasSummary"
   ]
  },
  {
   "cell_type": "code",
   "execution_count": 20,
   "metadata": {
    "collapsed": false
   },
   "outputs": [],
   "source": [
    "summary = crossValModel.bestModel.summary"
   ]
  },
  {
   "cell_type": "code",
   "execution_count": 24,
   "metadata": {
    "collapsed": false
   },
   "outputs": [
    {
     "name": "stdout",
     "output_type": "stream",
     "text": [
      "+--------------------+-----+--------------------+--------------------+---------+--------------------+--------------------+----------+\n",
      "|                navn|label|              status|            features|cvrNummer|       rawPrediction|         probability|prediction|\n",
      "+--------------------+-----+--------------------+--------------------+---------+--------------------+--------------------+----------+\n",
      "|SKYTTENS HANDEL O...|    1|[OPLØST EFTER FUS...|[-0.1483813281958...| 10019052|[-0.1436615979228...|[0.46414624375980...|       1.0|\n",
      "|            DIKI.NET|    0|[OPLØST EFTER KON...|[-0.1483813281958...| 10026113|[-0.2470744652013...|[0.43854370342953...|       1.0|\n",
      "|                CTEK|    1|[OPLØST EFTER FUS...|[-0.1177596186074...| 10040523|[-0.6803097893868...|[0.33619216432178...|       1.0|\n",
      "|      VG ENTREPRENØR|    1|            [NORMAL]|[0.43343115398404...| 10057426|[-3.7227933151943...|[0.02359613625108...|       1.0|\n",
      "|NORDBYENS OLIEFYR...|    1|            [NORMAL]|[-0.1483813281958...| 10089514|[-2.8801667669252...|[0.05314274429565...|       1.0|\n",
      "|EXPRESS LABELLING...|    1|[TVANGSOPLØST, UN...|[-0.1483813281958...| 10091713|[-0.1715003567869...|[0.45722969080531...|       1.0|\n",
      "|PSYKOLOGERNE VED ...|    1|[OPLØST EFTER FUS...|[-0.1790030377842...| 10108624|[-0.6485674484631...|[0.34331243211346...|       1.0|\n",
      "|         RAH HOLDING|    1|            [NORMAL]|[-0.1483813281958...| 10127351|[-2.8804422421872...|[0.05312888447426...|       1.0|\n",
      "|AMAGER BROLÆGGERF...|    0|[OPLØST EFTER KON...|[-0.1177596186074...| 10128587|[-1.1369952588026...|[0.24287246215155...|       1.0|\n",
      "|        ART OF JEWEL|    1|            [NORMAL]|[-0.1177596186074...| 10145619|[-6.3724232788323...|[0.00170510286780...|       1.0|\n",
      "|    FRONT FREDERICIA|    1|[OPLØST EFTER FUS...|[0.12721405809989...| 10156521|[-0.3793527083137...|[0.40628302543127...|       1.0|\n",
      "|M.L.R. AF 16. APR...|    1|[OPLØST EFTER ERK...|[-0.1177596186074...| 10200288|[-1.4990290785923...|[0.18257037794247...|       1.0|\n",
      "| FOLKE LARSENS EFTF.|    1|            [NORMAL]|[-0.0258944898421...| 10351235|[-3.6327245272056...|[0.02576276706084...|       1.0|\n",
      "|               TAORA|    1|[OPLØST EFTER FUS...|[-0.1790030377842...| 10366380|[-0.9451119361175...|[0.27986891278054...|       1.0|\n",
      "|     CH AF 24/8 2000|    1|[OPLØST EFTER FRI...|[0.12721405809989...| 10412986|[-0.5220910962423...|[0.37236339559707...|       1.0|\n",
      "|            SIBA-ØST|    1|[OPLØST EFTER FRI...|[-0.1483813281958...| 10481171|[-0.6766429736895...|[0.33701096745397...|       1.0|\n",
      "|         STEVNS TRYK|    1|[OPLØST EFTER ERK...|[-0.1483813281958...| 10577675|[-0.9080179077065...|[0.28740560581535...|       1.0|\n",
      "|  PERSPEKTIV HOLDING|    1|            [NORMAL]|[-0.1483813281958...| 10606683|[-4.1379135688213...|[0.01570550931538...|       1.0|\n",
      "|     INTRUM JUSTITIA|    1|            [NORMAL]|[1.35208244163648...| 10613779|[-2.8641158595488...|[0.05395622053629...|       1.0|\n",
      "|         LOBO MØBLER|    1|            [NORMAL]|[-0.1177596186074...| 10629098|[-3.4536192522129...|[0.03066110863007...|       1.0|\n",
      "+--------------------+-----+--------------------+--------------------+---------+--------------------+--------------------+----------+\n",
      "only showing top 20 rows\n",
      "\n"
     ]
    }
   ],
   "source": [
    "summary.predictions.show()"
   ]
  },
  {
   "cell_type": "code",
   "execution_count": null,
   "metadata": {
    "collapsed": false
   },
   "outputs": [],
   "source": []
  },
  {
   "cell_type": "code",
   "execution_count": null,
   "metadata": {
    "collapsed": true
   },
   "outputs": [],
   "source": []
  }
 ],
 "metadata": {
  "kernelspec": {
   "display_name": "Python 3",
   "language": "python",
   "name": "python3"
  },
  "language_info": {
   "codemirror_mode": {
    "name": "ipython",
    "version": 3
   },
   "file_extension": ".py",
   "mimetype": "text/x-python",
   "name": "python",
   "nbconvert_exporter": "python",
   "pygments_lexer": "ipython3",
   "version": "3.5.2"
  }
 },
 "nbformat": 4,
 "nbformat_minor": 2
}
