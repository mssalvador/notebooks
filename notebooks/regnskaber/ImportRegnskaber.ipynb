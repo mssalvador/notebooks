{
 "cells": [
  {
   "cell_type": "code",
   "execution_count": 1,
   "metadata": {
    "collapsed": true
   },
   "outputs": [],
   "source": [
    "#import the regnskaber here\n",
    "\n",
    "from pyspark.sql import SQLContext\n",
    "from pyspark.sql import functions as F\n",
    "from pyspark.sql.types import StructType,StructField,StringType,MapType,IntegerType,ArrayType,DateType,DoubleType\n",
    "import numpy as np\n",
    "import re\n",
    "import ast\n",
    "import sys\n",
    "import operator\n",
    "import matplotlib.pyplot as plt\n",
    "from datetime import datetime\n",
    "\n",
    "SQLContext.newSession(sqlContext)\n",
    "cleanCsvsPath = \"/home/svanhmic/workspace/Python/Erhvervs/data/regnskabsdata/sparkdata/csv\"\n",
    "cleanParquePath = \"/home/svanhmic/workspace/Python/Erhvervs/data/regnskabsdata/sparkdata/parquet\""
   ]
  },
  {
   "cell_type": "code",
   "execution_count": null,
   "metadata": {
    "collapsed": true
   },
   "outputs": [],
   "source": [
    "df1 = sqlContext.read.parquet(cleanParquePath+\"/regnskaber1.parquet\")"
   ]
  },
  {
   "cell_type": "code",
   "execution_count": 4,
   "metadata": {
    "collapsed": false,
    "scrolled": false
   },
   "outputs": [
    {
     "name": "stdout",
     "output_type": "stream",
     "text": [
      "+--------------------+----+----+----+-------+----------+----------------+----------+-----------+--------------------+----------+--------------+\n",
      "|                Name| Dec|Prec|Lang|unitRef|contextRef|EntityIdentifier|     Start|End_Instant|               Value|Dimensions|originalLength|\n",
      "+--------------------+----+----+----+-------+----------+----------------+----------+-----------+--------------------+----------+--------------+\n",
      "|gsd:ReportingPeri...|null|null|null|   null|  16993085|        16993085|2013-10-01| 2014-09-30|          2013-10-01|        []|            10|\n",
      "|gsd:ReportingPeri...|null|null|null|   null|  16993085|        16993085|2013-10-01| 2014-09-30|          2014-09-30|        []|            10|\n",
      "|mrv:DescriptionOf...|null|null|  da|   null|  16993085|        16993085|2013-10-01| 2014-09-30|\"Siemens er en in...|        []|         27116|\n",
      "|sob:StatementByEx...|null|null|  da|   null|  16993085|        16993085|2013-10-01| 2014-09-30|\"B.1 Ledelsens re...|        []|            39|\n",
      "|sob:Identificatio...|null|null|  da|   null|  16993085|        16993085|2013-10-01| 2014-09-30|\"Bestyrelse og di...|        []|           582|\n",
      "|sob:ConfirmationT...|null|null|  da|   null|  16993085|        16993085|2013-10-01| 2014-09-30|\"Ledelsesberetnin...|        []|           194|\n",
      "|sob:PlaceOfSignat...|null|null|  da|   null|  16993085|        16993085|2013-10-01| 2014-09-30|            Ballerup|        []|             8|\n",
      "|sob:DateOfApprova...|null|null|null|   null|  16993085|        16993085|2013-10-01| 2014-09-30|          2014-12-08|        []|            10|\n",
      "|arr:IndependentAu...|null|null|  da|   null|  16993085|        16993085|2013-10-01| 2014-09-30|\"B.2 Den uafh&#23...|        []|            49|\n",
      "|arr:AddresseeOfAu...|null|null|  da|   null|  16993085|        16993085|2013-10-01| 2014-09-30|\"Til aktion&#230;...|        []|            35|\n",
      "+--------------------+----+----+----+-------+----------+----------------+----------+-----------+--------------------+----------+--------------+\n",
      "only showing top 10 rows\n",
      "\n"
     ]
    }
   ],
   "source": [
    "df1.show(10)"
   ]
  },
  {
   "cell_type": "code",
   "execution_count": null,
   "metadata": {
    "collapsed": true
   },
   "outputs": [],
   "source": [
    "df2 = sqlContext.read.parquet(cleanParquePath+\"/regnskaber2.parquet\")"
   ]
  },
  {
   "cell_type": "code",
   "execution_count": 5,
   "metadata": {
    "collapsed": false
   },
   "outputs": [
    {
     "name": "stdout",
     "output_type": "stream",
     "text": [
      "+--------------------+----+----+----+-------+----------+----------------+----------+-----------+--------------------+----------+--------------+\n",
      "|                Name| Dec|Prec|Lang|unitRef|contextRef|EntityIdentifier|     Start|End_Instant|               Value|Dimensions|originalLength|\n",
      "+--------------------+----+----+----+-------+----------+----------------+----------+-----------+--------------------+----------+--------------+\n",
      "|gsd:InformationOn...|null|null|  da|   null|  36453443|        36453443|2014-12-02| 2015-12-31|     &#197;rsrapport|        []|            15|\n",
      "|gsd:DateOfGeneral...|null|null|null|   null|  36453443|        36453443|2014-12-02| 2015-12-31|          2016-06-07|        []|            10|\n",
      "|gsd:NameAndSurnam...|null|null|  da|   null|  36453443|        36453443|2014-12-02| 2015-12-31|        Michael Bech|        []|            12|\n",
      "|gsd:NameOfReporti...|null|null|  da|   null|  36453443|        36453443|2014-12-02| 2015-12-31|M.S. EJENDOMME 20...|        []|            23|\n",
      "|gsd:AddressOfRepo...|null|null|  da|   null|  36453443|        36453443|2014-12-02| 2015-12-31|Tj&#248;rneg&#229...|        []|            24|\n",
      "|gsd:AddressOfRepo...|null|null|  da|   null|  36453443|        36453443|2014-12-02| 2015-12-31|                  16|        []|             2|\n",
      "|gsd:AddressOfRepo...|null|null|  da|   null|  36453443|        36453443|2014-12-02| 2015-12-31|                2820|        []|             4|\n",
      "|gsd:AddressOfRepo...|null|null|  da|   null|  36453443|        36453443|2014-12-02| 2015-12-31|            Gentofte|        []|             8|\n",
      "|gsd:TelephoneNumb...|null|null|  da|   null|  36453443|        36453443|2014-12-02| 2015-12-31|            70215353|        []|             8|\n",
      "|gsd:Identificatio...|null|null|  da|   null|  36453443|        36453443|2014-12-02| 2015-12-31|            36453443|        []|             8|\n",
      "+--------------------+----+----+----+-------+----------+----------------+----------+-----------+--------------------+----------+--------------+\n",
      "only showing top 10 rows\n",
      "\n"
     ]
    }
   ],
   "source": [
    "df2.show(10)"
   ]
  },
  {
   "cell_type": "code",
   "execution_count": 6,
   "metadata": {
    "collapsed": false
   },
   "outputs": [
    {
     "name": "stdout",
     "output_type": "stream",
     "text": [
      "+--------------------+----+----+----+-------+----------+----------------+----------+-----------+--------------------+----------+--------------+\n",
      "|                Name| Dec|Prec|Lang|unitRef|contextRef|EntityIdentifier|     Start|End_Instant|               Value|Dimensions|originalLength|\n",
      "+--------------------+----+----+----+-------+----------+----------------+----------+-----------+--------------------+----------+--------------+\n",
      "|fsa:ClassOfReport...|null|null|null|   null|  20438401|        20438401|2013-01-01| 2013-12-31|Regnskabsklasse C...|        []|            40|\n",
      "|gsd:ReportingPeri...|null|null|null|   null|  20438401|        20438401|2013-01-01| 2013-12-31|          2013-01-01|        []|            10|\n",
      "|gsd:ReportingPeri...|null|null|null|   null|  20438401|        20438401|2013-01-01| 2013-12-31|          2013-12-31|        []|            10|\n",
      "|         fsa:Revenue|  -3|null|null|    DKK|  20438401|        20438401|2013-01-01| 2013-12-31|           7,500,000|        []|             9|\n",
      "|     fsa:CostOfSales|  -3|null|null|    DKK|  20438401|        20438401|2013-01-01| 2013-12-31|            -652,000|        []|             8|\n",
      "|fsa:OtherOperatin...|  -3|null|null|    DKK|  20438401|        20438401|2013-01-01| 2013-12-31|              97,000|        []|             6|\n",
      "|fsa:OtherExternal...|  -3|null|null|    DKK|  20438401|        20438401|2013-01-01| 2013-12-31|             466,000|        []|             7|\n",
      "| fsa:GrossProfitLoss|  -3|null|null|    DKK|  20438401|        20438401|2013-01-01| 2013-12-31|           7,783,000|        []|             9|\n",
      "|fsa:EmployeeBenef...|  -3|null|null|    DKK|  20438401|        20438401|2013-01-01| 2013-12-31|            -200,000|        []|             8|\n",
      "|fsa:DepreciationA...|  -3|null|null|    DKK|  20438401|        20438401|2013-01-01| 2013-12-31|               3,000|        []|             5|\n",
      "+--------------------+----+----+----+-------+----------+----------------+----------+-----------+--------------------+----------+--------------+\n",
      "only showing top 10 rows\n",
      "\n"
     ]
    }
   ],
   "source": [
    "df3 = sqlContext.read.parquet(cleanParquePath+\"/regnskaber3.parquet\")\n",
    "df3.show(10)"
   ]
  },
  {
   "cell_type": "code",
   "execution_count": 7,
   "metadata": {
    "collapsed": false
   },
   "outputs": [
    {
     "data": {
      "text/plain": [
       "64350877"
      ]
     },
     "execution_count": 7,
     "metadata": {},
     "output_type": "execute_result"
    }
   ],
   "source": [
    "dfTotal = df1.unionAll(df2)\n",
    "dfTotal.count()"
   ]
  },
  {
   "cell_type": "code",
   "execution_count": 8,
   "metadata": {
    "collapsed": false
   },
   "outputs": [],
   "source": [
    "allThreeDf = dfTotal.unionAll(df3)\n",
    "allThreeDf.count()\n",
    "\n",
    "allThreeDf.write.parquet(cleanParquePath+\"/alleregnskaber.parquet\",\"overwrite\")"
   ]
  },
  {
   "cell_type": "code",
   "execution_count": 9,
   "metadata": {
    "collapsed": false
   },
   "outputs": [],
   "source": [
    "#extract all rows with debt in them\n",
    "debtCols = allThreeDf.columns+[\"DebtNames\"]\n",
    "\n",
    "debtDf = (allThreeDf\n",
    " .select(\"*\",F.regexp_extract(\"Name\",\".*debt|Debt.*\",0).alias(\"DebtNames\"))\n",
    " .filter((F.col(\"DebtNames\") != \"\"))\n",
    ")"
   ]
  },
  {
   "cell_type": "code",
   "execution_count": 10,
   "metadata": {
    "collapsed": false
   },
   "outputs": [],
   "source": [
    "debtDf.write.parquet(cleanParquePath+\"/regnskaberDebt.parquet\",\"overwrite\")"
   ]
  },
  {
   "cell_type": "code",
   "execution_count": 11,
   "metadata": {
    "collapsed": true
   },
   "outputs": [],
   "source": [
    "groupedNamesDf = allThreeDf.groupBy(\"Name\").count()"
   ]
  },
  {
   "cell_type": "code",
   "execution_count": null,
   "metadata": {
    "collapsed": true
   },
   "outputs": [],
   "source": []
  },
  {
   "cell_type": "code",
   "execution_count": 12,
   "metadata": {
    "collapsed": false
   },
   "outputs": [
    {
     "name": "stdout",
     "output_type": "stream",
     "text": [
      "+------------------------------------------------+-------+\n",
      "|Name                                            |count  |\n",
      "+------------------------------------------------+-------+\n",
      "|fsa:ProfitLoss                                  |2483478|\n",
      "|e:Equity                                        |1887451|\n",
      "|e:ProfitLoss                                    |1435357|\n",
      "|fsa:Equity                                      |1199071|\n",
      "|fsa:Assets                                      |751870 |\n",
      "|fsa:LiabilitiesAndEquity                        |716450 |\n",
      "|fsa:ContributedCapital                          |688128 |\n",
      "|fsa:RetainedEarnings                            |679204 |\n",
      "|fsa:CurrentAssets                               |670844 |\n",
      "|fsa:LiabilitiesOtherThanProvisions              |669518 |\n",
      "|fsa:ShorttermLiabilitiesOtherThanProvisions     |651598 |\n",
      "|fsa:CashAndCashEquivalents                      |610169 |\n",
      "|fsa:ProfitLossFromOrdinaryOperatingActivities   |605220 |\n",
      "|fsa:OtherShorttermPayables                      |594051 |\n",
      "|fsa:ShorttermReceivables                        |592828 |\n",
      "|fsa:ProfitLossFromOrdinaryActivitiesBeforeTax   |584853 |\n",
      "|fsa:NoncurrentAssets                            |571860 |\n",
      "|e:OtherFinanceExpenses                          |481369 |\n",
      "|fsa:OtherFinanceIncome                          |475733 |\n",
      "|cmn:NameAndSurnameOfMemberOfExecutiveBoard      |472889 |\n",
      "|fsa:LongtermInvestmentsAndReceivables           |458075 |\n",
      "|fsa:PropertyPlantAndEquipment                   |436202 |\n",
      "|d:Equity                                        |418774 |\n",
      "|fsa:TaxExpense                                  |409291 |\n",
      "|fsa:ShorttermTradePayables                      |406535 |\n",
      "|e:Assets                                        |390372 |\n",
      "|fsa:OtherShorttermReceivables                   |388885 |\n",
      "|d:NameOfAuditFirm                               |381427 |\n",
      "|gsd:ReportingPeriodEndDate                      |378134 |\n",
      "|gsd:ReportingPeriodStartDate                    |378134 |\n",
      "|gsd:NameOfReportingEntity                       |378052 |\n",
      "|gsd:IdentificationNumberCvrOfReportingEntity    |378051 |\n",
      "|gsd:AddressOfSubmittingEnterprisePostcodeAndTown|378045 |\n",
      "|gsd:AddressOfSubmittingEnterpriseStreetAndNumber|378045 |\n",
      "|gsd:InformationOnTypeOfSubmittedReport          |378041 |\n",
      "|gsd:NameOfSubmittingEnterprise                  |378040 |\n",
      "|gsd:NameAndSurnameOfChairmanOfGeneralMeeting    |377826 |\n",
      "|fsa:ClassOfReportingEntity                      |377692 |\n",
      "|gsd:DateOfGeneralMeeting                        |375630 |\n",
      "|cmn:TypeOfAuditorAssistance                     |370356 |\n",
      "|e:LiabilitiesAndEquity                          |359932 |\n",
      "|e:ContributedCapital                            |358760 |\n",
      "|e:ShorttermLiabilitiesOtherThanProvisions       |358312 |\n",
      "|e:RetainedEarnings                              |356665 |\n",
      "|e:LiabilitiesOtherThanProvisions                |356610 |\n",
      "|fsa:OtherFinanceExpenses                        |353457 |\n",
      "|e:CurrentAssets                                 |349099 |\n",
      "|fsa:GrossProfitLoss                             |348655 |\n",
      "|e:InvestmentsGross                              |347979 |\n",
      "|sob:PlaceOfSignatureOfStatement                 |343038 |\n",
      "+------------------------------------------------+-------+\n",
      "only showing top 50 rows\n",
      "\n"
     ]
    }
   ],
   "source": [
    "groupedNamesDf.orderBy(F.col(\"count\").desc()).show(50,truncate=False)"
   ]
  },
  {
   "cell_type": "code",
   "execution_count": null,
   "metadata": {
    "collapsed": true
   },
   "outputs": [],
   "source": []
  }
 ],
 "metadata": {
  "kernelspec": {
   "display_name": "Python 3",
   "language": "python",
   "name": "python3"
  },
  "language_info": {
   "codemirror_mode": {
    "name": "ipython",
    "version": 3
   },
   "file_extension": ".py",
   "mimetype": "text/x-python",
   "name": "python",
   "nbconvert_exporter": "python",
   "pygments_lexer": "ipython3",
   "version": "3.5.2"
  }
 },
 "nbformat": 4,
 "nbformat_minor": 2
}
