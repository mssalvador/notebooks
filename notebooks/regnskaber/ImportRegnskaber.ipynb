{
 "cells": [
  {
   "cell_type": "code",
   "execution_count": 1,
   "metadata": {
    "collapsed": true
   },
   "outputs": [],
   "source": [
    "#import the regnskaber here\n",
    "\n",
    "from pyspark.sql import SQLContext\n",
    "from pyspark.sql import functions as F\n",
    "from pyspark.sql.types import StructType,StructField,StringType,MapType,IntegerType,ArrayType,DateType,DoubleType\n",
    "import numpy as np\n",
    "import re\n",
    "import ast\n",
    "import sys\n",
    "import operator\n",
    "import matplotlib.pyplot as plt\n",
    "from datetime import datetime\n",
    "\n",
    "SQLContext.newSession(sqlContext)\n",
    "cleanCsvsPath = \"/home/svanhmic/workspace/Python/Erhvervs/data/regnskabsdata/sparkdata/csv\"\n",
    "cleanParquePath = \"/home/svanhmic/workspace/Python/Erhvervs/data/regnskabsdata/sparkdata/parquet\""
   ]
  },
  {
   "cell_type": "code",
   "execution_count": 2,
   "metadata": {
    "collapsed": false,
    "scrolled": false
   },
   "outputs": [],
   "source": [
    "df1 = sqlContext.read.parquet(cleanParquePath+\"/regnskaber1.parquet\")\n",
    "#df1.show(10)"
   ]
  },
  {
   "cell_type": "code",
   "execution_count": 3,
   "metadata": {
    "collapsed": false
   },
   "outputs": [],
   "source": [
    "df2 = sqlContext.read.parquet(cleanParquePath+\"/regnskaber2.parquet\")\n",
    "#df2.show(10)"
   ]
  },
  {
   "cell_type": "code",
   "execution_count": 4,
   "metadata": {
    "collapsed": false
   },
   "outputs": [],
   "source": [
    "df3 = sqlContext.read.parquet(cleanParquePath+\"/regnskaber3.parquet\")\n",
    "#df3.show(10)"
   ]
  },
  {
   "cell_type": "code",
   "execution_count": 5,
   "metadata": {
    "collapsed": false
   },
   "outputs": [
    {
     "data": {
      "text/plain": [
       "65945323"
      ]
     },
     "execution_count": 5,
     "metadata": {},
     "output_type": "execute_result"
    }
   ],
   "source": [
    "dfTotal = df1.unionAll(df2)\n",
    "dfTotal.count()"
   ]
  },
  {
   "cell_type": "code",
   "execution_count": 6,
   "metadata": {
    "collapsed": false
   },
   "outputs": [],
   "source": [
    "allThreeDf = dfTotal.unionAll(df3)\n",
    "allThreeDf.count()\n",
    "\n",
    "allThreeDf.write.parquet(cleanParquePath+\"/alleregnskaber.parquet\",\"overwrite\")"
   ]
  },
  {
   "cell_type": "code",
   "execution_count": 7,
   "metadata": {
    "collapsed": false
   },
   "outputs": [],
   "source": [
    "#extract all rows with debt in them\n",
    "debtCols = allThreeDf.columns+[\"DebtNames\"]\n",
    "\n",
    "debtDf = (allThreeDf\n",
    " .select(\"*\",F.regexp_extract(\"Name\",\".*debt|Debt.*\",0).alias(\"DebtNames\"))\n",
    " .filter((F.col(\"DebtNames\") != \"\"))\n",
    ")"
   ]
  },
  {
   "cell_type": "code",
   "execution_count": 8,
   "metadata": {
    "collapsed": false
   },
   "outputs": [],
   "source": [
    "debtDf.write.parquet(cleanParquePath+\"/regnskaberDebt.parquet\",\"overwrite\")"
   ]
  },
  {
   "cell_type": "code",
   "execution_count": 9,
   "metadata": {
    "collapsed": true
   },
   "outputs": [],
   "source": [
    "groupedNamesDf = allThreeDf.groupBy(\"Name\").count()"
   ]
  },
  {
   "cell_type": "code",
   "execution_count": null,
   "metadata": {
    "collapsed": true
   },
   "outputs": [],
   "source": []
  },
  {
   "cell_type": "code",
   "execution_count": 10,
   "metadata": {
    "collapsed": false
   },
   "outputs": [
    {
     "name": "stdout",
     "output_type": "stream",
     "text": [
      "+------------------------------------------------+-------+\n",
      "|Name                                            |count  |\n",
      "+------------------------------------------------+-------+\n",
      "|fsa:ProfitLoss                                  |2483550|\n",
      "|e:Equity                                        |1887542|\n",
      "|e:ProfitLoss                                    |1435416|\n",
      "|fsa:Equity                                      |1199196|\n",
      "|fsa:Assets                                      |751905 |\n",
      "|fsa:LiabilitiesAndEquity                        |716461 |\n",
      "|fsa:ContributedCapital                          |688141 |\n",
      "|fsa:RetainedEarnings                            |679228 |\n",
      "|fsa:CurrentAssets                               |670851 |\n",
      "|fsa:LiabilitiesOtherThanProvisions              |669522 |\n",
      "|fsa:ShorttermLiabilitiesOtherThanProvisions     |651606 |\n",
      "|fsa:CashAndCashEquivalents                      |610195 |\n",
      "|fsa:ProfitLossFromOrdinaryOperatingActivities   |605234 |\n",
      "|fsa:OtherShorttermPayables                      |594070 |\n",
      "|fsa:ShorttermReceivables                        |592837 |\n",
      "|fsa:ProfitLossFromOrdinaryActivitiesBeforeTax   |584862 |\n",
      "|fsa:NoncurrentAssets                            |571859 |\n",
      "|e:OtherFinanceExpenses                          |481382 |\n",
      "|fsa:OtherFinanceIncome                          |475754 |\n",
      "|cmn:NameAndSurnameOfMemberOfExecutiveBoard      |472898 |\n",
      "|fsa:LongtermInvestmentsAndReceivables           |458079 |\n",
      "|fsa:PropertyPlantAndEquipment                   |436218 |\n",
      "|d:Equity                                        |418770 |\n",
      "|fsa:TaxExpense                                  |409290 |\n",
      "|fsa:ShorttermTradePayables                      |406555 |\n",
      "|e:Assets                                        |390390 |\n",
      "|fsa:OtherShorttermReceivables                   |388899 |\n",
      "|d:NameOfAuditFirm                               |381432 |\n",
      "|gsd:ReportingPeriodStartDate                    |378134 |\n",
      "|gsd:ReportingPeriodEndDate                      |378134 |\n",
      "|gsd:NameOfReportingEntity                       |378051 |\n",
      "|gsd:IdentificationNumberCvrOfReportingEntity    |378050 |\n",
      "|gsd:AddressOfSubmittingEnterprisePostcodeAndTown|378044 |\n",
      "|gsd:AddressOfSubmittingEnterpriseStreetAndNumber|378044 |\n",
      "|gsd:InformationOnTypeOfSubmittedReport          |378040 |\n",
      "|gsd:NameOfSubmittingEnterprise                  |378039 |\n",
      "|gsd:NameAndSurnameOfChairmanOfGeneralMeeting    |377826 |\n",
      "|fsa:ClassOfReportingEntity                      |377688 |\n",
      "|gsd:DateOfGeneralMeeting                        |375630 |\n",
      "|cmn:TypeOfAuditorAssistance                     |370355 |\n",
      "|e:LiabilitiesAndEquity                          |359949 |\n",
      "|e:ContributedCapital                            |358777 |\n",
      "|e:ShorttermLiabilitiesOtherThanProvisions       |358323 |\n",
      "|e:RetainedEarnings                              |356674 |\n",
      "|e:LiabilitiesOtherThanProvisions                |356621 |\n",
      "|fsa:OtherFinanceExpenses                        |353470 |\n",
      "|e:CurrentAssets                                 |349110 |\n",
      "|fsa:GrossProfitLoss                             |348668 |\n",
      "|e:InvestmentsGross                              |348002 |\n",
      "|sob:PlaceOfSignatureOfStatement                 |343041 |\n",
      "+------------------------------------------------+-------+\n",
      "only showing top 50 rows\n",
      "\n"
     ]
    }
   ],
   "source": [
    "groupedNamesDf.orderBy(F.col(\"count\").desc()).show(50,truncate=False)"
   ]
  },
  {
   "cell_type": "code",
   "execution_count": null,
   "metadata": {
    "collapsed": true
   },
   "outputs": [],
   "source": []
  }
 ],
 "metadata": {
  "kernelspec": {
   "display_name": "Python 3",
   "language": "python",
   "name": "python3"
  },
  "language_info": {
   "codemirror_mode": {
    "name": "ipython",
    "version": 3
   },
   "file_extension": ".py",
   "mimetype": "text/x-python",
   "name": "python",
   "nbconvert_exporter": "python",
   "pygments_lexer": "ipython3",
   "version": "3.5.2"
  }
 },
 "nbformat": 4,
 "nbformat_minor": 2
}
