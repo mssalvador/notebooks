{
 "cells": [
  {
   "cell_type": "markdown",
   "metadata": {
    "slideshow": {
     "slide_type": "skip"
    }
   },
   "source": [
    "%%HTML\n",
    "\n",
    "<style type=\"text/css\">\n",
    ".input_prompt, .input_area, .output_prompt {\n",
    "    display:none !important;\n",
    "}\n",
    "</style>"
   ]
  },
  {
   "cell_type": "code",
   "execution_count": 1,
   "metadata": {
    "slideshow": {
     "slide_type": "skip"
    }
   },
   "outputs": [
    {
     "data": {
      "text/html": [
       "<script>\n",
       "  function code_toggle() {\n",
       "    if (code_shown){\n",
       "      $('div.input').hide('500');\n",
       "      $('#toggleButton').val('Show Code')\n",
       "    } else {\n",
       "      $('div.input').show('500');\n",
       "      $('#toggleButton').val('Hide Code')\n",
       "    }\n",
       "    code_shown = !code_shown\n",
       "  }\n",
       "\n",
       "  $( document ).ready(function(){\n",
       "    code_shown=false;\n",
       "    $('div.input').hide()\n",
       "  });\n",
       "</script>\n",
       "<form action=\"javascript:code_toggle()\"><input type=\"submit\" id=\"toggleButton\" value=\"Show Code\"></form>\n"
      ],
      "text/plain": [
       "<IPython.core.display.HTML object>"
      ]
     },
     "metadata": {},
     "output_type": "display_data"
    }
   ],
   "source": [
    "%%HTML\n",
    "<script>\n",
    "  function code_toggle() {\n",
    "    if (code_shown){\n",
    "      $('div.input').hide('500');\n",
    "      $('#toggleButton').val('Show Code')\n",
    "    } else {\n",
    "      $('div.input').show('500');\n",
    "      $('#toggleButton').val('Hide Code')\n",
    "    }\n",
    "    code_shown = !code_shown\n",
    "  }\n",
    "\n",
    "  $( document ).ready(function(){\n",
    "    code_shown=false;\n",
    "    $('div.input').hide()\n",
    "  });\n",
    "</script>\n",
    "<form action=\"javascript:code_toggle()\"><input type=\"submit\" id=\"toggleButton\" value=\"Show Code\"></form>\n",
    "\n"
   ]
  },
  {
   "cell_type": "code",
   "execution_count": 1,
   "metadata": {
    "scrolled": false,
    "slideshow": {
     "slide_type": "skip"
    }
   },
   "outputs": [
    {
     "data": {
      "text/html": [
       "<style>.container { width:65% !important; }</style>"
      ],
      "text/plain": [
       "<IPython.core.display.HTML object>"
      ]
     },
     "metadata": {},
     "output_type": "display_data"
    }
   ],
   "source": [
    "#Always Pyspark first!\n",
    "ErhvervsPath = \"/home/svanhmic/workspace/DABAI\"\n",
    "parquetPath = \"/home/svanhmic/workspace/data/DABAI/sparkdata/parquet\"\n",
    "\n",
    "from pyspark.sql import functions as F, Window, WindowSpec\n",
    "from pyspark.sql import Row\n",
    "from pyspark.sql.types import StringType,ArrayType,IntegerType,DoubleType,StructField,StructType,BooleanType\n",
    "sc.addPyFile(ErhvervsPath+\"/RegnSkabData/ImportRegnskabData.py\")\n",
    "sc.addPyFile(ErhvervsPath+'/RegnSkabData/RegnskabsClass.py')\n",
    "sc.addPyFile(ErhvervsPath+'/ReadData/Fstat.py')\n",
    "sc.addPyFile(ErhvervsPath+'/ReadData/GetNextJsonLayer.py')\n",
    "\n",
    "import sys\n",
    "import re\n",
    "import os\n",
    "import ImportRegnskabData\n",
    "import GetNextJsonLayer\n",
    "import itertools\n",
    "import functools\n",
    "\n",
    "%matplotlib inline\n",
    "import seaborn as sb\n",
    "import matplotlib.pyplot as plt\n",
    "import numpy as np\n",
    "import Fstat\n",
    "import scipy as sp\n",
    "\n",
    "import IPython\n",
    "from IPython.display import display, Markdown, Latex\n",
    "from pandas.tools.plotting import scatter_matrix\n",
    "\n",
    "from IPython.core.display import display, HTML\n",
    "display(HTML(\"<style>.container { width:65% !important; }</style>\"))\n",
    "sb.set_context(\"talk\")"
   ]
  },
  {
   "cell_type": "code",
   "execution_count": 2,
   "metadata": {
    "collapsed": true,
    "slideshow": {
     "slide_type": "skip"
    }
   },
   "outputs": [],
   "source": [
    "def isText(col):\n",
    "    \n",
    "    #if the value contains letters\n",
    "    \n",
    "    try:\n",
    "        matches = re.search(col,r'\\w+ ^\\d+',re.I)\n",
    "        print(matches.group(0))\n",
    "        return \"string\"\n",
    "    except:\n",
    "        #print(col)\n",
    "        return \"double\"\n",
    "    \n",
    "textUdf = F.udf(lambda x: isText(x),StringType())"
   ]
  },
  {
   "cell_type": "code",
   "execution_count": 3,
   "metadata": {
    "scrolled": true,
    "slideshow": {
     "slide_type": "skip"
    }
   },
   "outputs": [
    {
     "name": "stdout",
     "output_type": "stream",
     "text": [
      "+--------------------------------------------+---+----+----+-------+----------+----------------+----------+-----------+----------+-------------------------------------------------------+--------------+-----------------------------+------+\n",
      "|Name                                        |Dec|Prec|Lang|unitRef|contextRef|EntityIdentifier|Start     |End_Instant|Value     |Dimensions                                             |originalLength|DebtNames                    |type  |\n",
      "+--------------------------------------------+---+----+----+-------+----------+----------------+----------+-----------+----------+-------------------------------------------------------+--------------+-----------------------------+------+\n",
      "|fsa:OtherLongtermDebtRaisedByIssuanceOfBonds|-3 |null|null|DKK    |16993085  |16993085        |null      |2014-09-30 |21,196,000|[cmn:ConsolidatedSoloDimension, cmn:ConsolidatedMember]|10            |DebtRaisedByIssuanceOfBonds  |double|\n",
      "|fsa:ShorttermDebtToBanks                    |-3 |null|null|DKK    |16993085  |16993085        |null      |2014-09-30 |0         |[cmn:ConsolidatedSoloDimension, cmn:ConsolidatedMember]|1             |DebtToBanks                  |double|\n",
      "|fsa:OtherLongtermDebtRaisedByIssuanceOfBonds|-3 |null|null|DKK    |16993085  |16993085        |null      |2013-09-30 |32,874,000|[cmn:ConsolidatedSoloDimension, cmn:ConsolidatedMember]|10            |DebtRaisedByIssuanceOfBonds  |double|\n",
      "|fsa:ShorttermDebtToBanks                    |-3 |null|null|DKK    |16993085  |16993085        |null      |2013-09-30 |2,000     |[cmn:ConsolidatedSoloDimension, cmn:ConsolidatedMember]|5             |DebtToBanks                  |double|\n",
      "|fsa:OtherLongtermDebtRaisedByIssuanceOfBonds|-3 |null|null|DKK    |16993085  |16993085        |null      |2014-09-30 |21,196,000|[]                                                     |10            |DebtRaisedByIssuanceOfBonds  |double|\n",
      "|fsa:ShorttermDebtToBanks                    |-3 |null|null|DKK    |16993085  |16993085        |null      |2014-09-30 |0         |[]                                                     |1             |DebtToBanks                  |double|\n",
      "|fsa:OtherLongtermDebtRaisedByIssuanceOfBonds|-3 |null|null|DKK    |16993085  |16993085        |null      |2013-09-30 |32,874,000|[]                                                     |10            |DebtRaisedByIssuanceOfBonds  |double|\n",
      "|fsa:ShorttermDebtToBanks                    |-3 |null|null|DKK    |16993085  |16993085        |null      |2013-09-30 |2,000     |[]                                                     |5             |DebtToBanks                  |double|\n",
      "|fsa:LongtermDebtToOtherCreditInstitutions   |0  |null|null|DKK    |31156270  |31156270        |null      |2014-12-31 |16,000,000|[cmn:ConsolidatedSoloDimension, cmn:ConsolidatedMember]|10            |DebtToOtherCreditInstitutions|double|\n",
      "|fsa:LongtermDebtToOtherCreditInstitutions   |0  |null|null|DKK    |31156270  |31156270        |null      |2014-12-31 |0         |[]                                                     |1             |DebtToOtherCreditInstitutions|double|\n",
      "|fsa:LongtermDebtToOtherCreditInstitutions   |0  |null|null|DKK    |31156270  |31156270        |null      |2015-12-31 |12,000,000|[cmn:ConsolidatedSoloDimension, cmn:ConsolidatedMember]|10            |DebtToOtherCreditInstitutions|double|\n",
      "|fsa:LongtermDebtToOtherCreditInstitutions   |0  |null|null|DKK    |31156270  |31156270        |null      |2015-12-31 |0         |[]                                                     |1             |DebtToOtherCreditInstitutions|double|\n",
      "|fsa:LongtermMortgageDebt                    |0  |null|null|DKK    |31156270  |31156270        |null      |2014-12-31 |5,597,785 |[cmn:ConsolidatedSoloDimension, cmn:ConsolidatedMember]|9             |Debt                         |double|\n",
      "|fsa:LongtermMortgageDebt                    |0  |null|null|DKK    |31156270  |31156270        |null      |2014-12-31 |0         |[]                                                     |1             |Debt                         |double|\n",
      "|fsa:LongtermMortgageDebt                    |0  |null|null|DKK    |31156270  |31156270        |null      |2015-12-31 |5,239,929 |[cmn:ConsolidatedSoloDimension, cmn:ConsolidatedMember]|9             |Debt                         |double|\n",
      "|fsa:LongtermMortgageDebt                    |0  |null|null|DKK    |31156270  |31156270        |null      |2015-12-31 |0         |[]                                                     |1             |Debt                         |double|\n",
      "|fsa:RepaymentOfDebtToCreditInstitutions     |0  |null|null|DKK    |31156270  |31156270        |2014-01-01|2014-12-31 |0         |[cmn:ConsolidatedSoloDimension, cmn:ConsolidatedMember]|1             |DebtToCreditInstitutions     |double|\n",
      "|fsa:RepaymentOfDebtToCreditInstitutions     |0  |null|null|DKK    |31156270  |31156270        |2014-01-01|2014-12-31 |0         |[]                                                     |1             |DebtToCreditInstitutions     |double|\n",
      "|fsa:RepaymentOfDebtToCreditInstitutions     |0  |null|null|DKK    |31156270  |31156270        |2015-01-01|2015-12-31 |4,339,990 |[cmn:ConsolidatedSoloDimension, cmn:ConsolidatedMember]|9             |DebtToCreditInstitutions     |double|\n",
      "|fsa:RepaymentOfDebtToCreditInstitutions     |0  |null|null|DKK    |31156270  |31156270        |2015-01-01|2015-12-31 |0         |[]                                                     |1             |DebtToCreditInstitutions     |double|\n",
      "+--------------------------------------------+---+----+----+-------+----------+----------------+----------+-----------+----------+-------------------------------------------------------+--------------+-----------------------------+------+\n",
      "only showing top 20 rows\n",
      "\n"
     ]
    }
   ],
   "source": [
    "#input debt data\n",
    "regnDf = (sqlContext\n",
    "          .read\n",
    "          .parquet(parquetPath+\"/regnskaberDebt.parquet\")\n",
    "          .withColumn(colName=\"Dec\",col=F.col(\"Dec\").cast(\"integer\"))\n",
    "          .withColumn(colName=\"Prec\",col=F.col(\"Prec\").cast(\"integer\"))\n",
    "          .withColumn(colName=\"type\",col=textUdf(F.col(\"Value\")))\n",
    "         )\n",
    "#regnDf.printSchema()\n",
    "regnDf.show(20,False)"
   ]
  },
  {
   "cell_type": "markdown",
   "metadata": {
    "slideshow": {
     "slide_type": "slide"
    }
   },
   "source": [
    "#### Hypoteser\n",
    "\n",
    "2. I hvor høj grad korrelerer gældsforpligtelser med vækst i virksomhederne? Der skal i den sammenhæng tages højde for forskellen i kortfristede og langfristede gældsforpligtelser.  "
   ]
  },
  {
   "cell_type": "code",
   "execution_count": 4,
   "metadata": {
    "slideshow": {
     "slide_type": "subslide"
    }
   },
   "outputs": [
    {
     "data": {
      "text/markdown": [
       "### Hvilke variable har vi at gøre godt med gæld at gøre i de ca. 600000 regnskaber, fra 2014-2016?"
      ],
      "text/plain": [
       "<IPython.core.display.Markdown object>"
      ]
     },
     "metadata": {},
     "output_type": "display_data"
    },
    {
     "name": "stdout",
     "output_type": "stream",
     "text": [
      "Der er i alt 53\n"
     ]
    },
    {
     "data": {
      "text/html": [
       "<div>\n",
       "<table border=\"1\" class=\"dataframe\">\n",
       "  <thead>\n",
       "    <tr style=\"text-align: right;\">\n",
       "      <th></th>\n",
       "      <th>Name</th>\n",
       "      <th>count</th>\n",
       "    </tr>\n",
       "  </thead>\n",
       "  <tbody>\n",
       "    <tr>\n",
       "      <th>0</th>\n",
       "      <td>ShorttermDebtToBanks</td>\n",
       "      <td>259774</td>\n",
       "    </tr>\n",
       "    <tr>\n",
       "      <th>1</th>\n",
       "      <td>LongtermMortgageDebt</td>\n",
       "      <td>184818</td>\n",
       "    </tr>\n",
       "    <tr>\n",
       "      <th>2</th>\n",
       "      <td>ShorttermDebtToOtherCreditInstitutions</td>\n",
       "      <td>138486</td>\n",
       "    </tr>\n",
       "    <tr>\n",
       "      <th>3</th>\n",
       "      <td>LongtermDebtToBanks</td>\n",
       "      <td>90381</td>\n",
       "    </tr>\n",
       "    <tr>\n",
       "      <th>4</th>\n",
       "      <td>LongtermDebtToOtherCreditInstitutions</td>\n",
       "      <td>57944</td>\n",
       "    </tr>\n",
       "    <tr>\n",
       "      <th>5</th>\n",
       "      <td>ShorttermMortgageDebt</td>\n",
       "      <td>49012</td>\n",
       "    </tr>\n",
       "    <tr>\n",
       "      <th>6</th>\n",
       "      <td>GainsLossesFromCurrentValueAdjustmentsOfDebtLi...</td>\n",
       "      <td>14204</td>\n",
       "    </tr>\n",
       "    <tr>\n",
       "      <th>7</th>\n",
       "      <td>ConvertibleProfitYieldingOrDividendYieldingLon...</td>\n",
       "      <td>6721</td>\n",
       "    </tr>\n",
       "  </tbody>\n",
       "</table>\n",
       "</div>"
      ],
      "text/plain": [
       "                                                Name   count\n",
       "0                               ShorttermDebtToBanks  259774\n",
       "1                               LongtermMortgageDebt  184818\n",
       "2             ShorttermDebtToOtherCreditInstitutions  138486\n",
       "3                                LongtermDebtToBanks   90381\n",
       "4              LongtermDebtToOtherCreditInstitutions   57944\n",
       "5                              ShorttermMortgageDebt   49012\n",
       "6  GainsLossesFromCurrentValueAdjustmentsOfDebtLi...   14204\n",
       "7  ConvertibleProfitYieldingOrDividendYieldingLon...    6721"
      ]
     },
     "execution_count": 4,
     "metadata": {},
     "output_type": "execute_result"
    }
   ],
   "source": [
    "display(Markdown(\"### Hvilke variable har vi at gøre godt med gæld at gøre i de ca. 600000 regnskaber, fra 2014-2016?\"))\n",
    "x = regnDf.select(F.regexp_replace(\"Name\",\"\\w+:|\\w+-\",\"\").alias(\"Name\")).groupBy(\"Name\").count()\n",
    "print(\"Der er i alt \"+str(x.count()))\n",
    "x.orderBy(F.col(\"count\").desc()).limit(8).toPandas()#.show(8,False)"
   ]
  },
  {
   "cell_type": "markdown",
   "metadata": {
    "scrolled": false,
    "slideshow": {
     "slide_type": "fragment"
    }
   },
   "source": [
    "De 6 øverste bruges i denne analyse."
   ]
  },
  {
   "cell_type": "code",
   "execution_count": 5,
   "metadata": {
    "slideshow": {
     "slide_type": "subslide"
    }
   },
   "outputs": [
    {
     "data": {
      "text/markdown": [
       "Data fordelt på de 6 felter og år"
      ],
      "text/plain": [
       "<IPython.core.display.Markdown object>"
      ]
     },
     "metadata": {},
     "output_type": "display_data"
    },
    {
     "name": "stdout",
     "output_type": "stream",
     "text": [
      "\n"
     ]
    },
    {
     "data": {
      "text/html": [
       "<div>\n",
       "<table border=\"1\" class=\"dataframe\">\n",
       "  <thead>\n",
       "    <tr style=\"text-align: right;\">\n",
       "      <th></th>\n",
       "      <th>Name</th>\n",
       "      <th>0</th>\n",
       "      <th>12</th>\n",
       "      <th>13</th>\n",
       "      <th>1899</th>\n",
       "      <th>1900</th>\n",
       "      <th>2000</th>\n",
       "      <th>2004</th>\n",
       "      <th>2006</th>\n",
       "      <th>2008</th>\n",
       "      <th>2009</th>\n",
       "      <th>2010</th>\n",
       "      <th>2011</th>\n",
       "      <th>2012</th>\n",
       "      <th>2013</th>\n",
       "      <th>2014</th>\n",
       "      <th>2015</th>\n",
       "      <th>2016</th>\n",
       "      <th>2019</th>\n",
       "    </tr>\n",
       "  </thead>\n",
       "  <tbody>\n",
       "    <tr>\n",
       "      <th>0</th>\n",
       "      <td>LongtermDebtToOtherCreditInstitutions</td>\n",
       "      <td>NaN</td>\n",
       "      <td>1.0</td>\n",
       "      <td>NaN</td>\n",
       "      <td>31</td>\n",
       "      <td>NaN</td>\n",
       "      <td>2.0</td>\n",
       "      <td>NaN</td>\n",
       "      <td>3.0</td>\n",
       "      <td>NaN</td>\n",
       "      <td>1.0</td>\n",
       "      <td>2.0</td>\n",
       "      <td>45</td>\n",
       "      <td>7281</td>\n",
       "      <td>17115</td>\n",
       "      <td>19204</td>\n",
       "      <td>11912</td>\n",
       "      <td>2347</td>\n",
       "      <td>NaN</td>\n",
       "    </tr>\n",
       "    <tr>\n",
       "      <th>1</th>\n",
       "      <td>LongtermDebtToBanks</td>\n",
       "      <td>9.0</td>\n",
       "      <td>NaN</td>\n",
       "      <td>NaN</td>\n",
       "      <td>125</td>\n",
       "      <td>1.0</td>\n",
       "      <td>NaN</td>\n",
       "      <td>2.0</td>\n",
       "      <td>15.0</td>\n",
       "      <td>3.0</td>\n",
       "      <td>3.0</td>\n",
       "      <td>1.0</td>\n",
       "      <td>39</td>\n",
       "      <td>10510</td>\n",
       "      <td>26229</td>\n",
       "      <td>30379</td>\n",
       "      <td>19380</td>\n",
       "      <td>3684</td>\n",
       "      <td>1.0</td>\n",
       "    </tr>\n",
       "    <tr>\n",
       "      <th>2</th>\n",
       "      <td>LongtermMortgageDebt</td>\n",
       "      <td>NaN</td>\n",
       "      <td>NaN</td>\n",
       "      <td>1.0</td>\n",
       "      <td>118</td>\n",
       "      <td>NaN</td>\n",
       "      <td>6.0</td>\n",
       "      <td>2.0</td>\n",
       "      <td>20.0</td>\n",
       "      <td>5.0</td>\n",
       "      <td>11.0</td>\n",
       "      <td>1.0</td>\n",
       "      <td>109</td>\n",
       "      <td>21826</td>\n",
       "      <td>52613</td>\n",
       "      <td>61523</td>\n",
       "      <td>40326</td>\n",
       "      <td>8257</td>\n",
       "      <td>NaN</td>\n",
       "    </tr>\n",
       "    <tr>\n",
       "      <th>3</th>\n",
       "      <td>ShorttermDebtToBanks</td>\n",
       "      <td>NaN</td>\n",
       "      <td>NaN</td>\n",
       "      <td>1.0</td>\n",
       "      <td>397</td>\n",
       "      <td>1.0</td>\n",
       "      <td>8.0</td>\n",
       "      <td>6.0</td>\n",
       "      <td>42.0</td>\n",
       "      <td>7.0</td>\n",
       "      <td>7.0</td>\n",
       "      <td>NaN</td>\n",
       "      <td>146</td>\n",
       "      <td>31018</td>\n",
       "      <td>75664</td>\n",
       "      <td>86632</td>\n",
       "      <td>54836</td>\n",
       "      <td>11008</td>\n",
       "      <td>1.0</td>\n",
       "    </tr>\n",
       "    <tr>\n",
       "      <th>4</th>\n",
       "      <td>ShorttermDebtToOtherCreditInstitutions</td>\n",
       "      <td>NaN</td>\n",
       "      <td>1.0</td>\n",
       "      <td>NaN</td>\n",
       "      <td>34</td>\n",
       "      <td>NaN</td>\n",
       "      <td>NaN</td>\n",
       "      <td>NaN</td>\n",
       "      <td>NaN</td>\n",
       "      <td>NaN</td>\n",
       "      <td>NaN</td>\n",
       "      <td>1.0</td>\n",
       "      <td>144</td>\n",
       "      <td>18452</td>\n",
       "      <td>41874</td>\n",
       "      <td>44809</td>\n",
       "      <td>27620</td>\n",
       "      <td>5551</td>\n",
       "      <td>NaN</td>\n",
       "    </tr>\n",
       "    <tr>\n",
       "      <th>5</th>\n",
       "      <td>ShorttermMortgageDebt</td>\n",
       "      <td>NaN</td>\n",
       "      <td>NaN</td>\n",
       "      <td>NaN</td>\n",
       "      <td>11</td>\n",
       "      <td>NaN</td>\n",
       "      <td>NaN</td>\n",
       "      <td>NaN</td>\n",
       "      <td>NaN</td>\n",
       "      <td>NaN</td>\n",
       "      <td>NaN</td>\n",
       "      <td>1.0</td>\n",
       "      <td>23</td>\n",
       "      <td>6372</td>\n",
       "      <td>14548</td>\n",
       "      <td>15601</td>\n",
       "      <td>10327</td>\n",
       "      <td>2129</td>\n",
       "      <td>NaN</td>\n",
       "    </tr>\n",
       "  </tbody>\n",
       "</table>\n",
       "</div>"
      ],
      "text/plain": [
       "                                     Name    0   12   13  1899  1900  2000  \\\n",
       "0   LongtermDebtToOtherCreditInstitutions  NaN  1.0  NaN    31   NaN   2.0   \n",
       "1                     LongtermDebtToBanks  9.0  NaN  NaN   125   1.0   NaN   \n",
       "2                    LongtermMortgageDebt  NaN  NaN  1.0   118   NaN   6.0   \n",
       "3                    ShorttermDebtToBanks  NaN  NaN  1.0   397   1.0   8.0   \n",
       "4  ShorttermDebtToOtherCreditInstitutions  NaN  1.0  NaN    34   NaN   NaN   \n",
       "5                   ShorttermMortgageDebt  NaN  NaN  NaN    11   NaN   NaN   \n",
       "\n",
       "   2004  2006  2008  2009  2010  2011   2012   2013   2014   2015   2016  2019  \n",
       "0   NaN   3.0   NaN   1.0   2.0    45   7281  17115  19204  11912   2347   NaN  \n",
       "1   2.0  15.0   3.0   3.0   1.0    39  10510  26229  30379  19380   3684   1.0  \n",
       "2   2.0  20.0   5.0  11.0   1.0   109  21826  52613  61523  40326   8257   NaN  \n",
       "3   6.0  42.0   7.0   7.0   NaN   146  31018  75664  86632  54836  11008   1.0  \n",
       "4   NaN   NaN   NaN   NaN   1.0   144  18452  41874  44809  27620   5551   NaN  \n",
       "5   NaN   NaN   NaN   NaN   1.0    23   6372  14548  15601  10327   2129   NaN  "
      ]
     },
     "execution_count": 5,
     "metadata": {},
     "output_type": "execute_result"
    }
   ],
   "source": [
    "display(Markdown(\"Data fordelt på de 6 felter og år\"))\n",
    "filtstr = \"\"\n",
    "cols = [\"ShorttermDebtToBanks\"\n",
    "        ,\"LongtermMortgageDebt\"\n",
    "        ,\"ShorttermDebtToOtherCreditInstitutions\"\n",
    "        ,\"LongtermDebtToBanks\"\n",
    "        ,\"LongtermDebtToOtherCreditInstitutions\"\n",
    "        ,\"ShorttermMortgageDebt\"]\n",
    "\n",
    "for i in cols[:-1]:\n",
    "    filtstr += \"( Name = '\"+i + \"') or \"\n",
    "print()\n",
    "#filtstr+\"(Name == '\"+cols[-1]+\"')\"\n",
    "(regnDf\n",
    " .select(\"EntityIdentifier\",F.regexp_replace(\"Name\",\"\\w+:|\\w+-\",\"\").alias(\"Name\"),F.year(\"End_Instant\").alias(\"year\"))\n",
    " .filter(filtstr+\"(Name = '\"+cols[-1]+\"')\")\n",
    " .groupBy(\"Name\",\"year\")\n",
    " .count()\n",
    " .groupBy(\"Name\")\n",
    " .pivot(\"year\")\n",
    " .agg(F.max(\"count\"))\n",
    " .toPandas()\n",
    " #.show(truncate=True)\n",
    ")"
   ]
  },
  {
   "cell_type": "code",
   "execution_count": 6,
   "metadata": {
    "scrolled": false
   },
   "outputs": [
    {
     "name": "stdout",
     "output_type": "stream",
     "text": [
      "+-----------------------------------------------------------------------------------------------------------------------------------------------------------+------+\n",
      "|Name                                                                                                                                                       |count |\n",
      "+-----------------------------------------------------------------------------------------------------------------------------------------------------------+------+\n",
      "|ShorttermDebtToBanks                                                                                                                                       |248281|\n",
      "|LongtermMortgageDebt                                                                                                                                       |174794|\n",
      "|ShorttermDebtToOtherCreditInstitutions                                                                                                                     |132367|\n",
      "|LongtermDebtToBanks                                                                                                                                        |86640 |\n",
      "|LongtermDebtToOtherCreditInstitutions                                                                                                                      |53183 |\n",
      "|ShorttermMortgageDebt                                                                                                                                      |46897 |\n",
      "|GainsLossesFromCurrentValueAdjustmentsOfDebtLiabilitiesConcerningInvestmentProperty                                                                        |13893 |\n",
      "|ConvertibleProfitYieldingOrDividendYieldingLongtermDebtInstruments                                                                                         |6361  |\n",
      "|RepaymentOfDebtToGroupEnterprises                                                                                                                          |4886  |\n",
      "|MortgageDebt                                                                                                                                               |4455  |\n",
      "|RepaymentOfDebtToCreditInstitutions                                                                                                                        |4129  |\n",
      "|OtherLongtermDebtRaisedByIssuanceOfBonds                                                                                                                   |3326  |\n",
      "|RaisingOfDebtToGroupEnterprises                                                                                                                            |2881  |\n",
      "|ShorttermDebtToBanksCashFlowsStatement                                                                                                                     |2794  |\n",
      "|InformationOnOutstandingDebtFromManagementCategory                                                                                                         |2420  |\n",
      "|DebtToOtherCreditInstitutions                                                                                                                              |2342  |\n",
      "|RaisingOfDebtToCreditInstitutions                                                                                                                          |2226  |\n",
      "|ConvertibleProfitYieldingOrDividendYieldingShorttermDebtInstruments                                                                                        |1873  |\n",
      "|OtherShorttermDebtRaisedByIssuanceOfBonds                                                                                                                  |1663  |\n",
      "|DebtToBanks                                                                                                                                                |1573  |\n",
      "|RaisingOfLongtermDebt                                                                                                                                      |1176  |\n",
      "|GainsLossesFromCurrentValueAdjustmentsOfDebtLiabilitiesConcerningOtherInvestmentAssets                                                                     |988   |\n",
      "|RepaymentOfDebtToAssociates                                                                                                                                |743   |\n",
      "|DebtReliefOrSimilarFinanceIncome                                                                                                                           |611   |\n",
      "|GainsLossesFromCurrentValueAdjustmentsOfDebtLiabilities                                                                                                    |501   |\n",
      "|RaisingOfDebtToAssociates                                                                                                                                  |443   |\n",
      "|OutstandingDebtFromManagementCategory                                                                                                                      |437   |\n",
      "|InformationOnDebtAgainstManagementCategoryRaisedAndRepaidDuringReportingPeriod                                                                             |363   |\n",
      "|RepaymentOfMortgageDebt                                                                                                                                    |343   |\n",
      "|DebtReliefOrSimilarFinanceExpenses                                                                                                                         |296   |\n",
      "|InformationOnDebtAgainstGroupEnterprises                                                                                                                   |291   |\n",
      "|DisclosureOfGainsLossesFromCurrentValueAdjustmentsOfDebtLiabilitiesConcerningInvestmentProperty                                                            |222   |\n",
      "|DebtRepaidByManagementCategory                                                                                                                             |218   |\n",
      "|RaisingOfMortgageDebt                                                                                                                                      |185   |\n",
      "|DebtRaisedAndRepaidByManagementCategoryDuringReportingPeriod                                                                                               |174   |\n",
      "|OtherDebtRaisedByIssuanceOfBonds                                                                                                                           |81    |\n",
      "|InformationOnLoansRaisedAgainstIssueOfConvertibleDebtInstruments                                                                                           |76    |\n",
      "|DisclosureOfLoansRaisedAgainstIssueOfConvertibleDebtInstrumentsBondsOrOtherInterestBearingInstrumentsAndWithdrawnClaimsOfCreditorForBenefitOfOtherCreditors|69    |\n",
      "|ConvertibleProfitYieldingOrDividendYieldingDebtInstruments                                                                                                 |45    |\n",
      "|InformationOnDebtAgainstAssociates                                                                                                                         |34    |\n",
      "|DisclosureOfGainsLossesFromCurrentValueAdjustmentsOfDebtLiabilitiesConcerningOtherInvestmentAssets                                                         |25    |\n",
      "|InterestRateRelatedToOutstandingDebtFromManagementCategory                                                                                                 |24    |\n",
      "|OtherCashPaymentsToAcquireEquityOrDebtInstrumentsOfOtherEntitiesClassifiedAsInvestingActivities                                                            |18    |\n",
      "|OutstandingDebtAgainstCreditor                                                                                                                             |10    |\n",
      "|NoncurrentMortgageDebt                                                                                                                                     |8     |\n",
      "|OtherShorttermDebts                                                                                                                                        |8     |\n",
      "|MortgageDebtFromAcquisitionOfCompaniesAndActivitiesCashflow                                                                                                |8     |\n",
      "|CurrentMortgageDebt                                                                                                                                        |8     |\n",
      "|OtherCashReceiptsFromSalesOfEquityOrDebtInstrumentsOfOtherEntitiesClassifiedAsInvestingActivities                                                          |8     |\n",
      "|DebtToBanksFromAcquisitionOfCompaniesAndActivitiesCashflow                                                                                                 |3     |\n",
      "+-----------------------------------------------------------------------------------------------------------------------------------------------------------+------+\n",
      "\n"
     ]
    }
   ],
   "source": [
    "def containsConsolidated(arr):\n",
    "    \n",
    "    for a in arr:\n",
    "        pattern = re.search(pattern=r\":Consolidated\",string=a,flags=re.IGNORECASE)\n",
    "        if pattern != \"\":\n",
    "            return True\n",
    "    return False\n",
    "\n",
    "consolidatedUdf = F.udf(lambda x: containsConsolidated(x),BooleanType())\n",
    "\n",
    "(regnDf\n",
    " .select(\"EntityIdentifier\",F.regexp_replace(\"Name\",\"\\w+:|\\w+-\",\"\").alias(\"Name\"),F.year(\"End_Instant\").alias(\"year\"),consolidatedUdf(\"Dimensions\").alias(\"containsDim\"))\n",
    " .filter(F.col(\"containsDim\") == False)\n",
    " .select(\"Name\")\n",
    " .groupBy(\"Name\")\n",
    " .count()\n",
    " .orderBy(F.col(\"count\").desc())\n",
    " .show(100,truncate=False)\n",
    ")"
   ]
  },
  {
   "cell_type": "markdown",
   "metadata": {
    "slideshow": {
     "slide_type": "fragment"
    }
   },
   "source": [
    "Det ses at data er mest koncenteret omkring 2012-2016."
   ]
  },
  {
   "cell_type": "code",
   "execution_count": 7,
   "metadata": {
    "scrolled": false,
    "slideshow": {
     "slide_type": "skip"
    }
   },
   "outputs": [],
   "source": [
    "#OK how many are acctual value columns?\n",
    "valDf = regnDf.filter((F.col(\"type\") == \"double\"))\n",
    "cols = [i for i in regnDf.columns if i not in (\"Name\",\"Value\")]\n",
    "funcsCols = [F.regexp_replace(\"Name\",\"\\w+:|\\w+-\",\"\").alias(\"Name\") , F.regexp_replace(\"Value\",\",\",\"\").alias(\"Value\")]+cols\n",
    "\n",
    "valDf = (valDf\n",
    "         .select(funcsCols)\n",
    "         .filter((F.col(\"type\")==\"double\"))\n",
    "         .withColumn(col=F.col(\"Value\").cast(\"double\"),colName=\"Value\")\n",
    "         .withColumn(col=F.unix_timestamp(F.col(\"End_Instant\")),colName=\"End_Instant_ts\")\n",
    "         #.drop(\"contextRef\")\n",
    "         .drop(\"Dimensions\")\n",
    "         .drop(\"Lang\")\n",
    "         .drop(\"DebtNames\")\n",
    "         .drop(\"originalLength\")\n",
    "         .distinct()\n",
    "        )\n",
    "#print(valDf.groupBy(\"Name\").count().count())\n",
    "#valDf.show()\n",
    "#valDf.groupBy(\"Name\").count().orderBy(F.col(\"Name\").desc()).show(53,False)"
   ]
  },
  {
   "cell_type": "code",
   "execution_count": 8,
   "metadata": {
    "slideshow": {
     "slide_type": "skip"
    }
   },
   "outputs": [],
   "source": [
    "#how many companies are the in this dataset?\n",
    "nameCols = [\"EntityIdentifier\",\"Name\",F.year(\"End_Instant\").alias(\"End_Instant\")]\n",
    "originalNamesCols = [\"EntityIdentifier\",\"Name\",\"End_Instant\"]\n",
    "namesDf = regnDf.select(*nameCols).groupBy(*originalNamesCols).count()\n",
    "#namesDf.orderBy(nameCols[0],F.col(\"count\").desc()).show()"
   ]
  },
  {
   "cell_type": "code",
   "execution_count": 9,
   "metadata": {
    "slideshow": {
     "slide_type": "slide"
    }
   },
   "outputs": [
    {
     "ename": "AnalysisException",
     "evalue": "'Path does not exist: file:/home/svanhmic/workspace/data/DABAI/sparkdata/parquet/KaptialDataFrame.parquet;'",
     "output_type": "error",
     "traceback": [
      "\u001b[0;31m---------------------------------------------------------------------------\u001b[0m",
      "\u001b[0;31mPy4JJavaError\u001b[0m                             Traceback (most recent call last)",
      "\u001b[0;32m/usr/local/share/spark/python/pyspark/sql/utils.py\u001b[0m in \u001b[0;36mdeco\u001b[0;34m(*a, **kw)\u001b[0m\n\u001b[1;32m     62\u001b[0m         \u001b[0;32mtry\u001b[0m\u001b[0;34m:\u001b[0m\u001b[0;34m\u001b[0m\u001b[0m\n\u001b[0;32m---> 63\u001b[0;31m             \u001b[0;32mreturn\u001b[0m \u001b[0mf\u001b[0m\u001b[0;34m(\u001b[0m\u001b[0;34m*\u001b[0m\u001b[0ma\u001b[0m\u001b[0;34m,\u001b[0m \u001b[0;34m**\u001b[0m\u001b[0mkw\u001b[0m\u001b[0;34m)\u001b[0m\u001b[0;34m\u001b[0m\u001b[0m\n\u001b[0m\u001b[1;32m     64\u001b[0m         \u001b[0;32mexcept\u001b[0m \u001b[0mpy4j\u001b[0m\u001b[0;34m.\u001b[0m\u001b[0mprotocol\u001b[0m\u001b[0;34m.\u001b[0m\u001b[0mPy4JJavaError\u001b[0m \u001b[0;32mas\u001b[0m \u001b[0me\u001b[0m\u001b[0;34m:\u001b[0m\u001b[0;34m\u001b[0m\u001b[0m\n",
      "\u001b[0;32m/usr/local/share/spark/python/lib/py4j-0.10.1-src.zip/py4j/protocol.py\u001b[0m in \u001b[0;36mget_return_value\u001b[0;34m(answer, gateway_client, target_id, name)\u001b[0m\n\u001b[1;32m    311\u001b[0m                     \u001b[0;34m\"An error occurred while calling {0}{1}{2}.\\n\"\u001b[0m\u001b[0;34m.\u001b[0m\u001b[0;34m\u001b[0m\u001b[0m\n\u001b[0;32m--> 312\u001b[0;31m                     format(target_id, \".\", name), value)\n\u001b[0m\u001b[1;32m    313\u001b[0m             \u001b[0;32melse\u001b[0m\u001b[0;34m:\u001b[0m\u001b[0;34m\u001b[0m\u001b[0m\n",
      "\u001b[0;31mPy4JJavaError\u001b[0m: An error occurred while calling o200.parquet.\n: org.apache.spark.sql.AnalysisException: Path does not exist: file:/home/svanhmic/workspace/data/DABAI/sparkdata/parquet/KaptialDataFrame.parquet;\n\tat org.apache.spark.sql.execution.datasources.DataSource$$anonfun$12.apply(DataSource.scala:361)\n\tat org.apache.spark.sql.execution.datasources.DataSource$$anonfun$12.apply(DataSource.scala:350)\n\tat scala.collection.TraversableLike$$anonfun$flatMap$1.apply(TraversableLike.scala:241)\n\tat scala.collection.TraversableLike$$anonfun$flatMap$1.apply(TraversableLike.scala:241)\n\tat scala.collection.immutable.List.foreach(List.scala:381)\n\tat scala.collection.TraversableLike$class.flatMap(TraversableLike.scala:241)\n\tat scala.collection.immutable.List.flatMap(List.scala:344)\n\tat org.apache.spark.sql.execution.datasources.DataSource.resolveRelation(DataSource.scala:350)\n\tat org.apache.spark.sql.DataFrameReader.load(DataFrameReader.scala:149)\n\tat org.apache.spark.sql.DataFrameReader.parquet(DataFrameReader.scala:427)\n\tat sun.reflect.NativeMethodAccessorImpl.invoke0(Native Method)\n\tat sun.reflect.NativeMethodAccessorImpl.invoke(NativeMethodAccessorImpl.java:62)\n\tat sun.reflect.DelegatingMethodAccessorImpl.invoke(DelegatingMethodAccessorImpl.java:43)\n\tat java.lang.reflect.Method.invoke(Method.java:498)\n\tat py4j.reflection.MethodInvoker.invoke(MethodInvoker.java:237)\n\tat py4j.reflection.ReflectionEngine.invoke(ReflectionEngine.java:357)\n\tat py4j.Gateway.invoke(Gateway.java:280)\n\tat py4j.commands.AbstractCommand.invokeMethod(AbstractCommand.java:128)\n\tat py4j.commands.CallCommand.execute(CallCommand.java:79)\n\tat py4j.GatewayConnection.run(GatewayConnection.java:211)\n\tat java.lang.Thread.run(Thread.java:745)\n",
      "\nDuring handling of the above exception, another exception occurred:\n",
      "\u001b[0;31mAnalysisException\u001b[0m                         Traceback (most recent call last)",
      "\u001b[0;32m<ipython-input-9-b1011a34f006>\u001b[0m in \u001b[0;36m<module>\u001b[0;34m()\u001b[0m\n\u001b[1;32m      2\u001b[0m mainKapitalDf = (sqlContext\n\u001b[1;32m      3\u001b[0m                  \u001b[0;34m.\u001b[0m\u001b[0mread\u001b[0m\u001b[0;34m\u001b[0m\u001b[0m\n\u001b[0;32m----> 4\u001b[0;31m                  \u001b[0;34m.\u001b[0m\u001b[0mparquet\u001b[0m\u001b[0;34m(\u001b[0m\u001b[0mparquetPath\u001b[0m\u001b[0;34m+\u001b[0m\u001b[0;34m\"/KaptialDataFrame.parquet\"\u001b[0m\u001b[0;34m)\u001b[0m\u001b[0;34m\u001b[0m\u001b[0m\n\u001b[0m\u001b[1;32m      5\u001b[0m                  \u001b[0;34m.\u001b[0m\u001b[0mdrop\u001b[0m\u001b[0;34m(\u001b[0m\u001b[0;34m\"KAPITALKLASSER_vaerdi\"\u001b[0m\u001b[0;34m)\u001b[0m\u001b[0;34m\u001b[0m\u001b[0m\n\u001b[1;32m      6\u001b[0m                  \u001b[0;34m.\u001b[0m\u001b[0mdrop\u001b[0m\u001b[0;34m(\u001b[0m\u001b[0;34m\"KAPITAL_DELVIST_vaerdi\"\u001b[0m\u001b[0;34m)\u001b[0m\u001b[0;34m\u001b[0m\u001b[0m\n",
      "\u001b[0;32m/usr/local/share/spark/python/pyspark/sql/readwriter.py\u001b[0m in \u001b[0;36mparquet\u001b[0;34m(self, *paths)\u001b[0m\n\u001b[1;32m    260\u001b[0m         \u001b[0;34m[\u001b[0m\u001b[0;34m(\u001b[0m\u001b[0;34m'name'\u001b[0m\u001b[0;34m,\u001b[0m \u001b[0;34m'string'\u001b[0m\u001b[0;34m)\u001b[0m\u001b[0;34m,\u001b[0m \u001b[0;34m(\u001b[0m\u001b[0;34m'year'\u001b[0m\u001b[0;34m,\u001b[0m \u001b[0;34m'int'\u001b[0m\u001b[0;34m)\u001b[0m\u001b[0;34m,\u001b[0m \u001b[0;34m(\u001b[0m\u001b[0;34m'month'\u001b[0m\u001b[0;34m,\u001b[0m \u001b[0;34m'int'\u001b[0m\u001b[0;34m)\u001b[0m\u001b[0;34m,\u001b[0m \u001b[0;34m(\u001b[0m\u001b[0;34m'day'\u001b[0m\u001b[0;34m,\u001b[0m \u001b[0;34m'int'\u001b[0m\u001b[0;34m)\u001b[0m\u001b[0;34m]\u001b[0m\u001b[0;34m\u001b[0m\u001b[0m\n\u001b[1;32m    261\u001b[0m         \"\"\"\n\u001b[0;32m--> 262\u001b[0;31m         \u001b[0;32mreturn\u001b[0m \u001b[0mself\u001b[0m\u001b[0;34m.\u001b[0m\u001b[0m_df\u001b[0m\u001b[0;34m(\u001b[0m\u001b[0mself\u001b[0m\u001b[0;34m.\u001b[0m\u001b[0m_jreader\u001b[0m\u001b[0;34m.\u001b[0m\u001b[0mparquet\u001b[0m\u001b[0;34m(\u001b[0m\u001b[0m_to_seq\u001b[0m\u001b[0;34m(\u001b[0m\u001b[0mself\u001b[0m\u001b[0;34m.\u001b[0m\u001b[0m_spark\u001b[0m\u001b[0;34m.\u001b[0m\u001b[0m_sc\u001b[0m\u001b[0;34m,\u001b[0m \u001b[0mpaths\u001b[0m\u001b[0;34m)\u001b[0m\u001b[0;34m)\u001b[0m\u001b[0;34m)\u001b[0m\u001b[0;34m\u001b[0m\u001b[0m\n\u001b[0m\u001b[1;32m    263\u001b[0m \u001b[0;34m\u001b[0m\u001b[0m\n\u001b[1;32m    264\u001b[0m     \u001b[0;34m@\u001b[0m\u001b[0mignore_unicode_prefix\u001b[0m\u001b[0;34m\u001b[0m\u001b[0m\n",
      "\u001b[0;32m/usr/local/share/spark/python/lib/py4j-0.10.1-src.zip/py4j/java_gateway.py\u001b[0m in \u001b[0;36m__call__\u001b[0;34m(self, *args)\u001b[0m\n\u001b[1;32m    931\u001b[0m         \u001b[0manswer\u001b[0m \u001b[0;34m=\u001b[0m \u001b[0mself\u001b[0m\u001b[0;34m.\u001b[0m\u001b[0mgateway_client\u001b[0m\u001b[0;34m.\u001b[0m\u001b[0msend_command\u001b[0m\u001b[0;34m(\u001b[0m\u001b[0mcommand\u001b[0m\u001b[0;34m)\u001b[0m\u001b[0;34m\u001b[0m\u001b[0m\n\u001b[1;32m    932\u001b[0m         return_value = get_return_value(\n\u001b[0;32m--> 933\u001b[0;31m             answer, self.gateway_client, self.target_id, self.name)\n\u001b[0m\u001b[1;32m    934\u001b[0m \u001b[0;34m\u001b[0m\u001b[0m\n\u001b[1;32m    935\u001b[0m         \u001b[0;32mfor\u001b[0m \u001b[0mtemp_arg\u001b[0m \u001b[0;32min\u001b[0m \u001b[0mtemp_args\u001b[0m\u001b[0;34m:\u001b[0m\u001b[0;34m\u001b[0m\u001b[0m\n",
      "\u001b[0;32m/usr/local/share/spark/python/pyspark/sql/utils.py\u001b[0m in \u001b[0;36mdeco\u001b[0;34m(*a, **kw)\u001b[0m\n\u001b[1;32m     67\u001b[0m                                              e.java_exception.getStackTrace()))\n\u001b[1;32m     68\u001b[0m             \u001b[0;32mif\u001b[0m \u001b[0ms\u001b[0m\u001b[0;34m.\u001b[0m\u001b[0mstartswith\u001b[0m\u001b[0;34m(\u001b[0m\u001b[0;34m'org.apache.spark.sql.AnalysisException: '\u001b[0m\u001b[0;34m)\u001b[0m\u001b[0;34m:\u001b[0m\u001b[0;34m\u001b[0m\u001b[0m\n\u001b[0;32m---> 69\u001b[0;31m                 \u001b[0;32mraise\u001b[0m \u001b[0mAnalysisException\u001b[0m\u001b[0;34m(\u001b[0m\u001b[0ms\u001b[0m\u001b[0;34m.\u001b[0m\u001b[0msplit\u001b[0m\u001b[0;34m(\u001b[0m\u001b[0;34m': '\u001b[0m\u001b[0;34m,\u001b[0m \u001b[0;36m1\u001b[0m\u001b[0;34m)\u001b[0m\u001b[0;34m[\u001b[0m\u001b[0;36m1\u001b[0m\u001b[0;34m]\u001b[0m\u001b[0;34m,\u001b[0m \u001b[0mstackTrace\u001b[0m\u001b[0;34m)\u001b[0m\u001b[0;34m\u001b[0m\u001b[0m\n\u001b[0m\u001b[1;32m     70\u001b[0m             \u001b[0;32mif\u001b[0m \u001b[0ms\u001b[0m\u001b[0;34m.\u001b[0m\u001b[0mstartswith\u001b[0m\u001b[0;34m(\u001b[0m\u001b[0;34m'org.apache.spark.sql.catalyst.analysis'\u001b[0m\u001b[0;34m)\u001b[0m\u001b[0;34m:\u001b[0m\u001b[0;34m\u001b[0m\u001b[0m\n\u001b[1;32m     71\u001b[0m                 \u001b[0;32mraise\u001b[0m \u001b[0mAnalysisException\u001b[0m\u001b[0;34m(\u001b[0m\u001b[0ms\u001b[0m\u001b[0;34m.\u001b[0m\u001b[0msplit\u001b[0m\u001b[0;34m(\u001b[0m\u001b[0;34m': '\u001b[0m\u001b[0;34m,\u001b[0m \u001b[0;36m1\u001b[0m\u001b[0;34m)\u001b[0m\u001b[0;34m[\u001b[0m\u001b[0;36m1\u001b[0m\u001b[0;34m]\u001b[0m\u001b[0;34m,\u001b[0m \u001b[0mstackTrace\u001b[0m\u001b[0;34m)\u001b[0m\u001b[0;34m\u001b[0m\u001b[0m\n",
      "\u001b[0;31mAnalysisException\u001b[0m: 'Path does not exist: file:/home/svanhmic/workspace/data/DABAI/sparkdata/parquet/KaptialDataFrame.parquet;'"
     ]
    }
   ],
   "source": [
    "#Load the kapitals in.\n",
    "mainKapitalDf = (sqlContext\n",
    "                 .read\n",
    "                 .parquet(parquetPath+\"/KaptialDataFrame.parquet\")\n",
    "                 .drop(\"KAPITALKLASSER_vaerdi\")\n",
    "                 .drop(\"KAPITAL_DELVIST_vaerdi\")\n",
    "                 .withColumn(col=F.coalesce(F.col(\"gyldigTil\"),F.lit(F.current_date())),colName=\"gyldigTil\")\n",
    "                 .withColumn(col=F.datediff(F.col(\"GyldigTil\"),F.col(\"gyldigFra\")),colName=\"datediff\")\n",
    "                 .withColumn(col=F.col(\"KAPITAL_vaerdi\").cast(\"double\"),colName=\"KAPITAL_vaerdi\")\n",
    "                 .filter(F.year(\"gyldigFra\") >= 2007)\n",
    "                )\n",
    "display(Markdown(\"### Hvordan ser kapital data ud? \"))\n",
    "display(Markdown(\"Kapital data fra 2007 og frem\"))\n",
    "mainKapitalDf.limit(2).toPandas()#.show(2)\n",
    "#mainKapitalDf.printSchema()"
   ]
  },
  {
   "cell_type": "markdown",
   "metadata": {
    "slideshow": {
     "slide_type": "fragment"
    }
   },
   "source": [
    "* Kapital postninger er ikke angivet regelmæssigt. Derfor sættes alle måneder og år til samme kapital værdi hvis uændret.  "
   ]
  },
  {
   "cell_type": "code",
   "execution_count": null,
   "metadata": {
    "scrolled": true,
    "slideshow": {
     "slide_type": "skip"
    }
   },
   "outputs": [],
   "source": [
    "joinsOn = ( (mainKapitalDf[\"cvrNummer\"] == valDf[\"EntityIdentifier\"] ) \n",
    "           & (valDf[\"End_Instant_ts\"].between(mainKapitalDf[\"timeStampFra\"],mainKapitalDf[\"timeStampTil\"])) \n",
    "           & (F.year(valDf[\"End_Instant\"]) == mainKapitalDf[\"aar\"])\n",
    "          )\n",
    "\n",
    "NamesToUse = [\"ShorttermDebtToBanks\"\n",
    "              ,\"LongtermMortgageDebt\"\n",
    "              ,\"ShorttermDebtToOtherCreditInstitutions\"\n",
    "              ,\"LongtermDebtToBanks\"\n",
    "              ,\"LongtermDebtToOtherCreditInstitutions\"\n",
    "              ,\"ShorttermMortgageDebt\"\n",
    "              ,\"ShorttermDebtToBanksCashFlowsStatement\"\n",
    "              ,\"OtherLongtermDebtRaisedByIssuanceOfBonds\"\n",
    "             ]\n",
    "\n",
    "\n",
    "notPivotCols = [\"aar\",\"cvrNummer\",\"End_Instant\",\"End_Instant_ts\",\"KAPITAL_vaerdi\"]\n",
    "selectedCols = [\"aar\",\"cvrNummer\",\"Name\",\"KAPITAL_vaerdi\",\"KAPITALVALUTA_vaerdi\",\"Value\",\"End_Instant\",\"End_Instant_ts\"]\n",
    "filterdCols = [\"Name == '\"+str(i)+\"'\" for i in NamesToUse]\n",
    "combinedCols = notPivotCols+[F.col(col+\".Value\").alias(col) for i,col in enumerate(NamesToUse)]\n",
    "\n",
    "\n",
    "filtersStr = \"( \"\n",
    "for i in filterdCols[:-1]:\n",
    "    filtersStr += i+\" | \"\n",
    "    \n",
    "filtersStr += filterdCols[-1]+\")\"\n",
    "#print(filtersStr)\n",
    "joinedDf = (mainKapitalDf\n",
    "            .drop(\"ts\")\n",
    "            .drop(\"maaned\") # this gives all years for all companies that has a registered kapital\n",
    "            .distinct()\n",
    "            .join(other=valDf,on=joinsOn,how=\"left\")\n",
    "            #.filter(filtersStr)\n",
    "            .select(*selectedCols)\n",
    "            .groupBy(*selectedCols)\n",
    "            .count()\n",
    "            .groupBy(*notPivotCols)\n",
    "            .pivot(\"Name\",NamesToUse)\n",
    "            .agg(F.max(F.struct([F.col(\"count\"),F.col(\"Value\")])))\n",
    "            .select(*combinedCols)\n",
    "            .cache() #nice to have, when plotting stuff.\n",
    "           )"
   ]
  },
  {
   "cell_type": "code",
   "execution_count": null,
   "metadata": {
    "scrolled": false,
    "slideshow": {
     "slide_type": "skip"
    }
   },
   "outputs": [],
   "source": [
    "joinedDf.orderBy(\"cvrNummer\").show(10,False)"
   ]
  },
  {
   "cell_type": "code",
   "execution_count": null,
   "metadata": {
    "slideshow": {
     "slide_type": "skip"
    }
   },
   "outputs": [],
   "source": [
    "#not scaled so depricated\n",
    "scatterKapDf = joinedDf.select([\"cvrNummer\",\"aar\",\"KAPITAL_vaerdi\"]+NamesToUse[:4])\n",
    "\n",
    "scatterDescribeDf = scatterKapDf.drop(\"cvrNummer\").drop(\"aar\").describe()\n",
    "#scatterDescribeDf.show()\n",
    "\n",
    "#scatterKapDf.count()\n",
    "#axes = scatter_matrix(scatterKapDf.drop(\"cvrNummer\").drop(\"aar\").toPandas(),alpha=0.5,figsize=[30,30])\n",
    "\n",
    "#[plt.setp(item.yaxis.get_majorticklabels(), 'size', 15) for item in axes.ravel()]\n",
    "#x ticklabels\n",
    "#[plt.setp(item.xaxis.get_majorticklabels(), 'size', 15) for item in axes.ravel()]\n",
    "#[plt.setp(item.yaxis.get_label(), 'size', 20) for item in axes.ravel()]\n",
    "#x labels\n",
    "#[plt.setp(item.xaxis.get_label(), 'size', 20) for item in axes.ravel()]\n",
    "\n",
    "\n",
    "#print(scatterKapDf.count())\n",
    "#plt.show()"
   ]
  },
  {
   "cell_type": "code",
   "execution_count": null,
   "metadata": {
    "scrolled": false,
    "slideshow": {
     "slide_type": "subslide"
    }
   },
   "outputs": [],
   "source": [
    "#OKAY lets scale with mean and std and take log1p of the scaled stuff\n",
    "\n",
    "description = (scatterDescribeDf\n",
    "               .filter( (F.col(\"summary\") == \"mean\")|(F.col(\"summary\") == \"stddev\") )\n",
    "               .rdd\n",
    "               .map(lambda x: (x[\"summary\"],x.asDict())).collectAsMap())\n",
    "#print(description)\n",
    "describBroadCast = sc.broadcast(description)\n",
    "\n",
    "cols = [F.log1p((F.col(i)-F.lit(describBroadCast.value[\"mean\"][i]))/F.lit(describBroadCast.value[\"stddev\"][i])).alias(i) for i in [\"KAPITAL_vaerdi\"]+NamesToUse[:4]]\n",
    "\n",
    "scaledScatterKapDf = scatterKapDf.select(*cols,\"aar\")\n",
    "scatterDescribeDf = scaledScatterKapDf.describe()\n",
    "\n",
    "\n",
    "scaledScatterKapDf.count()\n",
    "axes = scatter_matrix(scaledScatterKapDf.drop(\"aar\").toPandas(),alpha=0.5,figsize=[9,9])\n",
    "#axes = scatter_matrix(scaledScatterKapDf.filter(F.col(\"aar\") == 2012).drop(\"aar\").toPandas(),alpha=0.5,figsize=[9,9])\n",
    "\n",
    "[plt.setp(item.yaxis.get_majorticklabels(), 'size', 7) for item in axes.ravel()]\n",
    "#x ticklabels\n",
    "[plt.setp(item.xaxis.get_majorticklabels(), 'size', 7) for item in axes.ravel()]\n",
    "[plt.setp(item.yaxis.get_label(), 'size', 7) for item in axes.ravel()]\n",
    "#x labels\n",
    "[plt.setp(item.xaxis.get_label(), 'size', 7) for item in axes.ravel()]\n",
    "\n",
    "display(Markdown(\"### Hvordan er sammenhængen mellem kapitalforhøjelser og de 6 former for gæld?\"))\n",
    "#plt.title(\"Kapitalvaerdier mod de 6 former for gæld i regnskabsdata\")\n",
    "plt.show()"
   ]
  },
  {
   "cell_type": "code",
   "execution_count": null,
   "metadata": {
    "scrolled": false,
    "slideshow": {
     "slide_type": "subslide"
    }
   },
   "outputs": [],
   "source": [
    "#OK what's the correlation plot for \n",
    "\n",
    "corr = scaledScatterKapDf.drop(\"aar\").toPandas().corr()\n",
    "#corr = scaledScatterKapDf.filter(F.col(\"aar\") == 2012).drop(\"aar\").toPandas().corr()\n",
    "\n",
    "\n",
    "cmap = sb.diverging_palette(220, 10, as_cmap=True)\n",
    "sb.heatmap(corr, cmap=cmap,annot=True)\n",
    "display(Markdown(\"### Korrelation i mellem Kapital og gældsformer\"))\n",
    "plt.title(\"Den egentlige korrelation imellem kapital og diverse former for gæld\")\n",
    "plt.show()\n",
    "display(Markdown(\"OK der er ikke den store sammenhæng mellem kapital og gæld, men hvad nu hvis vi forskyder gæld. \"\n",
    "))\n",
    "\n",
    "#so in initial conclusion, we can't see that much for when debt is in the same year as kapital. But what about when we shift kapital years bac"
   ]
  },
  {
   "cell_type": "code",
   "execution_count": null,
   "metadata": {
    "slideshow": {
     "slide_type": "skip"
    }
   },
   "outputs": [],
   "source": [
    "def skewDebt(df,cols,years=1):\n",
    "    \"this is still too messy!\"\n",
    "    \n",
    "    skeewWindow = (Window.partitionBy(\"cvrNummer\").orderBy(\"aar\"))\n",
    "\n",
    "    skeewedDf =  (df\n",
    "            .withColumn(col=F.lag(F.struct(*cols[:4]),count=years).over(skeewWindow),colName=\"oneYearLag\")\n",
    "            .select([\"cvrNummer\",\"aar\",\"KAPITAL_vaerdi\"]+[F.col(\"oneYearLag.\"+str(i)) for i in cols[:4]])\n",
    "           )\n",
    "    \n",
    "    \n",
    "    descr = (skeewedDf.describe()\n",
    "               .filter( (F.col(\"summary\") == \"mean\")|(F.col(\"summary\") == \"stddev\") )\n",
    "               .rdd\n",
    "               .map(lambda x: (x[\"summary\"],x.asDict())).collectAsMap())\n",
    "    \n",
    "    scaleCols = [F.log1p((F.col(i)-F.lit(descr[\"mean\"][i]))/F.lit(descr[\"stddev\"][i])).alias(i) for i in [\"KAPITAL_vaerdi\"]+cols[:4]]\n",
    "\n",
    "    return (scatterKapDf.select(*scaleCols))\n",
    "#skeewedDf.printSchema()"
   ]
  },
  {
   "cell_type": "code",
   "execution_count": null,
   "metadata": {
    "slideshow": {
     "slide_type": "skip"
    }
   },
   "outputs": [],
   "source": [
    "skeewedDf1 = skewDebt(scatterKapDf,NamesToUse,1)\n",
    "skeewedDf2 = skewDebt(scatterKapDf,NamesToUse,2)\n",
    "skeewedDf3  = skewDebt(scatterKapDf,NamesToUse,3)\n",
    "skeewedDf4  = skewDebt(scatterKapDf,NamesToUse,4)\n"
   ]
  },
  {
   "cell_type": "code",
   "execution_count": null,
   "metadata": {
    "slideshow": {
     "slide_type": "skip"
    }
   },
   "outputs": [],
   "source": [
    "#skeewedDf1.printSchema()"
   ]
  },
  {
   "cell_type": "code",
   "execution_count": null,
   "metadata": {
    "slideshow": {
     "slide_type": "skip"
    }
   },
   "outputs": [],
   "source": [
    "\n",
    "skeewArr = [skeewedDf1,skeewedDf2,skeewedDf3,skeewedDf4]\n",
    "#skeewArr = [i.filter(F.col(\"aar\")==2012).drop(\"aar\") for i in [skeewedDf1,skeewedDf2,skeewedDf3,skeewedDf4]]"
   ]
  },
  {
   "cell_type": "code",
   "execution_count": null,
   "metadata": {
    "scrolled": false,
    "slideshow": {
     "slide_type": "slide"
    }
   },
   "outputs": [],
   "source": [
    "# a heatmap of the correlation between the different variables:\n",
    "\n",
    "# Compute the correlation matrix\n",
    "\n",
    "plotLen = len(skeewArr)\n",
    "fig, axes = plt.subplots(1,2,figsize=(25,10))\n",
    "cmap = sb.diverging_palette(220, 10, as_cmap=True)\n",
    "years = [1,2,3,4]\n",
    "sb.set(font_scale=1.0)\n",
    "\n",
    "ax0 = axes[0]\n",
    "ax1 = axes[1]\n",
    "ax0.set_title(\"Gældstyper sammenlignet med kapital fra 1 år siden.\")\n",
    "ax1.set_title(\"Gældstyper sammenlignet med kapital fra 2 år siden.\")\n",
    "\n",
    "sb.heatmap(skeewArr[0].na.drop(\"all\").toPandas().corr(), cmap=cmap,annot=True,ax=ax0)\n",
    "sb.heatmap(skeewArr[1].na.drop(\"all\").toPandas().corr(), cmap=cmap,annot=True,ax=ax1)\n",
    "    #scatter_matrix(data,alpha=0.5,ax=axes[x,y])\n",
    "#plt.title(\"correlation between kapital and various forms of debt short and long term\")\n",
    "display(Markdown(\"### Sammenligning mellem gæld og forskudt kapital\"))\n",
    "#[plt.setp(item, 'rotation', 15) for item in axes.ravel()]\n",
    "\n",
    "plt.show()"
   ]
  },
  {
   "cell_type": "code",
   "execution_count": null,
   "metadata": {
    "slideshow": {
     "slide_type": "subslide"
    }
   },
   "outputs": [],
   "source": [
    "plotLen = len(skeewArr)\n",
    "fig, axes = plt.subplots(1,2,figsize=(25,10))\n",
    "cmap = sb.diverging_palette(220, 10, as_cmap=True)\n",
    "axes[0].set_title(\"Gældstyper sammenlignet med kapital fra 3 år siden.\")\n",
    "axes[1].set_title(\"Gældstyper sammenlignet med kapital fra 4 år siden.\")\n",
    "sb.heatmap(skeewArr[2].na.drop(\"all\").toPandas().corr(), cmap=cmap,annot=True,ax=axes[0])\n",
    "sb.heatmap(skeewArr[3].na.drop(\"all\").toPandas().corr(), cmap=cmap,annot=True,ax=axes[1])\n",
    "    #scatter_matrix(data,alpha=0.5,ax=axes[x,y])\n",
    "#plt.title(\"correlation between kapital and various forms of debt short and long term\")\n",
    "display(Markdown(\"### Sammenligning mellem gæld og forskudt kapital\"))\n",
    "plt.show()"
   ]
  },
  {
   "cell_type": "markdown",
   "metadata": {
    "collapsed": true,
    "slideshow": {
     "slide_type": "slide"
    }
   },
   "source": [
    "### Opsumering\n",
    "* "
   ]
  },
  {
   "cell_type": "code",
   "execution_count": null,
   "metadata": {
    "collapsed": true
   },
   "outputs": [],
   "source": []
  }
 ],
 "metadata": {
  "celltoolbar": "Slideshow",
  "kernelspec": {
   "display_name": "Python 3",
   "language": "python",
   "name": "python3"
  },
  "language_info": {
   "codemirror_mode": {
    "name": "ipython",
    "version": 3
   },
   "file_extension": ".py",
   "mimetype": "text/x-python",
   "name": "python",
   "nbconvert_exporter": "python",
   "pygments_lexer": "ipython3",
   "version": "3.5.2"
  }
 },
 "nbformat": 4,
 "nbformat_minor": 2
}
