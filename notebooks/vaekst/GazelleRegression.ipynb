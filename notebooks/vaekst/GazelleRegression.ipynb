{
 "cells": [
  {
   "cell_type": "code",
   "execution_count": 1,
   "metadata": {
    "collapsed": true
   },
   "outputs": [],
   "source": [
    "### SPARK imports\n",
    "\n",
    "from pyspark.sql import functions as F\n",
    "from pyspark.sql.types import DoubleType\n",
    "from pyspark.sql import Window\n",
    "\n",
    "from pyspark.ml.regression import LinearRegression\n",
    "from pyspark.ml import Pipeline\n",
    "from pyspark.ml.tuning import CrossValidator, ParamGridBuilder\n",
    "from pyspark.ml.evaluation import RegressionEvaluator\n",
    "from pyspark.ml.feature import VectorAssembler\n"
   ]
  },
  {
   "cell_type": "code",
   "execution_count": 2,
   "metadata": {
    "collapsed": true
   },
   "outputs": [],
   "source": [
    "### Regular python imports\n",
    "\n",
    "import getpass"
   ]
  },
  {
   "cell_type": "code",
   "execution_count": 3,
   "metadata": {
    "collapsed": true
   },
   "outputs": [],
   "source": [
    "#Set the paths here!\n",
    "\n",
    "user = getpass.getuser()\n",
    "if user == \"sidsel\":\n",
    "    parquet = \"/home/\"+user+\"/workspace/sparkdata/parquet/\"\n",
    "    regnskabsData = \"alleregnskaber.parquet\"\n",
    "    cvrData = \"virkdata.parquet\"\n",
    "    csvpath = \"/home/\"+user+'/workspace/sparkdata/csv'\n",
    "\n",
    "elif user == \"svanhmic\":\n",
    "    cvrParquetPath = \"/home/\"+user+\"/workspace/Python/Erhvervs/data/cdata/parquet/\"\n",
    "    regnskabParquetPath = \"/home/\"+user+\"/workspace/Python/Erhvervs/data/regnskabsdata/sparkdata/parquet/\" \n",
    "    csvpath = \"/home/\"+user+'/workspace/Python/Erhvervs/data/regnskabsdata'"
   ]
  },
  {
   "cell_type": "code",
   "execution_count": 4,
   "metadata": {
    "collapsed": true
   },
   "outputs": [],
   "source": [
    "zeroYearWindow = Window.partitionBy(\"cvr\")\n",
    "laggValueWindow = Window.partitionBy(\"cvr\").orderBy(\"End_Instant\")"
   ]
  },
  {
   "cell_type": "code",
   "execution_count": 20,
   "metadata": {
    "collapsed": false
   },
   "outputs": [
    {
     "name": "stdout",
     "output_type": "stream",
     "text": [
      "+--------+-----------+-------+-----------+-----------+---------------+-------+-----------------+--------------------+---------------------+-----------------+--------+-----------------+------------+----------------+----+\n",
      "|     cvr|branchekode|unitRef|End_Instant|GrossResult|GrossProfitLoss|Revenue|     branchetekst|         Branchenavn|Standardgruppering_19|      IKT-områder|   label|LaggedGrossResult|FirstRevenue|FirstGrossResult|Year|\n",
      "+--------+-----------+-------+-----------+-----------+---------------+-------+-----------------+--------------------+---------------------+-----------------+--------+-----------------+------------+----------------+----+\n",
      "|10008123|     611000|    DKK| 2012-12-31|   2.8072E7|            0.0|    0.0|Telekommunikation|Fastnetbaseret te...| Information og ko...|Telekommunikation|2.8072E7|              0.0|       false|            true| 0.0|\n",
      "|10008123|     611000|    DKK| 2012-12-31|   2.8072E7|       2.8073E7|    0.0|Telekommunikation|Fastnetbaseret te...| Information og ko...|Telekommunikation|2.8072E7|         133000.0|       false|            true| 0.0|\n",
      "|10008123|     611000|    DKK| 2013-12-31|   3.1193E7|       3.1193E7|    0.0|Telekommunikation|Fastnetbaseret te...| Information og ko...|Telekommunikation|3.1193E7|        3121000.0|       false|            true| 2.0|\n",
      "|10008123|     611000|    DKK| 2013-12-31|   3.1193E7|            0.0|    0.0|Telekommunikation|Fastnetbaseret te...| Information og ko...|Telekommunikation|3.1193E7|         980000.0|       false|            true| 2.0|\n",
      "|10008123|     611000|    DKK| 2014-12-31|   3.4096E7|       3.5045E7|    0.0|Telekommunikation|Fastnetbaseret te...| Information og ko...|Telekommunikation|3.4096E7|        9266000.0|       false|            true| 4.0|\n",
      "|10008123|     611000|    DKK| 2014-12-31|   3.5045E7|            0.0|    0.0|Telekommunikation|Fastnetbaseret te...| Information og ko...|Telekommunikation|3.5045E7|        6973000.0|       false|            true| 4.0|\n",
      "|10008123|     611000|    DKK| 2015-12-31|   3.7931E7|    3.7931524E7|    0.0|Telekommunikation|Fastnetbaseret te...| Information og ko...|Telekommunikation|3.7931E7|        9992000.0|       false|            true| 6.0|\n",
      "+--------+-----------+-------+-----------+-----------+---------------+-------+-----------------+--------------------+---------------------+-----------------+--------+-----------------+------------+----------------+----+\n",
      "\n"
     ]
    }
   ],
   "source": [
    "#import data and do transformations\n",
    "\n",
    "iktBrancheDf = sqlContext.read.parquet(cvrParquetPath+\"IktBrancher.parquet\").cache()\n",
    "notIktGazelleDf = sqlContext.read.parquet(cvrParquetPath+\"IktNotGazeller.parquet\")\n",
    "iktGazelleDf = sqlContext.read.parquet(cvrParquetPath+\"IktGazeller.parquet\")\n",
    "\n",
    "\n",
    "\n",
    "\n",
    "\n",
    "notIktGazelleDf = (notIktGazelleDf\n",
    "                   .drop(\"rank\")\n",
    "                   .withColumn(\"label\",F.col(\"GrossResult\").cast(\"double\"))\n",
    "                   .withColumn(\"Revenue\",F.col(\"Revenue\").cast(\"double\"))\n",
    "                   \n",
    "                   .withColumn(\"LaggedGrossResult\",F.col(\"GrossResult\")-F.lag(F.col(\"GrossResult\")).over(laggValueWindow))\n",
    "                   .filter(F.col(\"LaggedGrossResult\") >= 0.0)\n",
    "                   .withColumn(\"FirstRevenue\",F.when(F.col(\"Revenue\") >= 1000000,True).otherwise(False))\n",
    "                   .withColumn(\"FirstGrossResult\",F.when(F.col(\"GrossResult\") >= 500000,True).otherwise(False))\n",
    "                   .filter((F.col(\"FirstGrossResult\")))\n",
    "                   .withColumn(\"Year\", F.rank().over(laggValueWindow).cast(\"double\")-1)\n",
    "                   .withColumn(\"maxRank\",F.max(\"Year\").over(zeroYearWindow).cast(\"double\"))\n",
    "                   .filter(F.col(\"maxRank\") >= 3) # re want to predict for at least four values\n",
    "                   .drop(\"maxRank\")\n",
    "                   .filter(F.col(\"cvr\") == 10008123)\n",
    "                   .cache()\n",
    "               )\n",
    "\n",
    "notIktGazelleDf.orderBy(\"cvr\",\"rank\").show()\n",
    "#notIktGazelleDf.printSchema()"
   ]
  },
  {
   "cell_type": "code",
   "execution_count": 32,
   "metadata": {
    "collapsed": false
   },
   "outputs": [],
   "source": [
    "#Build the pipeline here!\n",
    "\n",
    "\n",
    "vecAss = VectorAssembler(inputCols=[\"Year\"],outputCol=\"features\")\n",
    "lg = LinearRegression(labelCol=\"label\")\n",
    "pipe = Pipeline(stages=[vecAss,lg])\n"
   ]
  },
  {
   "cell_type": "code",
   "execution_count": 33,
   "metadata": {
    "collapsed": false
   },
   "outputs": [],
   "source": [
    "paramGrid = (ParamGridBuilder()\n",
    "             .baseOn({lg.maxIter:10})\n",
    "             \n",
    "             .baseOn({lg.featuresCol:vecAss.getOutputCol()})     \n",
    "             .addGrid(lg.elasticNetParam, [0.5,0.1])\n",
    "             .addGrid(lg.regParam,[0.1,0.01])\n",
    "             .build())\n",
    "\n",
    "\n",
    "crossval = CrossValidator(estimator=pipe,\n",
    "                          estimatorParamMaps=paramGrid,\n",
    "                          evaluator=RegressionEvaluator(),\n",
    "                          numFolds=2)  # use 3+ folds in practice"
   ]
  },
  {
   "cell_type": "code",
   "execution_count": 39,
   "metadata": {
    "collapsed": false
   },
   "outputs": [],
   "source": [
    "def executeLinearRegressionsYearVar(df,targetCol,crossval,maxYear=6):\n",
    "    \"\"\"\n",
    "        this method should do linear regression for \n",
    "        each of the companies or another column that we can chose. \n",
    "    \"\"\"\n",
    "    \n",
    "    #Extract unqiue cvr-numbers\n",
    "    uniqueTargetValues = (df\n",
    "                          .select(targetCol)\n",
    "                          .distinct()\n",
    "                          .rdd\n",
    "                          .map(lambda x: x[0])\n",
    "                          .collect()\n",
    "                         )\n",
    "    \n",
    "    modelsPrCvr = {} # add all models with cvr numbers in this one.\n",
    "    \n",
    "    yearDf = sqlContext.range(1,maxYear).withColumnRenamed(\"id\",\"Year\").cache()\n",
    "    \n",
    "    #Run through all cvr-numbers\n",
    "    for company in uniqueTargetValues:\n",
    "        try:\n",
    "            tempDf = df.filter(F.col(targetCol) == company)\n",
    "            #tempDf.show(5)\n",
    "            if tempDf.count() < 3:\n",
    "                print(\"this should not happen: \"+str(tempDf.count()))\n",
    "            else:\n",
    "                model = crossval.fit(tempDf) # create model             \n",
    "                \n",
    "                modelsPrCvr[company] = (model)\n",
    "        except:\n",
    "            tempDf.show()\n",
    "            #tempDf.printSchema()\n",
    "            #break\n",
    "\n",
    "    \n",
    "    return modelsPrCvr\n",
    "    \n",
    "def evaluateAllModels(dict,evaluator):\n",
    "    \"\"\"\n",
    "        this method should do linear regression for \n",
    "        each of the companies or another column that we can chose. \n",
    "    \"\"\"\n",
    "    \n",
    "    \n",
    "    yearDf = sqlContext.range(1,maxYear).withColumnRenamed(\"id\",\"Year\").cache()\n",
    "    \n",
    "    for idx,val in dict.items():\n",
    "        evaluator = RegressionEvaluator(labelCol=\"label\")\n",
    "        val.transform(yearDf)\n",
    "        evaluator.evaluate(\"\")\n",
    "    return \n",
    "    "
   ]
  },
  {
   "cell_type": "code",
   "execution_count": 35,
   "metadata": {
    "collapsed": false
   },
   "outputs": [
    {
     "name": "stdout",
     "output_type": "stream",
     "text": [
      "entire IKT: 41410\n",
      "gazels in IKT: 383\n",
      "Non-gazels in IKT: 7\n"
     ]
    }
   ],
   "source": [
    "print(\"entire IKT: \" + str(iktBrancheDf.count()))\n",
    "print(\"gazels in IKT: \" + str(iktGazelleDf.count()))\n",
    "print(\"Non-gazels in IKT: \" + str(notIktGazelleDf.count()))"
   ]
  },
  {
   "cell_type": "code",
   "execution_count": 36,
   "metadata": {
    "collapsed": false
   },
   "outputs": [],
   "source": [
    "#notIktGazelleDf.show()"
   ]
  },
  {
   "cell_type": "code",
   "execution_count": 37,
   "metadata": {
    "collapsed": false
   },
   "outputs": [],
   "source": [
    "# Run cross-validation, and choose the best set of parameters.\n",
    "allModels = executeLinearRegressionsYearVar(notIktGazelleDf,\"cvr\",pipe)"
   ]
  },
  {
   "cell_type": "code",
   "execution_count": 38,
   "metadata": {
    "collapsed": false
   },
   "outputs": [
    {
     "name": "stdout",
     "output_type": "stream",
     "text": [
      "+----+--------+--------------------+\n",
      "|Year|features|          prediction|\n",
      "+----+--------+--------------------+\n",
      "|   1|   [1.0]|2.9647951923076916E7|\n",
      "|   2|   [2.0]|3.1290346153846152E7|\n",
      "|   3|   [3.0]|3.2932740384615384E7|\n",
      "|   4|   [4.0]| 3.457513461538462E7|\n",
      "|   5|   [5.0]|3.6217528846153855E7|\n",
      "+----+--------+--------------------+\n",
      "\n"
     ]
    }
   ],
   "source": [
    "allModels[10008123][1].show()"
   ]
  },
  {
   "cell_type": "code",
   "execution_count": null,
   "metadata": {
    "collapsed": false
   },
   "outputs": [],
   "source": []
  },
  {
   "cell_type": "code",
   "execution_count": null,
   "metadata": {
    "collapsed": true
   },
   "outputs": [],
   "source": []
  },
  {
   "cell_type": "code",
   "execution_count": null,
   "metadata": {
    "collapsed": true
   },
   "outputs": [],
   "source": []
  }
 ],
 "metadata": {
  "kernelspec": {
   "display_name": "Python 3",
   "language": "python",
   "name": "python3"
  },
  "language_info": {
   "codemirror_mode": {
    "name": "ipython",
    "version": 3
   },
   "file_extension": ".py",
   "mimetype": "text/x-python",
   "name": "python",
   "nbconvert_exporter": "python",
   "pygments_lexer": "ipython3",
   "version": "3.5.2"
  }
 },
 "nbformat": 4,
 "nbformat_minor": 2
}
