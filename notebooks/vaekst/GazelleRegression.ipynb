{
 "cells": [
  {
   "cell_type": "code",
   "execution_count": 8,
   "metadata": {
    "collapsed": true
   },
   "outputs": [],
   "source": [
    "### SPARK imports\n",
    "\n",
    "from pyspark.sql import functions as F\n",
    "from pyspark.sql.types import DoubleType\n",
    "\n",
    "from pyspark.ml.regression import LinearRegression\n",
    "from pyspark.ml import Pipeline\n",
    "from pyspark.ml.tuning import CrossValidator, ParamGridBuilder\n",
    "from pyspark.ml.evaluation import RegressionEvaluator"
   ]
  },
  {
   "cell_type": "code",
   "execution_count": 9,
   "metadata": {
    "collapsed": false
   },
   "outputs": [],
   "source": [
    "lg = LinearRegression()\n",
    "pipe = Pipeline(stages=[lg])\n",
    "\n",
    "\n"
   ]
  },
  {
   "cell_type": "code",
   "execution_count": 12,
   "metadata": {
    "collapsed": false
   },
   "outputs": [],
   "source": [
    "paramGrid = (ParamGridBuilder()\n",
    "             .baseOn({lg.maxIter:10})\n",
    "             .baseOn({lg.predictionCol:\"prediction\"})\n",
    "             .baseOn({lg.featuresCol:\"features\"})\n",
    "             .baseOn({lg.labelCol:\"label\"})\n",
    "             .addGrid(lg.elasticNetParam, [0.1, 0.01])\n",
    "             .addGrid(lg.regParam,[0.99,0.1,0.01])\n",
    "             .build())\n",
    "\n",
    "\n",
    "crossval = CrossValidator(estimator=pipe,\n",
    "                          estimatorParamMaps=paramGrid,\n",
    "                          evaluator=RegressionEvaluator(),\n",
    "                          numFolds=10)  # use 3+ folds in practice"
   ]
  },
  {
   "cell_type": "code",
   "execution_count": null,
   "metadata": {
    "collapsed": true
   },
   "outputs": [],
   "source": [
    "#import data and do transformations\n"
   ]
  },
  {
   "cell_type": "code",
   "execution_count": 13,
   "metadata": {
    "collapsed": true
   },
   "outputs": [],
   "source": [
    "def executeLinearRegressions(df,targetCol,crossval):\n",
    "    \"\"\"\n",
    "        this method should do linear regression for \n",
    "        each of the companies or another column that we can chose. \n",
    "    \"\"\"\n",
    "    \n",
    "    #Extract unqiue cvr-numbers\n",
    "    uniqueTargetValues = (df\n",
    "                          .select(targetCol)\n",
    "                          .distinct()\n",
    "                          .rdd\n",
    "                          .map(lambda x: x[0])\n",
    "                          .collect()\n",
    "                         )\n",
    "    modelsPrCvr = {} # add all models with cvr numbers in this one.\n",
    "    \n",
    "    #Run through all cvr-numbers \n",
    "    for company in uniqueTargetValues:\n",
    "        tempDf = df.filter(F.col(targetCol) == company)\n",
    "        \n",
    "        cvModel = crossval.fit(tempDf)\n",
    "        modelsPrCvr[company] = cvModel\n",
    "    \n",
    "    \n",
    "    return modelsPrCvr\n",
    "    \n",
    "    "
   ]
  },
  {
   "cell_type": "code",
   "execution_count": null,
   "metadata": {
    "collapsed": true
   },
   "outputs": [],
   "source": [
    "# Run cross-validation, and choose the best set of parameters.\n",
    "allModels = executeLinearRegressions(,,crossval)"
   ]
  },
  {
   "cell_type": "code",
   "execution_count": null,
   "metadata": {
    "collapsed": true
   },
   "outputs": [],
   "source": []
  },
  {
   "cell_type": "code",
   "execution_count": null,
   "metadata": {
    "collapsed": true
   },
   "outputs": [],
   "source": []
  }
 ],
 "metadata": {
  "kernelspec": {
   "display_name": "Python 3",
   "language": "python",
   "name": "python3"
  },
  "language_info": {
   "codemirror_mode": {
    "name": "ipython",
    "version": 3
   },
   "file_extension": ".py",
   "mimetype": "text/x-python",
   "name": "python",
   "nbconvert_exporter": "python",
   "pygments_lexer": "ipython3",
   "version": "3.5.2"
  }
 },
 "nbformat": 4,
 "nbformat_minor": 2
}
